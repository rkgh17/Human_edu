{
 "cells": [
  {
   "cell_type": "code",
   "execution_count": 58,
   "id": "af4120da",
   "metadata": {},
   "outputs": [],
   "source": [
    "from bs4 import BeautifulSoup\n",
    "import requests\n",
    "import pandas as pd"
   ]
  },
  {
   "cell_type": "code",
   "execution_count": 59,
   "id": "eb2281df",
   "metadata": {},
   "outputs": [
    {
     "name": "stderr",
     "output_type": "stream",
     "text": [
      "C:\\Users\\h\\AppData\\Local\\Temp\\ipykernel_6996\\616448110.py:7: DeprecationWarning: executable_path has been deprecated, please pass in a Service object\n",
      "  driver = webdriver.Chrome(url + 'chromedriver.exe')\n"
     ]
    }
   ],
   "source": [
    "from selenium import webdriver\n",
    "from selenium.webdriver.common.keys import Keys\n",
    "from selenium.webdriver.common.by import By\n",
    "import time\n",
    "\n",
    "url = 'C:/Users/h/Desktop/chatbot/'\n",
    "driver = webdriver.Chrome(url + 'chromedriver.exe')"
   ]
  },
  {
   "cell_type": "code",
   "execution_count": 60,
   "id": "cf907015",
   "metadata": {},
   "outputs": [],
   "source": [
    "# 창열기\n",
    "driver.get(\"https://safecity.seoul.go.kr/acdnt/sbwyIndex.do\")\n",
    "time.sleep(3)"
   ]
  },
  {
   "cell_type": "code",
   "execution_count": 19,
   "id": "35b77f38",
   "metadata": {},
   "outputs": [],
   "source": [
    "# driver.find_element(By.XPATH,'//*[@id=\"dv_as_timeline\"]/li[1]/h3/a/span[3]').click()\n",
    "\n",
    "# ch1_d = driver.find_element(By.CSS_SELECTOR,'#dv_as_timeline > li:nth-child(1) > h3 > a > span.day_txt')\n",
    "# cht1_d = ch1_d.text\n",
    "# print(cht1_d)\n",
    "\n",
    "# ch1 = driver.find_element(By.CSS_SELECTOR,'#dv_as_timeline > li:nth-child(1) > ul')\n",
    "# cht1 = ch1.text\n",
    "# print(cht1)"
   ]
  },
  {
   "cell_type": "code",
   "execution_count": 61,
   "id": "5abf5eac",
   "metadata": {
    "scrolled": true
   },
   "outputs": [
    {
     "name": "stdout",
     "output_type": "stream",
     "text": [
      "지하철사고\n",
      "2022-11-11 08:01\n",
      "서울교통공사에서 알려드립니다. 현재 4호선에서 「전국장애인차별철폐연대」의 지하철 타기 선전전이 진행되고 있습니다. 이로 인해 4호선 열차운행이 상당시간 지연될 수 있으니 이점 참고하여 열차를 이용해 주시기 바랍니다. 서울교통공사는 열차운행이 신속히 정상화될 수 있도록 최선을 다하겠습니다.\n",
      "<class 'str'>\n",
      "\n",
      "지하철사고\n",
      "2022-11-11 06:00\n",
      "서울교통공사에서 알려드립니다. 11. 11.(금) 07시 30분부터 4호선에서「전국장애인차별철폐연대」의 ‘장애인 권리예산 확보’를 위한 출근길 지하철 타기 선전전이 예정되어 있습니다. 이로 인해 4호선 해당구간 열차운행이 상당시간 지연될 수 있으니 이점 참고하여 열차를 이용해 주시기 바랍니다.\n",
      "<class 'str'>\n",
      "\n"
     ]
    }
   ],
   "source": [
    "parentElement = driver.find_elements(By.XPATH, '//*[@id=\"dv_as_timeline\"]/li')\n",
    "\n",
    "# type(parentElement)\n",
    "# len(parentElement)\n",
    "\n",
    "subli=[]\n",
    "\n",
    "# ul 태그 아래 있는 li 반복 뽑기\n",
    "for i in parentElement:\n",
    "    i.click()\n",
    "    time.sleep(0.05)\n",
    "    a = i.text\n",
    "    subli.append(a)\n",
    "    print(a)\n",
    "    print(type(a))\n",
    "    print()\n",
    "    \n",
    "    \n",
    "    i.click()\n",
    "\n",
    "    "
   ]
  },
  {
   "cell_type": "code",
   "execution_count": 62,
   "id": "b58022a6",
   "metadata": {},
   "outputs": [
    {
     "data": {
      "text/plain": [
       "['지하철사고\\n2022-11-11 08:01\\n서울교통공사에서 알려드립니다. 현재 4호선에서 「전국장애인차별철폐연대」의 지하철 타기 선전전이 진행되고 있습니다. 이로 인해 4호선 열차운행이 상당시간 지연될 수 있으니 이점 참고하여 열차를 이용해 주시기 바랍니다. 서울교통공사는 열차운행이 신속히 정상화될 수 있도록 최선을 다하겠습니다.',\n",
       " '지하철사고\\n2022-11-11 06:00\\n서울교통공사에서 알려드립니다. 11. 11.(금) 07시 30분부터 4호선에서「전국장애인차별철폐연대」의 ‘장애인 권리예산 확보’를 위한 출근길 지하철 타기 선전전이 예정되어 있습니다. 이로 인해 4호선 해당구간 열차운행이 상당시간 지연될 수 있으니 이점 참고하여 열차를 이용해 주시기 바랍니다.']"
      ]
     },
     "execution_count": 62,
     "metadata": {},
     "output_type": "execute_result"
    }
   ],
   "source": [
    "subli"
   ]
  },
  {
   "cell_type": "code",
   "execution_count": 57,
   "id": "b80940a7",
   "metadata": {},
   "outputs": [
    {
     "data": {
      "text/plain": [
       "2"
      ]
     },
     "execution_count": 57,
     "metadata": {},
     "output_type": "execute_result"
    }
   ],
   "source": [
    "len(subli)"
   ]
  },
  {
   "cell_type": "code",
   "execution_count": 51,
   "id": "4a7720a9",
   "metadata": {},
   "outputs": [
    {
     "data": {
      "text/plain": [
       "['지하철사고\\n2022-11-11 08:01\\n서울교통공사에서 알려드립니다. 현재 4호선에서 「전국장애인차별철폐연대」의 지하철 타기 선전전이 진행되고 있습니다. 이로 인해 4호선 열차운행이 상당시간 지연될 수 있으니 이점 참고하여 열차를 이용해 주시기 바랍니다. 서울교통공사는 열차운행이 신속히 정상화될 수 있도록 최선을 다하겠습니다.',\n",
       " '지하철사고\\n2022-11-11 06:00\\n서울교통공사에서 알려드립니다. 11. 11.(금) 07시 30분부터 4호선에서「전국장애인차별철폐연대」의 ‘장애인 권리예산 확보’를 위한 출근길 지하철 타기 선전전이 예정되어 있습니다. 이로 인해 4호선 해당구간 열차운행이 상당시간 지연될 수 있으니 이점 참고하여 열차를 이용해 주시기 바랍니다.']"
      ]
     },
     "execution_count": 51,
     "metadata": {},
     "output_type": "execute_result"
    }
   ],
   "source": [
    "subli"
   ]
  },
  {
   "cell_type": "code",
   "execution_count": 19,
   "id": "818f0818",
   "metadata": {
    "scrolled": false
   },
   "outputs": [
    {
     "data": {
      "text/plain": [
       "'지하철사고\\n2022-11-11 08:01\\n서울교통공사에서 알려드립니다. 현재 4호선에서 「전국장애인차별철폐연대」의 지하철 타기 선전전이 진행되고 있습니다. 이로 인해 4호선 열차운행이 상당시간 지연될 수 있으니 이점 참고하여 열차를 이용해 주시기 바랍니다. 서울교통공사는 열차운행이 신속히 정상화될 수 있도록 최선을 다하겠습니다.'"
      ]
     },
     "execution_count": 19,
     "metadata": {},
     "output_type": "execute_result"
    }
   ],
   "source": [
    "subli[0]"
   ]
  },
  {
   "cell_type": "code",
   "execution_count": 52,
   "id": "5fd841b3",
   "metadata": {},
   "outputs": [
    {
     "data": {
      "text/plain": [
       "'지하철사고\\n2022-11-11 06:00\\n서울교통공사에서 알려드립니다. 11. 11.(금) 07시 30분부터 4호선에서「전국장애인차별철폐연대」의 ‘장애인 권리예산 확보’를 위한 출근길 지하철 타기 선전전이 예정되어 있습니다. 이로 인해 4호선 해당구간 열차운행이 상당시간 지연될 수 있으니 이점 참고하여 열차를 이용해 주시기 바랍니다.'"
      ]
     },
     "execution_count": 52,
     "metadata": {},
     "output_type": "execute_result"
    }
   ],
   "source": [
    "subli[1]"
   ]
  },
  {
   "cell_type": "code",
   "execution_count": null,
   "id": "34bcda58",
   "metadata": {},
   "outputs": [],
   "source": []
  },
  {
   "cell_type": "code",
   "execution_count": 53,
   "id": "ae050b32",
   "metadata": {},
   "outputs": [],
   "source": [
    "subdb1 = subli[0].split('\\n')"
   ]
  },
  {
   "cell_type": "code",
   "execution_count": 54,
   "id": "c26276ee",
   "metadata": {
    "scrolled": true
   },
   "outputs": [],
   "source": [
    "subdb2 = subli[1].split('\\n')"
   ]
  },
  {
   "cell_type": "code",
   "execution_count": 55,
   "id": "8f5e7b84",
   "metadata": {},
   "outputs": [],
   "source": [
    "subcol = ['name','subtime','content']\n",
    "\n",
    "subdb = pd.DataFrame([subdb1, subdb2], columns = subcol)\n"
   ]
  },
  {
   "cell_type": "code",
   "execution_count": 56,
   "id": "91c61b45",
   "metadata": {
    "scrolled": true
   },
   "outputs": [
    {
     "data": {
      "text/html": [
       "<div>\n",
       "<style scoped>\n",
       "    .dataframe tbody tr th:only-of-type {\n",
       "        vertical-align: middle;\n",
       "    }\n",
       "\n",
       "    .dataframe tbody tr th {\n",
       "        vertical-align: top;\n",
       "    }\n",
       "\n",
       "    .dataframe thead th {\n",
       "        text-align: right;\n",
       "    }\n",
       "</style>\n",
       "<table border=\"1\" class=\"dataframe\">\n",
       "  <thead>\n",
       "    <tr style=\"text-align: right;\">\n",
       "      <th></th>\n",
       "      <th>name</th>\n",
       "      <th>subtime</th>\n",
       "      <th>content</th>\n",
       "    </tr>\n",
       "  </thead>\n",
       "  <tbody>\n",
       "    <tr>\n",
       "      <th>0</th>\n",
       "      <td>지하철사고</td>\n",
       "      <td>2022-11-11 08:01</td>\n",
       "      <td>서울교통공사에서 알려드립니다. 현재 4호선에서 「전국장애인차별철폐연대」의 지하철 타...</td>\n",
       "    </tr>\n",
       "    <tr>\n",
       "      <th>1</th>\n",
       "      <td>지하철사고</td>\n",
       "      <td>2022-11-11 06:00</td>\n",
       "      <td>서울교통공사에서 알려드립니다. 11. 11.(금) 07시 30분부터 4호선에서「전국...</td>\n",
       "    </tr>\n",
       "  </tbody>\n",
       "</table>\n",
       "</div>"
      ],
      "text/plain": [
       "    name           subtime                                            content\n",
       "0  지하철사고  2022-11-11 08:01  서울교통공사에서 알려드립니다. 현재 4호선에서 「전국장애인차별철폐연대」의 지하철 타...\n",
       "1  지하철사고  2022-11-11 06:00  서울교통공사에서 알려드립니다. 11. 11.(금) 07시 30분부터 4호선에서「전국..."
      ]
     },
     "execution_count": 56,
     "metadata": {},
     "output_type": "execute_result"
    }
   ],
   "source": [
    "subdb"
   ]
  },
  {
   "cell_type": "code",
   "execution_count": null,
   "id": "96ebcebf",
   "metadata": {},
   "outputs": [],
   "source": []
  },
  {
   "cell_type": "code",
   "execution_count": 31,
   "id": "7da4b4e5",
   "metadata": {},
   "outputs": [],
   "source": [
    "data = pd.read_csv('iris.csv')"
   ]
  },
  {
   "cell_type": "code",
   "execution_count": 34,
   "id": "14da7cce",
   "metadata": {
    "scrolled": true
   },
   "outputs": [
    {
     "name": "stdout",
     "output_type": "stream",
     "text": [
      "      Id  SepalLengthCm  SepalWidthCm  PetalLengthCm  PetalWidthCm  \\\n",
      "0      1            5.1           3.5            1.4           0.2   \n",
      "1      2            4.9           3.0            1.4           0.2   \n",
      "2      3            4.7           3.2            1.3           0.2   \n",
      "3      4            4.6           3.1            1.5           0.2   \n",
      "4      5            5.0           3.6            1.4           0.2   \n",
      "..   ...            ...           ...            ...           ...   \n",
      "145  146            6.7           3.0            5.2           2.3   \n",
      "146  147            6.3           2.5            5.0           1.9   \n",
      "147  148            6.5           3.0            5.2           2.0   \n",
      "148  149            6.2           3.4            5.4           2.3   \n",
      "149  150            5.9           3.0            5.1           1.8   \n",
      "\n",
      "            Species  \n",
      "0       Iris-setosa  \n",
      "1       Iris-setosa  \n",
      "2       Iris-setosa  \n",
      "3       Iris-setosa  \n",
      "4       Iris-setosa  \n",
      "..              ...  \n",
      "145  Iris-virginica  \n",
      "146  Iris-virginica  \n",
      "147  Iris-virginica  \n",
      "148  Iris-virginica  \n",
      "149  Iris-virginica  \n",
      "\n",
      "[150 rows x 6 columns]\n"
     ]
    }
   ],
   "source": [
    "print(data)"
   ]
  }
 ],
 "metadata": {
  "kernelspec": {
   "display_name": "Python 3 (ipykernel)",
   "language": "python",
   "name": "python3"
  },
  "language_info": {
   "codemirror_mode": {
    "name": "ipython",
    "version": 3
   },
   "file_extension": ".py",
   "mimetype": "text/x-python",
   "name": "python",
   "nbconvert_exporter": "python",
   "pygments_lexer": "ipython3",
   "version": "3.10.7"
  }
 },
 "nbformat": 4,
 "nbformat_minor": 5
}
