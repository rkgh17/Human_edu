{
  "nbformat": 4,
  "nbformat_minor": 0,
  "metadata": {
    "colab": {
      "provenance": [],
      "collapsed_sections": []
    },
    "kernelspec": {
      "name": "python3",
      "display_name": "Python 3"
    },
    "language_info": {
      "name": "python"
    },
    "accelerator": "GPU",
    "widgets": {
      "application/vnd.jupyter.widget-state+json": {
        "bdb464797fa94065ad02c365e4253fa6": {
          "model_module": "@jupyter-widgets/controls",
          "model_name": "HBoxModel",
          "model_module_version": "1.5.0",
          "state": {
            "_dom_classes": [],
            "_model_module": "@jupyter-widgets/controls",
            "_model_module_version": "1.5.0",
            "_model_name": "HBoxModel",
            "_view_count": null,
            "_view_module": "@jupyter-widgets/controls",
            "_view_module_version": "1.5.0",
            "_view_name": "HBoxView",
            "box_style": "",
            "children": [
              "IPY_MODEL_f3a1150ca65e45e8977435cb8d04bbf5",
              "IPY_MODEL_3703275f019e4e809a312903630fe610",
              "IPY_MODEL_f46e7be1f07d48c8935764a2191a1d4d"
            ],
            "layout": "IPY_MODEL_09f900f4b50b4bcc9102427cca931e73"
          }
        },
        "f3a1150ca65e45e8977435cb8d04bbf5": {
          "model_module": "@jupyter-widgets/controls",
          "model_name": "HTMLModel",
          "model_module_version": "1.5.0",
          "state": {
            "_dom_classes": [],
            "_model_module": "@jupyter-widgets/controls",
            "_model_module_version": "1.5.0",
            "_model_name": "HTMLModel",
            "_view_count": null,
            "_view_module": "@jupyter-widgets/controls",
            "_view_module_version": "1.5.0",
            "_view_name": "HTMLView",
            "description": "",
            "description_tooltip": null,
            "layout": "IPY_MODEL_24db8bee87e948168373395407a2a41b",
            "placeholder": "​",
            "style": "IPY_MODEL_cbf9f243c971453dbc77a78e6a87371d",
            "value": "Dl Completed...: 100%"
          }
        },
        "3703275f019e4e809a312903630fe610": {
          "model_module": "@jupyter-widgets/controls",
          "model_name": "FloatProgressModel",
          "model_module_version": "1.5.0",
          "state": {
            "_dom_classes": [],
            "_model_module": "@jupyter-widgets/controls",
            "_model_module_version": "1.5.0",
            "_model_name": "FloatProgressModel",
            "_view_count": null,
            "_view_module": "@jupyter-widgets/controls",
            "_view_module_version": "1.5.0",
            "_view_name": "ProgressView",
            "bar_style": "success",
            "description": "",
            "description_tooltip": null,
            "layout": "IPY_MODEL_59903992e5a74e489019855a55001c50",
            "max": 4,
            "min": 0,
            "orientation": "horizontal",
            "style": "IPY_MODEL_70105849f4264b82b0b7295696cdc2d2",
            "value": 4
          }
        },
        "f46e7be1f07d48c8935764a2191a1d4d": {
          "model_module": "@jupyter-widgets/controls",
          "model_name": "HTMLModel",
          "model_module_version": "1.5.0",
          "state": {
            "_dom_classes": [],
            "_model_module": "@jupyter-widgets/controls",
            "_model_module_version": "1.5.0",
            "_model_name": "HTMLModel",
            "_view_count": null,
            "_view_module": "@jupyter-widgets/controls",
            "_view_module_version": "1.5.0",
            "_view_name": "HTMLView",
            "description": "",
            "description_tooltip": null,
            "layout": "IPY_MODEL_0877c016981d4db8aaa4ba00da501287",
            "placeholder": "​",
            "style": "IPY_MODEL_68e8f0d9ebfb47119ae6996eeb0d40cd",
            "value": " 4/4 [00:00&lt;00:00, 11.78 file/s]"
          }
        },
        "09f900f4b50b4bcc9102427cca931e73": {
          "model_module": "@jupyter-widgets/base",
          "model_name": "LayoutModel",
          "model_module_version": "1.2.0",
          "state": {
            "_model_module": "@jupyter-widgets/base",
            "_model_module_version": "1.2.0",
            "_model_name": "LayoutModel",
            "_view_count": null,
            "_view_module": "@jupyter-widgets/base",
            "_view_module_version": "1.2.0",
            "_view_name": "LayoutView",
            "align_content": null,
            "align_items": null,
            "align_self": null,
            "border": null,
            "bottom": null,
            "display": null,
            "flex": null,
            "flex_flow": null,
            "grid_area": null,
            "grid_auto_columns": null,
            "grid_auto_flow": null,
            "grid_auto_rows": null,
            "grid_column": null,
            "grid_gap": null,
            "grid_row": null,
            "grid_template_areas": null,
            "grid_template_columns": null,
            "grid_template_rows": null,
            "height": null,
            "justify_content": null,
            "justify_items": null,
            "left": null,
            "margin": null,
            "max_height": null,
            "max_width": null,
            "min_height": null,
            "min_width": null,
            "object_fit": null,
            "object_position": null,
            "order": null,
            "overflow": null,
            "overflow_x": null,
            "overflow_y": null,
            "padding": null,
            "right": null,
            "top": null,
            "visibility": null,
            "width": null
          }
        },
        "24db8bee87e948168373395407a2a41b": {
          "model_module": "@jupyter-widgets/base",
          "model_name": "LayoutModel",
          "model_module_version": "1.2.0",
          "state": {
            "_model_module": "@jupyter-widgets/base",
            "_model_module_version": "1.2.0",
            "_model_name": "LayoutModel",
            "_view_count": null,
            "_view_module": "@jupyter-widgets/base",
            "_view_module_version": "1.2.0",
            "_view_name": "LayoutView",
            "align_content": null,
            "align_items": null,
            "align_self": null,
            "border": null,
            "bottom": null,
            "display": null,
            "flex": null,
            "flex_flow": null,
            "grid_area": null,
            "grid_auto_columns": null,
            "grid_auto_flow": null,
            "grid_auto_rows": null,
            "grid_column": null,
            "grid_gap": null,
            "grid_row": null,
            "grid_template_areas": null,
            "grid_template_columns": null,
            "grid_template_rows": null,
            "height": null,
            "justify_content": null,
            "justify_items": null,
            "left": null,
            "margin": null,
            "max_height": null,
            "max_width": null,
            "min_height": null,
            "min_width": null,
            "object_fit": null,
            "object_position": null,
            "order": null,
            "overflow": null,
            "overflow_x": null,
            "overflow_y": null,
            "padding": null,
            "right": null,
            "top": null,
            "visibility": null,
            "width": null
          }
        },
        "cbf9f243c971453dbc77a78e6a87371d": {
          "model_module": "@jupyter-widgets/controls",
          "model_name": "DescriptionStyleModel",
          "model_module_version": "1.5.0",
          "state": {
            "_model_module": "@jupyter-widgets/controls",
            "_model_module_version": "1.5.0",
            "_model_name": "DescriptionStyleModel",
            "_view_count": null,
            "_view_module": "@jupyter-widgets/base",
            "_view_module_version": "1.2.0",
            "_view_name": "StyleView",
            "description_width": ""
          }
        },
        "59903992e5a74e489019855a55001c50": {
          "model_module": "@jupyter-widgets/base",
          "model_name": "LayoutModel",
          "model_module_version": "1.2.0",
          "state": {
            "_model_module": "@jupyter-widgets/base",
            "_model_module_version": "1.2.0",
            "_model_name": "LayoutModel",
            "_view_count": null,
            "_view_module": "@jupyter-widgets/base",
            "_view_module_version": "1.2.0",
            "_view_name": "LayoutView",
            "align_content": null,
            "align_items": null,
            "align_self": null,
            "border": null,
            "bottom": null,
            "display": null,
            "flex": null,
            "flex_flow": null,
            "grid_area": null,
            "grid_auto_columns": null,
            "grid_auto_flow": null,
            "grid_auto_rows": null,
            "grid_column": null,
            "grid_gap": null,
            "grid_row": null,
            "grid_template_areas": null,
            "grid_template_columns": null,
            "grid_template_rows": null,
            "height": null,
            "justify_content": null,
            "justify_items": null,
            "left": null,
            "margin": null,
            "max_height": null,
            "max_width": null,
            "min_height": null,
            "min_width": null,
            "object_fit": null,
            "object_position": null,
            "order": null,
            "overflow": null,
            "overflow_x": null,
            "overflow_y": null,
            "padding": null,
            "right": null,
            "top": null,
            "visibility": null,
            "width": null
          }
        },
        "70105849f4264b82b0b7295696cdc2d2": {
          "model_module": "@jupyter-widgets/controls",
          "model_name": "ProgressStyleModel",
          "model_module_version": "1.5.0",
          "state": {
            "_model_module": "@jupyter-widgets/controls",
            "_model_module_version": "1.5.0",
            "_model_name": "ProgressStyleModel",
            "_view_count": null,
            "_view_module": "@jupyter-widgets/base",
            "_view_module_version": "1.2.0",
            "_view_name": "StyleView",
            "bar_color": null,
            "description_width": ""
          }
        },
        "0877c016981d4db8aaa4ba00da501287": {
          "model_module": "@jupyter-widgets/base",
          "model_name": "LayoutModel",
          "model_module_version": "1.2.0",
          "state": {
            "_model_module": "@jupyter-widgets/base",
            "_model_module_version": "1.2.0",
            "_model_name": "LayoutModel",
            "_view_count": null,
            "_view_module": "@jupyter-widgets/base",
            "_view_module_version": "1.2.0",
            "_view_name": "LayoutView",
            "align_content": null,
            "align_items": null,
            "align_self": null,
            "border": null,
            "bottom": null,
            "display": null,
            "flex": null,
            "flex_flow": null,
            "grid_area": null,
            "grid_auto_columns": null,
            "grid_auto_flow": null,
            "grid_auto_rows": null,
            "grid_column": null,
            "grid_gap": null,
            "grid_row": null,
            "grid_template_areas": null,
            "grid_template_columns": null,
            "grid_template_rows": null,
            "height": null,
            "justify_content": null,
            "justify_items": null,
            "left": null,
            "margin": null,
            "max_height": null,
            "max_width": null,
            "min_height": null,
            "min_width": null,
            "object_fit": null,
            "object_position": null,
            "order": null,
            "overflow": null,
            "overflow_x": null,
            "overflow_y": null,
            "padding": null,
            "right": null,
            "top": null,
            "visibility": null,
            "width": null
          }
        },
        "68e8f0d9ebfb47119ae6996eeb0d40cd": {
          "model_module": "@jupyter-widgets/controls",
          "model_name": "DescriptionStyleModel",
          "model_module_version": "1.5.0",
          "state": {
            "_model_module": "@jupyter-widgets/controls",
            "_model_module_version": "1.5.0",
            "_model_name": "DescriptionStyleModel",
            "_view_count": null,
            "_view_module": "@jupyter-widgets/base",
            "_view_module_version": "1.2.0",
            "_view_name": "StyleView",
            "description_width": ""
          }
        }
      }
    }
  },
  "cells": [
    {
      "cell_type": "markdown",
      "source": [
        "## 딥러닝 GPU"
      ],
      "metadata": {
        "id": "JWgtCKaPqzxH"
      }
    },
    {
      "cell_type": "markdown",
      "source": [
        "## 텐서플로 2.x 기초 문법"
      ],
      "metadata": {
        "id": "NWoKRrdJufSt"
      }
    },
    {
      "cell_type": "code",
      "source": [
        "import tensorflow as tf\n",
        "import numpy as np\n",
        "\n",
        "print(tf.__version__)"
      ],
      "metadata": {
        "colab": {
          "base_uri": "https://localhost:8080/"
        },
        "id": "c-8iB5qTuZ3O",
        "outputId": "9bdf500e-5bf1-48cf-b7cf-0f6254e59ef1"
      },
      "execution_count": 1,
      "outputs": [
        {
          "output_type": "stream",
          "name": "stdout",
          "text": [
            "2.9.2\n"
          ]
        }
      ]
    },
    {
      "cell_type": "code",
      "source": [
        "x = np.random.sample((100,3))\n",
        "dataset = tf.data.Dataset.from_tensor_slices(x)"
      ],
      "metadata": {
        "id": "4sWyjUMZuiuj"
      },
      "execution_count": 2,
      "outputs": []
    },
    {
      "cell_type": "markdown",
      "source": [
        "텐서플로 자체제공 데이터셋"
      ],
      "metadata": {
        "id": "SoJmChFFvG1R"
      }
    },
    {
      "cell_type": "code",
      "source": [
        "import tensorflow_datasets as tfds\n",
        "ds = tfds.load('mnist', split='train', shuffle_files = True)"
      ],
      "metadata": {
        "colab": {
          "base_uri": "https://localhost:8080/",
          "height": 106,
          "referenced_widgets": [
            "bdb464797fa94065ad02c365e4253fa6",
            "f3a1150ca65e45e8977435cb8d04bbf5",
            "3703275f019e4e809a312903630fe610",
            "f46e7be1f07d48c8935764a2191a1d4d",
            "09f900f4b50b4bcc9102427cca931e73",
            "24db8bee87e948168373395407a2a41b",
            "cbf9f243c971453dbc77a78e6a87371d",
            "59903992e5a74e489019855a55001c50",
            "70105849f4264b82b0b7295696cdc2d2",
            "0877c016981d4db8aaa4ba00da501287",
            "68e8f0d9ebfb47119ae6996eeb0d40cd"
          ]
        },
        "id": "gmqfIPB2uiUq",
        "outputId": "3951f836-a41a-4f62-d29e-6e15fe14430b"
      },
      "execution_count": 3,
      "outputs": [
        {
          "output_type": "stream",
          "name": "stdout",
          "text": [
            "\u001b[1mDownloading and preparing dataset 11.06 MiB (download: 11.06 MiB, generated: 21.00 MiB, total: 32.06 MiB) to ~/tensorflow_datasets/mnist/3.0.1...\u001b[0m\n"
          ]
        },
        {
          "output_type": "display_data",
          "data": {
            "text/plain": [
              "Dl Completed...:   0%|          | 0/4 [00:00<?, ? file/s]"
            ],
            "application/vnd.jupyter.widget-view+json": {
              "version_major": 2,
              "version_minor": 0,
              "model_id": "bdb464797fa94065ad02c365e4253fa6"
            }
          },
          "metadata": {}
        },
        {
          "output_type": "stream",
          "name": "stdout",
          "text": [
            "\u001b[1mDataset mnist downloaded and prepared to ~/tensorflow_datasets/mnist/3.0.1. Subsequent calls will reuse this data.\u001b[0m\n"
          ]
        }
      ]
    },
    {
      "cell_type": "markdown",
      "source": [
        "- 케라스 예제"
      ],
      "metadata": {
        "id": "AC85YfIJvURF"
      }
    },
    {
      "cell_type": "code",
      "source": [
        "data_train, data_test = tf.keras.datasets.mnist.load_data()\n",
        "(image_train, labels_train) = data_train # 훈련 데이터셋 정의\n",
        "(image_test, labels_test) = data_test # 검증 데이터셋 정의"
      ],
      "metadata": {
        "colab": {
          "base_uri": "https://localhost:8080/"
        },
        "id": "3jAmzXL2vWG0",
        "outputId": "74fe0504-f8cb-45db-8bdd-9c7aa8eb7a56"
      },
      "execution_count": 4,
      "outputs": [
        {
          "output_type": "stream",
          "name": "stdout",
          "text": [
            "Downloading data from https://storage.googleapis.com/tensorflow/tf-keras-datasets/mnist.npz\n",
            "11490434/11490434 [==============================] - 0s 0us/step\n"
          ]
        }
      ]
    },
    {
      "cell_type": "markdown",
      "source": [
        "## 모델 정의\n",
        "- 1. Sequential API(입문)\n",
        "- 2. Functional API (초급)\n",
        "- 3. Model Subclassing API (궁극적으로 지향)"
      ],
      "metadata": {
        "id": "OREsSS1SvrcD"
      }
    },
    {
      "cell_type": "markdown",
      "source": [
        "## 모델 개발 순서\n",
        "- 모델 컴파일\n",
        "- 모델 훈련\n",
        "- 모델 평가\n",
        "- 훈련 과정 모니터링\n",
        "  - 텐서보드 : 텐서플로우 모니터링 시각화 툴"
      ],
      "metadata": {
        "id": "pUTTrH_Bw17E"
      }
    },
    {
      "cell_type": "code",
      "source": [
        "from google.colab import drive\n",
        "drive.mount(\"/content/drive\")"
      ],
      "metadata": {
        "colab": {
          "base_uri": "https://localhost:8080/"
        },
        "id": "PT2mLwhgvsz9",
        "outputId": "7d2b0f6f-d32c-4653-dbaf-6248503c4976"
      },
      "execution_count": 5,
      "outputs": [
        {
          "output_type": "stream",
          "name": "stdout",
          "text": [
            "Drive already mounted at /content/drive; to attempt to forcibly remount, call drive.mount(\"/content/drive\", force_remount=True).\n"
          ]
        }
      ]
    },
    {
      "cell_type": "code",
      "source": [
        "import pandas as pd\n",
        "import numpy as np\n",
        "import tensorflow as tf\n",
        "\n",
        "import matplotlib.pyplot as plt\n",
        "%matplotlib inline\n",
        "\n",
        "import seaborn as sns\n",
        "sns.set(style='darkgrid')"
      ],
      "metadata": {
        "id": "oQXhtTc2yhgq"
      },
      "execution_count": 6,
      "outputs": []
    },
    {
      "cell_type": "code",
      "source": [
        "cols = ['price', 'maint', 'doors', 'persons', 'lug_capacity', 'safety','output']\n",
        "cars = pd.read_csv(\"/content/drive/MyDrive/Colab Notebooks/산대특/deeplearning/ch02/car_evaluation.csv\", names=cols, header=None)"
      ],
      "metadata": {
        "id": "4c0iytjGyxbO"
      },
      "execution_count": 7,
      "outputs": []
    },
    {
      "cell_type": "code",
      "source": [
        "cars.info()"
      ],
      "metadata": {
        "colab": {
          "base_uri": "https://localhost:8080/"
        },
        "id": "-Qg-9NvLzu41",
        "outputId": "f9a6c412-3d98-4f41-c9b4-baed98d42d25"
      },
      "execution_count": 8,
      "outputs": [
        {
          "output_type": "stream",
          "name": "stdout",
          "text": [
            "<class 'pandas.core.frame.DataFrame'>\n",
            "RangeIndex: 1728 entries, 0 to 1727\n",
            "Data columns (total 7 columns):\n",
            " #   Column        Non-Null Count  Dtype \n",
            "---  ------        --------------  ----- \n",
            " 0   price         1728 non-null   object\n",
            " 1   maint         1728 non-null   object\n",
            " 2   doors         1728 non-null   object\n",
            " 3   persons       1728 non-null   object\n",
            " 4   lug_capacity  1728 non-null   object\n",
            " 5   safety        1728 non-null   object\n",
            " 6   output        1728 non-null   object\n",
            "dtypes: object(7)\n",
            "memory usage: 94.6+ KB\n"
          ]
        }
      ]
    },
    {
      "cell_type": "markdown",
      "source": [
        "- output 컬럼 시각화\n",
        " - matplotlib\n",
        " - seaborn\n",
        " - pandas 내장 그래프(그래프 기반은 matplotlib)"
      ],
      "metadata": {
        "id": "W6H9A4I4zzn8"
      }
    },
    {
      "cell_type": "code",
      "source": [
        "cars.output.value_counts().plot(kind='pie', autopct='%0.05f%%', \n",
        "                                colors=['lightblue', 'lightgreen', 'orange', 'pink'], \n",
        "                                explode=(0.05, 0.05, 0.05,0.05))"
      ],
      "metadata": {
        "colab": {
          "base_uri": "https://localhost:8080/",
          "height": 266
        },
        "id": "sXCkBo6Szxff",
        "outputId": "11a07614-92c9-4f7f-f41c-69d8240555c5"
      },
      "execution_count": 9,
      "outputs": [
        {
          "output_type": "execute_result",
          "data": {
            "text/plain": [
              "<matplotlib.axes._subplots.AxesSubplot at 0x7f7be16f4e50>"
            ]
          },
          "metadata": {},
          "execution_count": 9
        },
        {
          "output_type": "display_data",
          "data": {
            "text/plain": [
              "<Figure size 432x288 with 1 Axes>"
            ],
            "image/png": "[encoded data removed]"
          },
          "metadata": {}
        }
      ]
    },
    {
      "cell_type": "code",
      "source": [
        "fig, ax = plt.subplots(figsize=(8, 6))\n",
        "cars.output.value_counts().plot(kind='pie', autopct='%0.05f%%', \n",
        "                                colors=['lightblue', 'lightgreen', 'orange', 'pink'], \n",
        "                                explode=(0.05, 0.05, 0.05,0.05), ax=ax)\n",
        "plt.show()"
      ],
      "metadata": {
        "colab": {
          "base_uri": "https://localhost:8080/",
          "height": 357
        },
        "id": "kG1b_8DIz7fz",
        "outputId": "8997acd1-0879-4fed-df77-70757b0200dc"
      },
      "execution_count": 10,
      "outputs": [
        {
          "output_type": "display_data",
          "data": {
            "text/plain": [
              "<Figure size 576x432 with 1 Axes>"
            ],
            "image/png": "[encoded data removed]"
          },
          "metadata": {}
        }
      ]
    },
    {
      "cell_type": "markdown",
      "source": [
        "- 원핫 인코딩 적용"
      ],
      "metadata": {
        "id": "4wMYWdaf4UnG"
      }
    },
    {
      "cell_type": "code",
      "source": [
        "price = pd.get_dummies(cars.price, prefix='price')\n",
        "maint = pd.get_dummies(cars.maint, prefix='maint')\n",
        "\n",
        "doors = pd.get_dummies(cars.doors, prefix='doors')\n",
        "persons = pd.get_dummies(cars.persons, prefix='persons')\n",
        "\n",
        "lug_capacity = pd.get_dummies(cars.lug_capacity, prefix='lug_capacity')\n",
        "safety = pd.get_dummies(cars.safety, prefix='safety')\n",
        "\n",
        "labels = pd.get_dummies(cars.output, prefix='condition')\n",
        "\n",
        "X = pd.concat([price, maint, doors, persons, lug_capacity, safety] , axis=1)\n",
        "y = labels.values"
      ],
      "metadata": {
        "id": "DyhhcCvu4NwQ"
      },
      "execution_count": 11,
      "outputs": []
    },
    {
      "cell_type": "code",
      "source": [
        "X.info()"
      ],
      "metadata": {
        "colab": {
          "base_uri": "https://localhost:8080/"
        },
        "id": "yZAeA7r84foK",
        "outputId": "a24dd4b8-0e2d-455c-b6da-b86261b82186"
      },
      "execution_count": 12,
      "outputs": [
        {
          "output_type": "stream",
          "name": "stdout",
          "text": [
            "<class 'pandas.core.frame.DataFrame'>\n",
            "RangeIndex: 1728 entries, 0 to 1727\n",
            "Data columns (total 21 columns):\n",
            " #   Column              Non-Null Count  Dtype\n",
            "---  ------              --------------  -----\n",
            " 0   price_high          1728 non-null   uint8\n",
            " 1   price_low           1728 non-null   uint8\n",
            " 2   price_med           1728 non-null   uint8\n",
            " 3   price_vhigh         1728 non-null   uint8\n",
            " 4   maint_high          1728 non-null   uint8\n",
            " 5   maint_low           1728 non-null   uint8\n",
            " 6   maint_med           1728 non-null   uint8\n",
            " 7   maint_vhigh         1728 non-null   uint8\n",
            " 8   doors_2             1728 non-null   uint8\n",
            " 9   doors_3             1728 non-null   uint8\n",
            " 10  doors_4             1728 non-null   uint8\n",
            " 11  doors_5more         1728 non-null   uint8\n",
            " 12  persons_2           1728 non-null   uint8\n",
            " 13  persons_4           1728 non-null   uint8\n",
            " 14  persons_more        1728 non-null   uint8\n",
            " 15  lug_capacity_big    1728 non-null   uint8\n",
            " 16  lug_capacity_med    1728 non-null   uint8\n",
            " 17  lug_capacity_small  1728 non-null   uint8\n",
            " 18  safety_high         1728 non-null   uint8\n",
            " 19  safety_low          1728 non-null   uint8\n",
            " 20  safety_med          1728 non-null   uint8\n",
            "dtypes: uint8(21)\n",
            "memory usage: 35.6 KB\n"
          ]
        }
      ]
    },
    {
      "cell_type": "code",
      "source": [
        "y[:5]"
      ],
      "metadata": {
        "colab": {
          "base_uri": "https://localhost:8080/"
        },
        "id": "JeypYMHu4hzT",
        "outputId": "a8d08ea3-9a50-4a26-b798-8731b4525420"
      },
      "execution_count": 13,
      "outputs": [
        {
          "output_type": "execute_result",
          "data": {
            "text/plain": [
              "array([[0, 0, 1, 0],\n",
              "       [0, 0, 1, 0],\n",
              "       [0, 0, 1, 0],\n",
              "       [0, 0, 1, 0],\n",
              "       [0, 0, 1, 0]], dtype=uint8)"
            ]
          },
          "metadata": {},
          "execution_count": 13
        }
      ]
    },
    {
      "cell_type": "markdown",
      "source": [
        "- 훈련과 테스트 데이터셋으로분류\n",
        "- p.55 차 상태 - 4가지 값"
      ],
      "metadata": {
        "id": "L1P7npY848HD"
      }
    },
    {
      "cell_type": "code",
      "source": [
        "from sklearn.model_selection import train_test_split\n",
        "\n",
        "X_train, X_test, y_train, y_test = train_test_split(X,y,test_size=0.20, random_state=42)\n",
        "\n",
        "X_train.shape, X_test.shape, y_train.shape, y_test.shape"
      ],
      "metadata": {
        "colab": {
          "base_uri": "https://localhost:8080/"
        },
        "id": "jM8RJE3d4_ib",
        "outputId": "53d61f8e-6b6a-4fe4-a658-4f9bf9dfab96"
      },
      "execution_count": 14,
      "outputs": [
        {
          "output_type": "execute_result",
          "data": {
            "text/plain": [
              "((1382, 21), (346, 21), (1382, 4), (346, 4))"
            ]
          },
          "metadata": {},
          "execution_count": 14
        }
      ]
    },
    {
      "cell_type": "markdown",
      "source": [
        "## 모델 생성 및 컴파일"
      ],
      "metadata": {
        "id": "uP6v_azC5lNo"
      }
    },
    {
      "cell_type": "code",
      "source": [
        "from tensorflow.keras.layers import Input, Dense, Activation, Dropout\n",
        "from tensorflow.keras.models import Model\n",
        "\n",
        "# 입력 레이어 : 21개의 입력층 -> 21개 특성이 있으니까\n",
        "input_layer = Input(shape=(X.shape[1],))\n",
        "\n",
        "# 히든 레이어 2개 -> 첫노드 15 , 둘째노드 10 (의미 없음)\n",
        "dense_layer1 = Dense(15,activation='relu')(input_layer)\n",
        "dense_layer2 = Dense(10,activation='relu')(dense_layer1)\n",
        "\n",
        "# 출력 레이어 : 4개\n",
        "output = Dense(y.shape[1],activation='softmax')(dense_layer2)\n",
        "\n",
        "# 모델 컴파일\n",
        "model = Model(inputs=input_layer, outputs=output)\n",
        "# 손실함수 'categorical_crossentropy', 옵티마이저 'adam', \n",
        "model.compile(loss='categorical_crossentropy', optimizer='adam', metrics=['acc'])\n",
        "\n",
        "model.summary()"
      ],
      "metadata": {
        "colab": {
          "base_uri": "https://localhost:8080/"
        },
        "id": "lfDVtW9M5nR3",
        "outputId": "385e7937-8bab-4694-91d6-5fab450b6a46"
      },
      "execution_count": 15,
      "outputs": [
        {
          "output_type": "stream",
          "name": "stdout",
          "text": [
            "Model: \"model\"\n",
            "_________________________________________________________________\n",
            " Layer (type)                Output Shape              Param #   \n",
            "=================================================================\n",
            " input_1 (InputLayer)        [(None, 21)]              0         \n",
            "                                                                 \n",
            " dense (Dense)               (None, 15)                330       \n",
            "                                                                 \n",
            " dense_1 (Dense)             (None, 10)                160       \n",
            "                                                                 \n",
            " dense_2 (Dense)             (None, 4)                 44        \n",
            "                                                                 \n",
            "=================================================================\n",
            "Total params: 534\n",
            "Trainable params: 534\n",
            "Non-trainable params: 0\n",
            "_________________________________________________________________\n"
          ]
        }
      ]
    },
    {
      "cell_type": "markdown",
      "source": [
        "## 모델 훈련"
      ],
      "metadata": {
        "id": "ODmH3lKI8KTV"
      }
    },
    {
      "cell_type": "code",
      "source": [
        "history = model.fit(X_train, y_train,\n",
        "                    batch_size=8, # 데이터 묶음\n",
        "                    epochs=50, # 학습의 횟수\n",
        "                    verbose=1, # 학습 내용 출력\n",
        "                    validation_split=0.2\n",
        "                    )"
      ],
      "metadata": {
        "colab": {
          "base_uri": "https://localhost:8080/"
        },
        "id": "Bj11pFp08L94",
        "outputId": "f317bb17-3779-4ad7-eeb9-4a4a21118382"
      },
      "execution_count": 16,
      "outputs": [
        {
          "output_type": "stream",
          "name": "stdout",
          "text": [
            "Epoch 1/50\n",
            "139/139 [==============================] - 4s 5ms/step - loss: 1.0079 - acc: 0.6271 - val_loss: 0.8841 - val_acc: 0.6462\n",
            "Epoch 2/50\n",
            "139/139 [==============================] - 1s 4ms/step - loss: 0.7096 - acc: 0.7204 - val_loss: 0.7696 - val_acc: 0.6498\n",
            "Epoch 3/50\n",
            "139/139 [==============================] - 1s 4ms/step - loss: 0.5996 - acc: 0.7222 - val_loss: 0.6612 - val_acc: 0.6751\n",
            "Epoch 4/50\n",
            "139/139 [==============================] - 1s 4ms/step - loss: 0.5085 - acc: 0.7484 - val_loss: 0.5760 - val_acc: 0.7581\n",
            "Epoch 5/50\n",
            "139/139 [==============================] - 0s 4ms/step - loss: 0.4343 - acc: 0.8181 - val_loss: 0.5088 - val_acc: 0.8195\n",
            "Epoch 6/50\n",
            "139/139 [==============================] - 1s 4ms/step - loss: 0.3774 - acc: 0.8579 - val_loss: 0.4559 - val_acc: 0.8484\n",
            "Epoch 7/50\n",
            "139/139 [==============================] - 1s 4ms/step - loss: 0.3331 - acc: 0.8824 - val_loss: 0.4190 - val_acc: 0.8339\n",
            "Epoch 8/50\n",
            "139/139 [==============================] - 0s 3ms/step - loss: 0.2989 - acc: 0.8860 - val_loss: 0.3822 - val_acc: 0.8520\n",
            "Epoch 9/50\n",
            "139/139 [==============================] - 0s 3ms/step - loss: 0.2722 - acc: 0.8869 - val_loss: 0.3537 - val_acc: 0.8628\n",
            "Epoch 10/50\n",
            "139/139 [==============================] - 0s 3ms/step - loss: 0.2492 - acc: 0.8968 - val_loss: 0.3339 - val_acc: 0.8664\n",
            "Epoch 11/50\n",
            "139/139 [==============================] - 1s 4ms/step - loss: 0.2286 - acc: 0.9077 - val_loss: 0.3126 - val_acc: 0.8700\n",
            "Epoch 12/50\n",
            "139/139 [==============================] - 0s 4ms/step - loss: 0.2089 - acc: 0.9158 - val_loss: 0.2840 - val_acc: 0.8809\n",
            "Epoch 13/50\n",
            "139/139 [==============================] - 0s 3ms/step - loss: 0.1932 - acc: 0.9231 - val_loss: 0.2617 - val_acc: 0.8953\n",
            "Epoch 14/50\n",
            "139/139 [==============================] - 0s 3ms/step - loss: 0.1771 - acc: 0.9330 - val_loss: 0.2528 - val_acc: 0.8917\n",
            "Epoch 15/50\n",
            "139/139 [==============================] - 0s 3ms/step - loss: 0.1613 - acc: 0.9457 - val_loss: 0.2282 - val_acc: 0.9097\n",
            "Epoch 16/50\n",
            "139/139 [==============================] - 1s 4ms/step - loss: 0.1494 - acc: 0.9538 - val_loss: 0.2149 - val_acc: 0.9242\n",
            "Epoch 17/50\n",
            "139/139 [==============================] - 0s 3ms/step - loss: 0.1375 - acc: 0.9620 - val_loss: 0.2004 - val_acc: 0.9242\n",
            "Epoch 18/50\n",
            "139/139 [==============================] - 1s 4ms/step - loss: 0.1268 - acc: 0.9656 - val_loss: 0.1919 - val_acc: 0.9314\n",
            "Epoch 19/50\n",
            "139/139 [==============================] - 0s 3ms/step - loss: 0.1164 - acc: 0.9683 - val_loss: 0.1803 - val_acc: 0.9386\n",
            "Epoch 20/50\n",
            "139/139 [==============================] - 0s 3ms/step - loss: 0.1074 - acc: 0.9683 - val_loss: 0.1698 - val_acc: 0.9458\n",
            "Epoch 21/50\n",
            "139/139 [==============================] - 1s 4ms/step - loss: 0.0986 - acc: 0.9756 - val_loss: 0.1744 - val_acc: 0.9386\n",
            "Epoch 22/50\n",
            "139/139 [==============================] - 0s 3ms/step - loss: 0.0990 - acc: 0.9738 - val_loss: 0.1564 - val_acc: 0.9495\n",
            "Epoch 23/50\n",
            "139/139 [==============================] - 1s 4ms/step - loss: 0.0867 - acc: 0.9810 - val_loss: 0.1457 - val_acc: 0.9531\n",
            "Epoch 24/50\n",
            "139/139 [==============================] - 0s 3ms/step - loss: 0.0811 - acc: 0.9810 - val_loss: 0.1413 - val_acc: 0.9531\n",
            "Epoch 25/50\n",
            "139/139 [==============================] - 1s 4ms/step - loss: 0.0776 - acc: 0.9792 - val_loss: 0.1315 - val_acc: 0.9639\n",
            "Epoch 26/50\n",
            "139/139 [==============================] - 1s 4ms/step - loss: 0.0711 - acc: 0.9819 - val_loss: 0.1243 - val_acc: 0.9639\n",
            "Epoch 27/50\n",
            "139/139 [==============================] - 0s 3ms/step - loss: 0.0665 - acc: 0.9837 - val_loss: 0.1323 - val_acc: 0.9567\n",
            "Epoch 28/50\n",
            "139/139 [==============================] - 0s 3ms/step - loss: 0.0619 - acc: 0.9846 - val_loss: 0.1248 - val_acc: 0.9603\n",
            "Epoch 29/50\n",
            "139/139 [==============================] - 1s 4ms/step - loss: 0.0580 - acc: 0.9873 - val_loss: 0.1201 - val_acc: 0.9603\n",
            "Epoch 30/50\n",
            "139/139 [==============================] - 1s 4ms/step - loss: 0.0559 - acc: 0.9900 - val_loss: 0.1225 - val_acc: 0.9639\n",
            "Epoch 31/50\n",
            "139/139 [==============================] - 1s 4ms/step - loss: 0.0517 - acc: 0.9882 - val_loss: 0.1195 - val_acc: 0.9675\n",
            "Epoch 32/50\n",
            "139/139 [==============================] - 1s 4ms/step - loss: 0.0495 - acc: 0.9882 - val_loss: 0.1116 - val_acc: 0.9711\n",
            "Epoch 33/50\n",
            "139/139 [==============================] - 1s 6ms/step - loss: 0.0457 - acc: 0.9882 - val_loss: 0.1095 - val_acc: 0.9711\n",
            "Epoch 34/50\n",
            "139/139 [==============================] - 1s 4ms/step - loss: 0.0419 - acc: 0.9928 - val_loss: 0.1091 - val_acc: 0.9747\n",
            "Epoch 35/50\n",
            "139/139 [==============================] - 1s 5ms/step - loss: 0.0411 - acc: 0.9919 - val_loss: 0.1100 - val_acc: 0.9675\n",
            "Epoch 36/50\n",
            "139/139 [==============================] - 1s 6ms/step - loss: 0.0375 - acc: 0.9937 - val_loss: 0.1168 - val_acc: 0.9639\n",
            "Epoch 37/50\n",
            "139/139 [==============================] - 1s 4ms/step - loss: 0.0370 - acc: 0.9910 - val_loss: 0.1022 - val_acc: 0.9711\n",
            "Epoch 38/50\n",
            "139/139 [==============================] - 0s 3ms/step - loss: 0.0352 - acc: 0.9937 - val_loss: 0.1015 - val_acc: 0.9747\n",
            "Epoch 39/50\n",
            "139/139 [==============================] - 1s 4ms/step - loss: 0.0317 - acc: 0.9937 - val_loss: 0.0945 - val_acc: 0.9819\n",
            "Epoch 40/50\n",
            "139/139 [==============================] - 0s 3ms/step - loss: 0.0298 - acc: 0.9955 - val_loss: 0.1050 - val_acc: 0.9711\n",
            "Epoch 41/50\n",
            "139/139 [==============================] - 1s 4ms/step - loss: 0.0273 - acc: 0.9973 - val_loss: 0.1070 - val_acc: 0.9639\n",
            "Epoch 42/50\n",
            "139/139 [==============================] - 0s 3ms/step - loss: 0.0266 - acc: 0.9973 - val_loss: 0.0982 - val_acc: 0.9747\n",
            "Epoch 43/50\n",
            "139/139 [==============================] - 0s 3ms/step - loss: 0.0240 - acc: 0.9964 - val_loss: 0.1014 - val_acc: 0.9711\n",
            "Epoch 44/50\n",
            "139/139 [==============================] - 0s 3ms/step - loss: 0.0236 - acc: 0.9964 - val_loss: 0.1092 - val_acc: 0.9711\n",
            "Epoch 45/50\n",
            "139/139 [==============================] - 0s 3ms/step - loss: 0.0222 - acc: 0.9973 - val_loss: 0.1019 - val_acc: 0.9675\n",
            "Epoch 46/50\n",
            "139/139 [==============================] - 1s 4ms/step - loss: 0.0211 - acc: 0.9973 - val_loss: 0.0989 - val_acc: 0.9711\n",
            "Epoch 47/50\n",
            "139/139 [==============================] - 0s 3ms/step - loss: 0.0202 - acc: 0.9982 - val_loss: 0.0872 - val_acc: 0.9747\n",
            "Epoch 48/50\n",
            "139/139 [==============================] - 0s 3ms/step - loss: 0.0179 - acc: 0.9982 - val_loss: 0.1019 - val_acc: 0.9675\n",
            "Epoch 49/50\n",
            "139/139 [==============================] - 0s 3ms/step - loss: 0.0170 - acc: 0.9982 - val_loss: 0.0989 - val_acc: 0.9675\n",
            "Epoch 50/50\n",
            "139/139 [==============================] - 0s 3ms/step - loss: 0.0160 - acc: 0.9991 - val_loss: 0.0953 - val_acc: 0.9711\n"
          ]
        }
      ]
    },
    {
      "cell_type": "code",
      "source": [
        "# 모델 정확도\n",
        "score = model.evaluate(X_test, y_test, verbose=1)\n",
        "print(\"Test Scores:\", score[0])\n",
        "print(\"Test Accuracy:\", score[1])"
      ],
      "metadata": {
        "colab": {
          "base_uri": "https://localhost:8080/"
        },
        "id": "jpTFUls-82GX",
        "outputId": "302c2122-6c54-4389-a248-cb25c5cb715f"
      },
      "execution_count": 17,
      "outputs": [
        {
          "output_type": "stream",
          "name": "stdout",
          "text": [
            "11/11 [==============================] - 0s 3ms/step - loss: 0.1043 - acc: 0.9682\n",
            "Test Scores: 0.10430312901735306\n",
            "Test Accuracy: 0.9682080745697021\n"
          ]
        }
      ]
    }
  ]
}