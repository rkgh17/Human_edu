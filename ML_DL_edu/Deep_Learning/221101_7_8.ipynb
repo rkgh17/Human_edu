{
  "nbformat": 4,
  "nbformat_minor": 0,
  "metadata": {
    "colab": {
      "provenance": [],
      "collapsed_sections": []
    },
    "kernelspec": {
      "name": "python3",
      "display_name": "Python 3"
    },
    "language_info": {
      "name": "python"
    }
  },
  "cells": [
    {
      "cell_type": "markdown",
      "source": [
        "## chapter 7장 시계열 분석\n",
        "- 통계(분석)\n",
        "- 딥러닝 : 일반적인 알고리즘 LSTM\n",
        "- 페이스북 시계열 예측 라이브러리\n",
        "  - https://facebook.github.io/prophet/\n",
        "- LSTM\n",
        "  - 시계열 + 자연어 처리할 때 도움 줌\n",
        "  - 10장 - LSTM을 대체하는 다양한 알고리즘이 이미 나옴\n"
      ],
      "metadata": {
        "id": "IZSpNTIqi-GO"
      }
    },
    {
      "cell_type": "markdown",
      "source": [
        "## chapter 8장 성능 최적화\n",
        "- 하이퍼파라미터 튜닝(교재327)\n"
      ],
      "metadata": {
        "id": "POmb82R4ko7r"
      }
    }
  ]
}