{
  "nbformat": 4,
  "nbformat_minor": 0,
  "metadata": {
    "colab": {
      "provenance": [],
      "collapsed_sections": []
    },
    "kernelspec": {
      "name": "python3",
      "display_name": "Python 3"
    },
    "language_info": {
      "name": "python"
    }
  },
  "cells": [
    {
      "cell_type": "markdown",
      "source": [
        "## 생선 분류 문제\n",
        "- 도미, 빙어"
      ],
      "metadata": {
        "id": "6xSP_O0lrpsd"
      }
    },
    {
      "cell_type": "code",
      "execution_count": 109,
      "metadata": {
        "id": "FJPZLgxArkc0"
      },
      "outputs": [],
      "source": [
        "#도미\n",
        "bream_length = [25.4, 26.3, 26.5, 29.0, 29.0, 29.7, 29.7, 30.0, 30.0, 30.7, 31.0, 31.0, 31.5, 32.0, 32.0, 32.0, 33.0, 33.0, 33.5, 33.5, 34.0, 34.0, 34.5, 35.0, 35.0, 35.0, 35.0, 36.0, 36.0, 37.0, 38.5, 38.5, 39.5, 41.0, 41.0]\n",
        "bream_weight = [242.0, 290.0, 340.0, 363.0, 430.0, 450.0, 500.0, 390.0, 450.0, 500.0, 475.0, 500.0, 500.0, 340.0, 600.0, 600.0, 700.0, 700.0, 610.0, 650.0, 575.0, 685.0, 620.0, 680.0, 700.0, 725.0, 720.0, 714.0, 850.0, 1000.0, 920.0, 955.0, 925.0, 975.0, 950.0]\n",
        "\n",
        "#빙어\n",
        "smelt_length = [9.8, 10.5, 10.6, 11.0, 11.2, 11.3, 11.8, 11.8, 12.0, 12.2, 12.4, 13.0, 14.3, 15.0]\n",
        "smelt_weight = [6.7, 7.5, 7.0, 9.7, 9.8, 8.7, 10.0, 9.9, 9.8, 12.2, 13.4, 12.2, 19.7, 19.9]"
      ]
    },
    {
      "cell_type": "markdown",
      "source": [
        "전체 데이터 길이 확인"
      ],
      "metadata": {
        "id": "Ca32DGKJvsCz"
      }
    },
    {
      "cell_type": "code",
      "source": [
        "# 도미 35개, 빙어 14개\n",
        "print(len(bream_length), len(smelt_length))"
      ],
      "metadata": {
        "colab": {
          "base_uri": "https://localhost:8080/"
        },
        "id": "MvEYT8devtuF",
        "outputId": "dbee5e45-cef7-43e5-f96d-4a61bbabd559"
      },
      "execution_count": 110,
      "outputs": [
        {
          "output_type": "stream",
          "name": "stdout",
          "text": [
            "35 14\n"
          ]
        }
      ]
    },
    {
      "cell_type": "markdown",
      "source": [
        "## 데이터 시각화"
      ],
      "metadata": {
        "id": "gyMFK0_Ar_zS"
      }
    },
    {
      "cell_type": "code",
      "source": [
        "import matplotlib.pyplot as plt\n",
        "fig, ax = plt.subplots(figsize = (10,6))\n",
        "ax.scatter(bream_length, bream_weight)\n",
        "ax.scatter(smelt_length, smelt_weight)\n",
        "ax.set_xlabel('length')\n",
        "ax.set_ylabel('weight')\n",
        "\n",
        "plt.show()"
      ],
      "metadata": {
        "colab": {
          "base_uri": "https://localhost:8080/",
          "height": 388
        },
        "id": "1liXp067sEPw",
        "outputId": "95962644-97a0-4d56-c504-2feaec7a29a4"
      },
      "execution_count": 111,
      "outputs": [
        {
          "output_type": "display_data",
          "data": {
            "text/plain": [
              "<Figure size 720x432 with 1 Axes>"
            ],
            "image/png": "[encoded data removed]"
          },
          "metadata": {
            "needs_background": "light"
          }
        }
      ]
    },
    {
      "cell_type": "markdown",
      "source": [
        "- 전체 데이터 만들기"
      ],
      "metadata": {
        "id": "kCsqnUY5tVR9"
      }
    },
    {
      "cell_type": "code",
      "source": [
        "length = bream_length + smelt_length\n",
        "weight = bream_weight + smelt_weight\n",
        "\n",
        "print(len(length),len(weight))\n"
      ],
      "metadata": {
        "colab": {
          "base_uri": "https://localhost:8080/"
        },
        "id": "qe5iJygBtXlD",
        "outputId": "83a73a2b-1a4d-47ac-e1ec-bc142d7b5a8b"
      },
      "execution_count": 112,
      "outputs": [
        {
          "output_type": "stream",
          "name": "stdout",
          "text": [
            "49 49\n"
          ]
        }
      ]
    },
    {
      "cell_type": "markdown",
      "source": [
        "### 리스트 컴프리헨션(List Comprehension)\n",
        "- 반복문(조건문 포함)을 1줄로 처리\n",
        "- 반환값은 리스트"
      ],
      "metadata": {
        "id": "whOHsr6-t89_"
      }
    },
    {
      "cell_type": "code",
      "source": [
        "temp_text = \"humanEdu\"\n",
        "human_letters = []\n",
        "for letter in temp_text:\n",
        "  human_letters.append(letter)\n",
        "\n",
        "print(human_letters)"
      ],
      "metadata": {
        "colab": {
          "base_uri": "https://localhost:8080/"
        },
        "id": "M8KnwXU0twyI",
        "outputId": "8fc51afe-ac55-4bca-ef1e-9c7e3808c2d2"
      },
      "execution_count": 113,
      "outputs": [
        {
          "output_type": "stream",
          "name": "stdout",
          "text": [
            "['h', 'u', 'm', 'a', 'n', 'E', 'd', 'u']\n"
          ]
        }
      ]
    },
    {
      "cell_type": "code",
      "source": [
        "temp_text = \"humanEdu\"\n",
        "human_letters = [letter for letter in temp_text]\n",
        "print(human_letters)"
      ],
      "metadata": {
        "colab": {
          "base_uri": "https://localhost:8080/"
        },
        "id": "Oir1tXwdueU3",
        "outputId": "5c6838aa-b014-4131-b35a-df714ff8404d"
      },
      "execution_count": 114,
      "outputs": [
        {
          "output_type": "stream",
          "name": "stdout",
          "text": [
            "['h', 'u', 'm', 'a', 'n', 'E', 'd', 'u']\n"
          ]
        }
      ]
    },
    {
      "cell_type": "code",
      "source": [
        "fish_data = [[l, w] for l, w in zip(length, weight)]\n",
        "print(fish_data)"
      ],
      "metadata": {
        "colab": {
          "base_uri": "https://localhost:8080/"
        },
        "id": "THaRc3ozvFPZ",
        "outputId": "a2d221c5-a8fd-4d12-c752-4c0a3ba4f8cb"
      },
      "execution_count": 115,
      "outputs": [
        {
          "output_type": "stream",
          "name": "stdout",
          "text": [
            "[[25.4, 242.0], [26.3, 290.0], [26.5, 340.0], [29.0, 363.0], [29.0, 430.0], [29.7, 450.0], [29.7, 500.0], [30.0, 390.0], [30.0, 450.0], [30.7, 500.0], [31.0, 475.0], [31.0, 500.0], [31.5, 500.0], [32.0, 340.0], [32.0, 600.0], [32.0, 600.0], [33.0, 700.0], [33.0, 700.0], [33.5, 610.0], [33.5, 650.0], [34.0, 575.0], [34.0, 685.0], [34.5, 620.0], [35.0, 680.0], [35.0, 700.0], [35.0, 725.0], [35.0, 720.0], [36.0, 714.0], [36.0, 850.0], [37.0, 1000.0], [38.5, 920.0], [38.5, 955.0], [39.5, 925.0], [41.0, 975.0], [41.0, 950.0], [9.8, 6.7], [10.5, 7.5], [10.6, 7.0], [11.0, 9.7], [11.2, 9.8], [11.3, 8.7], [11.8, 10.0], [11.8, 9.9], [12.0, 9.8], [12.2, 12.2], [12.4, 13.4], [13.0, 12.2], [14.3, 19.7], [15.0, 19.9]]\n"
          ]
        }
      ]
    },
    {
      "cell_type": "markdown",
      "source": [
        "- 지도학습은 라벨이 필요하다.\n",
        "--> 종속변수, 타겟변수(Response Variable, Dependent Variable)"
      ],
      "metadata": {
        "id": "NbiQq8upvXIK"
      }
    },
    {
      "cell_type": "code",
      "source": [
        "# 도미 35개를 1로 표시\n",
        "# 빙어 14개를 0로 표시\n",
        "fish_target = [1] * 35 + [0] * 14\n",
        "print(fish_target)"
      ],
      "metadata": {
        "colab": {
          "base_uri": "https://localhost:8080/"
        },
        "id": "a3DgkWP9vfLR",
        "outputId": "81d5c898-b50c-4beb-ecac-afb0062fe905"
      },
      "execution_count": 116,
      "outputs": [
        {
          "output_type": "stream",
          "name": "stdout",
          "text": [
            "[1, 1, 1, 1, 1, 1, 1, 1, 1, 1, 1, 1, 1, 1, 1, 1, 1, 1, 1, 1, 1, 1, 1, 1, 1, 1, 1, 1, 1, 1, 1, 1, 1, 1, 1, 0, 0, 0, 0, 0, 0, 0, 0, 0, 0, 0, 0, 0, 0]\n"
          ]
        }
      ]
    },
    {
      "cell_type": "markdown",
      "source": [
        "## 머신러닝 모형 구현\n",
        "- KNN 구현"
      ],
      "metadata": {
        "id": "8_iT_9s9wUfW"
      }
    },
    {
      "cell_type": "code",
      "source": [
        "from sklearn.neighbors import KNeighborsClassifier\n",
        "#모형 불러오기\n",
        "kn = KNeighborsClassifier()\n",
        "\n",
        "#위와 같은 코드\n",
        "# import sklearn\n",
        "# kn = sklearn.neighbors.KNeighborsClassifier()\n",
        "\n",
        "# 모형 학습\n",
        "kn.fit(fish_data, fish_target)"
      ],
      "metadata": {
        "colab": {
          "base_uri": "https://localhost:8080/"
        },
        "id": "1sOyziHywTcf",
        "outputId": "c52003d2-6ad6-424d-8326-5249f4e31917"
      },
      "execution_count": 117,
      "outputs": [
        {
          "output_type": "execute_result",
          "data": {
            "text/plain": [
              "KNeighborsClassifier()"
            ]
          },
          "metadata": {},
          "execution_count": 117
        }
      ]
    },
    {
      "cell_type": "code",
      "source": [
        "# 모형 평가\n",
        "# 1.0 == 100%의 정확도\n",
        "kn.score(fish_data, fish_target)"
      ],
      "metadata": {
        "colab": {
          "base_uri": "https://localhost:8080/"
        },
        "id": "uEg746-8zMqF",
        "outputId": "6e9724bb-c9ab-48b5-8489-70e876abd6eb"
      },
      "execution_count": 118,
      "outputs": [
        {
          "output_type": "execute_result",
          "data": {
            "text/plain": [
              "1.0"
            ]
          },
          "metadata": {},
          "execution_count": 118
        }
      ]
    },
    {
      "cell_type": "code",
      "source": [
        "# 예측 (= 배포)\n",
        "new_data = [[30,600]]\n",
        "kn.predict(new_data) # 도미로 예측을 했다"
      ],
      "metadata": {
        "colab": {
          "base_uri": "https://localhost:8080/"
        },
        "id": "-FMazPXKzUZv",
        "outputId": "f53d949a-3478-45d1-b511-6089b116a5fe"
      },
      "execution_count": 119,
      "outputs": [
        {
          "output_type": "execute_result",
          "data": {
            "text/plain": [
              "array([1])"
            ]
          },
          "metadata": {},
          "execution_count": 119
        }
      ]
    },
    {
      "cell_type": "code",
      "source": [
        "import matplotlib.pyplot as plt\n",
        "fig, ax = plt.subplots(figsize = (10,6))\n",
        "ax.scatter(bream_length, bream_weight)\n",
        "ax.scatter(smelt_length, smelt_weight)\n",
        "ax.scatter(30,600,marker = '^')\n",
        "ax.set_xlabel('length')\n",
        "ax.set_ylabel('weight')\n",
        "\n",
        "plt.show()"
      ],
      "metadata": {
        "colab": {
          "base_uri": "https://localhost:8080/",
          "height": 388
        },
        "id": "0xnS9sKt0aAP",
        "outputId": "078c5742-96b8-4de2-9cb5-9ece70cf5815"
      },
      "execution_count": 120,
      "outputs": [
        {
          "output_type": "display_data",
          "data": {
            "text/plain": [
              "<Figure size 720x432 with 1 Axes>"
            ],
            "image/png": "[encoded data removed]"
          },
          "metadata": {
            "needs_background": "light"
          }
        }
      ]
    },
    {
      "cell_type": "code",
      "source": [
        "from sklearn.neighbors import KNeighborsClassifier\n",
        "#매개변수 변경\n",
        "kn = KNeighborsClassifier(n_neighbors = 49)\n",
        "# -> 정확도 0.71로 하락\n",
        "\n",
        "# 모형 학습\n",
        "kn.fit(fish_data, fish_target)\n",
        "\n",
        "# 모형 평가\n",
        "kn.score(fish_data, fish_target)"
      ],
      "metadata": {
        "colab": {
          "base_uri": "https://localhost:8080/"
        },
        "id": "bFRKkEcISTuz",
        "outputId": "9dadc9d9-f8f1-413b-9467-f5abb1e81299"
      },
      "execution_count": 121,
      "outputs": [
        {
          "output_type": "execute_result",
          "data": {
            "text/plain": [
              "0.7142857142857143"
            ]
          },
          "metadata": {},
          "execution_count": 121
        }
      ]
    },
    {
      "cell_type": "code",
      "source": [
        "for n in range(5,50):\n",
        "  #최근접 이웃 개수 설정\n",
        "  kn.n_neighbors = n\n",
        "\n",
        "  # 스코어 계산\n",
        "  score = kn.score(fish_data, fish_target)\n",
        "\n",
        "  # 1.0에 미치지 못하는 이웃 개수 경계선 구하기\n",
        "  if score < 1:\n",
        "    print(n, score)\n",
        "    break"
      ],
      "metadata": {
        "colab": {
          "base_uri": "https://localhost:8080/"
        },
        "id": "bT-OeFyqTwed",
        "outputId": "09fa1e0f-8ae2-41f4-b544-10ec2190952d"
      },
      "execution_count": 122,
      "outputs": [
        {
          "output_type": "stream",
          "name": "stdout",
          "text": [
            "18 0.9795918367346939\n"
          ]
        }
      ]
    },
    {
      "cell_type": "markdown",
      "source": [
        "## 머신러닝 중요 메서드\n",
        "- fit() : 훈련시 사용하는 메서드, 두개의 데이터가 들어감. \n",
        "  + 독립변수 : fish_data(길이, 몸무게)\n",
        "  + 종속변수 : fish_target\n",
        "\n",
        "- predict() : 예측할 때 사용\n",
        "  + 새로운 데이터 : 독립변수만 추가\n",
        "\n",
        "- score() : 모형의 성능 평가\n",
        "  + 실무에서는 평가지표 함수를 사용!\n"
      ],
      "metadata": {
        "id": "iRnwW9OVUpHR"
      }
    },
    {
      "cell_type": "markdown",
      "source": [
        "## 훈련 세트와 테스트 세트\n",
        "- fish 모델의 문제점\n",
        "- 예측값, 평가지표 산출 시 1.0이 나옴. -> 정답을 보고 푸는것과 다름 없음\n",
        "\n",
        "- 훈련 세트 : 훈련 시에 사용되는 데이터\n",
        "- 테스트 세트 : 평가 시에 사용되는 데이터"
      ],
      "metadata": {
        "id": "DVVZmuOLWOQ1"
      }
    },
    {
      "cell_type": "code",
      "source": [
        "fish_data[:5]"
      ],
      "metadata": {
        "colab": {
          "base_uri": "https://localhost:8080/"
        },
        "id": "4Pma6libYIhn",
        "outputId": "15c10abe-79d2-49a8-ac29-e84e9ca3d233"
      },
      "execution_count": 123,
      "outputs": [
        {
          "output_type": "execute_result",
          "data": {
            "text/plain": [
              "[[25.4, 242.0], [26.3, 290.0], [26.5, 340.0], [29.0, 363.0], [29.0, 430.0]]"
            ]
          },
          "metadata": {},
          "execution_count": 123
        }
      ]
    },
    {
      "cell_type": "code",
      "source": [
        "fish_data[44:]"
      ],
      "metadata": {
        "colab": {
          "base_uri": "https://localhost:8080/"
        },
        "id": "GryKLZjQYQ1l",
        "outputId": "be387e96-69ad-4a39-d9ad-f11b15747ab5"
      },
      "execution_count": 124,
      "outputs": [
        {
          "output_type": "execute_result",
          "data": {
            "text/plain": [
              "[[12.2, 12.2], [12.4, 13.4], [13.0, 12.2], [14.3, 19.7], [15.0, 19.9]]"
            ]
          },
          "metadata": {},
          "execution_count": 124
        }
      ]
    },
    {
      "cell_type": "code",
      "source": [
        "train_input = fish_data[:35]\n",
        "train_target = fish_target[:35]\n",
        "\n",
        "test_input = fish_data[35:]\n",
        "test_target = fish_target[35:]"
      ],
      "metadata": {
        "id": "r9ub79t2YUhq"
      },
      "execution_count": 125,
      "outputs": []
    },
    {
      "cell_type": "code",
      "source": [
        "kn = kn.fit(train_input, train_target)\n",
        "kn.score(test_input, test_target)"
      ],
      "metadata": {
        "colab": {
          "base_uri": "https://localhost:8080/"
        },
        "id": "ZAgytgcfb5bR",
        "outputId": "84ff72c4-0328-451d-88dd-89fd368ab15e"
      },
      "execution_count": 126,
      "outputs": [
        {
          "output_type": "execute_result",
          "data": {
            "text/plain": [
              "0.0"
            ]
          },
          "metadata": {},
          "execution_count": 126
        }
      ]
    },
    {
      "cell_type": "markdown",
      "source": [
        "- 모형 만들고, 모형 테스트\n",
        "- 결과가 0이 나온 이유?\n",
        "\n",
        "- 학습을 도미로 함 / 평가는 빙어가지고 테스트\n",
        "\n",
        "- -> 학습을 섞어서 할 필요가 있다"
      ],
      "metadata": {
        "id": "7Z8txHJIZYL2"
      }
    },
    {
      "cell_type": "markdown",
      "source": [
        "### 데이터를 섞자"
      ],
      "metadata": {
        "id": "Nn_5gIpwb7Y0"
      }
    },
    {
      "cell_type": "code",
      "source": [
        "import numpy as np\n",
        "\n",
        "input_arr = np.array(fish_data)\n",
        "target_arr = np.array(fish_target)\n",
        "\n",
        "print(input_arr.shape) # 길이와 무게\n",
        "print(target_arr.shape) # 라벨"
      ],
      "metadata": {
        "colab": {
          "base_uri": "https://localhost:8080/"
        },
        "id": "Z7uGd-tsb9fa",
        "outputId": "8a69d4e4-ed6c-4be1-d831-dca60df19edc"
      },
      "execution_count": 127,
      "outputs": [
        {
          "output_type": "stream",
          "name": "stdout",
          "text": [
            "(49, 2)\n",
            "(49,)\n"
          ]
        }
      ]
    },
    {
      "cell_type": "code",
      "source": [
        "np.random.seed(42) # 랜덤 시드 고정\n",
        "index = np.arange(49)\n",
        "index"
      ],
      "metadata": {
        "colab": {
          "base_uri": "https://localhost:8080/"
        },
        "id": "wJe4Tmfrf5UQ",
        "outputId": "663e7c3e-416b-4578-95b2-87af0176ca5e"
      },
      "execution_count": 128,
      "outputs": [
        {
          "output_type": "execute_result",
          "data": {
            "text/plain": [
              "array([ 0,  1,  2,  3,  4,  5,  6,  7,  8,  9, 10, 11, 12, 13, 14, 15, 16,\n",
              "       17, 18, 19, 20, 21, 22, 23, 24, 25, 26, 27, 28, 29, 30, 31, 32, 33,\n",
              "       34, 35, 36, 37, 38, 39, 40, 41, 42, 43, 44, 45, 46, 47, 48])"
            ]
          },
          "metadata": {},
          "execution_count": 128
        }
      ]
    },
    {
      "cell_type": "code",
      "source": [
        "np.random.shuffle(index)\n",
        "print(index)\n",
        "# 시드 고정을 안하면 매번 값이 바뀜"
      ],
      "metadata": {
        "colab": {
          "base_uri": "https://localhost:8080/"
        },
        "id": "HfznmPYXgWje",
        "outputId": "c7aef588-3740-42a3-8f63-ea2e5a58bac6"
      },
      "execution_count": 129,
      "outputs": [
        {
          "output_type": "stream",
          "name": "stdout",
          "text": [
            "[13 45 47 44 17 27 26 25 31 19 12  4 34  8  3  6 40 41 46 15  9 16 24 33\n",
            " 30  0 43 32  5 29 11 36  1 21  2 37 35 23 39 10 22 18 48 20  7 42 14 28\n",
            " 38]\n"
          ]
        }
      ]
    },
    {
      "cell_type": "code",
      "source": [
        "train_input = input_arr[index[:35]]\n",
        "train_target = target_arr[index[:35]]\n",
        "\n",
        "train_target"
      ],
      "metadata": {
        "colab": {
          "base_uri": "https://localhost:8080/"
        },
        "id": "XLk5WobhhCQI",
        "outputId": "19da5eb2-527b-40cd-b715-3d1d17a461af"
      },
      "execution_count": 130,
      "outputs": [
        {
          "output_type": "execute_result",
          "data": {
            "text/plain": [
              "array([1, 0, 0, 0, 1, 1, 1, 1, 1, 1, 1, 1, 1, 1, 1, 1, 0, 0, 0, 1, 1, 1,\n",
              "       1, 1, 1, 1, 0, 1, 1, 1, 1, 0, 1, 1, 1])"
            ]
          },
          "metadata": {},
          "execution_count": 130
        }
      ]
    },
    {
      "cell_type": "code",
      "source": [
        "test_input = input_arr[index[35:]]\n",
        "test_target = target_arr[index[35:]]\n",
        "\n",
        "test_target"
      ],
      "metadata": {
        "colab": {
          "base_uri": "https://localhost:8080/"
        },
        "id": "33OScl1WhaXs",
        "outputId": "d859da28-bb74-4004-e013-fb2fb0feb45b"
      },
      "execution_count": 131,
      "outputs": [
        {
          "output_type": "execute_result",
          "data": {
            "text/plain": [
              "array([0, 0, 1, 0, 1, 1, 1, 0, 1, 1, 0, 1, 1, 0])"
            ]
          },
          "metadata": {},
          "execution_count": 131
        }
      ]
    },
    {
      "cell_type": "markdown",
      "source": [
        "- 적절하게 섞여 있는지 확인하는 시각화"
      ],
      "metadata": {
        "id": "eoy_urvOhjHl"
      }
    },
    {
      "cell_type": "code",
      "source": [
        "import matplotlib.pyplot as plt\n",
        "fig, ax = plt.subplots(figsize = (10,6))\n",
        "ax.scatter(train_input[:,0], train_input[:,1])\n",
        "ax.scatter(test_input[:,0], test_input[:,1])\n",
        "\n",
        "ax.set_xlabel('length')\n",
        "ax.set_ylabel('weight')\n",
        "\n",
        "plt.show()"
      ],
      "metadata": {
        "colab": {
          "base_uri": "https://localhost:8080/",
          "height": 388
        },
        "id": "Bk01kRrYhh6p",
        "outputId": "b135f589-f962-4d28-e60a-e1f110a89380"
      },
      "execution_count": 132,
      "outputs": [
        {
          "output_type": "display_data",
          "data": {
            "text/plain": [
              "<Figure size 720x432 with 1 Axes>"
            ],
            "image/png": "[encoded data removed]"
          },
          "metadata": {
            "needs_background": "light"
          }
        }
      ]
    },
    {
      "cell_type": "markdown",
      "source": [
        "- 머신러닝 모형 개발"
      ],
      "metadata": {
        "id": "K6E08Ki0ic68"
      }
    },
    {
      "cell_type": "code",
      "source": [
        "kn = KNeighborsClassifier(n_neighbors = 5)\n",
        "\n",
        "kn = kn.fit(train_input, train_target)\n",
        "kn.score(test_input, test_target)"
      ],
      "metadata": {
        "colab": {
          "base_uri": "https://localhost:8080/"
        },
        "id": "filSV-tIiexD",
        "outputId": "653afda9-e9e9-44e7-93c2-559b340c4b36"
      },
      "execution_count": 133,
      "outputs": [
        {
          "output_type": "execute_result",
          "data": {
            "text/plain": [
              "1.0"
            ]
          },
          "metadata": {},
          "execution_count": 133
        }
      ]
    },
    {
      "cell_type": "code",
      "source": [
        "kn.predict(test_input)"
      ],
      "metadata": {
        "colab": {
          "base_uri": "https://localhost:8080/"
        },
        "id": "ilmOp5E6jBcY",
        "outputId": "f08d3f04-4f1a-4333-8a01-cc5c23d7db15"
      },
      "execution_count": 134,
      "outputs": [
        {
          "output_type": "execute_result",
          "data": {
            "text/plain": [
              "array([0, 0, 1, 0, 1, 1, 1, 0, 1, 1, 0, 1, 1, 0])"
            ]
          },
          "metadata": {},
          "execution_count": 134
        }
      ]
    },
    {
      "cell_type": "code",
      "source": [
        "test_target"
      ],
      "metadata": {
        "colab": {
          "base_uri": "https://localhost:8080/"
        },
        "id": "9w5jebXDjFx0",
        "outputId": "bbbdcd49-0755-4aef-bdc3-ca53d06a6911"
      },
      "execution_count": 135,
      "outputs": [
        {
          "output_type": "execute_result",
          "data": {
            "text/plain": [
              "array([0, 0, 1, 0, 1, 1, 1, 0, 1, 1, 0, 1, 1, 0])"
            ]
          },
          "metadata": {},
          "execution_count": 135
        }
      ]
    },
    {
      "cell_type": "markdown",
      "source": [
        "- 주요 함수\n",
        "  + seed() : 초깃값이 같으면 동일한 난수를 뽑는다. 실험 재현성\n",
        "  + suffle : 주어진 배열을 랜덤하게 섞는다\n"
      ],
      "metadata": {
        "id": "1Smok2-rkYX5"
      }
    },
    {
      "cell_type": "markdown",
      "source": [
        "## Scikit-Learn 라이브러리를 활용한 세트 분리"
      ],
      "metadata": {
        "id": "C8wQqpjOk_oh"
      }
    },
    {
      "cell_type": "code",
      "source": [
        "a_list = [1,2,3]\n",
        "b_list = [4,5,6]\n",
        "\n",
        "# 리스트 합치기\n",
        "np.column_stack((a_list, b_list))"
      ],
      "metadata": {
        "colab": {
          "base_uri": "https://localhost:8080/"
        },
        "id": "uvgzGsJ4leWG",
        "outputId": "9f242f63-da3c-4db6-ef7d-f4eb58c6e16d"
      },
      "execution_count": 136,
      "outputs": [
        {
          "output_type": "execute_result",
          "data": {
            "text/plain": [
              "array([[1, 4],\n",
              "       [2, 5],\n",
              "       [3, 6]])"
            ]
          },
          "metadata": {},
          "execution_count": 136
        }
      ]
    },
    {
      "cell_type": "code",
      "source": [
        "fish_length = [25.4, 26.3, 26.5, 29.0, 29.0, 29.7, 29.7, 30.0, 30.0, 30.7, 31.0, 31.0, \n",
        "                31.5, 32.0, 32.0, 32.0, 33.0, 33.0, 33.5, 33.5, 34.0, 34.0, 34.5, 35.0, \n",
        "                35.0, 35.0, 35.0, 36.0, 36.0, 37.0, 38.5, 38.5, 39.5, 41.0, 41.0, 9.8, \n",
        "                10.5, 10.6, 11.0, 11.2, 11.3, 11.8, 11.8, 12.0, 12.2, 12.4, 13.0, 14.3, 15.0]\n",
        "fish_weight = [242.0, 290.0, 340.0, 363.0, 430.0, 450.0, 500.0, 390.0, 450.0, 500.0, 475.0, 500.0, \n",
        "                500.0, 340.0, 600.0, 600.0, 700.0, 700.0, 610.0, 650.0, 575.0, 685.0, 620.0, 680.0, \n",
        "                700.0, 725.0, 720.0, 714.0, 850.0, 1000.0, 920.0, 955.0, 925.0, 975.0, 950.0, 6.7, \n",
        "                7.5, 7.0, 9.7, 9.8, 8.7, 10.0, 9.9, 9.8, 12.2, 13.4, 12.2, 19.7, 19.9]"
      ],
      "metadata": {
        "id": "AwqO5xi3lE1w"
      },
      "execution_count": 137,
      "outputs": []
    },
    {
      "cell_type": "code",
      "source": [
        "fish_data = np.column_stack((fish_length, fish_weight))\n",
        "print(fish_data[:5])\n",
        "type(fish_data)"
      ],
      "metadata": {
        "colab": {
          "base_uri": "https://localhost:8080/"
        },
        "id": "DioV3YWulkTn",
        "outputId": "869d536b-7bd0-444a-b918-875dbadf583f"
      },
      "execution_count": 150,
      "outputs": [
        {
          "output_type": "stream",
          "name": "stdout",
          "text": [
            "[[ 25.4 242. ]\n",
            " [ 26.3 290. ]\n",
            " [ 26.5 340. ]\n",
            " [ 29.  363. ]\n",
            " [ 29.  430. ]]\n"
          ]
        },
        {
          "output_type": "execute_result",
          "data": {
            "text/plain": [
              "numpy.ndarray"
            ]
          },
          "metadata": {},
          "execution_count": 150
        }
      ]
    },
    {
      "cell_type": "code",
      "source": [
        "fish_target = np.concatenate((np.ones(35), np.zeros(14)))\n",
        "print(fish_target)\n",
        "type(fish_target)"
      ],
      "metadata": {
        "colab": {
          "base_uri": "https://localhost:8080/"
        },
        "id": "2bNUAXuhmCPe",
        "outputId": "3e43d5a0-ccd4-49e4-ade8-ee687c86b31c"
      },
      "execution_count": 151,
      "outputs": [
        {
          "output_type": "stream",
          "name": "stdout",
          "text": [
            "[1. 1. 1. 1. 1. 1. 1. 1. 1. 1. 1. 1. 1. 1. 1. 1. 1. 1. 1. 1. 1. 1. 1. 1.\n",
            " 1. 1. 1. 1. 1. 1. 1. 1. 1. 1. 1. 0. 0. 0. 0. 0. 0. 0. 0. 0. 0. 0. 0. 0.\n",
            " 0.]\n"
          ]
        },
        {
          "output_type": "execute_result",
          "data": {
            "text/plain": [
              "numpy.ndarray"
            ]
          },
          "metadata": {},
          "execution_count": 151
        }
      ]
    },
    {
      "cell_type": "markdown",
      "source": [
        "- Scikit-Learn 라이브러리가 요구하는 input 데이터 형태는 기본적으로 배열임(리스트가 아님). 여태 np.array로 변경한 이유\n",
        "- 참조 : https://scikit-learn.org/stable/modules/generated/sklearn.model_selection.train_test_split.html#sklearn.model_selection.train_test_split\n"
      ],
      "metadata": {
        "id": "slVh6VIemPRd"
      }
    },
    {
      "cell_type": "code",
      "source": [
        "from sklearn.model_selection import train_test_split\n",
        "train_input, test_input, train_target, test_target = train_test_split(fish_data, fish_target, random_state=42)\n",
        "\n",
        "print(train_input.shape, train_target.shape)\n",
        "print(test_input.shape, test_target.shape)"
      ],
      "metadata": {
        "colab": {
          "base_uri": "https://localhost:8080/"
        },
        "id": "XBC3XTw7moRs",
        "outputId": "ebd5aa90-51af-47eb-dbc1-74562fca5a25"
      },
      "execution_count": 152,
      "outputs": [
        {
          "output_type": "stream",
          "name": "stdout",
          "text": [
            "(36, 2) (36,)\n",
            "(13, 2) (13,)\n"
          ]
        }
      ]
    },
    {
      "cell_type": "code",
      "source": [
        "print(test_target)"
      ],
      "metadata": {
        "colab": {
          "base_uri": "https://localhost:8080/"
        },
        "id": "jDfgPf0voq0k",
        "outputId": "0123e8f6-b0e4-437a-b68d-33243b2410f2"
      },
      "execution_count": 141,
      "outputs": [
        {
          "output_type": "stream",
          "name": "stdout",
          "text": [
            "[1. 0. 0. 0. 1. 1. 1. 1. 1. 1. 1. 1. 1.]\n"
          ]
        }
      ]
    },
    {
      "cell_type": "markdown",
      "source": [
        "- 모형 만들기"
      ],
      "metadata": {
        "id": "uLqMpPXypB5N"
      }
    },
    {
      "cell_type": "code",
      "source": [
        "kn = KNeighborsClassifier(n_neighbors = 5)\n",
        "\n",
        "kn = kn.fit(train_input, train_target)\n",
        "kn.score(test_input, test_target)"
      ],
      "metadata": {
        "colab": {
          "base_uri": "https://localhost:8080/"
        },
        "id": "DnGjiBklpDTc",
        "outputId": "a496440a-d21b-45bb-8150-faa2cf6d47a8"
      },
      "execution_count": 142,
      "outputs": [
        {
          "output_type": "execute_result",
          "data": {
            "text/plain": [
              "1.0"
            ]
          },
          "metadata": {},
          "execution_count": 142
        }
      ]
    },
    {
      "cell_type": "markdown",
      "source": [
        "- 수상한 도미\n",
        "  + 도미 1, 빙어 0"
      ],
      "metadata": {
        "id": "NBd2U_BypZXe"
      }
    },
    {
      "cell_type": "code",
      "source": [
        "#                길이/몸무게\n",
        "print(kn.predict([[25, 150]]))"
      ],
      "metadata": {
        "colab": {
          "base_uri": "https://localhost:8080/"
        },
        "id": "NaBFIIiBpbAz",
        "outputId": "2ec54009-a939-4c3b-cce5-a898621cf9a3"
      },
      "execution_count": 143,
      "outputs": [
        {
          "output_type": "stream",
          "name": "stdout",
          "text": [
            "[0.]\n"
          ]
        }
      ]
    },
    {
      "cell_type": "code",
      "source": [
        "import matplotlib.pyplot as plt\n",
        "fig, ax = plt.subplots(figsize = (10,6))\n",
        "ax.scatter(train_input[:,0], train_input[:,1])\n",
        "ax.scatter(25, 150, marker='^')\n",
        "\n",
        "ax.set_xlabel('length')\n",
        "ax.set_ylabel('weight')\n",
        "\n",
        "plt.show()"
      ],
      "metadata": {
        "colab": {
          "base_uri": "https://localhost:8080/",
          "height": 388
        },
        "id": "j6mtCd29uyMK",
        "outputId": "935c33b0-e4bd-4e12-954a-e277c882711c"
      },
      "execution_count": 153,
      "outputs": [
        {
          "output_type": "display_data",
          "data": {
            "text/plain": [
              "<Figure size 720x432 with 1 Axes>"
            ],
            "image/png": "[encoded data removed]"
          },
          "metadata": {
            "needs_background": "light"
          }
        }
      ]
    },
    {
      "cell_type": "code",
      "source": [
        "distances, indexes = kn.kneighbors(train_input)\n",
        "\n",
        "fig, ax = plt.subplots(figsize = (10,6))\n",
        "ax.scatter(train_input[:,0], train_input[:,1])\n",
        "ax.scatter(25, 150, marker='^')\n",
        "ax.scatter(train_input[indexes, 0], train_input[indexes, 1], marker='D')\n",
        "\n",
        "ax.set_xlabel('length')\n",
        "ax.set_ylabel('weight')\n",
        "\n",
        "plt.show()"
      ],
      "metadata": {
        "colab": {
          "base_uri": "https://localhost:8080/",
          "height": 388
        },
        "id": "sm9KIWE5vh-c",
        "outputId": "cea7f9d7-df40-4c7e-c95a-8da818c399be"
      },
      "execution_count": 171,
      "outputs": [
        {
          "output_type": "display_data",
          "data": {
            "text/plain": [
              "<Figure size 720x432 with 1 Axes>"
            ],
            "image/png": "[encoded data removed]"
          },
          "metadata": {
            "needs_background": "light"
          }
        }
      ]
    },
    {
      "cell_type": "code",
      "source": [
        "print(train_input[indexes])"
      ],
      "metadata": {
        "colab": {
          "base_uri": "https://localhost:8080/"
        },
        "id": "WrGqaupbwOkx",
        "outputId": "298727db-649d-471f-8fa5-561f409e8711"
      },
      "execution_count": 173,
      "outputs": [
        {
          "output_type": "stream",
          "name": "stdout",
          "text": [
            "[[[ 25.4 242. ]\n",
            "  [ 26.3 290. ]\n",
            "  [ 26.5 340. ]\n",
            "  [ 29.  363. ]\n",
            "  [ 30.  390. ]]]\n"
          ]
        }
      ]
    },
    {
      "cell_type": "code",
      "source": [
        "print(train_target[indexes])"
      ],
      "metadata": {
        "colab": {
          "base_uri": "https://localhost:8080/"
        },
        "id": "7-xVWLImwTeN",
        "outputId": "1e8f2b77-975e-44fe-d6c3-e973c96e0627"
      },
      "execution_count": 174,
      "outputs": [
        {
          "output_type": "stream",
          "name": "stdout",
          "text": [
            "[[1. 1. 1. 1. 1.]]\n"
          ]
        }
      ]
    },
    {
      "cell_type": "code",
      "source": [
        "print(distances)"
      ],
      "metadata": {
        "colab": {
          "base_uri": "https://localhost:8080/"
        },
        "id": "ES_48wGewjel",
        "outputId": "c2a189ee-6c52-4cd2-8ce3-a5cdfd298267"
      },
      "execution_count": 175,
      "outputs": [
        {
          "output_type": "stream",
          "name": "stdout",
          "text": [
            "[[0.28867034 0.45345741 0.60864646 0.76935617 0.89243065]]\n"
          ]
        }
      ]
    },
    {
      "cell_type": "code",
      "source": [
        "distances"
      ],
      "metadata": {
        "colab": {
          "base_uri": "https://localhost:8080/"
        },
        "id": "7Ohd1RU9xoJI",
        "outputId": "54cd09f5-974c-471e-89e0-f8479716df45"
      },
      "execution_count": 176,
      "outputs": [
        {
          "output_type": "execute_result",
          "data": {
            "text/plain": [
              "array([[0.28867034, 0.45345741, 0.60864646, 0.76935617, 0.89243065]])"
            ]
          },
          "metadata": {},
          "execution_count": 176
        }
      ]
    },
    {
      "cell_type": "markdown",
      "source": [
        "- 두가지 수치 데이터가 있음\n",
        "  + length : cm단위\n",
        "  + weight : g단위\n",
        "\n",
        "- 데이터 전처리 (Data Processing) = Feature Engineering\n"
      ],
      "metadata": {
        "id": "sJnmOlAWxurQ"
      }
    },
    {
      "cell_type": "markdown",
      "source": [
        "## Feature Engineering 맛보기\n",
        "- 표준점수 (Z-Score)\n",
        "  + 두 개의 수치 데이터 단위가 달라서, 단위를 통일."
      ],
      "metadata": {
        "id": "-xj-nc52ynNo"
      }
    },
    {
      "cell_type": "code",
      "source": [
        "mean = np.mean(train_input, axis=0) #평균\n",
        "std = np.std(train_input, axis=0) #표준편차\n",
        "\n",
        "print(mean, std)"
      ],
      "metadata": {
        "colab": {
          "base_uri": "https://localhost:8080/"
        },
        "id": "gjZcYuBEyxwx",
        "outputId": "960f4425-de3a-4202-e273-6e9997b60f88"
      },
      "execution_count": 158,
      "outputs": [
        {
          "output_type": "stream",
          "name": "stdout",
          "text": [
            "[ 26.175      418.08888889] [ 10.21073441 321.67847023]\n"
          ]
        }
      ]
    },
    {
      "cell_type": "code",
      "source": [
        "train_scaled = (train_input - mean) / std\n",
        "train_scaled"
      ],
      "metadata": {
        "colab": {
          "base_uri": "https://localhost:8080/"
        },
        "id": "j8dcPRU9zDuf",
        "outputId": "67939ad7-de03-4206-a124-e661a32dd7f8"
      },
      "execution_count": 159,
      "outputs": [
        {
          "output_type": "execute_result",
          "data": {
            "text/plain": [
              "array([[ 0.37460577,  0.09920189],\n",
              "       [ 0.27666962, -0.17125451],\n",
              "       [ 0.34522492,  0.2546366 ],\n",
              "       [-1.45680021, -1.27266487],\n",
              "       [-1.40783213, -1.26862357],\n",
              "       [-1.29030875, -1.26178444],\n",
              "       [ 0.57047806,  0.56550602],\n",
              "       [ 0.44316107,  0.2546366 ],\n",
              "       [ 0.66841421,  0.87637544],\n",
              "       [ 0.86428651,  0.87637544],\n",
              "       [ 1.4519034 ,  1.73126635],\n",
              "       [ 1.20706303,  1.56028817],\n",
              "       [-0.07590051, -0.54740651],\n",
              "       [-1.3882449 , -1.26924531],\n",
              "       [ 1.30499918,  1.57583164],\n",
              "       [ 0.34522492,  0.09920189],\n",
              "       [ 1.06015881,  1.80898371],\n",
              "       [ 0.47254192,  0.2546366 ],\n",
              "       [-1.53514913, -1.2763953 ],\n",
              "       [ 0.01224202, -0.39818919],\n",
              "       [ 0.76635036,  0.82974503],\n",
              "       [ 0.03182925, -0.24275448],\n",
              "       [-1.52535551, -1.27794965],\n",
              "       [-1.60370443, -1.27888226],\n",
              "       [ 0.86428651,  0.81420156],\n",
              "       [-1.46659382, -1.26924531],\n",
              "       [ 0.47254192,  0.17691924],\n",
              "       [ 0.81531843,  0.6276799 ],\n",
              "       [ 0.71738229,  0.59659296],\n",
              "       [-1.09443646, -1.2378475 ],\n",
              "       [ 0.76635036,  0.48778866],\n",
              "       [ 0.37460577, -0.08731977],\n",
              "       [-1.40783213, -1.26893444],\n",
              "       [ 0.57047806,  0.56550602],\n",
              "       [ 0.96222266,  1.34267957],\n",
              "       [-1.48618105, -1.26955618]])"
            ]
          },
          "metadata": {},
          "execution_count": 159
        }
      ]
    },
    {
      "cell_type": "code",
      "source": [
        "# 모델링 재학습\n",
        "kn.fit(train_scaled, train_target)"
      ],
      "metadata": {
        "colab": {
          "base_uri": "https://localhost:8080/"
        },
        "id": "Tvfda0pLzWyn",
        "outputId": "29e2b9aa-bd5e-4ce4-a95b-d946a2c556e0"
      },
      "execution_count": 160,
      "outputs": [
        {
          "output_type": "execute_result",
          "data": {
            "text/plain": [
              "KNeighborsClassifier()"
            ]
          },
          "metadata": {},
          "execution_count": 160
        }
      ]
    },
    {
      "cell_type": "code",
      "source": [
        "# 모현 평가 -> 100%\n",
        "test_scaled = (test_input-mean)/std\n",
        "kn.score(test_scaled, test_target)"
      ],
      "metadata": {
        "colab": {
          "base_uri": "https://localhost:8080/"
        },
        "id": "vRAKr1MDzcgi",
        "outputId": "0cbf28b0-50de-47b6-e473-a9c26b92a8b4"
      },
      "execution_count": 161,
      "outputs": [
        {
          "output_type": "execute_result",
          "data": {
            "text/plain": [
              "1.0"
            ]
          },
          "metadata": {},
          "execution_count": 161
        }
      ]
    },
    {
      "cell_type": "code",
      "source": [
        "# 새로운 데이터 --> 표준점수화\n",
        "new = ([25,150]-mean) / std\n",
        "new"
      ],
      "metadata": {
        "colab": {
          "base_uri": "https://localhost:8080/"
        },
        "id": "B-hG2xoBzmSg",
        "outputId": "cbb49bff-5ced-4c3f-f3f8-d9f67c09edee"
      },
      "execution_count": 164,
      "outputs": [
        {
          "output_type": "execute_result",
          "data": {
            "text/plain": [
              "array([-0.11507497, -0.83340638])"
            ]
          },
          "metadata": {},
          "execution_count": 164
        }
      ]
    },
    {
      "cell_type": "code",
      "source": [
        "print(kn.predict([new]))"
      ],
      "metadata": {
        "colab": {
          "base_uri": "https://localhost:8080/"
        },
        "id": "_PhlBCrwz7jO",
        "outputId": "ff05256f-cd64-4357-a8bb-792bba6eeb61"
      },
      "execution_count": 165,
      "outputs": [
        {
          "output_type": "stream",
          "name": "stdout",
          "text": [
            "[1.]\n"
          ]
        }
      ]
    },
    {
      "cell_type": "code",
      "source": [
        "distances, indexes = kn.kneighbors([new])\n",
        "\n",
        "fig, ax = plt.subplots(figsize = (10,6))\n",
        "ax.scatter(train_scaled[:,0], train_scaled[:,1])\n",
        "ax.scatter(new[0],new[1], marker='^')\n",
        "ax.scatter(train_scaled[indexes, 0], train_scaled[indexes, 1], marker='D')\n",
        "\n",
        "ax.set_xlabel('length')\n",
        "ax.set_ylabel('weight')\n",
        "\n",
        "plt.show()"
      ],
      "metadata": {
        "colab": {
          "base_uri": "https://localhost:8080/",
          "height": 388
        },
        "id": "x2B-fxUE1EIz",
        "outputId": "aa7006da-d933-43b0-921b-3100cbc22f6f"
      },
      "execution_count": 172,
      "outputs": [
        {
          "output_type": "display_data",
          "data": {
            "text/plain": [
              "<Figure size 720x432 with 1 Axes>"
            ],
            "image/png": "[encoded data removed]"
          },
          "metadata": {
            "needs_background": "light"
          }
        }
      ]
    }
  ]
}