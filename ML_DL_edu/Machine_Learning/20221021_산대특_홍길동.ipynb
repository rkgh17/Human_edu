{
  "cells": [
    {
      "cell_type": "markdown",
      "id": "c90d8757",
      "metadata": {
        "papermill": {
          "duration": 0.097221,
          "end_time": "2022-04-12T03:17:30.871197",
          "exception": false,
          "start_time": "2022-04-12T03:17:30.773976",
          "status": "completed"
        },
        "tags": [],
        "id": "c90d8757"
      },
      "source": [
        "# 프로젝트 개요\n",
        "- 강의명 : (산대특)_공공데이터 활용 빅데이터 분석 및 시각화 전문가 과정 육성\n",
        "- 교과목명 : 머신러닝 기초\n",
        "- 프로젝트 주제 : wine 데이터를 활용한 분류 모형 만들기\n",
        "- 프로젝트 마감일 : 2022년 10월 21일 금요일\n",
        "- 수강생명 : 홍길동"
      ]
    },
    {
      "cell_type": "markdown",
      "source": [
        "## 평가 1. 데이터 수집 (10점)\n",
        "- 와인 데이터셋을 판다스 데이터 프레임으로 불러들인다. \n",
        "- Describe 함수를 사용하여 각 변수의 평균과 표준편차를 구한다. \n",
        "  + alcohol (평균/표준편차)\n",
        "  + sugar (평균/표준편차)\n",
        "  + pH (평균/표준편차)"
      ],
      "metadata": {
        "id": "6IfcJyN5Z1JG"
      },
      "id": "6IfcJyN5Z1JG"
    },
    {
      "cell_type": "code",
      "source": [
        "# 코드"
      ],
      "metadata": {
        "id": "5gGJnUl6eR-m"
      },
      "id": "5gGJnUl6eR-m",
      "execution_count": null,
      "outputs": []
    },
    {
      "cell_type": "markdown",
      "source": [
        "## 평가 2. 데이터 시각화 (20점)\n",
        "- 종속변수를 기준으로 각 변수의 박스플롯을 작성한다. \n",
        "- 각 변수별 조합을 통해 산점도를 작성한다. \n",
        "- 점수\n",
        "  + 시각화 5개 20점 \n",
        "  + 시각화 3개 10점 \n",
        "  + 시각화 1개 5점"
      ],
      "metadata": {
        "id": "_Zoqf8jPel8T"
      },
      "id": "_Zoqf8jPel8T"
    },
    {
      "cell_type": "code",
      "source": [
        "# 코드"
      ],
      "metadata": {
        "id": "4vMZfZEZexow"
      },
      "id": "4vMZfZEZexow",
      "execution_count": null,
      "outputs": []
    },
    {
      "cell_type": "markdown",
      "source": [
        "## 평가 3. 피처 공학 및 데이터 분리 (20점)\n",
        "- 교차검증을 위한 데이터세트를 준비한다. \n",
        "- 데이터 표준화를 진행한다. "
      ],
      "metadata": {
        "id": "EIabeaETfDTL"
      },
      "id": "EIabeaETfDTL"
    },
    {
      "cell_type": "code",
      "source": [
        "# 코드"
      ],
      "metadata": {
        "id": "TFmvJbmSfeQ3"
      },
      "id": "TFmvJbmSfeQ3",
      "execution_count": null,
      "outputs": []
    },
    {
      "cell_type": "markdown",
      "source": [
        "## 평가 4. 머신러닝 모델링 (40점)\n",
        "- 분류 모형을 만들기 위해 다양한 알고리즘을 적용할 수 있다. \n",
        "- 분류 모형을 만들기 위해 하이퍼파라미터를 적용할 수 있다.\n",
        "- 채점기준\n",
        "  + 모델 3개 개발 + 각 모델 하이퍼 적용 : 40점\n",
        "  + 모델 2개 개발 + 각 모델 하이퍼 적용 : 30점\n",
        "  + 모델 1개 개발 + 각 모델 하이퍼 적용 : 20점\n",
        "  + 모델 N개 개발 + 하이퍼파라미터 미 적용 시 20점"
      ],
      "metadata": {
        "id": "04-1_3lNfduH"
      },
      "id": "04-1_3lNfduH"
    },
    {
      "cell_type": "code",
      "source": [
        "# 코드"
      ],
      "metadata": {
        "id": "iiO80-k3gEYn"
      },
      "id": "iiO80-k3gEYn",
      "execution_count": null,
      "outputs": []
    },
    {
      "cell_type": "markdown",
      "source": [
        "## 평가 5. 머신러닝 평가 (10점)\n",
        "- 훈련데이터 및 테스트 데이터의 정확도를 산출한다. \n",
        "- 정확도 산출 10점 / 미 산출 (0점)"
      ],
      "metadata": {
        "id": "qKO5mPpcgFEz"
      },
      "id": "qKO5mPpcgFEz"
    },
    {
      "cell_type": "code",
      "source": [
        "# 코드"
      ],
      "metadata": {
        "id": "xZyXitTUgQUK"
      },
      "id": "xZyXitTUgQUK",
      "execution_count": null,
      "outputs": []
    }
  ],
  "metadata": {
    "kernelspec": {
      "display_name": "Python 3 (ipykernel)",
      "language": "python",
      "name": "python3"
    },
    "language_info": {
      "codemirror_mode": {
        "name": "ipython",
        "version": 3
      },
      "file_extension": ".py",
      "mimetype": "text/x-python",
      "name": "python",
      "nbconvert_exporter": "python",
      "pygments_lexer": "ipython3",
      "version": "3.9.7"
    },
    "papermill": {
      "default_parameters": {},
      "duration": 137.030513,
      "end_time": "2022-04-12T03:19:39.192677",
      "environment_variables": {},
      "exception": null,
      "input_path": "__notebook__.ipynb",
      "output_path": "__notebook__.ipynb",
      "parameters": {},
      "start_time": "2022-04-12T03:17:22.162164",
      "version": "2.3.3"
    },
    "colab": {
      "provenance": [],
      "collapsed_sections": []
    }
  },
  "nbformat": 4,
  "nbformat_minor": 5
}