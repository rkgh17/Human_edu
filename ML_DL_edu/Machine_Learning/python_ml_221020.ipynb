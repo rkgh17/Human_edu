{
  "nbformat": 4,
  "nbformat_minor": 0,
  "metadata": {
    "colab": {
      "provenance": [],
      "collapsed_sections": []
    },
    "kernelspec": {
      "name": "python3",
      "display_name": "Python 3"
    },
    "language_info": {
      "name": "python"
    }
  },
  "cells": [
    {
      "cell_type": "markdown",
      "source": [
        "## 교차검증 & 샘플링 & 그리드 서치\n",
        "- 교차검증\n",
        "  - 교차검증 != 정확도를 올린다\n",
        "  - 교차검증의 조건 = Accuracy Stable Model(안정적인)"
      ],
      "metadata": {
        "id": "vxcsmWuHxhbT"
      }
    },
    {
      "cell_type": "code",
      "execution_count": 48,
      "metadata": {
        "id": "UMpm4UpGxHv_"
      },
      "outputs": [],
      "source": [
        "import pandas as pd\n",
        "\n",
        "wine = pd.read_csv('https://bit.ly/wine_csv_data')"
      ]
    },
    {
      "cell_type": "code",
      "source": [
        "# input / target 1차 분리\n",
        "data = wine[['alcohol', 'sugar', 'pH']].to_numpy()\n",
        "target = wine['class'].to_numpy()"
      ],
      "metadata": {
        "id": "V1q9iOz-yrp4"
      },
      "execution_count": 49,
      "outputs": []
    },
    {
      "cell_type": "markdown",
      "source": [
        "## 세트 분리\n",
        "- 기존) : train / test 세트\n",
        "- 지금) : train / valid / test"
      ],
      "metadata": {
        "id": "_XWtHlbkzDtE"
      }
    },
    {
      "cell_type": "code",
      "source": [
        "# train / test 8:2로 분리\n",
        "from sklearn.model_selection import train_test_split\n",
        "train_input, test_input, train_target, test_target = train_test_split(\n",
        "    data, target, test_size=0.2, random_state=42\n",
        ")\n",
        "train_input.shape, test_input.shape, train_target.shape, test_target.shape"
      ],
      "metadata": {
        "colab": {
          "base_uri": "https://localhost:8080/"
        },
        "id": "r0bmui77yiNw",
        "outputId": "db542782-d370-4a0a-aa5e-60448a5b864b"
      },
      "execution_count": 50,
      "outputs": [
        {
          "output_type": "execute_result",
          "data": {
            "text/plain": [
              "((5197, 3), (1300, 3), (5197,), (1300,))"
            ]
          },
          "metadata": {},
          "execution_count": 50
        }
      ]
    },
    {
      "cell_type": "code",
      "source": [
        "sub_input, val_input, sub_target, val_target = train_test_split(\n",
        "    train_input, train_target, test_size=0.2, random_state=42\n",
        ")\n",
        "\n",
        "sub_input.shape, val_input.shape, sub_target.shape, val_target.shape"
      ],
      "metadata": {
        "colab": {
          "base_uri": "https://localhost:8080/"
        },
        "id": "ARzO95q2zy9q",
        "outputId": "48446c3c-b247-43f8-8f4c-ffd1379cf37c"
      },
      "execution_count": 51,
      "outputs": [
        {
          "output_type": "execute_result",
          "data": {
            "text/plain": [
              "((4157, 3), (1040, 3), (4157,), (1040,))"
            ]
          },
          "metadata": {},
          "execution_count": 51
        }
      ]
    },
    {
      "cell_type": "markdown",
      "source": [
        "- 모형 만들고, 모형 평가\n",
        "  - 기존) test 데이터를 바로 평가 (unseen data : 미래에 올 데이터)\n",
        "  - 지금) val 데이터만 평가"
      ],
      "metadata": {
        "id": "nMVTxYmz0pPa"
      }
    },
    {
      "cell_type": "code",
      "source": [
        "from sklearn.tree import DecisionTreeClassifier\n",
        "\n",
        "dt =  DecisionTreeClassifier(random_state = 42)\n",
        "dt.fit(sub_input, sub_target)\n",
        "\n",
        "print(dt.score(sub_input, sub_target))\n",
        "print(dt.score(val_input, val_target))"
      ],
      "metadata": {
        "colab": {
          "base_uri": "https://localhost:8080/"
        },
        "id": "V_gpI1wC09H9",
        "outputId": "7fd9495e-fa8a-4775-9ca9-9f6563dae11c"
      },
      "execution_count": 52,
      "outputs": [
        {
          "output_type": "stream",
          "name": "stdout",
          "text": [
            "0.9971133028626413\n",
            "0.864423076923077\n"
          ]
        }
      ]
    },
    {
      "cell_type": "code",
      "source": [
        "print(dt.score(test_input, test_target))"
      ],
      "metadata": {
        "colab": {
          "base_uri": "https://localhost:8080/"
        },
        "id": "IHCQ8_x_1Yt9",
        "outputId": "3c3d8f41-a5f9-4544-a7af-69d4203107db"
      },
      "execution_count": 53,
      "outputs": [
        {
          "output_type": "stream",
          "name": "stdout",
          "text": [
            "0.8569230769230769\n"
          ]
        }
      ]
    },
    {
      "cell_type": "markdown",
      "source": [
        "## 교차검증"
      ],
      "metadata": {
        "id": "rTD3JHAd13TF"
      }
    },
    {
      "cell_type": "code",
      "source": [
        "from sklearn.model_selection import cross_validate\n",
        "scores = cross_validate(dt, train_input, train_target)\n",
        "\n",
        "print(scores)"
      ],
      "metadata": {
        "colab": {
          "base_uri": "https://localhost:8080/"
        },
        "id": "qfTLKbDY12-G",
        "outputId": "87d13c5d-6668-4a2e-a28d-7b6aab580973"
      },
      "execution_count": 54,
      "outputs": [
        {
          "output_type": "stream",
          "name": "stdout",
          "text": [
            "{'fit_time': array([0.01100254, 0.00773883, 0.00806332, 0.00764656, 0.00824499]), 'score_time': array([0.00101042, 0.00094557, 0.00103021, 0.00089192, 0.00099325]), 'test_score': array([0.86923077, 0.84615385, 0.87680462, 0.84889317, 0.83541867])}\n"
          ]
        }
      ]
    },
    {
      "cell_type": "code",
      "source": [
        "scores['test_score'] # -> 샘플링 결과가 편향되어있기 때문에 값의 차이가 다 다르다"
      ],
      "metadata": {
        "colab": {
          "base_uri": "https://localhost:8080/"
        },
        "id": "tDvnLW1L2Mqd",
        "outputId": "180a4a2f-330a-45b5-efe2-622edcdd730e"
      },
      "execution_count": 55,
      "outputs": [
        {
          "output_type": "execute_result",
          "data": {
            "text/plain": [
              "array([0.86923077, 0.84615385, 0.87680462, 0.84889317, 0.83541867])"
            ]
          },
          "metadata": {},
          "execution_count": 55
        }
      ]
    },
    {
      "cell_type": "code",
      "source": [
        "import numpy as np\n",
        "\n",
        "# 검증 데이터 score(테스트데이터 score)\n",
        "np.mean(scores['test_score'])"
      ],
      "metadata": {
        "colab": {
          "base_uri": "https://localhost:8080/"
        },
        "id": "bkxsvlEf2UE6",
        "outputId": "707c8f3c-ec4a-480a-9067-f844cfc2460d"
      },
      "execution_count": 56,
      "outputs": [
        {
          "output_type": "execute_result",
          "data": {
            "text/plain": [
              "0.855300214703487"
            ]
          },
          "metadata": {},
          "execution_count": 56
        }
      ]
    },
    {
      "cell_type": "markdown",
      "source": [
        "- StratfiedkFold 활용\n",
        "  - 데이터를 분리 할때 덜 편향적으로 섞이게 하자\n",
        "  - 통계용어 : 층화추출 (비율에 근거해서 추출하기) \n",
        "\n",
        "- 기존 방법 : 임의 추출 방식(무작위)"
      ],
      "metadata": {
        "id": "GHx2mDLr6brn"
      }
    },
    {
      "cell_type": "markdown",
      "source": [
        "## 와인 데이터\n",
        "- 유형 : 분류 모형\n",
        "  - 분류기준 / 레드와인 , 화이트와인"
      ],
      "metadata": {
        "id": "UM0jV7IA8OzP"
      }
    },
    {
      "cell_type": "code",
      "source": [
        "from sklearn.model_selection import StratifiedKFold\n",
        "scores = cross_validate(dt, train_input, train_target, cv = StratifiedKFold())\n",
        "np.mean(scores['test_score'])"
      ],
      "metadata": {
        "colab": {
          "base_uri": "https://localhost:8080/"
        },
        "id": "RUCT5BNb8haC",
        "outputId": "778580fe-e0a9-4592-98fe-3265a93c4361"
      },
      "execution_count": 57,
      "outputs": [
        {
          "output_type": "execute_result",
          "data": {
            "text/plain": [
              "0.855300214703487"
            ]
          },
          "metadata": {},
          "execution_count": 57
        }
      ]
    },
    {
      "cell_type": "markdown",
      "source": [
        "- StratifiedKFold() 세부 옵션 지정"
      ],
      "metadata": {
        "id": "S_l4MRPm870i"
      }
    },
    {
      "cell_type": "code",
      "source": [
        "# n_splits : 몇번 교차 검증을 할건지\n",
        "splitter = StratifiedKFold(n_splits = 10, shuffle = True, random_state=42)\n",
        "scores = cross_validate(dt, train_input, train_target, cv = splitter)\n",
        "np.mean(scores['test_score'])"
      ],
      "metadata": {
        "colab": {
          "base_uri": "https://localhost:8080/"
        },
        "id": "NK5SArhm8-xF",
        "outputId": "e4da6e51-ac23-4f5a-9743-3faf2cd1a0c4"
      },
      "execution_count": 58,
      "outputs": [
        {
          "output_type": "execute_result",
          "data": {
            "text/plain": [
              "0.8574181117533719"
            ]
          },
          "metadata": {},
          "execution_count": 58
        }
      ]
    },
    {
      "cell_type": "markdown",
      "source": [
        "## 하이퍼파라미터의 개념\n",
        "- 기존) 수동으로 조정, 하나씩 값을 확인하는 형태\n",
        "  - ridge(), Lasso(), alpha값 조정\n",
        "  - decision tree, max_depth값 조정\n",
        "\n",
        "- 현재 ) 자동화 개발 --> 머신러닝 엔지니어"
      ],
      "metadata": {
        "id": "z197-Bci9gUO"
      }
    },
    {
      "cell_type": "code",
      "source": [
        "from sklearn.model_selection import GridSearchCV\n",
        "\n",
        "# 모형 만들기\n",
        "dt =  DecisionTreeClassifier(random_state = 42)\n",
        "\n",
        "# 하이퍼 파라미터\n",
        "params = {'max_depth' : [2,3,4,5,6,7]}\n",
        "gs = GridSearchCV(dt, params, n_jobs=-1)\n",
        "\n",
        "# 모형 학습 --> params의 인자의 개수만큼 수행\n",
        "gs.fit(train_input, train_target)"
      ],
      "metadata": {
        "colab": {
          "base_uri": "https://localhost:8080/"
        },
        "id": "d8l7mryl9iEy",
        "outputId": "b871b9ad-5198-4250-a11d-10209599ab57"
      },
      "execution_count": 59,
      "outputs": [
        {
          "output_type": "execute_result",
          "data": {
            "text/plain": [
              "GridSearchCV(estimator=DecisionTreeClassifier(random_state=42), n_jobs=-1,\n",
              "             param_grid={'max_depth': [2, 3, 4, 5, 6, 7]})"
            ]
          },
          "metadata": {},
          "execution_count": 59
        }
      ]
    },
    {
      "cell_type": "markdown",
      "source": [
        "- 가장 최적화된 max_depth 확인"
      ],
      "metadata": {
        "id": "VcHXKncF_Y2O"
      }
    },
    {
      "cell_type": "code",
      "source": [
        "print(gs.best_params_)"
      ],
      "metadata": {
        "colab": {
          "base_uri": "https://localhost:8080/"
        },
        "id": "1by9lt9j_a1b",
        "outputId": "2fd60f7b-7322-4899-b166-14f4970e7cab"
      },
      "execution_count": 60,
      "outputs": [
        {
          "output_type": "stream",
          "name": "stdout",
          "text": [
            "{'max_depth': 5}\n"
          ]
        }
      ]
    },
    {
      "cell_type": "code",
      "source": [
        "best_dt = gs.best_estimator_\n",
        "print(best_dt.score(train_input, train_target))"
      ],
      "metadata": {
        "colab": {
          "base_uri": "https://localhost:8080/"
        },
        "id": "I4kXqNpB_nf0",
        "outputId": "6510d34e-a1a3-4eac-ee51-4bdcab42187b"
      },
      "execution_count": 61,
      "outputs": [
        {
          "output_type": "stream",
          "name": "stdout",
          "text": [
            "0.8672310948624207\n"
          ]
        }
      ]
    },
    {
      "cell_type": "code",
      "source": [
        "gs.cv_results_"
      ],
      "metadata": {
        "colab": {
          "base_uri": "https://localhost:8080/"
        },
        "id": "bCoXp5-pACB0",
        "outputId": "96fef527-b8ff-4619-f3c4-0777490198b1"
      },
      "execution_count": 62,
      "outputs": [
        {
          "output_type": "execute_result",
          "data": {
            "text/plain": [
              "{'mean_fit_time': array([0.0056673 , 0.00575066, 0.00649853, 0.00753727, 0.00746117,\n",
              "        0.00824804]),\n",
              " 'std_fit_time': array([0.0014144 , 0.00129809, 0.00145092, 0.001415  , 0.00020131,\n",
              "        0.00163123]),\n",
              " 'mean_score_time': array([0.00093184, 0.00089288, 0.00100732, 0.00097866, 0.00105515,\n",
              "        0.00093689]),\n",
              " 'std_score_time': array([5.97875839e-05, 2.17862927e-05, 4.93055155e-05, 6.19883537e-05,\n",
              "        1.08685049e-04, 1.47731555e-04]),\n",
              " 'param_max_depth': masked_array(data=[2, 3, 4, 5, 6, 7],\n",
              "              mask=[False, False, False, False, False, False],\n",
              "        fill_value='?',\n",
              "             dtype=object),\n",
              " 'params': [{'max_depth': 2},\n",
              "  {'max_depth': 3},\n",
              "  {'max_depth': 4},\n",
              "  {'max_depth': 5},\n",
              "  {'max_depth': 6},\n",
              "  {'max_depth': 7}],\n",
              " 'split0_test_score': array([0.80480769, 0.84230769, 0.84711538, 0.84711538, 0.84807692,\n",
              "        0.85769231]),\n",
              " 'split1_test_score': array([0.8       , 0.83365385, 0.85384615, 0.86346154, 0.85480769,\n",
              "        0.85192308]),\n",
              " 'split2_test_score': array([0.82483157, 0.84504331, 0.87102984, 0.88065448, 0.87391723,\n",
              "        0.87584216]),\n",
              " 'split3_test_score': array([0.82579403, 0.8373436 , 0.84023099, 0.83638114, 0.84311838,\n",
              "        0.84311838]),\n",
              " 'split4_test_score': array([0.81424447, 0.8479307 , 0.85466795, 0.8614052 , 0.85948027,\n",
              "        0.8479307 ]),\n",
              " 'mean_test_score': array([0.81393555, 0.84125583, 0.85337806, 0.85780355, 0.8558801 ,\n",
              "        0.85530133]),\n",
              " 'std_test_score': array([0.01036301, 0.00515948, 0.01025217, 0.0151017 , 0.0106132 ,\n",
              "        0.01132965]),\n",
              " 'rank_test_score': array([6, 5, 4, 1, 2, 3], dtype=int32)}"
            ]
          },
          "metadata": {},
          "execution_count": 62
        }
      ]
    },
    {
      "cell_type": "code",
      "source": [
        "gs.cv_results_['mean_test_score']\n",
        "\n",
        "result = pd.DataFrame({\n",
        "    'max_depth' : [2,3,4,5,6,7],\n",
        "    'score' : gs.cv_results_['mean_test_score']\n",
        "})\n",
        "\n",
        "result"
      ],
      "metadata": {
        "colab": {
          "base_uri": "https://localhost:8080/",
          "height": 238
        },
        "id": "415hKepeAJzT",
        "outputId": "d821f40f-5745-45d8-8213-257fe399afdd"
      },
      "execution_count": 63,
      "outputs": [
        {
          "output_type": "execute_result",
          "data": {
            "text/plain": [
              "   max_depth     score\n",
              "0          2  0.813936\n",
              "1          3  0.841256\n",
              "2          4  0.853378\n",
              "3          5  0.857804\n",
              "4          6  0.855880\n",
              "5          7  0.855301"
            ],
            "text/html": [
              "\n",
              "  <div id=\"df-f6987376-2274-4d62-9e07-839238ca83e1\">\n",
              "    <div class=\"colab-df-container\">\n",
              "      <div>\n",
              "<style scoped>\n",
              "    .dataframe tbody tr th:only-of-type {\n",
              "        vertical-align: middle;\n",
              "    }\n",
              "\n",
              "    .dataframe tbody tr th {\n",
              "        vertical-align: top;\n",
              "    }\n",
              "\n",
              "    .dataframe thead th {\n",
              "        text-align: right;\n",
              "    }\n",
              "</style>\n",
              "<table border=\"1\" class=\"dataframe\">\n",
              "  <thead>\n",
              "    <tr style=\"text-align: right;\">\n",
              "      <th></th>\n",
              "      <th>max_depth</th>\n",
              "      <th>score</th>\n",
              "    </tr>\n",
              "  </thead>\n",
              "  <tbody>\n",
              "    <tr>\n",
              "      <th>0</th>\n",
              "      <td>2</td>\n",
              "      <td>0.813936</td>\n",
              "    </tr>\n",
              "    <tr>\n",
              "      <th>1</th>\n",
              "      <td>3</td>\n",
              "      <td>0.841256</td>\n",
              "    </tr>\n",
              "    <tr>\n",
              "      <th>2</th>\n",
              "      <td>4</td>\n",
              "      <td>0.853378</td>\n",
              "    </tr>\n",
              "    <tr>\n",
              "      <th>3</th>\n",
              "      <td>5</td>\n",
              "      <td>0.857804</td>\n",
              "    </tr>\n",
              "    <tr>\n",
              "      <th>4</th>\n",
              "      <td>6</td>\n",
              "      <td>0.855880</td>\n",
              "    </tr>\n",
              "    <tr>\n",
              "      <th>5</th>\n",
              "      <td>7</td>\n",
              "      <td>0.855301</td>\n",
              "    </tr>\n",
              "  </tbody>\n",
              "</table>\n",
              "</div>\n",
              "      <button class=\"colab-df-convert\" onclick=\"convertToInteractive('df-f6987376-2274-4d62-9e07-839238ca83e1')\"\n",
              "              title=\"Convert this dataframe to an interactive table.\"\n",
              "              style=\"display:none;\">\n",
              "        \n",
              "  <svg xmlns=\"http://www.w3.org/2000/svg\" height=\"24px\"viewBox=\"0 0 24 24\"\n",
              "       width=\"24px\">\n",
              "    <path d=\"M0 0h24v24H0V0z\" fill=\"none\"/>\n",
              "    <path d=\"M18.56 5.44l.94 2.06.94-2.06 2.06-.94-2.06-.94-.94-2.06-.94 2.06-2.06.94zm-11 1L8.5 8.5l.94-2.06 2.06-.94-2.06-.94L8.5 2.5l-.94 2.06-2.06.94zm10 10l.94 2.06.94-2.06 2.06-.94-2.06-.94-.94-2.06-.94 2.06-2.06.94z\"/><path d=\"M17.41 7.96l-1.37-1.37c-.4-.4-.92-.59-1.43-.59-.52 0-1.04.2-1.43.59L10.3 9.45l-7.72 7.72c-.78.78-.78 2.05 0 2.83L4 21.41c.39.39.9.59 1.41.59.51 0 1.02-.2 1.41-.59l7.78-7.78 2.81-2.81c.8-.78.8-2.07 0-2.86zM5.41 20L4 18.59l7.72-7.72 1.47 1.35L5.41 20z\"/>\n",
              "  </svg>\n",
              "      </button>\n",
              "      \n",
              "  <style>\n",
              "    .colab-df-container {\n",
              "      display:flex;\n",
              "      flex-wrap:wrap;\n",
              "      gap: 12px;\n",
              "    }\n",
              "\n",
              "    .colab-df-convert {\n",
              "      background-color: #E8F0FE;\n",
              "      border: none;\n",
              "      border-radius: 50%;\n",
              "      cursor: pointer;\n",
              "      display: none;\n",
              "      fill: #1967D2;\n",
              "      height: 32px;\n",
              "      padding: 0 0 0 0;\n",
              "      width: 32px;\n",
              "    }\n",
              "\n",
              "    .colab-df-convert:hover {\n",
              "      background-color: #E2EBFA;\n",
              "      box-shadow: 0px 1px 2px rgba(60, 64, 67, 0.3), 0px 1px 3px 1px rgba(60, 64, 67, 0.15);\n",
              "      fill: #174EA6;\n",
              "    }\n",
              "\n",
              "    [theme=dark] .colab-df-convert {\n",
              "      background-color: #3B4455;\n",
              "      fill: #D2E3FC;\n",
              "    }\n",
              "\n",
              "    [theme=dark] .colab-df-convert:hover {\n",
              "      background-color: #434B5C;\n",
              "      box-shadow: 0px 1px 3px 1px rgba(0, 0, 0, 0.15);\n",
              "      filter: drop-shadow(0px 1px 2px rgba(0, 0, 0, 0.3));\n",
              "      fill: #FFFFFF;\n",
              "    }\n",
              "  </style>\n",
              "\n",
              "      <script>\n",
              "        const buttonEl =\n",
              "          document.querySelector('#df-f6987376-2274-4d62-9e07-839238ca83e1 button.colab-df-convert');\n",
              "        buttonEl.style.display =\n",
              "          google.colab.kernel.accessAllowed ? 'block' : 'none';\n",
              "\n",
              "        async function convertToInteractive(key) {\n",
              "          const element = document.querySelector('#df-f6987376-2274-4d62-9e07-839238ca83e1');\n",
              "          const dataTable =\n",
              "            await google.colab.kernel.invokeFunction('convertToInteractive',\n",
              "                                                     [key], {});\n",
              "          if (!dataTable) return;\n",
              "\n",
              "          const docLinkHtml = 'Like what you see? Visit the ' +\n",
              "            '<a target=\"_blank\" href=https://colab.research.google.com/notebooks/data_table.ipynb>data table notebook</a>'\n",
              "            + ' to learn more about interactive tables.';\n",
              "          element.innerHTML = '';\n",
              "          dataTable['output_type'] = 'display_data';\n",
              "          await google.colab.output.renderOutput(dataTable, element);\n",
              "          const docLink = document.createElement('div');\n",
              "          docLink.innerHTML = docLinkHtml;\n",
              "          element.appendChild(docLink);\n",
              "        }\n",
              "      </script>\n",
              "    </div>\n",
              "  </div>\n",
              "  "
            ]
          },
          "metadata": {},
          "execution_count": 63
        }
      ]
    },
    {
      "cell_type": "code",
      "source": [
        "# 여러 하이퍼 파라미터\n",
        "params = {'max_depth' : [2,3,4,5,6,7],\n",
        "          'min_impurity_decrease' : np.arange(0.0001, 0.001, 0.01), # 노드 분할 시, 불순도 감소 최저량 지정\n",
        "          'min_samples_split' : range(2, 100, 10)\n",
        "          }\n",
        "\n",
        "# 모형 만들기\n",
        "dt =  DecisionTreeClassifier(random_state = 42)          \n",
        "gs = GridSearchCV(dt, params, n_jobs=-1)# n_jobs = -1 -> 컴퓨터의 코어를 병렬처리하겠다 : 빠름\n",
        "\n",
        "gs.fit(train_input, train_target)\n",
        "\n",
        "print(gs.best_params_)\n",
        "\n",
        "best_dt = gs.best_estimator_\n",
        "print(best_dt.score(train_input, train_target))"
      ],
      "metadata": {
        "colab": {
          "base_uri": "https://localhost:8080/"
        },
        "id": "dTpaCPCBBHuH",
        "outputId": "ef1e815e-34e7-4daa-c0f3-4a72c34042fe"
      },
      "execution_count": 64,
      "outputs": [
        {
          "output_type": "stream",
          "name": "stdout",
          "text": [
            "{'max_depth': 7, 'min_impurity_decrease': 0.0001, 'min_samples_split': 92}\n",
            "0.8793534731575909\n"
          ]
        }
      ]
    },
    {
      "cell_type": "markdown",
      "source": [
        "## 랜덤 서치\n",
        "- 매개변수 값의 목록을 전달하는 것이 아님\n",
        "- 매개변수가 샘플링할 수있는 객체를 전달."
      ],
      "metadata": {
        "id": "le_RSQafIEy7"
      }
    },
    {
      "cell_type": "code",
      "source": [
        "from scipy.stats import uniform, randint\n",
        "import numpy as np\n",
        "\n",
        "# 고르게 추출하는 효과 - 정수\n",
        "rgen = randint(0, 10)\n",
        "np.unique(rgen.rvs(100), return_counts = True)"
      ],
      "metadata": {
        "colab": {
          "base_uri": "https://localhost:8080/"
        },
        "id": "g3QjH1IRIqIs",
        "outputId": "2b5fe504-a586-46b5-f4fe-d49265219ee3"
      },
      "execution_count": 65,
      "outputs": [
        {
          "output_type": "execute_result",
          "data": {
            "text/plain": [
              "(array([0, 1, 2, 3, 4, 5, 6, 7, 8, 9]),\n",
              " array([ 5,  9, 15,  5, 10,  9, 16, 10,  6, 15]))"
            ]
          },
          "metadata": {},
          "execution_count": 65
        }
      ]
    },
    {
      "cell_type": "code",
      "source": [
        "# 실수 무작위 추출\n",
        "ugen = uniform(0,1)\n",
        "ugen.rvs(10)"
      ],
      "metadata": {
        "colab": {
          "base_uri": "https://localhost:8080/"
        },
        "id": "ym_nWdvpJe-t",
        "outputId": "625fc7ae-0380-4040-e168-a6ade29f9f13"
      },
      "execution_count": 66,
      "outputs": [
        {
          "output_type": "execute_result",
          "data": {
            "text/plain": [
              "array([0.35874686, 0.47043066, 0.75102452, 0.66656344, 0.39681675,\n",
              "       0.61134353, 0.98155451, 0.00737126, 0.78360603, 0.08192625])"
            ]
          },
          "metadata": {},
          "execution_count": 66
        }
      ]
    },
    {
      "cell_type": "code",
      "source": [
        "from sklearn.model_selection import RandomizedSearchCV\n",
        "\n",
        "# 랜덤 파라미터\n",
        "params = {'max_depth' : randint(2,50),\n",
        "          'min_impurity_decrease' : uniform(0.0001, 0.1),\n",
        "          'min_samples_split' : randint(2,50)\n",
        "          }\n",
        "\n",
        "# 모형 만들기\n",
        "dt =  DecisionTreeClassifier(random_state = 42)\n",
        "\n",
        "# 랜덤 서치\n",
        "rs = RandomizedSearchCV(dt, params, n_iter = 100 , random_state = 42 ,n_jobs = -1)\n",
        "\n",
        "rs.fit(train_input, train_target)"
      ],
      "metadata": {
        "colab": {
          "base_uri": "https://localhost:8080/"
        },
        "id": "Mn__IDQfJimh",
        "outputId": "f31a89d1-5fe5-41fb-8088-5992d882305f"
      },
      "execution_count": 67,
      "outputs": [
        {
          "output_type": "execute_result",
          "data": {
            "text/plain": [
              "RandomizedSearchCV(estimator=DecisionTreeClassifier(random_state=42),\n",
              "                   n_iter=100, n_jobs=-1,\n",
              "                   param_distributions={'max_depth': <scipy.stats._distn_infrastructure.rv_frozen object at 0x7f13f26c6b90>,\n",
              "                                        'min_impurity_decrease': <scipy.stats._distn_infrastructure.rv_frozen object at 0x7f13f26c6050>,\n",
              "                                        'min_samples_split': <scipy.stats._distn_infrastructure.rv_frozen object at 0x7f13f26e24d0>},\n",
              "                   random_state=42)"
            ]
          },
          "metadata": {},
          "execution_count": 67
        }
      ]
    },
    {
      "cell_type": "code",
      "source": [
        "print(rs.best_params_)\n",
        "\n",
        "best_dt = rs.best_estimator_\n",
        "print(best_dt.score(train_input, train_target))"
      ],
      "metadata": {
        "colab": {
          "base_uri": "https://localhost:8080/"
        },
        "id": "kJwK6nVGKtwA",
        "outputId": "a0525663-60bd-4391-a9d2-bda7ecd5f4f7"
      },
      "execution_count": 68,
      "outputs": [
        {
          "output_type": "stream",
          "name": "stdout",
          "text": [
            "{'max_depth': 39, 'min_impurity_decrease': 0.00017787658410143285, 'min_samples_split': 22}\n",
            "0.9053299980758129\n"
          ]
        }
      ]
    },
    {
      "cell_type": "markdown",
      "source": [
        "# 배운 것 리뷰\n"
      ],
      "metadata": {
        "id": "csjfmGCgPcLu"
      }
    },
    {
      "cell_type": "markdown",
      "source": [
        "- 샘플링 중요 : 데이터가 편향적일 수 있다\n",
        "- 과대적합 방지 : 하이퍼 파라미터 튜닝을 진행한다.\n",
        "  + 그리드 서치\n",
        "  + 랜덤 서치\n",
        "  + 각 모델의 도움말을 잘 살펴본다.\n",
        "  ---"
      ],
      "metadata": {
        "id": "44_rmlO4PxgC"
      }
    },
    {
      "cell_type": "markdown",
      "source": [
        "## 랜덤포레스트(Random Forest)\n",
        "- Decision Tree\n",
        "- 데이터 샘플은 무작위로 뽑는다 (행 조정)\n",
        "- 데이터 컬럼 갯수가 매우 많음\n",
        "  - 1천개\n",
        "  - 컬럼 갯수의 조합 (무작위 선택 필요)\n",
        "  - 독립된 모형\n",
        "- 데이터셋이 클 때, 매우 큰 효과 발휘"
      ],
      "metadata": {
        "id": "hqSbiKP3v1LS"
      }
    },
    {
      "cell_type": "code",
      "source": [
        "train_input.shape, test_input.shape, train_target.shape, test_target.shape"
      ],
      "metadata": {
        "id": "4-NC31VsL95M",
        "colab": {
          "base_uri": "https://localhost:8080/"
        },
        "outputId": "90c1fb34-26be-4030-b8dc-209ec09a69d5"
      },
      "execution_count": 69,
      "outputs": [
        {
          "output_type": "execute_result",
          "data": {
            "text/plain": [
              "((5197, 3), (1300, 3), (5197,), (1300,))"
            ]
          },
          "metadata": {},
          "execution_count": 69
        }
      ]
    },
    {
      "cell_type": "code",
      "source": [
        "from sklearn.model_selection import cross_validate\n",
        "from sklearn.ensemble import RandomForestClassifier\n",
        "\n",
        "rf = RandomForestClassifier(n_jobs=-1, random_state=42)\n",
        "scores = cross_validate(rf, train_input, train_target, return_train_score=True)\n",
        "\n",
        "print(np.mean(scores['train_score']), np.mean(scores['test_score']))"
      ],
      "metadata": {
        "id": "3wmgNydZL-BL",
        "colab": {
          "base_uri": "https://localhost:8080/"
        },
        "outputId": "0640575f-c7ba-4328-daca-daa4d134ee95"
      },
      "execution_count": 71,
      "outputs": [
        {
          "output_type": "stream",
          "name": "stdout",
          "text": [
            "0.9973541965122431 0.8905151032797809\n"
          ]
        }
      ]
    },
    {
      "cell_type": "code",
      "source": [
        "scores"
      ],
      "metadata": {
        "colab": {
          "base_uri": "https://localhost:8080/"
        },
        "id": "Alyq55PI1OCM",
        "outputId": "a225525e-f3f0-48e1-a23d-eefd95a5c46b"
      },
      "execution_count": 72,
      "outputs": [
        {
          "output_type": "execute_result",
          "data": {
            "text/plain": [
              "{'fit_time': array([1.5167253 , 0.42014694, 0.48594236, 0.42416859, 0.40925431]),\n",
              " 'score_time': array([0.10459232, 0.1032176 , 0.10324407, 0.10281372, 0.10254455]),\n",
              " 'test_score': array([0.88461538, 0.88942308, 0.90279115, 0.88931665, 0.88642926]),\n",
              " 'train_score': array([0.9971133 , 0.99663219, 0.9978355 , 0.9973545 , 0.9978355 ])}"
            ]
          },
          "metadata": {},
          "execution_count": 72
        }
      ]
    },
    {
      "cell_type": "markdown",
      "source": [
        "# __특성 중요도__\n",
        "- 각 데이터의 특성(Feature)이 존재\n",
        "- 현재 사용하는 알고리즘에서 중요도를 표시해주는 것"
      ],
      "metadata": {
        "id": "gP-bFLJh1QLE"
      }
    },
    {
      "cell_type": "code",
      "source": [
        "rf.fit(train_input, train_target)\n",
        "\n",
        "# \n",
        "print(rf.feature_importances_)"
      ],
      "metadata": {
        "id": "w1q48Gs_L-Jr",
        "colab": {
          "base_uri": "https://localhost:8080/"
        },
        "outputId": "b9f1bb2f-19e7-4a68-d53f-b5639c3e1df8"
      },
      "execution_count": 73,
      "outputs": [
        {
          "output_type": "stream",
          "name": "stdout",
          "text": [
            "[0.23167441 0.50039841 0.26792718]\n"
          ]
        }
      ]
    },
    {
      "cell_type": "markdown",
      "source": [
        "-  알코올도수    당도        pH\n",
        "- [0.23167441 0.50039841 0.26792718]\n",
        "- 당도가 제일 중요"
      ],
      "metadata": {
        "id": "tzxuyjY92hPI"
      }
    },
    {
      "cell_type": "code",
      "source": [
        "import seaborn as sns\n",
        "# sns.scatterplot(data = wine, x='pH', y='sugar',hue='class')\n",
        "sns.boxplot(data = wine, x='class', y='sugar')"
      ],
      "metadata": {
        "id": "cgVzfdZvL-Sb",
        "colab": {
          "base_uri": "https://localhost:8080/",
          "height": 297
        },
        "outputId": "4be00321-484b-456c-b00a-8ccab6a2eabd"
      },
      "execution_count": 75,
      "outputs": [
        {
          "output_type": "execute_result",
          "data": {
            "text/plain": [
              "<matplotlib.axes._subplots.AxesSubplot at 0x7f13f00f41d0>"
            ]
          },
          "metadata": {},
          "execution_count": 75
        },
        {
          "output_type": "display_data",
          "data": {
            "text/plain": [
              "<Figure size 432x288 with 1 Axes>"
            ],
            "image/png": "[encoded data removed]"
          },
          "metadata": {
            "needs_background": "light"
          }
        }
      ]
    },
    {
      "cell_type": "markdown",
      "source": [
        "- 복원 추출\n",
        "  - 한번도 추출이 안된 샘플이 있을 수 있음"
      ],
      "metadata": {
        "id": "uqJdD6xD36IH"
      }
    },
    {
      "cell_type": "code",
      "source": [
        "# 복원추출\n",
        "rf = RandomForestClassifier(n_jobs=-1, oob_score=True , random_state=42)\n",
        "rf.fit(train_input, train_target)\n",
        "#한번도 추출이 안된 샘플\n",
        "print(rf.oob_score_) # 검증 세트와 비슷한 느낌\n",
        "\n",
        "print(rf.score(train_input, train_target))\n",
        "print(rf.score(test_input, test_target))"
      ],
      "metadata": {
        "id": "8ywWm4umL-a0",
        "colab": {
          "base_uri": "https://localhost:8080/"
        },
        "outputId": "85d65e46-540a-452d-a7da-b1ed56d3e6a0"
      },
      "execution_count": 80,
      "outputs": [
        {
          "output_type": "stream",
          "name": "stdout",
          "text": [
            "0.8934000384837406\n",
            "0.996921300750433\n",
            "0.8892307692307693\n"
          ]
        }
      ]
    },
    {
      "cell_type": "markdown",
      "source": [
        "## 확률적 경사하강법\n",
        "- 점진적 학습이라 함\n",
        "  - 대표적 알고리즘 : 확률적 경사 하강법(Stochastic Gradient Descent)\n",
        "  - 확률적의 의미 : 무작위\n",
        "\n",
        "- 훈련 세트 분리\n",
        "  - 샘플 뽑기\n",
        "    - 확률적 경사 하강법 : 1개씩 뽑기\n",
        "    - 미니배치 경사 하강법 : 여러개씩 뽑기\n",
        "    - 배치 경사 하강법 : 몽땅 꺼내기\n",
        "  - 조금씩 경사 및 기울기를 따라 이동\n",
        "  - 모든 훈련세트 소진 : 1에포크 끝\n",
        "\n",
        "- 손실함수 (loss function)\n",
        "  - 머신러닝 알고리즘이 얼마나 잘 못맞추느냐 측정하는 기준\n",
        "  - 손실 함수의 값은 작을수록 좋음\n"
      ],
      "metadata": {
        "id": "dN5b52O-9Qcl"
      }
    },
    {
      "cell_type": "markdown",
      "source": [
        "## 그레이디언트 부스팅\n",
        "- 처음에 샘플 뽑고, 경사하강법을 적용\n",
        "  - 사용하는 모델은 결정 트리\n",
        "  - 조금씩 범위를 늘려나가며 탐색"
      ],
      "metadata": {
        "id": "_eujFaEHDnvi"
      }
    },
    {
      "cell_type": "code",
      "source": [
        "from sklearn.ensemble import GradientBoostingClassifier\n",
        "gb = GradientBoostingClassifier(n_estimators = 500,\n",
        "                                learning_rate = 0.2,\n",
        "                                subsample = 0.5, # 전체 훈련 세트 = 1.0\n",
        "                                random_state=42)\n",
        "\n",
        "scores = cross_validate(gb, train_input, train_target, return_train_score = True, n_jobs = -1)\n",
        "\n",
        "print(np.mean(scores['train_score']), np.mean(scores['test_score']))"
      ],
      "metadata": {
        "colab": {
          "base_uri": "https://localhost:8080/"
        },
        "id": "X0z3QeY4E-XV",
        "outputId": "ae68800a-0698-42f4-9f35-9f366e94c5d4"
      },
      "execution_count": 83,
      "outputs": [
        {
          "output_type": "stream",
          "name": "stdout",
          "text": [
            "0.9434289514154802 0.8751230843266453\n"
          ]
        }
      ]
    },
    {
      "cell_type": "markdown",
      "source": [
        "## XGBoost vs LightGBM\n",
        "- Decision Tree\n",
        "- LightGBM은 중간부터 노드분기 x\n",
        "- 노드가 분기 -> 속도 차이\n",
        "  - LigGBM > XGBoost\n",
        "- GPU 지원 여부\n",
        "  - 기존 알고리즘(선형, 결정트리, 랜덤포레스트, 일반 부스팅) : x\n",
        "  - XGBoost, LightGBM : o\n",
        "- 공통적인 특징(문법상 미세한 차이 발생)\n",
        "  - Scikit-Learn과 연동된 API\n",
        "  - 독자적인 API\n",
        "  - 약간의 문법적인 혼동이 옴\n",
        "---\n",
        "\n",
        "## LightGBM\n",
        "- pandas 데이터프레임 -> numpy 배열 -> Dataset API --> 모델\n",
        "\n",
        "## XGBoost\n",
        "- pandas 데이터프레임 -> numpy 배열 -> DMatrix --> 모델\n",
        "\n",
        "---"
      ],
      "metadata": {
        "id": "SOJrSykgKcV5"
      }
    },
    {
      "cell_type": "markdown",
      "source": [
        "### Scikit-Learn API"
      ],
      "metadata": {
        "id": "L_6KUe0fOEj3"
      }
    },
    {
      "cell_type": "code",
      "source": [
        "from xgboost import XGBClassifier\n",
        "xgb = XGBClassifier(tree_method='hist', random_state=42)\n",
        "scores = cross_validate(xgb, train_input, train_target, return_train_score=True)\n",
        "\n",
        "print(np.mean(scores['train_score']), np.mean(scores['test_score']))"
      ],
      "metadata": {
        "id": "9YOwT3YTL-kE",
        "colab": {
          "base_uri": "https://localhost:8080/"
        },
        "outputId": "9cfbc967-161e-4d82-c1f8-a2cd49fdfb46"
      },
      "execution_count": 87,
      "outputs": [
        {
          "output_type": "stream",
          "name": "stdout",
          "text": [
            "0.8824322471423747 0.8726214185237284\n"
          ]
        }
      ]
    },
    {
      "cell_type": "code",
      "source": [
        "import xgboost as xgb\n",
        "\n",
        "# read in data\n",
        "dtrain = xgb.DMatrix('demo/data/agaricus.txt.train')\n",
        "dtest = xgb.DMatrix('demo/data/agaricus.txt.test')\n",
        "\n",
        "#specify parameters via map\n",
        "param = {'max_depth':2, 'eta':1, 'objective':'binary'}\n",
        "num_round = 2\n",
        "\n",
        "bst = xgb.train(param, dtrain, num_round)\n",
        "# make prediction\n",
        "preds = bst.predict(dtest)"
      ],
      "metadata": {
        "id": "1C9kFNUHZ22C"
      },
      "execution_count": null,
      "outputs": []
    },
    {
      "cell_type": "code",
      "source": [
        "from lightgbm import LGBMClassifier\n",
        "lgb = LGBMClassifier(random_state=42)\n",
        "scores = cross_validate(lgb, train_input, train_target, return_train_score=True, n_jobs = -1)\n",
        "\n",
        "print(np.mean(scores['train_score']), np.mean(scores['test_score']))"
      ],
      "metadata": {
        "colab": {
          "base_uri": "https://localhost:8080/"
        },
        "id": "62zZjBClI6Mi",
        "outputId": "128ac2eb-bce6-4399-b358-b12daae11abf"
      },
      "execution_count": 86,
      "outputs": [
        {
          "output_type": "stream",
          "name": "stdout",
          "text": [
            "0.9338079582727165 0.8789710890649293\n"
          ]
        }
      ]
    },
    {
      "cell_type": "markdown",
      "source": [
        "## 머신러닝 프로세스\n",
        "- 데이터 수집\n",
        "- 데이터 전처리\n",
        "  - Feature Engineering(표준화), 각 수치 데이터의 단위가 다름\n",
        "- 머신러닝 모델\n",
        "  - 분류\n",
        "  - 회귀(수치 예측)\n",
        "  - KNN, 선형회귀, 로지스틱 회귀, 결정트리(랜덤포레스트 등), 경사하강법\n",
        "- 하이퍼파라미터, 교차검증\n",
        "  - 그리드 서치\n",
        "  - 랜덤 서치\n",
        "- 평가지표\n",
        "  - 분류 : 정확도\n",
        "  - 회귀 : MAE"
      ],
      "metadata": {
        "id": "XAzw7kRgQW7A"
      }
    }
  ]
}