{
  "nbformat": 4,
  "nbformat_minor": 0,
  "metadata": {
    "colab": {
      "provenance": [],
      "collapsed_sections": []
    },
    "kernelspec": {
      "name": "python3",
      "display_name": "Python 3"
    },
    "language_info": {
      "name": "python"
    }
  },
  "cells": [
    {
      "cell_type": "markdown",
      "source": [
        "## 교차검증 & 샘플링 & 그리드 서치\n",
        "- 교차검증\n",
        "  - 교차검증 != 정확도를 올린다\n",
        "  - 교차검증의 조건 = Accuracy Stable Model(안정적인)"
      ],
      "metadata": {
        "id": "vxcsmWuHxhbT"
      }
    },
    {
      "cell_type": "code",
      "execution_count": null,
      "metadata": {
        "id": "UMpm4UpGxHv_"
      },
      "outputs": [],
      "source": [
        "import pandas as pd\n",
        "\n",
        "wine = pd.read_csv('https://bit.ly/wine_csv_data')"
      ]
    },
    {
      "cell_type": "code",
      "source": [
        "# input / target 1차 분리\n",
        "data = wine[['alcohol', 'sugar', 'pH']].to_numpy()\n",
        "target = wine['class'].to_numpy()"
      ],
      "metadata": {
        "id": "V1q9iOz-yrp4"
      },
      "execution_count": null,
      "outputs": []
    },
    {
      "cell_type": "markdown",
      "source": [
        "## 세트 분리\n",
        "- 기존) : train / test 세트\n",
        "- 지금) : train / valid / test"
      ],
      "metadata": {
        "id": "_XWtHlbkzDtE"
      }
    },
    {
      "cell_type": "code",
      "source": [
        "# train / test 8:2로 분리\n",
        "from sklearn.model_selection import train_test_split\n",
        "train_input, test_input, train_target, test_target = train_test_split(\n",
        "    data, target, test_size=0.2, random_state=42\n",
        ")\n",
        "train_input.shape, test_input.shape, train_target.shape, test_target.shape"
      ],
      "metadata": {
        "colab": {
          "base_uri": "https://localhost:8080/"
        },
        "id": "r0bmui77yiNw",
        "outputId": "824267d2-2385-4be7-cb44-fc8f0dad6e27"
      },
      "execution_count": null,
      "outputs": [
        {
          "output_type": "execute_result",
          "data": {
            "text/plain": [
              "((5197, 3), (1300, 3), (5197,), (1300,))"
            ]
          },
          "metadata": {},
          "execution_count": 5
        }
      ]
    },
    {
      "cell_type": "code",
      "source": [
        "sub_input, val_input, sub_target, val_target = train_test_split(\n",
        "    train_input, train_target, test_size=0.2, random_state=42\n",
        ")\n",
        "\n",
        "sub_input.shape, val_input.shape, sub_target.shape, val_target.shape"
      ],
      "metadata": {
        "colab": {
          "base_uri": "https://localhost:8080/"
        },
        "id": "ARzO95q2zy9q",
        "outputId": "8805ee16-98a6-4891-96b0-3b73197a8997"
      },
      "execution_count": null,
      "outputs": [
        {
          "output_type": "execute_result",
          "data": {
            "text/plain": [
              "((4157, 3), (1040, 3), (4157,), (1040,))"
            ]
          },
          "metadata": {},
          "execution_count": 7
        }
      ]
    },
    {
      "cell_type": "markdown",
      "source": [
        "- 모형 만들고, 모형 평가\n",
        "  - 기존) test 데이터를 바로 평가 (unseen data : 미래에 올 데이터)\n",
        "  - 지금) val 데이터만 평가"
      ],
      "metadata": {
        "id": "nMVTxYmz0pPa"
      }
    },
    {
      "cell_type": "code",
      "source": [
        "from sklearn.tree import DecisionTreeClassifier\n",
        "\n",
        "dt =  DecisionTreeClassifier(random_state = 42)\n",
        "dt.fit(sub_input, sub_target)\n",
        "\n",
        "print(dt.score(sub_input, sub_target))\n",
        "print(dt.score(val_input, val_target))"
      ],
      "metadata": {
        "colab": {
          "base_uri": "https://localhost:8080/"
        },
        "id": "V_gpI1wC09H9",
        "outputId": "2a145c81-5ab4-4d37-f9a6-cfc97cce401a"
      },
      "execution_count": null,
      "outputs": [
        {
          "output_type": "stream",
          "name": "stdout",
          "text": [
            "0.9971133028626413\n",
            "0.864423076923077\n"
          ]
        }
      ]
    },
    {
      "cell_type": "code",
      "source": [
        "print(dt.score(test_input, test_target))"
      ],
      "metadata": {
        "colab": {
          "base_uri": "https://localhost:8080/"
        },
        "id": "IHCQ8_x_1Yt9",
        "outputId": "35543833-d22e-48ca-d21a-df09dd8aad09"
      },
      "execution_count": null,
      "outputs": [
        {
          "output_type": "stream",
          "name": "stdout",
          "text": [
            "0.8569230769230769\n"
          ]
        }
      ]
    },
    {
      "cell_type": "markdown",
      "source": [
        "## 교차검증"
      ],
      "metadata": {
        "id": "rTD3JHAd13TF"
      }
    },
    {
      "cell_type": "code",
      "source": [
        "from sklearn.model_selection import cross_validate\n",
        "scores = cross_validate(dt, train_input, train_target)\n",
        "\n",
        "print(scores)"
      ],
      "metadata": {
        "colab": {
          "base_uri": "https://localhost:8080/"
        },
        "id": "qfTLKbDY12-G",
        "outputId": "2c1157d6-3c6f-4133-fd55-398dd0f0309b"
      },
      "execution_count": null,
      "outputs": [
        {
          "output_type": "stream",
          "name": "stdout",
          "text": [
            "{'fit_time': array([0.0121038 , 0.01054382, 0.01129436, 0.01120663, 0.01073456]), 'score_time': array([0.00164652, 0.00206113, 0.00140262, 0.00141835, 0.00147724]), 'test_score': array([0.86923077, 0.84615385, 0.87680462, 0.84889317, 0.83541867])}\n"
          ]
        }
      ]
    },
    {
      "cell_type": "code",
      "source": [
        "scores['test_score'] # -> 샘플링 결과가 편향되어있기 때문에 값의 차이가 다 다르다"
      ],
      "metadata": {
        "colab": {
          "base_uri": "https://localhost:8080/"
        },
        "id": "tDvnLW1L2Mqd",
        "outputId": "e5cc3d19-a2f4-4640-9f01-e69d6d863e81"
      },
      "execution_count": null,
      "outputs": [
        {
          "output_type": "execute_result",
          "data": {
            "text/plain": [
              "array([0.86923077, 0.84615385, 0.87680462, 0.84889317, 0.83541867])"
            ]
          },
          "metadata": {},
          "execution_count": 14
        }
      ]
    },
    {
      "cell_type": "code",
      "source": [
        "import numpy as np\n",
        "\n",
        "# 검증 데이터 score(테스트데이터 score)\n",
        "np.mean(scores['test_score'])"
      ],
      "metadata": {
        "colab": {
          "base_uri": "https://localhost:8080/"
        },
        "id": "bkxsvlEf2UE6",
        "outputId": "8e6d848b-e2e6-454e-91db-957da67f56a5"
      },
      "execution_count": null,
      "outputs": [
        {
          "output_type": "execute_result",
          "data": {
            "text/plain": [
              "0.855300214703487"
            ]
          },
          "metadata": {},
          "execution_count": 15
        }
      ]
    },
    {
      "cell_type": "markdown",
      "source": [
        "- StratfiedkFold 활용\n",
        "  - 데이터를 분리 할때 덜 편향적으로 섞이게 하자\n",
        "  - 통계용어 : 층화추출 (비율에 근거해서 추출하기) \n",
        "\n",
        "- 기존 방법 : 임의 추출 방식(무작위)"
      ],
      "metadata": {
        "id": "GHx2mDLr6brn"
      }
    },
    {
      "cell_type": "markdown",
      "source": [
        "## 와인 데이터\n",
        "- 유형 : 분류 모형\n",
        "  - 분류기준 / 레드와인 , 화이트와인"
      ],
      "metadata": {
        "id": "UM0jV7IA8OzP"
      }
    },
    {
      "cell_type": "code",
      "source": [
        "from sklearn.model_selection import StratifiedKFold\n",
        "scores = cross_validate(dt, train_input, train_target, cv = StratifiedKFold())\n",
        "np.mean(scores['test_score'])"
      ],
      "metadata": {
        "colab": {
          "base_uri": "https://localhost:8080/"
        },
        "id": "RUCT5BNb8haC",
        "outputId": "e8de8d12-f756-4fc0-d1e8-e03dda058bbc"
      },
      "execution_count": null,
      "outputs": [
        {
          "output_type": "execute_result",
          "data": {
            "text/plain": [
              "0.855300214703487"
            ]
          },
          "metadata": {},
          "execution_count": 16
        }
      ]
    },
    {
      "cell_type": "markdown",
      "source": [
        "- StratifiedKFold() 세부 옵션 지정"
      ],
      "metadata": {
        "id": "S_l4MRPm870i"
      }
    },
    {
      "cell_type": "code",
      "source": [
        "# n_splits : 몇번 교차 검증을 할건지\n",
        "splitter = StratifiedKFold(n_splits = 10, shuffle = True, random_state=42)\n",
        "scores = cross_validate(dt, train_input, train_target, cv = splitter)\n",
        "np.mean(scores['test_score'])"
      ],
      "metadata": {
        "colab": {
          "base_uri": "https://localhost:8080/"
        },
        "id": "NK5SArhm8-xF",
        "outputId": "cabb3804-4da1-4eff-abba-96ed1c9d0797"
      },
      "execution_count": null,
      "outputs": [
        {
          "output_type": "execute_result",
          "data": {
            "text/plain": [
              "0.8574181117533719"
            ]
          },
          "metadata": {},
          "execution_count": 17
        }
      ]
    },
    {
      "cell_type": "markdown",
      "source": [
        "## 하이퍼파라미터의 개념\n",
        "- 기존) 수동으로 조정, 하나씩 값을 확인하는 형태\n",
        "  - ridge(), Lasso(), alpha값 조정\n",
        "  - decision tree, max_depth값 조정\n",
        "\n",
        "- 현재 ) 자동화 개발 --> 머신러닝 엔지니어"
      ],
      "metadata": {
        "id": "z197-Bci9gUO"
      }
    },
    {
      "cell_type": "code",
      "source": [
        "from sklearn.model_selection import GridSearchCV\n",
        "\n",
        "# 모형 만들기\n",
        "dt =  DecisionTreeClassifier(random_state = 42)\n",
        "\n",
        "# 하이퍼 파라미터\n",
        "params = {'max_depth' : [2,3,4,5,6,7]}\n",
        "gs = GridSearchCV(dt, params, n_jobs=-1)\n",
        "\n",
        "# 모형 학습 --> params의 인자의 개수만큼 수행\n",
        "gs.fit(train_input, train_target)"
      ],
      "metadata": {
        "colab": {
          "base_uri": "https://localhost:8080/"
        },
        "id": "d8l7mryl9iEy",
        "outputId": "a78805f0-7277-4bc6-9aca-2f13bf2155be"
      },
      "execution_count": null,
      "outputs": [
        {
          "output_type": "execute_result",
          "data": {
            "text/plain": [
              "GridSearchCV(estimator=DecisionTreeClassifier(random_state=42), n_jobs=-1,\n",
              "             param_grid={'max_depth': [2, 3, 4, 5, 6, 7]})"
            ]
          },
          "metadata": {},
          "execution_count": 18
        }
      ]
    },
    {
      "cell_type": "markdown",
      "source": [
        "- 가장 최적화된 max_depth 확인"
      ],
      "metadata": {
        "id": "VcHXKncF_Y2O"
      }
    },
    {
      "cell_type": "code",
      "source": [
        "print(gs.best_params_)"
      ],
      "metadata": {
        "colab": {
          "base_uri": "https://localhost:8080/"
        },
        "id": "1by9lt9j_a1b",
        "outputId": "089a6d27-91b8-4cd3-9ce9-d7fcf6489127"
      },
      "execution_count": null,
      "outputs": [
        {
          "output_type": "stream",
          "name": "stdout",
          "text": [
            "{'max_depth': 5}\n"
          ]
        }
      ]
    },
    {
      "cell_type": "code",
      "source": [
        "best_dt = gs.best_estimator_\n",
        "print(best_dt.score(train_input, train_target))"
      ],
      "metadata": {
        "colab": {
          "base_uri": "https://localhost:8080/"
        },
        "id": "I4kXqNpB_nf0",
        "outputId": "b43e6971-118b-4284-ee35-0086448f4aa8"
      },
      "execution_count": null,
      "outputs": [
        {
          "output_type": "stream",
          "name": "stdout",
          "text": [
            "0.8672310948624207\n"
          ]
        }
      ]
    },
    {
      "cell_type": "code",
      "source": [
        "gs.cv_results_"
      ],
      "metadata": {
        "colab": {
          "base_uri": "https://localhost:8080/"
        },
        "id": "bCoXp5-pACB0",
        "outputId": "aa8b25e9-ce6c-4d79-daca-69bd55d5e8d8"
      },
      "execution_count": null,
      "outputs": [
        {
          "output_type": "execute_result",
          "data": {
            "text/plain": [
              "{'mean_fit_time': array([0.00449448, 0.00482597, 0.00617032, 0.00758181, 0.0083365 ,\n",
              "        0.00844827]),\n",
              " 'std_fit_time': array([0.00089735, 0.00053887, 0.00077998, 0.00131504, 0.00100475,\n",
              "        0.00076584]),\n",
              " 'mean_score_time': array([0.00091138, 0.00126996, 0.0008688 , 0.00094838, 0.00088205,\n",
              "        0.00090275]),\n",
              " 'std_score_time': array([8.68716430e-05, 9.21038400e-04, 4.63695636e-05, 1.41978566e-04,\n",
              "        1.78088305e-05, 4.20957288e-05]),\n",
              " 'param_max_depth': masked_array(data=[2, 3, 4, 5, 6, 7],\n",
              "              mask=[False, False, False, False, False, False],\n",
              "        fill_value='?',\n",
              "             dtype=object),\n",
              " 'params': [{'max_depth': 2},\n",
              "  {'max_depth': 3},\n",
              "  {'max_depth': 4},\n",
              "  {'max_depth': 5},\n",
              "  {'max_depth': 6},\n",
              "  {'max_depth': 7}],\n",
              " 'split0_test_score': array([0.80480769, 0.84230769, 0.84711538, 0.84711538, 0.84807692,\n",
              "        0.85769231]),\n",
              " 'split1_test_score': array([0.8       , 0.83365385, 0.85384615, 0.86346154, 0.85480769,\n",
              "        0.85192308]),\n",
              " 'split2_test_score': array([0.82483157, 0.84504331, 0.87102984, 0.88065448, 0.87391723,\n",
              "        0.87584216]),\n",
              " 'split3_test_score': array([0.82579403, 0.8373436 , 0.84023099, 0.83638114, 0.84311838,\n",
              "        0.84311838]),\n",
              " 'split4_test_score': array([0.81424447, 0.8479307 , 0.85466795, 0.8614052 , 0.85948027,\n",
              "        0.8479307 ]),\n",
              " 'mean_test_score': array([0.81393555, 0.84125583, 0.85337806, 0.85780355, 0.8558801 ,\n",
              "        0.85530133]),\n",
              " 'std_test_score': array([0.01036301, 0.00515948, 0.01025217, 0.0151017 , 0.0106132 ,\n",
              "        0.01132965]),\n",
              " 'rank_test_score': array([6, 5, 4, 1, 2, 3], dtype=int32)}"
            ]
          },
          "metadata": {},
          "execution_count": 21
        }
      ]
    },
    {
      "cell_type": "code",
      "source": [
        "gs.cv_results_['mean_test_score']\n",
        "\n",
        "result = pd.DataFrame({\n",
        "    'max_depth' : [2,3,4,5,6,7],\n",
        "    'score' : gs.cv_results_['mean_test_score']\n",
        "})\n",
        "\n",
        "result"
      ],
      "metadata": {
        "colab": {
          "base_uri": "https://localhost:8080/",
          "height": 238
        },
        "id": "415hKepeAJzT",
        "outputId": "519ae6ab-1d48-4951-f2d8-6bee8e47dac8"
      },
      "execution_count": null,
      "outputs": [
        {
          "output_type": "execute_result",
          "data": {
            "text/plain": [
              "   max_depth     score\n",
              "0          2  0.813936\n",
              "1          3  0.841256\n",
              "2          4  0.853378\n",
              "3          5  0.857804\n",
              "4          6  0.855880\n",
              "5          7  0.855301"
            ],
            "text/html": [
              "\n",
              "  <div id=\"df-28b28271-d6b0-4047-bc70-178f81fb41f4\">\n",
              "    <div class=\"colab-df-container\">\n",
              "      <div>\n",
              "<style scoped>\n",
              "    .dataframe tbody tr th:only-of-type {\n",
              "        vertical-align: middle;\n",
              "    }\n",
              "\n",
              "    .dataframe tbody tr th {\n",
              "        vertical-align: top;\n",
              "    }\n",
              "\n",
              "    .dataframe thead th {\n",
              "        text-align: right;\n",
              "    }\n",
              "</style>\n",
              "<table border=\"1\" class=\"dataframe\">\n",
              "  <thead>\n",
              "    <tr style=\"text-align: right;\">\n",
              "      <th></th>\n",
              "      <th>max_depth</th>\n",
              "      <th>score</th>\n",
              "    </tr>\n",
              "  </thead>\n",
              "  <tbody>\n",
              "    <tr>\n",
              "      <th>0</th>\n",
              "      <td>2</td>\n",
              "      <td>0.813936</td>\n",
              "    </tr>\n",
              "    <tr>\n",
              "      <th>1</th>\n",
              "      <td>3</td>\n",
              "      <td>0.841256</td>\n",
              "    </tr>\n",
              "    <tr>\n",
              "      <th>2</th>\n",
              "      <td>4</td>\n",
              "      <td>0.853378</td>\n",
              "    </tr>\n",
              "    <tr>\n",
              "      <th>3</th>\n",
              "      <td>5</td>\n",
              "      <td>0.857804</td>\n",
              "    </tr>\n",
              "    <tr>\n",
              "      <th>4</th>\n",
              "      <td>6</td>\n",
              "      <td>0.855880</td>\n",
              "    </tr>\n",
              "    <tr>\n",
              "      <th>5</th>\n",
              "      <td>7</td>\n",
              "      <td>0.855301</td>\n",
              "    </tr>\n",
              "  </tbody>\n",
              "</table>\n",
              "</div>\n",
              "      <button class=\"colab-df-convert\" onclick=\"convertToInteractive('df-28b28271-d6b0-4047-bc70-178f81fb41f4')\"\n",
              "              title=\"Convert this dataframe to an interactive table.\"\n",
              "              style=\"display:none;\">\n",
              "        \n",
              "  <svg xmlns=\"http://www.w3.org/2000/svg\" height=\"24px\"viewBox=\"0 0 24 24\"\n",
              "       width=\"24px\">\n",
              "    <path d=\"M0 0h24v24H0V0z\" fill=\"none\"/>\n",
              "    <path d=\"M18.56 5.44l.94 2.06.94-2.06 2.06-.94-2.06-.94-.94-2.06-.94 2.06-2.06.94zm-11 1L8.5 8.5l.94-2.06 2.06-.94-2.06-.94L8.5 2.5l-.94 2.06-2.06.94zm10 10l.94 2.06.94-2.06 2.06-.94-2.06-.94-.94-2.06-.94 2.06-2.06.94z\"/><path d=\"M17.41 7.96l-1.37-1.37c-.4-.4-.92-.59-1.43-.59-.52 0-1.04.2-1.43.59L10.3 9.45l-7.72 7.72c-.78.78-.78 2.05 0 2.83L4 21.41c.39.39.9.59 1.41.59.51 0 1.02-.2 1.41-.59l7.78-7.78 2.81-2.81c.8-.78.8-2.07 0-2.86zM5.41 20L4 18.59l7.72-7.72 1.47 1.35L5.41 20z\"/>\n",
              "  </svg>\n",
              "      </button>\n",
              "      \n",
              "  <style>\n",
              "    .colab-df-container {\n",
              "      display:flex;\n",
              "      flex-wrap:wrap;\n",
              "      gap: 12px;\n",
              "    }\n",
              "\n",
              "    .colab-df-convert {\n",
              "      background-color: #E8F0FE;\n",
              "      border: none;\n",
              "      border-radius: 50%;\n",
              "      cursor: pointer;\n",
              "      display: none;\n",
              "      fill: #1967D2;\n",
              "      height: 32px;\n",
              "      padding: 0 0 0 0;\n",
              "      width: 32px;\n",
              "    }\n",
              "\n",
              "    .colab-df-convert:hover {\n",
              "      background-color: #E2EBFA;\n",
              "      box-shadow: 0px 1px 2px rgba(60, 64, 67, 0.3), 0px 1px 3px 1px rgba(60, 64, 67, 0.15);\n",
              "      fill: #174EA6;\n",
              "    }\n",
              "\n",
              "    [theme=dark] .colab-df-convert {\n",
              "      background-color: #3B4455;\n",
              "      fill: #D2E3FC;\n",
              "    }\n",
              "\n",
              "    [theme=dark] .colab-df-convert:hover {\n",
              "      background-color: #434B5C;\n",
              "      box-shadow: 0px 1px 3px 1px rgba(0, 0, 0, 0.15);\n",
              "      filter: drop-shadow(0px 1px 2px rgba(0, 0, 0, 0.3));\n",
              "      fill: #FFFFFF;\n",
              "    }\n",
              "  </style>\n",
              "\n",
              "      <script>\n",
              "        const buttonEl =\n",
              "          document.querySelector('#df-28b28271-d6b0-4047-bc70-178f81fb41f4 button.colab-df-convert');\n",
              "        buttonEl.style.display =\n",
              "          google.colab.kernel.accessAllowed ? 'block' : 'none';\n",
              "\n",
              "        async function convertToInteractive(key) {\n",
              "          const element = document.querySelector('#df-28b28271-d6b0-4047-bc70-178f81fb41f4');\n",
              "          const dataTable =\n",
              "            await google.colab.kernel.invokeFunction('convertToInteractive',\n",
              "                                                     [key], {});\n",
              "          if (!dataTable) return;\n",
              "\n",
              "          const docLinkHtml = 'Like what you see? Visit the ' +\n",
              "            '<a target=\"_blank\" href=https://colab.research.google.com/notebooks/data_table.ipynb>data table notebook</a>'\n",
              "            + ' to learn more about interactive tables.';\n",
              "          element.innerHTML = '';\n",
              "          dataTable['output_type'] = 'display_data';\n",
              "          await google.colab.output.renderOutput(dataTable, element);\n",
              "          const docLink = document.createElement('div');\n",
              "          docLink.innerHTML = docLinkHtml;\n",
              "          element.appendChild(docLink);\n",
              "        }\n",
              "      </script>\n",
              "    </div>\n",
              "  </div>\n",
              "  "
            ]
          },
          "metadata": {},
          "execution_count": 23
        }
      ]
    },
    {
      "cell_type": "code",
      "source": [
        "# 여러 하이퍼 파라미터\n",
        "params = {'max_depth' : [2,3,4,5,6,7],\n",
        "          'min_impurity_decrease' : np.arange(0.0001, 0.001, 0.01), # 노드 분할 시, 불순도 감소 최저량 지정\n",
        "          'min_samples_split' : range(2, 100, 10)\n",
        "          }\n",
        "\n",
        "# 모형 만들기\n",
        "dt =  DecisionTreeClassifier(random_state = 42)          \n",
        "gs = GridSearchCV(dt, params, n_jobs=-1)# n_jobs = -1 -> 컴퓨터의 코어를 병렬처리하겠다 : 빠름\n",
        "\n",
        "gs.fit(train_input, train_target)\n",
        "\n",
        "print(gs.best_params_)\n",
        "\n",
        "best_dt = gs.best_estimator_\n",
        "print(best_dt.score(train_input, train_target))"
      ],
      "metadata": {
        "colab": {
          "base_uri": "https://localhost:8080/"
        },
        "id": "dTpaCPCBBHuH",
        "outputId": "95dfefda-248e-4830-8b9e-86b06c5105b8"
      },
      "execution_count": null,
      "outputs": [
        {
          "output_type": "stream",
          "name": "stdout",
          "text": [
            "{'max_depth': 7, 'min_impurity_decrease': 0.0001, 'min_samples_split': 92}\n",
            "0.8793534731575909\n"
          ]
        }
      ]
    },
    {
      "cell_type": "markdown",
      "source": [
        "## 랜덤 서치\n",
        "- 매개변수 값의 목록을 전달하는 것이 아님\n",
        "- 매개변수가 샘플링할 수있는 객체를 전달."
      ],
      "metadata": {
        "id": "le_RSQafIEy7"
      }
    },
    {
      "cell_type": "code",
      "source": [
        "from scipy.stats import uniform, randint\n",
        "import numpy as np\n",
        "\n",
        "# 고르게 추출하는 효과 - 정수\n",
        "rgen = randint(0, 10)\n",
        "np.unique(rgen.rvs(100), return_counts = True)"
      ],
      "metadata": {
        "colab": {
          "base_uri": "https://localhost:8080/"
        },
        "id": "g3QjH1IRIqIs",
        "outputId": "3000cb70-082b-4b80-c06b-1de4f5d15b5d"
      },
      "execution_count": null,
      "outputs": [
        {
          "output_type": "execute_result",
          "data": {
            "text/plain": [
              "(array([0, 1, 2, 3, 4, 5, 6, 7, 8, 9]),\n",
              " array([ 9, 14,  9, 10,  9, 10, 10, 14,  6,  9]))"
            ]
          },
          "metadata": {},
          "execution_count": 35
        }
      ]
    },
    {
      "cell_type": "code",
      "source": [
        "# 실수 무작위 추출\n",
        "ugen = uniform(0,1)\n",
        "ugen.rvs(10)"
      ],
      "metadata": {
        "colab": {
          "base_uri": "https://localhost:8080/"
        },
        "id": "ym_nWdvpJe-t",
        "outputId": "5b16e24b-9eab-48c9-852c-b6724b4c7875"
      },
      "execution_count": null,
      "outputs": [
        {
          "output_type": "execute_result",
          "data": {
            "text/plain": [
              "array([0.71870647, 0.43154225, 0.99934264, 0.8072642 , 0.47648894,\n",
              "       0.91342099, 0.89633578, 0.51574634, 0.10079612, 0.25542662])"
            ]
          },
          "metadata": {},
          "execution_count": 36
        }
      ]
    },
    {
      "cell_type": "code",
      "source": [
        "from sklearn.model_selection import RandomizedSearchCV\n",
        "\n",
        "# 랜덤 파라미터\n",
        "params = {'max_depth' : randint(2,50),\n",
        "          'min_impurity_decrease' : uniform(0.0001, 0.1),\n",
        "          'min_samples_split' : randint(2,50)\n",
        "          }\n",
        "\n",
        "# 모형 만들기\n",
        "dt =  DecisionTreeClassifier(random_state = 42)\n",
        "\n",
        "# 랜덤 서치\n",
        "rs = RandomizedSearchCV(dt, params, n_iter = 100 , random_state = 42 ,n_jobs = -1)\n",
        "\n",
        "rs.fit(train_input, train_target)"
      ],
      "metadata": {
        "colab": {
          "base_uri": "https://localhost:8080/"
        },
        "id": "Mn__IDQfJimh",
        "outputId": "7a2a1d97-336c-47fc-fdcf-dbe1c2fb879a"
      },
      "execution_count": null,
      "outputs": [
        {
          "output_type": "execute_result",
          "data": {
            "text/plain": [
              "RandomizedSearchCV(estimator=DecisionTreeClassifier(random_state=42),\n",
              "                   n_iter=100, n_jobs=-1,\n",
              "                   param_distributions={'max_depth': <scipy.stats._distn_infrastructure.rv_frozen object at 0x7f13f277a490>,\n",
              "                                        'min_impurity_decrease': <scipy.stats._distn_infrastructure.rv_frozen object at 0x7f13f28a8850>,\n",
              "                                        'min_samples_split': <scipy.stats._distn_infrastructure.rv_frozen object at 0x7f13f3d97450>},\n",
              "                   random_state=42)"
            ]
          },
          "metadata": {},
          "execution_count": 37
        }
      ]
    },
    {
      "cell_type": "code",
      "source": [
        "print(rs.best_params_)\n",
        "\n",
        "best_dt = rs.best_estimator_\n",
        "print(best_dt.score(train_input, train_target))"
      ],
      "metadata": {
        "colab": {
          "base_uri": "https://localhost:8080/"
        },
        "id": "kJwK6nVGKtwA",
        "outputId": "5b1235e8-1df5-43c6-a8c5-b9d11908970c"
      },
      "execution_count": null,
      "outputs": [
        {
          "output_type": "stream",
          "name": "stdout",
          "text": [
            "{'max_depth': 39, 'min_impurity_decrease': 0.00017787658410143285, 'min_samples_split': 22}\n",
            "0.9053299980758129\n"
          ]
        }
      ]
    },
    {
      "cell_type": "markdown",
      "source": [
        "# 배운 것 리뷰\n"
      ],
      "metadata": {
        "id": "csjfmGCgPcLu"
      }
    },
    {
      "cell_type": "markdown",
      "source": [
        "- 샘플링 중요 : 데이터가 편향적일 수 있다\n",
        "- 과대적합 방지 : 하이퍼 파라미터 튜닝을 진행한다.\n",
        "  + 그리드 서치\n",
        "  + 랜덤 서치\n",
        "  + 각 모델의 도움말을 잘 살펴본다."
      ],
      "metadata": {
        "id": "44_rmlO4PxgC"
      }
    },
    {
      "cell_type": "markdown",
      "source": [
        "## 오후 수업\n",
        "- 트리의 앙상블 또는 다양한 트리 관련 모델 입문"
      ],
      "metadata": {
        "id": "eT1btTqlP8k3"
      }
    },
    {
      "cell_type": "code",
      "source": [],
      "metadata": {
        "id": "4-NC31VsL95M"
      },
      "execution_count": null,
      "outputs": []
    },
    {
      "cell_type": "code",
      "source": [],
      "metadata": {
        "id": "3wmgNydZL-BL"
      },
      "execution_count": null,
      "outputs": []
    },
    {
      "cell_type": "code",
      "source": [],
      "metadata": {
        "id": "w1q48Gs_L-Jr"
      },
      "execution_count": null,
      "outputs": []
    },
    {
      "cell_type": "code",
      "source": [],
      "metadata": {
        "id": "cgVzfdZvL-Sb"
      },
      "execution_count": null,
      "outputs": []
    },
    {
      "cell_type": "code",
      "source": [],
      "metadata": {
        "id": "8ywWm4umL-a0"
      },
      "execution_count": null,
      "outputs": []
    },
    {
      "cell_type": "code",
      "source": [],
      "metadata": {
        "id": "9YOwT3YTL-kE"
      },
      "execution_count": null,
      "outputs": []
    }
  ]
}