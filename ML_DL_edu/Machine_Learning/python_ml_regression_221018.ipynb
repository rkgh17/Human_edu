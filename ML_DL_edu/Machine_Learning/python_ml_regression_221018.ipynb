{
  "nbformat": 4,
  "nbformat_minor": 0,
  "metadata": {
    "colab": {
      "provenance": [],
      "collapsed_sections": []
    },
    "kernelspec": {
      "name": "python3",
      "display_name": "Python 3"
    },
    "language_info": {
      "name": "python"
    }
  },
  "cells": [
    {
      "cell_type": "markdown",
      "source": [
        "python_ml_regression\n",
        "\n",
        "## 회귀\n",
        "- 수치예측\n",
        "- 통계 관점에서의 회귀\n",
        "  + 해석이 매우 중요 / 분포 / 데이터가 어떤 문포로 이루어져 있는가?를 파악\n",
        "  + 가설검정 추론\n",
        "    - 카카오 주식 하락을 시키는 여러가지 요인\n",
        "- 머신러닝 관점에서의 회귀\n",
        "  + 수치 예측\n",
        "  + 오차 (Error) = 실제 관측치 - 예측치\n",
        "  + 좋은 모델을 선정 == 오차가 작은 것"
      ],
      "metadata": {
        "id": "ETSrDt3yc-jC"
      }
    },
    {
      "cell_type": "code",
      "execution_count": 1,
      "metadata": {
        "id": "RPltVPeobS62"
      },
      "outputs": [],
      "source": [
        "import numpy as np\n",
        "\n",
        "#농어 길이\n",
        "perch_length = np.array(\n",
        "    [8.4, 13.7, 15.0, 16.2, 17.4, 18.0, 18.7, 19.0, 19.6, 20.0, \n",
        "     21.0, 21.0, 21.0, 21.3, 22.0, 22.0, 22.0, 22.0, 22.0, 22.5, \n",
        "     22.5, 22.7, 23.0, 23.5, 24.0, 24.0, 24.6, 25.0, 25.6, 26.5, \n",
        "     27.3, 27.5, 27.5, 27.5, 28.0, 28.7, 30.0, 32.8, 34.5, 35.0, \n",
        "     36.5, 36.0, 37.0, 37.0, 39.0, 39.0, 39.0, 40.0, 40.0, 40.0, \n",
        "     40.0, 42.0, 43.0, 43.0, 43.5, 44.0]\n",
        "     )\n",
        "#농어 무게\n",
        "perch_weight = np.array(\n",
        "    [5.9, 32.0, 40.0, 51.5, 70.0, 100.0, 78.0, 80.0, 85.0, 85.0, \n",
        "     110.0, 115.0, 125.0, 130.0, 120.0, 120.0, 130.0, 135.0, 110.0, \n",
        "     130.0, 150.0, 145.0, 150.0, 170.0, 225.0, 145.0, 188.0, 180.0, \n",
        "     197.0, 218.0, 300.0, 260.0, 265.0, 250.0, 250.0, 300.0, 320.0, \n",
        "     514.0, 556.0, 840.0, 685.0, 700.0, 700.0, 690.0, 900.0, 650.0, \n",
        "     820.0, 850.0, 900.0, 1015.0, 820.0, 1100.0, 1000.0, 1100.0, \n",
        "     1000.0, 1000.0]\n",
        "     )"
      ]
    },
    {
      "cell_type": "markdown",
      "source": [
        "## _데이터 시각화_\n",
        "\n"
      ],
      "metadata": {
        "id": "L2z_U4HNgTgo"
      }
    },
    {
      "cell_type": "code",
      "source": [
        "import matplotlib.pyplot as plt\n",
        "fig, ax = plt.subplots(figsize = (10,6))\n",
        "ax.scatter(perch_length, perch_weight)\n",
        "ax.scatter(perch_length, perch_weight)\n",
        "ax.set_xlabel('length')\n",
        "ax.set_ylabel('weight')\n",
        "\n",
        "plt.show()"
      ],
      "metadata": {
        "colab": {
          "base_uri": "https://localhost:8080/",
          "height": 388
        },
        "id": "7lo3Zr_ZgMQq",
        "outputId": "b64c5617-ded5-4410-b4bf-c90cf57c7be3"
      },
      "execution_count": 2,
      "outputs": [
        {
          "output_type": "display_data",
          "data": {
            "text/plain": [
              "<Figure size 720x432 with 1 Axes>"
            ],
            "image/png": "[encoded data removed]"
          },
          "metadata": {
            "needs_background": "light"
          }
        }
      ]
    },
    {
      "cell_type": "markdown",
      "source": [
        "## 세트 분리\n",
        "- 훈련 세트, 테스트 세트 분리\n",
        "- scikit-learn, train_test_split"
      ],
      "metadata": {
        "id": "h_6-gUUshBV9"
      }
    },
    {
      "cell_type": "code",
      "source": [
        "from sklearn.model_selection import train_test_split\n",
        "\n",
        "train_input, test_input, train_target, test_target = train_test_split(\n",
        "    perch_length, perch_weight, random_state=42\n",
        ")\n",
        "\n",
        "#차원 확인 메서드\n",
        "train_input.shape, test_input.shape, train_target.shape, test_target.shape\n",
        "train_input.ndim, test_input.ndim, train_target.ndim, test_target.ndim"
      ],
      "metadata": {
        "colab": {
          "base_uri": "https://localhost:8080/"
        },
        "id": "5g9_mqEzhHP1",
        "outputId": "a23bd822-4e72-4fe9-c542-cd2973dbf3ea"
      },
      "execution_count": 3,
      "outputs": [
        {
          "output_type": "execute_result",
          "data": {
            "text/plain": [
              "(1, 1, 1, 1)"
            ]
          },
          "metadata": {},
          "execution_count": 3
        }
      ]
    },
    {
      "cell_type": "markdown",
      "source": [
        "## reshape"
      ],
      "metadata": {
        "id": "xsYtlYraiksZ"
      }
    },
    {
      "cell_type": "code",
      "source": [
        "# reshape 배열의 사이즈를 맘대로 바꿀 수 있음\n",
        "# 1차원 배열 --> 2차원 또는 3차원 배열\n",
        "# 최대공약수 & 최소공배수\n",
        "test_array = np.array([1,2,3,4,5,6,7,8])\n",
        "temp_arr = test_array.reshape(-1,2,2)# 첫번째 값이 이상해도 알아서 나옴\n",
        "temp_arr"
      ],
      "metadata": {
        "colab": {
          "base_uri": "https://localhost:8080/"
        },
        "id": "9k8RsJVliGUA",
        "outputId": "57d08227-8050-4b37-e87c-3dbde04dc6e5"
      },
      "execution_count": 4,
      "outputs": [
        {
          "output_type": "execute_result",
          "data": {
            "text/plain": [
              "array([[[1, 2],\n",
              "        [3, 4]],\n",
              "\n",
              "       [[5, 6],\n",
              "        [7, 8]]])"
            ]
          },
          "metadata": {},
          "execution_count": 4
        }
      ]
    },
    {
      "cell_type": "code",
      "source": [
        "#1차원 배열을 2차원으로 바꿔줌\n",
        "train_input = train_input.reshape(-1,1)\n",
        "test_input = test_input.reshape(-1,1)"
      ],
      "metadata": {
        "id": "L2-dHZncjOtx"
      },
      "execution_count": 5,
      "outputs": []
    },
    {
      "cell_type": "markdown",
      "source": [
        "### 모델 만들기"
      ],
      "metadata": {
        "id": "n9RRAS3ent6N"
      }
    },
    {
      "cell_type": "code",
      "source": [
        "from sklearn.neighbors import KNeighborsRegressor\n",
        "\n",
        "knr = KNeighborsRegressor()\n",
        "\n",
        "# K-최근접 이웃 회귀모델\n",
        "knr.fit(train_input, train_target)"
      ],
      "metadata": {
        "colab": {
          "base_uri": "https://localhost:8080/"
        },
        "id": "vmVV2nqEnwE5",
        "outputId": "62198060-42d1-4ba3-b5b6-011af09305d0"
      },
      "execution_count": 6,
      "outputs": [
        {
          "output_type": "execute_result",
          "data": {
            "text/plain": [
              "KNeighborsRegressor()"
            ]
          },
          "metadata": {},
          "execution_count": 6
        }
      ]
    },
    {
      "cell_type": "markdown",
      "source": [
        "## 결정계수\n",
        "- 신뢰도. (모형을 99.2% 믿을만하다~)"
      ],
      "metadata": {
        "id": "m2_L31PEpMRx"
      }
    },
    {
      "cell_type": "code",
      "source": [
        "knr.score(test_input, test_target)"
      ],
      "metadata": {
        "colab": {
          "base_uri": "https://localhost:8080/"
        },
        "id": "c2KpGwQUoafu",
        "outputId": "58df39d3-4694-4002-b898-f156e91896a3"
      },
      "execution_count": 7,
      "outputs": [
        {
          "output_type": "execute_result",
          "data": {
            "text/plain": [
              "0.992809406101064"
            ]
          },
          "metadata": {},
          "execution_count": 7
        }
      ]
    },
    {
      "cell_type": "markdown",
      "source": [
        "- 평가지표(sklearn 함수로 존재함)\n",
        "  + 절댓값 오차"
      ],
      "metadata": {
        "id": "fl0IXshJqZE6"
      }
    },
    {
      "cell_type": "code",
      "source": [
        "from sklearn.metrics import mean_absolute_error\n",
        "\n",
        "# 테스트 세트에 대한 예측을 만듬\n",
        "test_prediction = knr.predict(test_input)\n",
        "test_prediction"
      ],
      "metadata": {
        "colab": {
          "base_uri": "https://localhost:8080/"
        },
        "id": "1AisPuu9q7dg",
        "outputId": "e8cf9f81-deab-48b9-fa93-56969184a8cf"
      },
      "execution_count": 8,
      "outputs": [
        {
          "output_type": "execute_result",
          "data": {
            "text/plain": [
              "array([  60. ,   79.6,  248. ,  122. ,  136. ,  847. ,  311.4,  183.4,\n",
              "        847. ,  113. , 1010. ,   60. ,  248. ,  248. ])"
            ]
          },
          "metadata": {},
          "execution_count": 8
        }
      ]
    },
    {
      "cell_type": "code",
      "source": [
        "import pandas as pd\n",
        "\n",
        "result_df = pd.DataFrame({\n",
        "    \"예측\" : test_prediction,\n",
        "    \"기존\" : test_target\n",
        "})\n",
        "\n",
        "result_df"
      ],
      "metadata": {
        "colab": {
          "base_uri": "https://localhost:8080/",
          "height": 488
        },
        "id": "DvaoeRYBriBe",
        "outputId": "9215dd6b-d3a3-4abd-c932-49f20740e896"
      },
      "execution_count": 9,
      "outputs": [
        {
          "output_type": "execute_result",
          "data": {
            "text/plain": [
              "        예측      기존\n",
              "0     60.0     5.9\n",
              "1     79.6   100.0\n",
              "2    248.0   250.0\n",
              "3    122.0   130.0\n",
              "4    136.0   130.0\n",
              "5    847.0   820.0\n",
              "6    311.4   320.0\n",
              "7    183.4   188.0\n",
              "8    847.0   900.0\n",
              "9    113.0   125.0\n",
              "10  1010.0  1000.0\n",
              "11    60.0    51.5\n",
              "12   248.0   250.0\n",
              "13   248.0   300.0"
            ],
            "text/html": [
              "\n",
              "  <div id=\"df-675311b2-9764-48c9-9a93-f1e2225e3321\">\n",
              "    <div class=\"colab-df-container\">\n",
              "      <div>\n",
              "<style scoped>\n",
              "    .dataframe tbody tr th:only-of-type {\n",
              "        vertical-align: middle;\n",
              "    }\n",
              "\n",
              "    .dataframe tbody tr th {\n",
              "        vertical-align: top;\n",
              "    }\n",
              "\n",
              "    .dataframe thead th {\n",
              "        text-align: right;\n",
              "    }\n",
              "</style>\n",
              "<table border=\"1\" class=\"dataframe\">\n",
              "  <thead>\n",
              "    <tr style=\"text-align: right;\">\n",
              "      <th></th>\n",
              "      <th>예측</th>\n",
              "      <th>기존</th>\n",
              "    </tr>\n",
              "  </thead>\n",
              "  <tbody>\n",
              "    <tr>\n",
              "      <th>0</th>\n",
              "      <td>60.0</td>\n",
              "      <td>5.9</td>\n",
              "    </tr>\n",
              "    <tr>\n",
              "      <th>1</th>\n",
              "      <td>79.6</td>\n",
              "      <td>100.0</td>\n",
              "    </tr>\n",
              "    <tr>\n",
              "      <th>2</th>\n",
              "      <td>248.0</td>\n",
              "      <td>250.0</td>\n",
              "    </tr>\n",
              "    <tr>\n",
              "      <th>3</th>\n",
              "      <td>122.0</td>\n",
              "      <td>130.0</td>\n",
              "    </tr>\n",
              "    <tr>\n",
              "      <th>4</th>\n",
              "      <td>136.0</td>\n",
              "      <td>130.0</td>\n",
              "    </tr>\n",
              "    <tr>\n",
              "      <th>5</th>\n",
              "      <td>847.0</td>\n",
              "      <td>820.0</td>\n",
              "    </tr>\n",
              "    <tr>\n",
              "      <th>6</th>\n",
              "      <td>311.4</td>\n",
              "      <td>320.0</td>\n",
              "    </tr>\n",
              "    <tr>\n",
              "      <th>7</th>\n",
              "      <td>183.4</td>\n",
              "      <td>188.0</td>\n",
              "    </tr>\n",
              "    <tr>\n",
              "      <th>8</th>\n",
              "      <td>847.0</td>\n",
              "      <td>900.0</td>\n",
              "    </tr>\n",
              "    <tr>\n",
              "      <th>9</th>\n",
              "      <td>113.0</td>\n",
              "      <td>125.0</td>\n",
              "    </tr>\n",
              "    <tr>\n",
              "      <th>10</th>\n",
              "      <td>1010.0</td>\n",
              "      <td>1000.0</td>\n",
              "    </tr>\n",
              "    <tr>\n",
              "      <th>11</th>\n",
              "      <td>60.0</td>\n",
              "      <td>51.5</td>\n",
              "    </tr>\n",
              "    <tr>\n",
              "      <th>12</th>\n",
              "      <td>248.0</td>\n",
              "      <td>250.0</td>\n",
              "    </tr>\n",
              "    <tr>\n",
              "      <th>13</th>\n",
              "      <td>248.0</td>\n",
              "      <td>300.0</td>\n",
              "    </tr>\n",
              "  </tbody>\n",
              "</table>\n",
              "</div>\n",
              "      <button class=\"colab-df-convert\" onclick=\"convertToInteractive('df-675311b2-9764-48c9-9a93-f1e2225e3321')\"\n",
              "              title=\"Convert this dataframe to an interactive table.\"\n",
              "              style=\"display:none;\">\n",
              "        \n",
              "  <svg xmlns=\"http://www.w3.org/2000/svg\" height=\"24px\"viewBox=\"0 0 24 24\"\n",
              "       width=\"24px\">\n",
              "    <path d=\"M0 0h24v24H0V0z\" fill=\"none\"/>\n",
              "    <path d=\"M18.56 5.44l.94 2.06.94-2.06 2.06-.94-2.06-.94-.94-2.06-.94 2.06-2.06.94zm-11 1L8.5 8.5l.94-2.06 2.06-.94-2.06-.94L8.5 2.5l-.94 2.06-2.06.94zm10 10l.94 2.06.94-2.06 2.06-.94-2.06-.94-.94-2.06-.94 2.06-2.06.94z\"/><path d=\"M17.41 7.96l-1.37-1.37c-.4-.4-.92-.59-1.43-.59-.52 0-1.04.2-1.43.59L10.3 9.45l-7.72 7.72c-.78.78-.78 2.05 0 2.83L4 21.41c.39.39.9.59 1.41.59.51 0 1.02-.2 1.41-.59l7.78-7.78 2.81-2.81c.8-.78.8-2.07 0-2.86zM5.41 20L4 18.59l7.72-7.72 1.47 1.35L5.41 20z\"/>\n",
              "  </svg>\n",
              "      </button>\n",
              "      \n",
              "  <style>\n",
              "    .colab-df-container {\n",
              "      display:flex;\n",
              "      flex-wrap:wrap;\n",
              "      gap: 12px;\n",
              "    }\n",
              "\n",
              "    .colab-df-convert {\n",
              "      background-color: #E8F0FE;\n",
              "      border: none;\n",
              "      border-radius: 50%;\n",
              "      cursor: pointer;\n",
              "      display: none;\n",
              "      fill: #1967D2;\n",
              "      height: 32px;\n",
              "      padding: 0 0 0 0;\n",
              "      width: 32px;\n",
              "    }\n",
              "\n",
              "    .colab-df-convert:hover {\n",
              "      background-color: #E2EBFA;\n",
              "      box-shadow: 0px 1px 2px rgba(60, 64, 67, 0.3), 0px 1px 3px 1px rgba(60, 64, 67, 0.15);\n",
              "      fill: #174EA6;\n",
              "    }\n",
              "\n",
              "    [theme=dark] .colab-df-convert {\n",
              "      background-color: #3B4455;\n",
              "      fill: #D2E3FC;\n",
              "    }\n",
              "\n",
              "    [theme=dark] .colab-df-convert:hover {\n",
              "      background-color: #434B5C;\n",
              "      box-shadow: 0px 1px 3px 1px rgba(0, 0, 0, 0.15);\n",
              "      filter: drop-shadow(0px 1px 2px rgba(0, 0, 0, 0.3));\n",
              "      fill: #FFFFFF;\n",
              "    }\n",
              "  </style>\n",
              "\n",
              "      <script>\n",
              "        const buttonEl =\n",
              "          document.querySelector('#df-675311b2-9764-48c9-9a93-f1e2225e3321 button.colab-df-convert');\n",
              "        buttonEl.style.display =\n",
              "          google.colab.kernel.accessAllowed ? 'block' : 'none';\n",
              "\n",
              "        async function convertToInteractive(key) {\n",
              "          const element = document.querySelector('#df-675311b2-9764-48c9-9a93-f1e2225e3321');\n",
              "          const dataTable =\n",
              "            await google.colab.kernel.invokeFunction('convertToInteractive',\n",
              "                                                     [key], {});\n",
              "          if (!dataTable) return;\n",
              "\n",
              "          const docLinkHtml = 'Like what you see? Visit the ' +\n",
              "            '<a target=\"_blank\" href=https://colab.research.google.com/notebooks/data_table.ipynb>data table notebook</a>'\n",
              "            + ' to learn more about interactive tables.';\n",
              "          element.innerHTML = '';\n",
              "          dataTable['output_type'] = 'display_data';\n",
              "          await google.colab.output.renderOutput(dataTable, element);\n",
              "          const docLink = document.createElement('div');\n",
              "          docLink.innerHTML = docLinkHtml;\n",
              "          element.appendChild(docLink);\n",
              "        }\n",
              "      </script>\n",
              "    </div>\n",
              "  </div>\n",
              "  "
            ]
          },
          "metadata": {},
          "execution_count": 9
        }
      ]
    },
    {
      "cell_type": "markdown",
      "source": [
        "## 19g의 의미\n",
        "- 예측이 평균적으로 19g 정도 다르다"
      ],
      "metadata": {
        "id": "95QSC5-GsDGw"
      }
    },
    {
      "cell_type": "code",
      "source": [
        "# 테스트 세트에 대한 평균 절댓값 오차를 계산\n",
        "mae = mean_absolute_error(test_target, test_prediction)\n",
        "print(mae)"
      ],
      "metadata": {
        "colab": {
          "base_uri": "https://localhost:8080/"
        },
        "id": "YoEJb4-9rMyi",
        "outputId": "9ed2eade-d054-45cf-e43f-3f254faf568a"
      },
      "execution_count": 10,
      "outputs": [
        {
          "output_type": "stream",
          "name": "stdout",
          "text": [
            "19.157142857142862\n"
          ]
        }
      ]
    },
    {
      "cell_type": "markdown",
      "source": [
        "# 과대적합 vs 과소적합\n",
        "- 내신(훈련) : 내신 1등\n",
        "- 모의고사(검증) : 모의고사 중간\n",
        "- 수능(테스트) : 모의고사보다 더 못봄\n",
        "\n",
        "---\n",
        "- 내신(훈련) : 내신 5등\n",
        "- 모의고사(검증) : 모의고사 상위권\n",
        "- 수능(테스트) : 수능 중상위\n"
      ],
      "metadata": {
        "id": "TcUFCFAItmPv"
      }
    },
    {
      "cell_type": "code",
      "source": [
        "print(knr.score(train_input, train_target))"
      ],
      "metadata": {
        "colab": {
          "base_uri": "https://localhost:8080/"
        },
        "id": "p3JOJu4a1MQW",
        "outputId": "3e67635e-0460-40a7-c670-3bc5314a51bf"
      },
      "execution_count": 11,
      "outputs": [
        {
          "output_type": "stream",
          "name": "stdout",
          "text": [
            "0.9698823289099254\n"
          ]
        }
      ]
    },
    {
      "cell_type": "markdown",
      "source": [
        "과소적합 Case(훈련이 덜 됨)\n",
        "- 훈련 데이터 평가 : 0.97\n",
        "- 테스트 데이터 평가 : 0.99\n",
        "- 보통은 train이 더 높지만, 데이터가 작기 때문에 이런 결과"
      ],
      "metadata": {
        "id": "g6cbrEV11jGt"
      }
    },
    {
      "cell_type": "markdown",
      "source": [
        "# 파라미터 조정"
      ],
      "metadata": {
        "id": "V672Xtmc2F4S"
      }
    },
    {
      "cell_type": "code",
      "source": [
        "knr.n_neighbors = 3\n",
        "#모델 다시 훈련\n",
        "knr.fit(train_input, train_target)\n",
        "print(knr.score(train_input, train_target))"
      ],
      "metadata": {
        "colab": {
          "base_uri": "https://localhost:8080/"
        },
        "id": "ORikMTqH2HH0",
        "outputId": "5c1d8041-57c8-4055-a3e2-8803b5ff0baa"
      },
      "execution_count": 12,
      "outputs": [
        {
          "output_type": "stream",
          "name": "stdout",
          "text": [
            "0.9804899950518966\n"
          ]
        }
      ]
    },
    {
      "cell_type": "code",
      "source": [
        "print(knr.score(test_input, test_target))"
      ],
      "metadata": {
        "colab": {
          "base_uri": "https://localhost:8080/"
        },
        "id": "o2mP6W1f2S2l",
        "outputId": "61ff9274-c1d7-466a-b440-5a6e5bcea281"
      },
      "execution_count": 13,
      "outputs": [
        {
          "output_type": "stream",
          "name": "stdout",
          "text": [
            "0.9746459963987609\n"
          ]
        }
      ]
    },
    {
      "cell_type": "markdown",
      "source": [
        "## 왜 다른 모형이 필요한가?\n",
        "- 머신러닝 알고리즘의 종류는 수백가지"
      ],
      "metadata": {
        "id": "biIARK2M2miw"
      }
    },
    {
      "cell_type": "code",
      "source": [
        "print(knr.predict([[50]]))\n",
        "print(knr.predict([[500]]))"
      ],
      "metadata": {
        "colab": {
          "base_uri": "https://localhost:8080/"
        },
        "id": "kXmZigqd2jo6",
        "outputId": "b3e0052f-bf00-4982-a142-b18d7ec00796"
      },
      "execution_count": 14,
      "outputs": [
        {
          "output_type": "stream",
          "name": "stdout",
          "text": [
            "[1033.33333333]\n",
            "[1033.33333333]\n"
          ]
        }
      ]
    },
    {
      "cell_type": "code",
      "source": [
        "import matplotlib.pyplot as plt\n",
        "\n",
        "# 50cm 농어의 이웃을 구해보자\n",
        "distances, indexes = knr.kneighbors([[100]])\n",
        "\n",
        "fig, ax = plt.subplots(figsize=(10,6))\n",
        "ax.scatter(train_input, train_target)\n",
        "ax.scatter(train_input[indexes], train_target[indexes], marker = 'D')\n",
        "#50cm 농어 데이터\n",
        "ax.scatter(100,1033,marker='^')\n",
        "\n",
        "plt.show()"
      ],
      "metadata": {
        "colab": {
          "base_uri": "https://localhost:8080/",
          "height": 374
        },
        "id": "Kkpl_Upw333-",
        "outputId": "53c2079f-5961-41ad-8893-c12ac8d9113b"
      },
      "execution_count": 15,
      "outputs": [
        {
          "output_type": "display_data",
          "data": {
            "text/plain": [
              "<Figure size 720x432 with 1 Axes>"
            ],
            "image/png": "[encoded data removed]"
          },
          "metadata": {
            "needs_background": "light"
          }
        }
      ]
    },
    {
      "cell_type": "markdown",
      "source": [
        "## 선형회귀\n",
        "* 직선을 긋는다\n",
        "  - 주어진 데이터 분포에서 가장 적은 오차(군집도가 높은)를 표현할 수 있는 직선을 긋는다."
      ],
      "metadata": {
        "id": "sdgwpRny5jkV"
      }
    },
    {
      "cell_type": "code",
      "source": [
        "import matplotlib.pyplot as plt\n",
        "\n",
        "distances, indexes = knr.kneighbors([[100]])\n",
        "\n",
        "fig, ax = plt.subplots(figsize=(10,6))\n",
        "ax.scatter(train_input, train_target)\n",
        "ax.scatter(train_input[indexes], train_target[indexes], marker = 'D')\n",
        "\n",
        "\n",
        "plt.show()"
      ],
      "metadata": {
        "colab": {
          "base_uri": "https://localhost:8080/",
          "height": 374
        },
        "id": "jPvtHJ8w5lY6",
        "outputId": "d225f61f-48a7-4e78-bb25-a7aaac5ec43e"
      },
      "execution_count": 16,
      "outputs": [
        {
          "output_type": "display_data",
          "data": {
            "text/plain": [
              "<Figure size 720x432 with 1 Axes>"
            ],
            "image/png": "[encoded data removed]"
          },
          "metadata": {
            "needs_background": "light"
          }
        }
      ]
    },
    {
      "cell_type": "code",
      "source": [
        "from sklearn.linear_model import LinearRegression\n",
        "lr = LinearRegression()\n",
        "\n",
        "#선형 회귀 모델을 훈련한다.\n",
        "lr.fit(train_input, train_target)\n",
        "\n",
        "print(lr.predict([[50]]))"
      ],
      "metadata": {
        "colab": {
          "base_uri": "https://localhost:8080/"
        },
        "id": "J649YMsF6cSm",
        "outputId": "f54cdeba-af95-4d15-a618-76d8ecbc1aea"
      },
      "execution_count": 17,
      "outputs": [
        {
          "output_type": "stream",
          "name": "stdout",
          "text": [
            "[1241.83860323]\n"
          ]
        }
      ]
    },
    {
      "cell_type": "code",
      "source": [
        "lr.predict([[50]])"
      ],
      "metadata": {
        "colab": {
          "base_uri": "https://localhost:8080/"
        },
        "id": "vLW_ECKx7G7_",
        "outputId": "df0aecc7-50a6-4c03-f5cc-edd52f702806"
      },
      "execution_count": 18,
      "outputs": [
        {
          "output_type": "execute_result",
          "data": {
            "text/plain": [
              "array([1241.83860323])"
            ]
          },
          "metadata": {},
          "execution_count": 18
        }
      ]
    },
    {
      "cell_type": "code",
      "source": [
        "import matplotlib.pyplot as plt\n",
        "\n",
        "fig, ax = plt.subplots(figsize=(10,6))\n",
        "ax.scatter(train_input, train_target)\n",
        "# ax.scatter(train_input[indexes], train_target[indexes], marker = 'D')\n",
        "ax.scatter(50,1241,marker='^')\n",
        "\n",
        "plt.show()"
      ],
      "metadata": {
        "colab": {
          "base_uri": "https://localhost:8080/",
          "height": 374
        },
        "id": "sZJYDXsy6xyF",
        "outputId": "2aaa66b0-0660-4e66-b773-cd79715576c0"
      },
      "execution_count": 19,
      "outputs": [
        {
          "output_type": "display_data",
          "data": {
            "text/plain": [
              "<Figure size 720x432 with 1 Axes>"
            ],
            "image/png": "[encoded data removed]"
          },
          "metadata": {
            "needs_background": "light"
          }
        }
      ]
    },
    {
      "cell_type": "markdown",
      "source": [
        "- y = ax + b\n",
        "  + a = 기울기\n",
        "  + b = 상수"
      ],
      "metadata": {
        "id": "FUqDH64h8dTN"
      }
    },
    {
      "cell_type": "code",
      "source": [
        "      # 기울기 # 상수\n",
        "      # 계수   # 절편\n",
        "      # 가중치\n",
        "print(lr.coef_, lr.intercept_)"
      ],
      "metadata": {
        "colab": {
          "base_uri": "https://localhost:8080/"
        },
        "id": "lKys8y3n8qys",
        "outputId": "aaf9832d-5c27-4fd0-e5c4-f276ccad3a64"
      },
      "execution_count": 20,
      "outputs": [
        {
          "output_type": "stream",
          "name": "stdout",
          "text": [
            "[39.01714496] -709.0186449535477\n"
          ]
        }
      ]
    },
    {
      "cell_type": "code",
      "source": [
        "import matplotlib.pyplot as plt\n",
        "\n",
        "fig, ax = plt.subplots(figsize=(10,6))\n",
        "ax.scatter(train_input, train_target)\n",
        "\n",
        "# 50cm 농어 데이터\n",
        "ax.scatter(50,1231,marker='^')\n",
        "\n",
        "# 기울기\n",
        "                # x값 * 기울기 + 상수\n",
        "ax.plot([15,50],[15 * lr.coef_ + lr.intercept_, 50 * lr.coef_ + lr.intercept_])\n",
        "\n",
        "plt.show()"
      ],
      "metadata": {
        "colab": {
          "base_uri": "https://localhost:8080/",
          "height": 374
        },
        "id": "v6LBlX4Y9H0K",
        "outputId": "dad4843d-6633-4a80-e1b0-b774626541f6"
      },
      "execution_count": 21,
      "outputs": [
        {
          "output_type": "display_data",
          "data": {
            "text/plain": [
              "<Figure size 720x432 with 1 Axes>"
            ],
            "image/png": "[encoded data removed]"
          },
          "metadata": {
            "needs_background": "light"
          }
        }
      ]
    },
    {
      "cell_type": "markdown",
      "source": [
        "## 직선의 문제\n",
        "- 15부분 음수가 나옴"
      ],
      "metadata": {
        "id": "eHIsjaMtcQQK"
      }
    },
    {
      "cell_type": "markdown",
      "source": [
        "## 다항회귀(2차방정식)\n",
        "- y=ax^2 + bx + c\n",
        "- 무게 = a길이^2 + b길이\n",
        "- 19.6 * 19.6 --> 384.16"
      ],
      "metadata": {
        "id": "38TzBla6cVQp"
      }
    },
    {
      "cell_type": "code",
      "source": [
        "#길이와 제곱\n",
        "train_poly = np.column_stack((train_input ** 2, train_input))\n",
        "test_poly = np.column_stack((test_input ** 2, test_input))\n",
        "\n",
        "train_poly.shape, test_poly.shape"
      ],
      "metadata": {
        "colab": {
          "base_uri": "https://localhost:8080/"
        },
        "id": "vr73QJFPc7ZY",
        "outputId": "1d596b7b-0211-4157-80dc-7779a9ad9f16"
      },
      "execution_count": 24,
      "outputs": [
        {
          "output_type": "execute_result",
          "data": {
            "text/plain": [
              "((42, 2), (14, 2))"
            ]
          },
          "metadata": {},
          "execution_count": 24
        }
      ]
    },
    {
      "cell_type": "code",
      "source": [
        "lr = LinearRegression()\n",
        "lr.fit(train_poly, train_target)\n",
        "\n",
        "# 농어 50cm 예측\n",
        "print(lr.predict([[50**2,50]]))\n",
        "print(lr.predict([[10**2,10]]))"
      ],
      "metadata": {
        "colab": {
          "base_uri": "https://localhost:8080/"
        },
        "id": "WhtW4Iprdjon",
        "outputId": "090915f9-b46f-42a5-dc62-7c9abe86598b"
      },
      "execution_count": 35,
      "outputs": [
        {
          "output_type": "stream",
          "name": "stdout",
          "text": [
            "[1573.98423528]\n",
            "[1.90417193]\n"
          ]
        }
      ]
    },
    {
      "cell_type": "code",
      "source": [
        "#기울기\n",
        "print(lr.coef_, lr.intercept_)"
      ],
      "metadata": {
        "colab": {
          "base_uri": "https://localhost:8080/"
        },
        "id": "AUI2WBXDd3gR",
        "outputId": "e3c45f89-5d6c-48e3-db7d-c88ecfb4c704"
      },
      "execution_count": 26,
      "outputs": [
        {
          "output_type": "stream",
          "name": "stdout",
          "text": [
            "[  1.01433211 -21.55792498] 116.0502107827827\n"
          ]
        }
      ]
    },
    {
      "cell_type": "markdown",
      "source": [
        "무게 = 1.01 x 길이^2 - 21.6 * 길이 + 116.05"
      ],
      "metadata": {
        "id": "pvAIRL1FeI6C"
      }
    },
    {
      "cell_type": "code",
      "source": [
        "fig, ax = plt.subplots(figsize=(10,6))\n",
        "\n",
        "# 구간별 직선을 그리자.\n",
        "point = np.arange(10,50)\n",
        "\n",
        "# 훈련 세트의 산점도\n",
        "ax.scatter(train_input, train_target)\n",
        "\n",
        "# 2차 방정식 그래프\n",
        "ax.plot(point, 1.01 * point ** 2 - 21.6 * point + 116.05, color='red')\n",
        "\n",
        "ax.scatter(50,1574,marker='^')\n",
        "ax.scatter(10,1.9,marker='^')\n",
        "\n",
        "plt.show()"
      ],
      "metadata": {
        "colab": {
          "base_uri": "https://localhost:8080/",
          "height": 374
        },
        "id": "xq80d10seTC_",
        "outputId": "f3d25149-6c46-4ced-baab-920c1cf6d9c4"
      },
      "execution_count": 36,
      "outputs": [
        {
          "output_type": "display_data",
          "data": {
            "text/plain": [
              "<Figure size 720x432 with 1 Axes>"
            ],
            "image/png": "[encoded data removed]"
          },
          "metadata": {
            "needs_background": "light"
          }
        }
      ]
    },
    {
      "cell_type": "code",
      "source": [
        "lr.score(train_poly, train_target)"
      ],
      "metadata": {
        "colab": {
          "base_uri": "https://localhost:8080/"
        },
        "id": "qK0OIrZqhJu9",
        "outputId": "01fe6402-d500-4bb5-8f5f-4d9b1e20a2ef"
      },
      "execution_count": 39,
      "outputs": [
        {
          "output_type": "execute_result",
          "data": {
            "text/plain": [
              "0.9706807451768623"
            ]
          },
          "metadata": {},
          "execution_count": 39
        }
      ]
    },
    {
      "cell_type": "markdown",
      "source": [
        "## 특성 공학과 규제\n",
        "- 데이터의 특성 2가지만 가지고 활용\n",
        "  + 길이와 무게\n",
        "- 부동산 가격 결정하는 여러 요소들\n",
        "  + 브랜드 / 역세권/ 지하철 / 등등"
      ],
      "metadata": {
        "id": "nJNREV3jhoDI"
      }
    },
    {
      "cell_type": "code",
      "source": [
        "import pandas as pd\n",
        "import numpy as np\n",
        "\n",
        "df = pd.read_csv('https://bit.ly/perch_csv_data')\n",
        "# 농어의 길이, 높이, 너비\n",
        "perch_full = df.to_numpy()\n",
        "\n",
        "# 농어의 무게\n",
        "perch_weight = np.array(\n",
        "    [5.9, 32.0, 40.0, 51.5, 70.0, 100.0, 78.0, 80.0, 85.0, 85.0, \n",
        "     110.0, 115.0, 125.0, 130.0, 120.0, 120.0, 130.0, 135.0, 110.0, \n",
        "     130.0, 150.0, 145.0, 150.0, 170.0, 225.0, 145.0, 188.0, 180.0, \n",
        "     197.0, 218.0, 300.0, 260.0, 265.0, 250.0, 250.0, 300.0, 320.0, \n",
        "     514.0, 556.0, 840.0, 685.0, 700.0, 700.0, 690.0, 900.0, 650.0, \n",
        "     820.0, 850.0, 900.0, 1015.0, 820.0, 1100.0, 1000.0, 1100.0, \n",
        "     1000.0, 1000.0]\n",
        "     )"
      ],
      "metadata": {
        "id": "LucKXaOPhpbg"
      },
      "execution_count": 41,
      "outputs": []
    },
    {
      "cell_type": "markdown",
      "source": [
        "## 세트 분리\n"
      ],
      "metadata": {
        "id": "ONlZMaDrp70B"
      }
    },
    {
      "cell_type": "code",
      "source": [
        "train_input, test_input, train_target, test_target = train_test_split(\n",
        "    perch_full, perch_weight, random_state=42\n",
        ")\n",
        "\n",
        "train_input.shape, test_input.shape, train_target.shape, test_target.shape"
      ],
      "metadata": {
        "colab": {
          "base_uri": "https://localhost:8080/"
        },
        "id": "4GEeUbRIqDar",
        "outputId": "d0a27e20-0ec9-40ba-c7fd-676beb7f7bec"
      },
      "execution_count": 42,
      "outputs": [
        {
          "output_type": "execute_result",
          "data": {
            "text/plain": [
              "((42, 3), (14, 3), (42,), (14,))"
            ]
          },
          "metadata": {},
          "execution_count": 42
        }
      ]
    },
    {
      "cell_type": "markdown",
      "source": [
        "## Scikit-Learn Transformer\n",
        "- 데이터의 특성을 변환 시키는 여러 함수들\n"
      ],
      "metadata": {
        "id": "C2yZnk8ZqdsR"
      }
    },
    {
      "cell_type": "code",
      "source": [
        "from sklearn.preprocessing import PolynomialFeatures\n",
        "\n",
        "poly = PolynomialFeatures()\n",
        "\n",
        "# 2와 3으로 구성된 샘플적용\n",
        "poly.fit([[2,3]])\n",
        "\n",
        "print(poly.transform([[2,3]]))\n",
        "\n",
        "print(poly.transform([[2,3]]))"
      ],
      "metadata": {
        "colab": {
          "base_uri": "https://localhost:8080/"
        },
        "id": "qYRdvRhAq9nU",
        "outputId": "964adf0d-7d92-49d3-9008-588df44543e6"
      },
      "execution_count": 45,
      "outputs": [
        {
          "output_type": "stream",
          "name": "stdout",
          "text": [
            "[[1. 2. 3. 4. 6. 9.]]\n",
            "[[1. 2. 3. 4. 6. 9.]]\n"
          ]
        }
      ]
    },
    {
      "cell_type": "code",
      "source": [
        "poly = PolynomialFeatures(include_bias = False)\n",
        "\n",
        "poly.fit([[2,3]])\n",
        "\n",
        "print(poly.transform([[2,3]]))"
      ],
      "metadata": {
        "colab": {
          "base_uri": "https://localhost:8080/"
        },
        "id": "94bdR4Our4pA",
        "outputId": "3037e4bb-2744-4af9-c8a2-2cd2762bb923"
      },
      "execution_count": 46,
      "outputs": [
        {
          "output_type": "stream",
          "name": "stdout",
          "text": [
            "[[2. 3. 4. 6. 9.]]\n"
          ]
        }
      ]
    },
    {
      "cell_type": "markdown",
      "source": [
        "무게 = a 길이 + b 높이 + c 두께 + d(상수)"
      ],
      "metadata": {
        "id": "SGPLwcaEr_UO"
      }
    },
    {
      "cell_type": "code",
      "source": [
        "poly = PolynomialFeatures(include_bias = False)\n",
        "poly.fit(train_input)\n",
        "\n",
        "train_poly = poly.transform(train_input)\n",
        "train_poly.shape"
      ],
      "metadata": {
        "colab": {
          "base_uri": "https://localhost:8080/"
        },
        "id": "NJSV6PKpsGyO",
        "outputId": "2bfbd7aa-eb4e-4cb3-f47c-0da15b2b06dc"
      },
      "execution_count": 47,
      "outputs": [
        {
          "output_type": "execute_result",
          "data": {
            "text/plain": [
              "(42, 9)"
            ]
          },
          "metadata": {},
          "execution_count": 47
        }
      ]
    },
    {
      "cell_type": "code",
      "source": [
        "train_poly[:1]"
      ],
      "metadata": {
        "colab": {
          "base_uri": "https://localhost:8080/"
        },
        "id": "ZwQXXwk8te5R",
        "outputId": "b99fdc45-66c4-45c4-e50c-3d8e2f958c41"
      },
      "execution_count": 51,
      "outputs": [
        {
          "output_type": "execute_result",
          "data": {
            "text/plain": [
              "array([[ 19.6   ,   5.14  ,   3.04  , 384.16  , 100.744 ,  59.584 ,\n",
              "         26.4196,  15.6256,   9.2416]])"
            ]
          },
          "metadata": {},
          "execution_count": 51
        }
      ]
    },
    {
      "cell_type": "code",
      "source": [
        "poly.get_feature_names_out()"
      ],
      "metadata": {
        "colab": {
          "base_uri": "https://localhost:8080/"
        },
        "id": "Awwt-fHZsRMN",
        "outputId": "6d090a74-b814-4138-ff8b-4a8140e4fd3c"
      },
      "execution_count": 49,
      "outputs": [
        {
          "output_type": "execute_result",
          "data": {
            "text/plain": [
              "array(['x0', 'x1', 'x2', 'x0^2', 'x0 x1', 'x0 x2', 'x1^2', 'x1 x2',\n",
              "       'x2^2'], dtype=object)"
            ]
          },
          "metadata": {},
          "execution_count": 49
        }
      ]
    },
    {
      "cell_type": "code",
      "source": [
        "test_poly = poly.transform(test_input)\n",
        "test_poly.shape"
      ],
      "metadata": {
        "colab": {
          "base_uri": "https://localhost:8080/"
        },
        "id": "Y3QFeOgHuE9V",
        "outputId": "2720473e-79ed-4f31-b075-8a16ebcafea2"
      },
      "execution_count": 52,
      "outputs": [
        {
          "output_type": "execute_result",
          "data": {
            "text/plain": [
              "(14, 9)"
            ]
          },
          "metadata": {},
          "execution_count": 52
        }
      ]
    },
    {
      "cell_type": "code",
      "source": [
        "lr = LinearRegression()\n",
        "lr.fit(train_poly, train_target)\n",
        "\n",
        "print(lr.score(train_poly, train_target))\n",
        "print(lr.score(test_poly, test_target))"
      ],
      "metadata": {
        "colab": {
          "base_uri": "https://localhost:8080/"
        },
        "id": "kCU6V4xFuKGU",
        "outputId": "1591a9de-a77a-44b8-ff1c-c6e5d6d8c608"
      },
      "execution_count": 53,
      "outputs": [
        {
          "output_type": "stream",
          "name": "stdout",
          "text": [
            "0.9903183436982124\n",
            "0.9714559911594134\n"
          ]
        }
      ]
    },
    {
      "cell_type": "code",
      "source": [
        "#사용자 정의 함수 또는 반복문\n",
        "for idx in range(2,5):\n",
        "  poly = PolynomialFeatures(degree = idx ,include_bias = False)\n",
        "  poly.fit(train_input)\n",
        "  train_poly = poly.transform(train_input)\n",
        "  test_poly = poly.transform(test_input)\n",
        "  lr = LinearRegression()\n",
        "  lr.fit(train_poly, train_target)\n",
        "\n",
        "  print(\"Degree :\", idx)\n",
        "  print(lr.score(train_poly, train_target))\n",
        "  print(lr.score(test_poly, test_target))\n",
        "  print('-'*30)"
      ],
      "metadata": {
        "id": "VFF8WeZYvSx4"
      },
      "execution_count": null,
      "outputs": []
    },
    {
      "cell_type": "markdown",
      "source": [
        "## 규제 - Regularization\n",
        "- 훈련 세트를 과도하게 학습하지 않도록 하는게 목표\n",
        "- 선형회귀 : 기울기의 크기를 조절\n",
        "- https://scikit-learn.org/stable/modules/generated/sklearn.preprocessing.StandardScaler.html#sklearn.preprocessing.StandardScaler"
      ],
      "metadata": {
        "id": "fUDeHT0dxU5m"
      }
    },
    {
      "cell_type": "code",
      "source": [
        "from sklearn.preprocessing import StandardScaler\n",
        "ss = StandardScaler() # 표준점수\n",
        "ss.fit(train_poly)\n",
        "\n",
        "train_scaled = ss.transform(train_poly)\n",
        "test_scaled = ss.transform(test_poly)\n"
      ],
      "metadata": {
        "colab": {
          "base_uri": "https://localhost:8080/"
        },
        "id": "v9--HafTyjUK",
        "outputId": "fd04d572-61f5-4900-b50a-9b65b482365c"
      },
      "execution_count": 55,
      "outputs": [
        {
          "output_type": "execute_result",
          "data": {
            "text/plain": [
              "array([[-1.01339619, -1.01007487, -1.01952321, -0.9549757 , -0.9496784 ,\n",
              "        -0.95745849, -0.93942079, -0.94342509, -0.94100107],\n",
              "       [-0.73842893, -0.75254307, -0.74466913, -0.76472563, -0.7717585 ,\n",
              "        -0.77238267, -0.7747325 , -0.77298293, -0.76716811],\n",
              "       [-1.11650891, -0.98919391, -0.97371419, -1.02065999, -0.9714645 ,\n",
              "        -0.97031097, -0.92689165, -0.92331614, -0.91379551],\n",
              "       [-1.26544951, -1.20148364, -1.07678447, -1.11008743, -1.0794873 ,\n",
              "        -1.04481394, -1.04749571, -1.01503633, -0.97401432],\n",
              "       [ 0.86554673,  0.89357239,  1.09914363,  0.78258063,  0.79878122,\n",
              "         0.93990033,  0.80045116,  0.93459078,  1.05668676]])"
            ]
          },
          "metadata": {},
          "execution_count": 55
        }
      ]
    },
    {
      "cell_type": "markdown",
      "source": [
        "## 릿지 회귀, 라쏘회귀\n",
        "- 릿지 : 계수를 제곱한 값을 기준으로 규제를 적용\n",
        "- 라쏘 : 계소의 절댓값을 기준으로 규제를 적용"
      ],
      "metadata": {
        "id": "XU08p3Xl3ffJ"
      }
    },
    {
      "cell_type": "markdown",
      "source": [
        "## 릿지 회귀\n",
        "- https://scikit-learn.org/stable/modules/linear_model.html#ridge-regression-and-classification"
      ],
      "metadata": {
        "id": "qbOOK26t4rDG"
      }
    },
    {
      "cell_type": "code",
      "source": [
        "from sklearn.linear_model import Ridge\n",
        "ridge = Ridge()\n",
        "ridge.fit(train_scaled, train_target)\n",
        "print(ridge.score(train_scaled, train_target))\n",
        "print(ridge.score(test_scaled, test_target))"
      ],
      "metadata": {
        "colab": {
          "base_uri": "https://localhost:8080/"
        },
        "id": "RtKDfXNv4qSS",
        "outputId": "6f59698e-0159-4604-89ea-0769a385b954"
      },
      "execution_count": 56,
      "outputs": [
        {
          "output_type": "stream",
          "name": "stdout",
          "text": [
            "0.9857915060511934\n",
            "0.9835057194929057\n"
          ]
        }
      ]
    },
    {
      "cell_type": "markdown",
      "source": [
        "## 최적의 규제의 강도를 찾아보자!\n",
        "- 하이퍼파라미터 튜닝\n",
        "- 릿지에서는 alpha값 조정을 통해 계수를 규제한다.\n",
        "  - alpha값이 크면 규제강도는 강해짐\n",
        "  - alpha값이 작으면 규제강도는 약해짐"
      ],
      "metadata": {
        "id": "PPB-IQjW5uJx"
      }
    },
    {
      "cell_type": "code",
      "source": [
        "import matplotlib.pyplot as plt\n",
        "\n",
        "train_score = []\n",
        "test_score = []\n",
        "\n",
        "alpha_values = [0.001, 0.01, 0.1, 1, 10, 100, 1000]\n",
        "for alpha in alpha_values:\n",
        "  # 릿지 모델\n",
        "  ridge = Ridge(alpha=alpha)\n",
        "  ridge.fit(train_scaled, train_target)\n",
        "\n",
        "  #훈련 점수와 테스트 점수를 저장\n",
        "  train_score.append(ridge.score(train_scaled, train_target))\n",
        "  test_score.append(ridge.score(test_scaled, test_target))\n",
        "print(train_score)\n",
        "print(test_score)\n",
        "\n",
        "fig, ax = plt.subplots(figsize=(10, 6))\n",
        "ax.plot(np.log10(alpha_values), train_score)\n",
        "ax.plot(np.log10(alpha_values), test_score)\n",
        "ax.set_xlabel('alpha')\n",
        "ax.set_ylabel('R^2') # 결정계수\n",
        "\n",
        "plt.show()"
      ],
      "metadata": {
        "colab": {
          "base_uri": "https://localhost:8080/",
          "height": 425
        },
        "id": "1vM3M43C5tR-",
        "outputId": "e24a67df-656c-45d7-a71f-cb7d9ff682db"
      },
      "execution_count": 69,
      "outputs": [
        {
          "output_type": "stream",
          "name": "stdout",
          "text": [
            "[0.9897531865574959, 0.9893635642716538, 0.9889354346720892, 0.9857915060511934, 0.9776772831444959, 0.9325445748770714, 0.45799929669378614]\n",
            "[0.9832623296779315, 0.983937539450387, 0.9856564835209134, 0.9835057194929057, 0.9660894961121519, 0.9399126744040402, 0.4534666148372245]\n"
          ]
        },
        {
          "output_type": "display_data",
          "data": {
            "text/plain": [
              "<Figure size 720x432 with 1 Axes>"
            ],
            "image/png": "[encoded data removed]"
          },
          "metadata": {
            "needs_background": "light"
          }
        }
      ]
    },
    {
      "cell_type": "markdown",
      "source": [
        "- 가장 좋은 결과를 주는 규제의 강도를 찾은 것\n",
        "- --> 최종 모델이 됨."
      ],
      "metadata": {
        "id": "-_G2W1yL8OPt"
      }
    },
    {
      "cell_type": "code",
      "source": [
        "from sklearn.linear_model import Ridge\n",
        "ridge = Ridge(alpha = 0.1)\n",
        "ridge.fit(train_scaled, train_target)\n",
        "print(ridge.score(train_scaled, train_target))\n",
        "print(ridge.score(test_scaled, test_target))"
      ],
      "metadata": {
        "colab": {
          "base_uri": "https://localhost:8080/"
        },
        "id": "tnNX0Mre8Vzy",
        "outputId": "f69b6cff-3f85-4532-dc4f-654953c34072"
      },
      "execution_count": 65,
      "outputs": [
        {
          "output_type": "stream",
          "name": "stdout",
          "text": [
            "0.9889354346720892\n",
            "0.9856564835209134\n"
          ]
        }
      ]
    },
    {
      "cell_type": "markdown",
      "source": [
        "## Lasso\n",
        "- https://scikit-learn.org/stable/modules/generated/sklearn.linear_model.Lasso.html#sklearn.linear_model.Lasso"
      ],
      "metadata": {
        "id": "PGALkvI-9o7t"
      }
    },
    {
      "cell_type": "code",
      "source": [
        "from sklearn.linear_model import Lasso\n",
        "lasso = Lasso()\n",
        "lasso.fit(train_scaled, train_target)\n",
        "print(lasso.score(train_scaled, train_target))\n",
        "print(lasso.score(test_scaled, test_target))"
      ],
      "metadata": {
        "colab": {
          "base_uri": "https://localhost:8080/"
        },
        "id": "6FKFF-vu8jvm",
        "outputId": "5219533d-f7a6-4c5c-bae7-f3602d94aed1"
      },
      "execution_count": 75,
      "outputs": [
        {
          "output_type": "stream",
          "name": "stdout",
          "text": [
            "0.986591255464559\n",
            "0.9846056618190413\n"
          ]
        }
      ]
    },
    {
      "cell_type": "code",
      "source": [
        "import matplotlib.pyplot as plt\n",
        "\n",
        "train_score = []\n",
        "test_score = []\n",
        "\n",
        "alpha_values = [0.001, 0.01, 0.1, 1,10, 100]\n",
        "for alpha in alpha_values:\n",
        "  # 라쏘 모델\n",
        "  lasso = Lasso(alpha =alpha)\n",
        "  lasso.fit(train_scaled, train_target)\n",
        "\n",
        "  #훈련 점수와 테스트 점수를 저장\n",
        "  train_score.append(lasso.score(train_scaled, train_target))\n",
        "  test_score.append(lasso.score(test_scaled, test_target))\n",
        "print(train_score)\n",
        "print(test_score)\n",
        "\n",
        "fig, ax = plt.subplots(figsize=(10, 6))\n",
        "ax.plot(np.log10(alpha_values), train_score)\n",
        "ax.plot(np.log10(alpha_values), test_score)\n",
        "ax.set_xlabel('alpha') # 라쏘회귀 규제의 강도\n",
        "ax.set_ylabel('R^2') # 결정계수\n",
        "\n",
        "plt.show()"
      ],
      "metadata": {
        "colab": {
          "base_uri": "https://localhost:8080/",
          "height": 555
        },
        "id": "rshzNIZg9AJp",
        "outputId": "d1d903bc-66a5-4178-a991-76acbe57d7cd"
      },
      "execution_count": 79,
      "outputs": [
        {
          "output_type": "stream",
          "name": "stderr",
          "text": [
            "/usr/local/lib/python3.7/dist-packages/sklearn/linear_model/_coordinate_descent.py:648: ConvergenceWarning: Objective did not converge. You might want to increase the number of iterations, check the scale of the features or consider increasing regularisation. Duality gap: 2.903e+04, tolerance: 5.183e+02\n",
            "  coef_, l1_reg, l2_reg, X, y, max_iter, tol, rng, random, positive\n",
            "/usr/local/lib/python3.7/dist-packages/sklearn/linear_model/_coordinate_descent.py:648: ConvergenceWarning: Objective did not converge. You might want to increase the number of iterations, check the scale of the features or consider increasing regularisation. Duality gap: 2.686e+04, tolerance: 5.183e+02\n",
            "  coef_, l1_reg, l2_reg, X, y, max_iter, tol, rng, random, positive\n",
            "/usr/local/lib/python3.7/dist-packages/sklearn/linear_model/_coordinate_descent.py:648: ConvergenceWarning: Objective did not converge. You might want to increase the number of iterations, check the scale of the features or consider increasing regularisation. Duality gap: 2.546e+03, tolerance: 5.183e+02\n",
            "  coef_, l1_reg, l2_reg, X, y, max_iter, tol, rng, random, positive\n"
          ]
        },
        {
          "output_type": "stream",
          "name": "stdout",
          "text": [
            "[0.9887077130101652, 0.988705782781804, 0.9889737410220835, 0.986591255464559, 0.9827254657543517, 0.9021189412769901]\n",
            "[0.9826276478073225, 0.9826606499192427, 0.9845845445966906, 0.9846056618190413, 0.9778291802263332, 0.9064571064580721]\n"
          ]
        },
        {
          "output_type": "display_data",
          "data": {
            "text/plain": [
              "<Figure size 720x432 with 1 Axes>"
            ],
            "image/png": "[encoded data removed]"
          },
          "metadata": {
            "needs_background": "light"
          }
        }
      ]
    }
  ]
}