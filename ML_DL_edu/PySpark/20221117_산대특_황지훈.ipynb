{
  "cells": [
    {
      "cell_type": "markdown",
      "id": "c90d8757",
      "metadata": {
        "id": "c90d8757",
        "papermill": {
          "duration": 0.097221,
          "end_time": "2022-04-12T03:17:30.871197",
          "exception": false,
          "start_time": "2022-04-12T03:17:30.773976",
          "status": "completed"
        },
        "tags": []
      },
      "source": [
        "# 프로젝트 개요\n",
        "- 강의명 : (산대특)_공공데이터 활용 빅데이터 분석 및 시각화 전문가 과정 육성\n",
        "- 교과목명 : 빅데이터 시스템 구축\n",
        "- 프로젝트 주제 : PySpark 설치 및 Spark를 활용한 머신러닝 개발\n",
        "- 프로젝트 마감일 : 2022년 11월 17일 목요일\n",
        "- 수강생명 : 황지훈"
      ]
    },
    {
      "cell_type": "markdown",
      "source": [
        "---\n",
        "\n",
        "## Step 1. PySpark 설치\n",
        "- PySpark를 설치하는 코드를 작성한다. \n",
        "  + 조건 1. JAVA 설치\n",
        "  + 조건 2. Spark 설치 (Spark 3.2.0 버전)\n",
        "    * 참조 : https://spark.apache.org/downloads.html\n",
        "  + 조건 3. 환경변수\n",
        "  + 조건 4. PySpark 라이브러리 불러오기"
      ],
      "metadata": {
        "id": "weippwQiQO_r"
      },
      "id": "weippwQiQO_r"
    },
    {
      "cell_type": "markdown",
      "source": [
        "- JAVA, Spark 설치 후 환경변수 설정"
      ],
      "metadata": {
        "id": "UYzaNjF_dk30"
      },
      "id": "UYzaNjF_dk30"
    },
    {
      "cell_type": "code",
      "source": [
        "!apt-get install openjdk-8-jdk-headless -qq > /dev/null\n",
        "\n",
        "!wget -q https://archive.apache.org/dist/spark/spark-3.2.0/spark-3.2.0-bin-hadoop3.2.tgz\n",
        "\n",
        "!tar xf spark-3.2.0-bin-hadoop3.2.tgz"
      ],
      "metadata": {
        "id": "-dTJcD9GQVjN"
      },
      "id": "-dTJcD9GQVjN",
      "execution_count": null,
      "outputs": []
    },
    {
      "cell_type": "code",
      "source": [
        "import os\n",
        "os.environ[\"JAVA_HOME\"] = \"/usr/lib/jvm/java-8-openjdk-amd64\"\n",
        "os.environ[\"SPARK_HOME\"] = '/content/spark-3.2.0-bin-hadoop3.2'"
      ],
      "metadata": {
        "id": "W2oUADhCRnu1"
      },
      "id": "W2oUADhCRnu1",
      "execution_count": null,
      "outputs": []
    },
    {
      "cell_type": "markdown",
      "source": [
        "- PySpark 설치 후 라이브러리 불러오기"
      ],
      "metadata": {
        "id": "_qXQewypSFzs"
      },
      "id": "_qXQewypSFzs"
    },
    {
      "cell_type": "code",
      "source": [
        "!pip install pyspark==3.2.0"
      ],
      "metadata": {
        "colab": {
          "base_uri": "https://localhost:8080/"
        },
        "id": "keDUDJr9SJaE",
        "outputId": "86615b72-012d-400e-9408-82743f14e21c"
      },
      "id": "keDUDJr9SJaE",
      "execution_count": null,
      "outputs": [
        {
          "output_type": "stream",
          "name": "stdout",
          "text": [
            "Looking in indexes: https://pypi.org/simple, https://us-python.pkg.dev/colab-wheels/public/simple/\n",
            "Collecting pyspark==3.2.0\n",
            "  Downloading pyspark-3.2.0.tar.gz (281.3 MB)\n",
            "\u001b[K     |████████████████████████████████| 281.3 MB 43 kB/s \n",
            "\u001b[?25hCollecting py4j==0.10.9.2\n",
            "  Downloading py4j-0.10.9.2-py2.py3-none-any.whl (198 kB)\n",
            "\u001b[K     |████████████████████████████████| 198 kB 65.7 MB/s \n",
            "\u001b[?25hBuilding wheels for collected packages: pyspark\n",
            "  Building wheel for pyspark (setup.py) ... \u001b[?25l\u001b[?25hdone\n",
            "  Created wheel for pyspark: filename=pyspark-3.2.0-py2.py3-none-any.whl size=281805913 sha256=6daee409205daf343a85304959d6df044d0b12f86000468047ec095118c03fa1\n",
            "  Stored in directory: /root/.cache/pip/wheels/0b/de/d2/9be5d59d7331c6c2a7c1b6d1a4f463ce107332b1ecd4e80718\n",
            "Successfully built pyspark\n",
            "Installing collected packages: py4j, pyspark\n",
            "Successfully installed py4j-0.10.9.2 pyspark-3.2.0\n"
          ]
        }
      ]
    },
    {
      "cell_type": "code",
      "source": [
        "import pyspark \n",
        "print(pyspark.__version__)"
      ],
      "metadata": {
        "colab": {
          "base_uri": "https://localhost:8080/"
        },
        "id": "1NrxiautShFz",
        "outputId": "d5e29b75-dda9-453f-c33d-fd9165604607"
      },
      "id": "1NrxiautShFz",
      "execution_count": null,
      "outputs": [
        {
          "output_type": "stream",
          "name": "stdout",
          "text": [
            "3.2.0\n"
          ]
        }
      ]
    },
    {
      "cell_type": "markdown",
      "source": [
        "---\n",
        "\n",
        "## Step 2. Spark 세션 생성 작성\n",
        "- Spark 세션을 생성하는 코드를 작성한다. \n",
        "  + 조건 1. master: local[1]\n",
        "  + 조건 2. appName: human\n",
        "  + 조건 3. spark 버전 확인"
      ],
      "metadata": {
        "id": "NNcd_QQ8UQl2"
      },
      "id": "NNcd_QQ8UQl2"
    },
    {
      "cell_type": "code",
      "source": [
        "from pyspark.sql import SparkSession\n",
        "myspark = SparkSession.builder.master('local[1]').appName('human').getOrCreate()\n",
        "print(myspark.version)"
      ],
      "metadata": {
        "colab": {
          "base_uri": "https://localhost:8080/"
        },
        "id": "6ww0QUQRUlcU",
        "outputId": "5efbdb10-9f6d-433c-92d7-b1fcf02724e8"
      },
      "id": "6ww0QUQRUlcU",
      "execution_count": null,
      "outputs": [
        {
          "output_type": "stream",
          "name": "stdout",
          "text": [
            "3.2.0\n"
          ]
        }
      ]
    },
    {
      "cell_type": "markdown",
      "id": "6IfcJyN5Z1JG",
      "metadata": {
        "id": "6IfcJyN5Z1JG"
      },
      "source": [
        "---\n",
        "\n",
        "## Step 3. 구글 드라이브 연동 및 파일 확인\n",
        "- 구글 드라이브에 data 폴더와 연동하여 실제 데이터가 존재하는지 출력한다. \n",
        "  + 처음 4개만 출력한다. "
      ]
    },
    {
      "cell_type": "code",
      "execution_count": null,
      "id": "0ciLNT1dKiFJ",
      "metadata": {
        "colab": {
          "base_uri": "https://localhost:8080/"
        },
        "id": "0ciLNT1dKiFJ",
        "outputId": "cdbe1f9d-e7e0-45f1-a377-c87909d7b1d1"
      },
      "outputs": [
        {
          "output_type": "stream",
          "name": "stdout",
          "text": [
            "Mounted at /content/drive\n"
          ]
        }
      ],
      "source": [
        "from google.colab import drive\n",
        "drive.mount(\"/content/drive\")"
      ]
    },
    {
      "cell_type": "code",
      "execution_count": null,
      "id": "7j4iQgdOK6bT",
      "metadata": {
        "colab": {
          "base_uri": "https://localhost:8080/"
        },
        "id": "7j4iQgdOK6bT",
        "outputId": "66f0e1a1-0e58-415c-92b8-baf87cb9fbcf"
      },
      "outputs": [
        {
          "output_type": "stream",
          "name": "stdout",
          "text": [
            "+---+---+---+-------+------+---+----+------+--------+-----+\n",
            "|mon|dom|dow|carrier|flight|org|mile|depart|duration|delay|\n",
            "+---+---+---+-------+------+---+----+------+--------+-----+\n",
            "| 11| 20|  6|     US|    19|JFK|2153|  9.48|     351| null|\n",
            "|  0| 22|  2|     UA|  1107|ORD| 316| 16.33|      82|   30|\n",
            "|  2| 20|  4|     UA|   226|SFO| 337|  6.17|      82|   -8|\n",
            "|  9| 13|  1|     AA|   419|ORD|1236| 10.33|     195|   -5|\n",
            "+---+---+---+-------+------+---+----+------+--------+-----+\n",
            "only showing top 4 rows\n",
            "\n"
          ]
        }
      ],
      "source": [
        "import glob\n",
        "import matplotlib.pyplot as plt\n",
        "import matplotlib.image as mpimg\n",
        "\n",
        "DATA_PATH = \"/content/drive/MyDrive/Colab Notebooks/산대특/961027hjh/data/\"\n",
        "\n",
        "# 데이터 4개만 출력하기\n",
        "flights = myspark.read.csv(DATA_PATH + 'flights.csv',\n",
        "                         sep=',',\n",
        "                         header=True,\n",
        "                         inferSchema=True,\n",
        "                         nullValue='NA')\n",
        "\n",
        "flights.show(4)"
      ]
    },
    {
      "cell_type": "markdown",
      "id": "CLKLoMHzN2xm",
      "metadata": {
        "id": "CLKLoMHzN2xm"
      },
      "source": [
        "---\n",
        "\n",
        "## Step 4. 데이터 시각화\n",
        "- 주어진 스파크 데이터를 pandas로 변환한 후, 시각화를 작성한다. \n",
        "- 종속변수는 duration이고, 나머지는 모두 독립변수로 처리한다. \n",
        "- 그래프 종류는 다음과 같다.\n",
        "  + 산점도 1개\n",
        "  + 박스플롯 1개\n",
        "  + 히스토그램 1개\n",
        "  + 막대그래프 (count plot) 1개"
      ]
    },
    {
      "cell_type": "code",
      "execution_count": null,
      "id": "5gGJnUl6eR-m",
      "metadata": {
        "colab": {
          "base_uri": "https://localhost:8080/"
        },
        "id": "5gGJnUl6eR-m",
        "outputId": "684fc748-4609-4407-d16a-dd20dbd58d1a"
      },
      "outputs": [
        {
          "output_type": "stream",
          "name": "stdout",
          "text": [
            "(50000, 10)\n"
          ]
        }
      ],
      "source": [
        "import pandas as pd \n",
        "import seaborn as sns \n",
        "import matplotlib.pyplot as plt\n",
        "\n",
        "data = flights.toPandas()\n",
        "print(data.shape)"
      ]
    },
    {
      "cell_type": "code",
      "source": [
        "# 결측치 제거\n",
        "data2 = data.dropna(axis = 0)\n",
        "print(data2.shape)"
      ],
      "metadata": {
        "colab": {
          "base_uri": "https://localhost:8080/"
        },
        "id": "r0nSaNWSe14B",
        "outputId": "c831a233-03a9-4a2f-eae5-71a709474312"
      },
      "id": "r0nSaNWSe14B",
      "execution_count": null,
      "outputs": [
        {
          "output_type": "stream",
          "name": "stdout",
          "text": [
            "(47022, 10)\n"
          ]
        }
      ]
    },
    {
      "cell_type": "code",
      "source": [
        "# 산점도\n",
        "plt.scatter(data2['duration'], data2['flight'], alpha = 0.2)\n",
        "plt.scatter(data2['duration'], data2['mile'], alpha = 0.2)\n",
        "plt.show()"
      ],
      "metadata": {
        "colab": {
          "base_uri": "https://localhost:8080/",
          "height": 265
        },
        "id": "oRq1Xdj-0FE8",
        "outputId": "e1255cb5-b2ec-4646-b701-3b7b546fe1c7"
      },
      "id": "oRq1Xdj-0FE8",
      "execution_count": null,
      "outputs": [
        {
          "output_type": "display_data",
          "data": {
            "text/plain": [
              "<Figure size 432x288 with 1 Axes>"
            ],
            "image/png": "[encoded data removed]"
          },
          "metadata": {
            "needs_background": "light"
          }
        }
      ]
    },
    {
      "cell_type": "code",
      "source": [
        "# 박스플롯\n",
        "data2['duration'].plot(kind='box')\n",
        "plt.show()"
      ],
      "metadata": {
        "colab": {
          "base_uri": "https://localhost:8080/",
          "height": 265
        },
        "id": "j7YGRW6NgFcL",
        "outputId": "5cd070db-6855-4710-ec8a-e483065661c5"
      },
      "id": "j7YGRW6NgFcL",
      "execution_count": null,
      "outputs": [
        {
          "output_type": "display_data",
          "data": {
            "text/plain": [
              "<Figure size 432x288 with 1 Axes>"
            ],
            "image/png": "[encoded data removed]"
          },
          "metadata": {
            "needs_background": "light"
          }
        }
      ]
    },
    {
      "cell_type": "code",
      "source": [
        "# 히스토그램\n",
        "data2['duration'].plot(kind='hist')\n",
        "plt.show()"
      ],
      "metadata": {
        "colab": {
          "base_uri": "https://localhost:8080/",
          "height": 265
        },
        "id": "RmOXnv1mhSTk",
        "outputId": "c37cb3ff-4167-49e0-f01f-0802f33ff4cc"
      },
      "id": "RmOXnv1mhSTk",
      "execution_count": null,
      "outputs": [
        {
          "output_type": "display_data",
          "data": {
            "text/plain": [
              "<Figure size 432x288 with 1 Axes>"
            ],
            "image/png": "[encoded data removed]"
          },
          "metadata": {
            "needs_background": "light"
          }
        }
      ]
    },
    {
      "cell_type": "code",
      "source": [
        "# 막대그래프\n",
        "sns.countplot(data=data2, x=\"duration\")\n",
        "plt.show()"
      ],
      "metadata": {
        "colab": {
          "base_uri": "https://localhost:8080/",
          "height": 280
        },
        "id": "O6B0nD_G3JE6",
        "outputId": "1a55c153-b366-4795-efb1-795ce6f8d8e8"
      },
      "id": "O6B0nD_G3JE6",
      "execution_count": null,
      "outputs": [
        {
          "output_type": "display_data",
          "data": {
            "text/plain": [
              "<Figure size 432x288 with 1 Axes>"
            ],
            "image/png": "[encoded data removed]"
          },
          "metadata": {
            "needs_background": "light"
          }
        }
      ]
    },
    {
      "cell_type": "markdown",
      "source": [
        "---\n",
        "\n",
        "## Step 5. Spark Feature Enginnering\n",
        "- flgiths 데이터를 활용하여 각 조건에 맞추어 Feature Engineering을 진행한다. "
      ],
      "metadata": {
        "id": "lGZlrGsc5ivw"
      },
      "id": "lGZlrGsc5ivw"
    },
    {
      "cell_type": "markdown",
      "source": [
        "- 조건 1. 결측치 및 컬럼 제거\n",
        "  + 결측치 제거\n",
        "  + flight 컬럼 제거"
      ],
      "metadata": {
        "id": "I3MXAp8d7Sqp"
      },
      "id": "I3MXAp8d7Sqp"
    },
    {
      "cell_type": "code",
      "source": [
        "# 결측치 제거\n",
        "print((flights.count(), len(flights.columns)))"
      ],
      "metadata": {
        "colab": {
          "base_uri": "https://localhost:8080/"
        },
        "id": "a6ZqPyo57jGo",
        "outputId": "d8fa0244-1d5e-43db-c8fc-dcd9ab62b90a"
      },
      "id": "a6ZqPyo57jGo",
      "execution_count": null,
      "outputs": [
        {
          "output_type": "stream",
          "name": "stdout",
          "text": [
            "(50000, 10)\n"
          ]
        }
      ]
    },
    {
      "cell_type": "code",
      "source": [
        "flights2 = flights.dropna()\n",
        "print((flights2.count(), len(flights2.columns)))"
      ],
      "metadata": {
        "colab": {
          "base_uri": "https://localhost:8080/"
        },
        "id": "V645_5-D76_Q",
        "outputId": "30732877-96b6-4dd7-d4fb-5bc18991db5e"
      },
      "id": "V645_5-D76_Q",
      "execution_count": null,
      "outputs": [
        {
          "output_type": "stream",
          "name": "stdout",
          "text": [
            "(47022, 10)\n"
          ]
        }
      ]
    },
    {
      "cell_type": "code",
      "source": [
        "# flight 컬럼 제거\n",
        "flights3 = flights2.drop('flight')\n",
        "print((flights3.count(), len(flights3.columns)))"
      ],
      "metadata": {
        "colab": {
          "base_uri": "https://localhost:8080/"
        },
        "id": "f6Iectse8GYh",
        "outputId": "77fe3a7f-0277-47cc-f4c9-e88434df7e13"
      },
      "id": "f6Iectse8GYh",
      "execution_count": null,
      "outputs": [
        {
          "output_type": "stream",
          "name": "stdout",
          "text": [
            "(47022, 9)\n"
          ]
        }
      ]
    },
    {
      "cell_type": "markdown",
      "source": [
        "- 조건 2. km 컬럼 생성\n",
        "  + miles로 된 컬럼을 km으로 변경하도록 한다. 대신, mile 컬럼은 제거한다. "
      ],
      "metadata": {
        "id": "GBHe8q4u8LJS"
      },
      "id": "GBHe8q4u8LJS"
    },
    {
      "cell_type": "code",
      "source": [
        "from pyspark.sql.functions import round\n",
        "\n",
        "flights4 = flights3.withColumn('km', round(flights3.mile * 1.60934, 0)).drop('mile')\n",
        "print((flights4.count(), len(flights4.columns)))\n",
        "print(flights4.show(6))"
      ],
      "metadata": {
        "colab": {
          "base_uri": "https://localhost:8080/"
        },
        "id": "fzqQ4N0n8YZ3",
        "outputId": "c4e18d3b-5e99-4574-be02-10764f9577f1"
      },
      "id": "fzqQ4N0n8YZ3",
      "execution_count": null,
      "outputs": [
        {
          "output_type": "stream",
          "name": "stdout",
          "text": [
            "(47022, 9)\n",
            "+---+---+---+-------+---+------+--------+-----+------+\n",
            "|mon|dom|dow|carrier|org|depart|duration|delay|    km|\n",
            "+---+---+---+-------+---+------+--------+-----+------+\n",
            "|  0| 22|  2|     UA|ORD| 16.33|      82|   30| 509.0|\n",
            "|  2| 20|  4|     UA|SFO|  6.17|      82|   -8| 542.0|\n",
            "|  9| 13|  1|     AA|ORD| 10.33|     195|   -5|1989.0|\n",
            "|  5|  2|  1|     UA|SFO|  7.98|     102|    2| 885.0|\n",
            "|  7|  2|  6|     AA|ORD| 10.83|     135|   54|1180.0|\n",
            "|  1| 16|  6|     UA|ORD|   8.0|     232|   -7|2317.0|\n",
            "+---+---+---+-------+---+------+--------+-----+------+\n",
            "only showing top 6 rows\n",
            "\n",
            "None\n"
          ]
        }
      ]
    },
    {
      "cell_type": "markdown",
      "source": [
        "- 조건 3. 원핫인코딩\n",
        "  + carrier와 org 컬럼은 모두 문자열이다. "
      ],
      "metadata": {
        "id": "RG-q--Mg-t0r"
      },
      "id": "RG-q--Mg-t0r"
    },
    {
      "cell_type": "code",
      "source": [
        "from pyspark.ml.feature import StringIndexer\n",
        "\n",
        "# idx칼럼 변환\n",
        "carrier_indexer = StringIndexer(inputCol='carrier', outputCol='carrier_idx')\n",
        "carrier_indexer_model = carrier_indexer.fit(flights4)\n",
        "\n",
        "org_indexer = StringIndexer(inputCol='org', outputCol='org_idx')\n",
        "org_indexer_model = org_indexer.fit(flights4)\n",
        "\n",
        "flights5 = carrier_indexer_model.transform(flights4)\n",
        "flights5 = org_indexer_model.transform(flights5)\n",
        "\n",
        "print((flights5.count(), len(flights5.columns)))\n",
        "print(flights5.show(6))"
      ],
      "metadata": {
        "colab": {
          "base_uri": "https://localhost:8080/"
        },
        "id": "WkFRr9Rj_CA0",
        "outputId": "019b8c7e-aca8-426c-ab5d-4276a3507d54"
      },
      "id": "WkFRr9Rj_CA0",
      "execution_count": null,
      "outputs": [
        {
          "output_type": "stream",
          "name": "stdout",
          "text": [
            "(47022, 11)\n",
            "+---+---+---+-------+---+------+--------+-----+------+-----------+-------+\n",
            "|mon|dom|dow|carrier|org|depart|duration|delay|    km|carrier_idx|org_idx|\n",
            "+---+---+---+-------+---+------+--------+-----+------+-----------+-------+\n",
            "|  0| 22|  2|     UA|ORD| 16.33|      82|   30| 509.0|        0.0|    0.0|\n",
            "|  2| 20|  4|     UA|SFO|  6.17|      82|   -8| 542.0|        0.0|    1.0|\n",
            "|  9| 13|  1|     AA|ORD| 10.33|     195|   -5|1989.0|        1.0|    0.0|\n",
            "|  5|  2|  1|     UA|SFO|  7.98|     102|    2| 885.0|        0.0|    1.0|\n",
            "|  7|  2|  6|     AA|ORD| 10.83|     135|   54|1180.0|        1.0|    0.0|\n",
            "|  1| 16|  6|     UA|ORD|   8.0|     232|   -7|2317.0|        0.0|    0.0|\n",
            "+---+---+---+-------+---+------+--------+-----+------+-----------+-------+\n",
            "only showing top 6 rows\n",
            "\n",
            "None\n"
          ]
        }
      ]
    },
    {
      "cell_type": "code",
      "source": [
        "from pyspark.ml.feature import OneHotEncoder\n",
        "\n",
        "# dummy칼럼 변환\n",
        "org_onehot = OneHotEncoder(inputCols=['org_idx'], outputCols=['org_dummy'])\n",
        "org_onehot = org_onehot.fit(flights5)\n",
        "flights6 = org_onehot.transform(flights5)\n",
        "\n",
        "carrier_onehot = OneHotEncoder(inputCols=['carrier_idx'], outputCols=['carrier_dummy'])\n",
        "carrier_onehot = carrier_onehot.fit(flights6)\n",
        "flights6 = carrier_onehot.transform(flights6)\n",
        "\n",
        "\n",
        "print((flights6.count(), len(flights6.columns)))\n",
        "print(flights6.show(6))"
      ],
      "metadata": {
        "colab": {
          "base_uri": "https://localhost:8080/"
        },
        "id": "7lcsCMHb-jt5",
        "outputId": "a366bbf0-1ee5-449a-8688-4621cac9e9d7"
      },
      "id": "7lcsCMHb-jt5",
      "execution_count": null,
      "outputs": [
        {
          "output_type": "stream",
          "name": "stdout",
          "text": [
            "(47022, 13)\n",
            "+---+---+---+-------+---+------+--------+-----+------+-----------+-------+-------------+-------------+\n",
            "|mon|dom|dow|carrier|org|depart|duration|delay|    km|carrier_idx|org_idx|    org_dummy|carrier_dummy|\n",
            "+---+---+---+-------+---+------+--------+-----+------+-----------+-------+-------------+-------------+\n",
            "|  0| 22|  2|     UA|ORD| 16.33|      82|   30| 509.0|        0.0|    0.0|(7,[0],[1.0])|(8,[0],[1.0])|\n",
            "|  2| 20|  4|     UA|SFO|  6.17|      82|   -8| 542.0|        0.0|    1.0|(7,[1],[1.0])|(8,[0],[1.0])|\n",
            "|  9| 13|  1|     AA|ORD| 10.33|     195|   -5|1989.0|        1.0|    0.0|(7,[0],[1.0])|(8,[1],[1.0])|\n",
            "|  5|  2|  1|     UA|SFO|  7.98|     102|    2| 885.0|        0.0|    1.0|(7,[1],[1.0])|(8,[0],[1.0])|\n",
            "|  7|  2|  6|     AA|ORD| 10.83|     135|   54|1180.0|        1.0|    0.0|(7,[0],[1.0])|(8,[1],[1.0])|\n",
            "|  1| 16|  6|     UA|ORD|   8.0|     232|   -7|2317.0|        0.0|    0.0|(7,[0],[1.0])|(8,[0],[1.0])|\n",
            "+---+---+---+-------+---+------+--------+-----+------+-----------+-------+-------------+-------------+\n",
            "only showing top 6 rows\n",
            "\n",
            "None\n"
          ]
        }
      ]
    },
    {
      "cell_type": "markdown",
      "source": [
        "- 조건 4. 중요 컬럼만 취합하여 행렬로 변환하는 코드를 작성한다.\n",
        "  + 이 때, carrier와 org는 선택하지 않는다. "
      ],
      "metadata": {
        "id": "ghPIWn7kFZEZ"
      },
      "id": "ghPIWn7kFZEZ"
    },
    {
      "cell_type": "code",
      "source": [
        "from pyspark.ml.feature import VectorAssembler\n",
        "\n",
        "assembler = VectorAssembler(inputCols=[\n",
        "    'mon', 'dom', 'dow', 'org_dummy', 'carrier_dummy', 'km', 'depart', 'delay'\n",
        "], outputCol='features')\n",
        "\n",
        "flights7 = assembler.transform(flights6)\n",
        "\n",
        "flights7.select('features', 'duration').show(5, truncate=False)"
      ],
      "metadata": {
        "colab": {
          "base_uri": "https://localhost:8080/"
        },
        "id": "mEAQhBc4Fjgq",
        "outputId": "8823783a-c873-4576-8297-737822325ed3"
      },
      "id": "mEAQhBc4Fjgq",
      "execution_count": null,
      "outputs": [
        {
          "output_type": "stream",
          "name": "stdout",
          "text": [
            "+-------------------------------------------------------------------+--------+\n",
            "|features                                                           |duration|\n",
            "+-------------------------------------------------------------------+--------+\n",
            "|(21,[1,2,3,10,18,19,20],[22.0,2.0,1.0,1.0,509.0,16.33,30.0])       |82      |\n",
            "|(21,[0,1,2,4,10,18,19,20],[2.0,20.0,4.0,1.0,1.0,542.0,6.17,-8.0])  |82      |\n",
            "|(21,[0,1,2,3,11,18,19,20],[9.0,13.0,1.0,1.0,1.0,1989.0,10.33,-5.0])|195     |\n",
            "|(21,[0,1,2,4,10,18,19,20],[5.0,2.0,1.0,1.0,1.0,885.0,7.98,2.0])    |102     |\n",
            "|(21,[0,1,2,3,11,18,19,20],[7.0,2.0,6.0,1.0,1.0,1180.0,10.83,54.0]) |135     |\n",
            "+-------------------------------------------------------------------+--------+\n",
            "only showing top 5 rows\n",
            "\n"
          ]
        }
      ]
    },
    {
      "cell_type": "markdown",
      "source": [
        "---\n",
        "\n",
        "## Step 6. PySpark 머신러닝 모형 개발\n",
        "- 조건 1. PySpark 라이브러리를 활용하여 훈련 데이터와 테스트 데이터로 나누는 코드를 작성한다.\n",
        "  + scikit-learn 라이브러리 사용 안됨. "
      ],
      "metadata": {
        "id": "jGkniJH0F_U5"
      },
      "id": "jGkniJH0F_U5"
    },
    {
      "cell_type": "code",
      "source": [
        "# 학습/테스트 셋\n",
        "flights_train, flights_test = flights7.randomSplit([0.8, 0.2], seed=43)\n",
        "\n",
        "# 비율 확인\n",
        "training_ratio = flights_train.count() / flights.count()\n",
        "print(training_ratio)"
      ],
      "metadata": {
        "colab": {
          "base_uri": "https://localhost:8080/"
        },
        "id": "YYhRHjXFF8QT",
        "outputId": "0777fbfe-7f35-4f53-e922-f53755b1382b"
      },
      "id": "YYhRHjXFF8QT",
      "execution_count": null,
      "outputs": [
        {
          "output_type": "stream",
          "name": "stdout",
          "text": [
            "0.75474\n"
          ]
        }
      ]
    },
    {
      "cell_type": "markdown",
      "source": [
        "- 조건 2. 선형회귀 모형 개발\n",
        "  + 실제값과 예측값 각 5개가 포함되도록 한다. "
      ],
      "metadata": {
        "id": "DtfV8yLnJ0Or"
      },
      "id": "DtfV8yLnJ0Or"
    },
    {
      "cell_type": "code",
      "source": [
        "from pyspark.ml.regression import LinearRegression\n",
        "\n",
        "# 선형회귀 모형 개발\n",
        "regression = LinearRegression(labelCol='duration').fit(flights_train)\n",
        "predictions = regression.transform(flights_test)\n",
        "\n",
        "# 실제값 예측값 5개\n",
        "predictions.select('duration', 'prediction').show(5, False)"
      ],
      "metadata": {
        "colab": {
          "base_uri": "https://localhost:8080/"
        },
        "id": "3ih6NqADGB_S",
        "outputId": "e1d3ec3f-1c7f-4ecc-8a91-17ad804b90cc"
      },
      "id": "3ih6NqADGB_S",
      "execution_count": null,
      "outputs": [
        {
          "output_type": "stream",
          "name": "stdout",
          "text": [
            "+--------+------------------+\n",
            "|duration|prediction        |\n",
            "+--------+------------------+\n",
            "|230     |259.8305924767669 |\n",
            "|250     |226.92216539023866|\n",
            "|170     |148.1840828629919 |\n",
            "|251     |239.66737081972488|\n",
            "|155     |137.81512059388567|\n",
            "+--------+------------------+\n",
            "only showing top 5 rows\n",
            "\n"
          ]
        }
      ]
    },
    {
      "cell_type": "markdown",
      "source": [
        "- 조건 3. RMSE 평가지표 활용"
      ],
      "metadata": {
        "id": "BD-bQfzKJ5pq"
      },
      "id": "BD-bQfzKJ5pq"
    },
    {
      "cell_type": "code",
      "source": [
        "from pyspark.ml.evaluation import RegressionEvaluator\n",
        "RegressionEvaluator(labelCol='duration').evaluate(predictions)"
      ],
      "metadata": {
        "colab": {
          "base_uri": "https://localhost:8080/"
        },
        "id": "SUveCjTwJ4-r",
        "outputId": "30f825ad-61fb-4f64-8fec-1a3f760841e6"
      },
      "id": "SUveCjTwJ4-r",
      "execution_count": null,
      "outputs": [
        {
          "output_type": "execute_result",
          "data": {
            "text/plain": [
              "10.891781129099007"
            ]
          },
          "metadata": {},
          "execution_count": 50
        }
      ]
    }
  ],
  "metadata": {
    "accelerator": "GPU",
    "colab": {
      "provenance": []
    },
    "gpuClass": "standard",
    "kernelspec": {
      "display_name": "Python 3 (ipykernel)",
      "language": "python",
      "name": "python3"
    },
    "language_info": {
      "codemirror_mode": {
        "name": "ipython",
        "version": 3
      },
      "file_extension": ".py",
      "mimetype": "text/x-python",
      "name": "python",
      "nbconvert_exporter": "python",
      "pygments_lexer": "ipython3",
      "version": "3.9.12"
    },
    "papermill": {
      "default_parameters": {},
      "duration": 137.030513,
      "end_time": "2022-04-12T03:19:39.192677",
      "environment_variables": {},
      "exception": null,
      "input_path": "__notebook__.ipynb",
      "output_path": "__notebook__.ipynb",
      "parameters": {},
      "start_time": "2022-04-12T03:17:22.162164",
      "version": "2.3.3"
    }
  },
  "nbformat": 4,
  "nbformat_minor": 5
}