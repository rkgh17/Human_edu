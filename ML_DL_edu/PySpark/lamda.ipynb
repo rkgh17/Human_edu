{
 "cells": [
  {
   "cell_type": "markdown",
   "id": "609cd9c4",
   "metadata": {},
   "source": [
    "## lambda 함수\n",
    "- 익명함수\n",
    "- 임시함수"
   ]
  },
  {
   "cell_type": "markdown",
   "id": "c3f88ddc",
   "metadata": {},
   "source": [
    "- 한줄로 처리\n",
    "lambda 매개변수 : 표현식"
   ]
  },
  {
   "cell_type": "code",
   "execution_count": 4,
   "id": "97c046a3",
   "metadata": {},
   "outputs": [
    {
     "data": {
      "text/plain": [
       "25"
      ]
     },
     "execution_count": 4,
     "metadata": {},
     "output_type": "execute_result"
    }
   ],
   "source": [
    "# 어떤 숫자가 들어와도 반드시 5를 더하는 함수\n",
    "def add_five(x):\n",
    "    y = x + 5\n",
    "    return y\n",
    "\n",
    "add_five(20)"
   ]
  },
  {
   "cell_type": "markdown",
   "id": "6bc77d1d",
   "metadata": {},
   "source": [
    "- lambda로 표현하기"
   ]
  },
  {
   "cell_type": "code",
   "execution_count": 5,
   "id": "8aced3f6",
   "metadata": {},
   "outputs": [
    {
     "data": {
      "text/plain": [
       "15"
      ]
     },
     "execution_count": 5,
     "metadata": {},
     "output_type": "execute_result"
    }
   ],
   "source": [
    "plus_five = lambda x : x+5\n",
    "plus_five(10)"
   ]
  },
  {
   "cell_type": "code",
   "execution_count": 6,
   "id": "ac253f8b",
   "metadata": {},
   "outputs": [
    {
     "data": {
      "text/plain": [
       "105"
      ]
     },
     "execution_count": 6,
     "metadata": {},
     "output_type": "execute_result"
    }
   ],
   "source": [
    "# 데이터.map(람다함수 식)\n",
    "# 람다 표현식 자체를 호출하기\n",
    "(lambda x : x+5)(100)"
   ]
  },
  {
   "cell_type": "markdown",
   "id": "7590ce3a",
   "metadata": {},
   "source": [
    "- 매개변수가 2개일 때"
   ]
  },
  {
   "cell_type": "code",
   "execution_count": 7,
   "id": "e9705e62",
   "metadata": {},
   "outputs": [
    {
     "data": {
      "text/plain": [
       "30"
      ]
     },
     "execution_count": 7,
     "metadata": {},
     "output_type": "execute_result"
    }
   ],
   "source": [
    "(lambda x, y : x + y)(10,20)"
   ]
  },
  {
   "cell_type": "markdown",
   "id": "9291a86c",
   "metadata": {},
   "source": [
    "### 문제 1\n",
    "- 값이 여러개 있는 리스트를 정의\n",
    "- 각 값에 5를 더하고, 리스트로 반환"
   ]
  },
  {
   "cell_type": "code",
   "execution_count": 8,
   "id": "69e960e6",
   "metadata": {},
   "outputs": [
    {
     "data": {
      "text/plain": [
       "[15, 16, 17]"
      ]
     },
     "execution_count": 8,
     "metadata": {},
     "output_type": "execute_result"
    }
   ],
   "source": [
    "# 리스트 정의\n",
    "num_values = [10, 11, 12]\n",
    "# 각 값에 5를 더하고, 리스트로 반환\n",
    "list(map(add_five, num_values))\n",
    "\n",
    "# map (a, b)\n",
    "# b객체 하나씩 a를 수행함"
   ]
  },
  {
   "cell_type": "markdown",
   "id": "df46c2f7",
   "metadata": {},
   "source": [
    "- lambda를 활용"
   ]
  },
  {
   "cell_type": "code",
   "execution_count": 9,
   "id": "0a79b3c7",
   "metadata": {},
   "outputs": [
    {
     "data": {
      "text/plain": [
       "[15, 16, 17]"
      ]
     },
     "execution_count": 9,
     "metadata": {},
     "output_type": "execute_result"
    }
   ],
   "source": [
    "list(map(lambda x: x+5, num_values))"
   ]
  },
  {
   "cell_type": "code",
   "execution_count": 10,
   "id": "c62c09db",
   "metadata": {},
   "outputs": [
    {
     "data": {
      "text/plain": [
       "[5, 6, 7, 8, 9]"
      ]
     },
     "execution_count": 10,
     "metadata": {},
     "output_type": "execute_result"
    }
   ],
   "source": [
    "list(map(lambda x: x+5, range(5)))"
   ]
  },
  {
   "cell_type": "markdown",
   "id": "e9cb3c7d",
   "metadata": {},
   "source": [
    "- filter() : 조건식으로 통해 값을 필터링\n",
    "- 0~9 값 중에서, 5 미만만 출력"
   ]
  },
  {
   "cell_type": "code",
   "execution_count": 1,
   "id": "086b7cd1",
   "metadata": {},
   "outputs": [
    {
     "data": {
      "text/plain": [
       "[0, 1, 2, 3, 4, 5, 6, 7, 8, 9]"
      ]
     },
     "execution_count": 1,
     "metadata": {},
     "output_type": "execute_result"
    }
   ],
   "source": [
    "list(range(10))"
   ]
  },
  {
   "cell_type": "code",
   "execution_count": 11,
   "id": "8d6dd027",
   "metadata": {},
   "outputs": [
    {
     "data": {
      "text/plain": [
       "[0, 1, 2, 3, 4]"
      ]
     },
     "execution_count": 11,
     "metadata": {},
     "output_type": "execute_result"
    }
   ],
   "source": [
    "list(filter(lambda x: x < 5 , range(10)))"
   ]
  },
  {
   "cell_type": "code",
   "execution_count": null,
   "id": "ae5045df",
   "metadata": {},
   "outputs": [],
   "source": []
  },
  {
   "cell_type": "code",
   "execution_count": null,
   "id": "e75291cf",
   "metadata": {},
   "outputs": [],
   "source": []
  },
  {
   "cell_type": "code",
   "execution_count": null,
   "id": "34d7605a",
   "metadata": {},
   "outputs": [],
   "source": []
  },
  {
   "cell_type": "code",
   "execution_count": null,
   "id": "a9a993b5",
   "metadata": {},
   "outputs": [],
   "source": []
  },
  {
   "cell_type": "code",
   "execution_count": null,
   "id": "aa162c9a",
   "metadata": {},
   "outputs": [],
   "source": []
  },
  {
   "cell_type": "code",
   "execution_count": null,
   "id": "0cd362af",
   "metadata": {},
   "outputs": [],
   "source": []
  },
  {
   "cell_type": "code",
   "execution_count": null,
   "id": "ccb619b5",
   "metadata": {},
   "outputs": [],
   "source": []
  },
  {
   "cell_type": "code",
   "execution_count": null,
   "id": "ddd4c9a2",
   "metadata": {},
   "outputs": [],
   "source": []
  },
  {
   "cell_type": "code",
   "execution_count": null,
   "id": "0df08564",
   "metadata": {},
   "outputs": [],
   "source": []
  }
 ],
 "metadata": {
  "kernelspec": {
   "display_name": "Python 3 (ipykernel)",
   "language": "python",
   "name": "python3"
  },
  "language_info": {
   "codemirror_mode": {
    "name": "ipython",
    "version": 3
   },
   "file_extension": ".py",
   "mimetype": "text/x-python",
   "name": "python",
   "nbconvert_exporter": "python",
   "pygments_lexer": "ipython3",
   "version": "3.8.0"
  }
 },
 "nbformat": 4,
 "nbformat_minor": 5
}
