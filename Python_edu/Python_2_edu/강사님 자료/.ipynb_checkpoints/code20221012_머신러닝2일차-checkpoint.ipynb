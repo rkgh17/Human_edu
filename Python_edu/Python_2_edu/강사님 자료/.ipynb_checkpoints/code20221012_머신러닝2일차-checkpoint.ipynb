{
 "cells": [
  {
   "cell_type": "code",
   "execution_count": 1,
   "id": "95730f72-4461-4a8d-a722-f554a5f3cf45",
   "metadata": {},
   "outputs": [],
   "source": [
    "import pandas as pd\n",
    "from bs4 import BeautifulSoup\n",
    "import requests\n",
    "import re\n",
    "import lxml"
   ]
  },
  {
   "cell_type": "code",
   "execution_count": 2,
   "id": "57c50823-db1b-4527-9fde-81a368e7e8f4",
   "metadata": {},
   "outputs": [],
   "source": [
    "file_path = './iris.csv'\n",
    "iris = pd.read_csv(file_path)\n",
    "# read_excel() 엑셀파일 로드 가능"
   ]
  },
  {
   "cell_type": "code",
   "execution_count": 7,
   "id": "f91006c7-37f5-4bf0-9dde-33fff846f847",
   "metadata": {},
   "outputs": [
    {
     "name": "stdout",
     "output_type": "stream",
     "text": [
      "{}\n"
     ]
    }
   ],
   "source": [
    "url = \"https://en.wikipedia.org/wiki/List_of_American_exchange-traded_funds\"\n",
    "html = response.text\n",
    "soup = BeautifulSoup(html, 'lxml')\n",
    "rows = soup.select('div>ul>li')\n",
    "etfs = {}\n",
    "for row in rows:\n",
    "    try:\n",
    "        etf_name = re.findall('^(.*) \\(NYSE', row.text)\n",
    "        etf_market = re.findall('\\((.*)\\|', row.text)\n",
    "        etf_ticker = re.findall('NYSE Arca\\|(.*)\\)', row.text)\n",
    "        \n",
    "        # print(etf_ticker)\n",
    "        \n",
    "        if(len(etf_ticker) > 0) & (len(etf_market)>0) & (len(etf_name) > 0):\n",
    "            etfs[etf_ticker[0]] = [etf_market[0], etf_name[0]]\n",
    "    except AttributeError as err:\n",
    "        pass\n",
    "\n",
    "print(etfs)"
   ]
  },
  {
   "cell_type": "code",
   "execution_count": 9,
   "id": "34f78618-823d-49ec-9236-6892ecbc25ab",
   "metadata": {},
   "outputs": [
    {
     "name": "stdout",
     "output_type": "stream",
     "text": [
      "     sepal.length  sepal.width  petal.length  petal.width\n",
      "0             5.1          3.5           1.4          0.2\n",
      "1             4.9          3.0           1.4          0.2\n",
      "2             4.7          3.2           1.3          0.2\n",
      "3             4.6          3.1           1.5          0.2\n",
      "4             5.0          3.6           1.4          0.2\n",
      "..            ...          ...           ...          ...\n",
      "145           6.7          3.0           5.2          2.3\n",
      "146           6.3          2.5           5.0          1.9\n",
      "147           6.5          3.0           5.2          2.0\n",
      "148           6.2          3.4           5.4          2.3\n",
      "149           5.9          3.0           5.1          1.8\n",
      "\n",
      "[150 rows x 4 columns]\n"
     ]
    }
   ],
   "source": [
    "X = iris.iloc[:, :-1]\n",
    "y = iris.iloc[:, -1]\n",
    "print(X)\n",
    "#머신러닝은 답을 알려줌(컴퓨터에게), 결과를 도출하게 만드는 알고리즘\n",
    "#딥러닝 : 답을 안알려주고, 알아서 결과를 도출하게 만드는 알고리즘"
   ]
  },
  {
   "cell_type": "code",
   "execution_count": 15,
   "id": "6632eaae-27bf-4a09-a4c5-0fb9b771f4de",
   "metadata": {},
   "outputs": [],
   "source": [
    "from sklearn.model_selection import train_test_split\n",
    "from sklearn.preprocessing import scale\n"
   ]
  },
  {
   "cell_type": "code",
   "execution_count": 11,
   "id": "a35f34de-174d-4c54-b1f8-92b02e5bfe6e",
   "metadata": {},
   "outputs": [
    {
     "name": "stdout",
     "output_type": "stream",
     "text": [
      "train data =  105\n",
      "test data =  45\n"
     ]
    }
   ],
   "source": [
    "#X = 독립변수\n",
    "#y = 종속변수\n",
    "train_X, test_X, train_y, test_y = train_test_split(X, y,\n",
    "                                            test_size=0.3,\n",
    "                                            random_state=1)\n",
    "print('train data = ', len(train_X))\n",
    "print('test data = ', len(test_X))"
   ]
  },
  {
   "cell_type": "code",
   "execution_count": 19,
   "id": "9699653e-b784-42a8-a6d8-dfa1b6c95464",
   "metadata": {},
   "outputs": [
    {
     "data": {
      "text/plain": [
       "array([[-0.90068117,  1.01900435, -1.34022653, -1.3154443 ],\n",
       "       [-1.14301691, -0.13197948, -1.34022653, -1.3154443 ],\n",
       "       [-1.38535265,  0.32841405, -1.39706395, -1.3154443 ],\n",
       "       [-1.50652052,  0.09821729, -1.2833891 , -1.3154443 ],\n",
       "       [-1.02184904,  1.24920112, -1.34022653, -1.3154443 ]])"
      ]
     },
     "execution_count": 19,
     "metadata": {},
     "output_type": "execute_result"
    }
   ],
   "source": [
    "#데이터 전처리\n",
    "#컬럼 명 bold\n",
    "# X.head()\n",
    "# X.info()\n",
    "\n",
    "#scale() 평균이 0, 표준편차가 1\n",
    "iris_scaled= scale(X)\n",
    "iris_scaled[:5, :]"
   ]
  },
  {
   "cell_type": "code",
   "execution_count": 22,
   "id": "c55eff22-bdd0-4010-9196-d93da674cb35",
   "metadata": {},
   "outputs": [
    {
     "data": {
      "text/plain": [
       "array([-4.73695157e-16, -7.81597009e-16, -4.26325641e-16, -4.73695157e-16])"
      ]
     },
     "execution_count": 22,
     "metadata": {},
     "output_type": "execute_result"
    }
   ],
   "source": [
    "iris_scaled.mean(axis=0)"
   ]
  },
  {
   "cell_type": "code",
   "execution_count": 24,
   "id": "7bcfb8e6-f2d3-4b5d-8c03-14de636d93c7",
   "metadata": {},
   "outputs": [
    {
     "data": {
      "text/plain": [
       "array([1., 1., 1., 1.])"
      ]
     },
     "execution_count": 24,
     "metadata": {},
     "output_type": "execute_result"
    }
   ],
   "source": [
    "#표준편차\n",
    "#*편차 : 원래값에서 평균을 뺀 값 (음수 양수 모두 성립)\n",
    "#음수를 양수로 만들 기 위해 편차의 제곱의 합 분산이 등장\n",
    "#분산에 루트를 씌운 것이 표준편차 = 원래 데이터에 대한 오차 범위의 근사값\n",
    "iris_scaled.std(axis=0)"
   ]
  },
  {
   "cell_type": "code",
   "execution_count": null,
   "id": "40dc470f-647c-490e-b1f5-caba361e9923",
   "metadata": {},
   "outputs": [],
   "source": []
  }
 ],
 "metadata": {
  "kernelspec": {
   "display_name": "Python 3 (ipykernel)",
   "language": "python",
   "name": "python3"
  },
  "language_info": {
   "codemirror_mode": {
    "name": "ipython",
    "version": 3
   },
   "file_extension": ".py",
   "mimetype": "text/x-python",
   "name": "python",
   "nbconvert_exporter": "python",
   "pygments_lexer": "ipython3",
   "version": "3.9.0"
  }
 },
 "nbformat": 4,
 "nbformat_minor": 5
}
