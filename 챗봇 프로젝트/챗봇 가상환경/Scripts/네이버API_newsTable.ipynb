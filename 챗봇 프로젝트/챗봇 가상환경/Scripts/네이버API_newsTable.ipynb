{
 "cells": [
  {
   "cell_type": "code",
   "execution_count": 20,
   "id": "d28d72d9",
   "metadata": {},
   "outputs": [],
   "source": [
    "import psycopg2\n",
    "import os\n",
    "import sys\n",
    "import requests\n",
    "import datetime\n",
    "import time\n",
    "import re"
   ]
  },
  {
   "cell_type": "code",
   "execution_count": 15,
   "id": "a4a72f53",
   "metadata": {},
   "outputs": [
    {
     "data": {
      "text/plain": [
       "'2.9.5 (dt dec pq3 ext lo64)'"
      ]
     },
     "execution_count": 15,
     "metadata": {},
     "output_type": "execute_result"
    }
   ],
   "source": [
    "psycopg2.__version__"
   ]
  },
  {
   "cell_type": "code",
   "execution_count": 2,
   "id": "ae1246d9",
   "metadata": {},
   "outputs": [],
   "source": [
    "# db연결\n",
    "conn = psycopg2.connect(host=\"ec2-23-21-207-93.compute-1.amazonaws.com\", \n",
    "                        dbname=\"d3oubpekvnbupv\", \n",
    "                        user=\"grxhirqndvyqvv\", \n",
    "                        password=\"6f1afaafe16d245c70666bdb8c831aa876e62b380a1544f5dc832c51f27cece6\", \n",
    "                        port=\"5432\")\n",
    "\n",
    "# 데이터 조작 객체 생성\n",
    "cur = conn.cursor()"
   ]
  },
  {
   "cell_type": "code",
   "execution_count": 3,
   "id": "2feda35e",
   "metadata": {},
   "outputs": [],
   "source": [
    "# html 디코딩 함수\n",
    "def clean_html(x):\n",
    "  x = re.sub(\"\\&\\w*\\;\",\"\",x)\n",
    "  x = re.sub(\"<.*?>\",\"\",x)\n",
    "  return x"
   ]
  },
  {
   "cell_type": "code",
   "execution_count": 23,
   "id": "2dd0b695",
   "metadata": {
    "scrolled": true
   },
   "outputs": [],
   "source": [
    "#데이터베이스 새로 만들기 (복합 키 세팅)\n",
    "# 테이블명 : nesdata\n",
    "# 컬럼명 : nesdate(뉴스작성일), newsname(뉴스타이틀), neslink(뉴스링크)\n",
    "# create table\n",
    "def db_create():\n",
    "    cur.execute(\"CREATE TABLE IF NOT EXISTS newsdata(newsdate VARCHAR(30) NOT NULL, newsname VARCHAR(100) NOT NULL, newslink VARCHAR(200), primary key(newsname, newslink));\")\n",
    "    conn.commit()\n",
    "\n",
    "db_create()"
   ]
  },
  {
   "cell_type": "code",
   "execution_count": 14,
   "id": "3ae5a824",
   "metadata": {},
   "outputs": [],
   "source": [
    "insertnews('9호선')"
   ]
  },
  {
   "cell_type": "code",
   "execution_count": null,
   "id": "ce3448ba",
   "metadata": {},
   "outputs": [],
   "source": []
  },
  {
   "cell_type": "code",
   "execution_count": null,
   "id": "d0dc805e",
   "metadata": {},
   "outputs": [],
   "source": []
  },
  {
   "cell_type": "code",
   "execution_count": 16,
   "id": "dc2ad68b",
   "metadata": {
    "scrolled": true
   },
   "outputs": [
    {
     "name": "stdout",
     "output_type": "stream",
     "text": [
      "2022-11-24 11:56:00\n",
      "현대건설, 장기임대아파트 힐스테이트 DMC역 분양\n",
      "https://www.asiatoday.co.kr/view.php?key=20221124010013586\n",
      "\n",
      "2022-11-24 11:35:00\n",
      "대전-세종 BRT에 승객 태운 자율주행 버스 달린다\n",
      "https://n.news.naver.com/mnews/article/656/0000034875?sid=101\n",
      "\n",
      "2022-11-24 11:34:00\n",
      "현역 공군대위, 만취해 지하철역서 시민 3명 폭행…현행범 체포\n",
      "https://n.news.naver.com/mnews/article/016/0002069822?sid=102\n",
      "\n",
      "2022-11-24 11:32:00\n",
      "김포 하늘에 열린 미래의 길···도심항공교통 체계 UAM 비행시연\n",
      "http://www.paxetv.com/news/articleView.html?idxno=159234\n",
      "\n",
      "2022-11-24 11:32:00\n",
      "김포시, 23일 UAM 비행시연 행사 개최\n",
      "https://www.geconomy.co.kr/news/article.html?no=275295\n",
      "\n",
      "2022-11-24 11:30:00\n",
      "[분양 정보] 서희건설, ‘GTX운정역 서희스타힐스’ 조합원 모집\n",
      "https://www.news2day.co.kr/article/20221124500128\n",
      "\n",
      "2022-11-24 11:29:00\n",
      "진작에 이랬으면···‘안전에 만전’ 광화문광장 월드컵 응원에 서울시 등 ...\n",
      "https://n.news.naver.com/mnews/article/032/0003188364?sid=102\n",
      "\n",
      "2022-11-24 11:28:00\n",
      "사천시 내년 예산안 9033억… 782억 증가\n",
      "http://www.knnews.co.kr/news/articleView.php?idxno=1390808\n",
      "\n",
      "2022-11-24 11:28:00\n",
      "[속보] 국회 국토위, 도시철도 무임손실 보전금 3585억 처리\n",
      "http://www.incheontoday.com/news/articleView.html?idxno=224056\n",
      "\n",
      "2022-11-24 11:28:00\n",
      "뉴노멀이 된 ‘집콕’ 라이프에 더 넓게 쓰는 중대형 아파트 인기\n",
      "https://news.koreadaily.com/2022/11/23/economy/realestate/20221123182752221.html\n"
     ]
    }
   ],
   "source": [
    "# select newdata\n",
    "cur.execute(f\"SELECT * FROM newsdata order by newsdate DESC limit 10\")\n",
    "result_all = cur.fetchall()\n",
    "\n",
    "newslist=\"\"\n",
    "for i in result_all:\n",
    "    for j in i:\n",
    "        newslist = newslist + j + \"\\n\"\n",
    "    newslist = newslist + \"\\n\"\n",
    "\n",
    "print(newslist[:-2])"
   ]
  },
  {
   "cell_type": "code",
   "execution_count": 5,
   "id": "95b2579a",
   "metadata": {},
   "outputs": [],
   "source": [
    "conn.commit()"
   ]
  },
  {
   "cell_type": "code",
   "execution_count": null,
   "id": "9674ac82",
   "metadata": {},
   "outputs": [],
   "source": []
  },
  {
   "cell_type": "code",
   "execution_count": null,
   "id": "6f36f1a0",
   "metadata": {},
   "outputs": [],
   "source": []
  },
  {
   "cell_type": "code",
   "execution_count": null,
   "id": "06b53cbf",
   "metadata": {},
   "outputs": [],
   "source": []
  },
  {
   "cell_type": "code",
   "execution_count": null,
   "id": "44026927",
   "metadata": {},
   "outputs": [],
   "source": []
  },
  {
   "cell_type": "code",
   "execution_count": null,
   "id": "0e7c4362",
   "metadata": {},
   "outputs": [],
   "source": []
  },
  {
   "cell_type": "code",
   "execution_count": null,
   "id": "1e5ec949",
   "metadata": {},
   "outputs": [],
   "source": []
  },
  {
   "cell_type": "code",
   "execution_count": 32,
   "id": "3f6343e5",
   "metadata": {},
   "outputs": [],
   "source": [
    "# db에 넣기 통합본 - 자동용\n",
    "def insertnews(keyword):\n",
    "    # 네이버 검색api 키값\n",
    "    client_id = 'CmmN2OJp47c60h9IWTRs'\n",
    "    client_secret = 'mALduPDQEB'\n",
    "\n",
    "    #검색설정\n",
    "    search_word = keyword\n",
    "    encode_type = 'json'\n",
    "    max_display = 50\n",
    "    sort = 'date'\n",
    "    start = 1\n",
    "\n",
    "    url = f\"https://openapi.naver.com/v1/search/news.{encode_type}?query={search_word}&display={str(int(max_display))}&start={str(int(start))}&sort={sort}\"\n",
    "\n",
    "    #헤더에 아이디와 키 정보 넣기\n",
    "    headers = {'X-Naver-Client-Id' : client_id,\n",
    "            'X-Naver-Client-Secret':client_secret\n",
    "            }\n",
    "\n",
    "    #HTTP요청 보내기\n",
    "    r = requests.get(url, headers=headers)\n",
    "    #요청 결과 보기 200 이면 정상적으로 요청 완료\n",
    "\n",
    "    # json형식으로 받기\n",
    "    result = r.json()\n",
    "\n",
    "    # key : items\n",
    "    result_items=result['items']\n",
    "    return result_items\n",
    "\n",
    "# html 파싱\n",
    "def clean_html(x):\n",
    "    x = re.sub(\"\\&\\w*\\;\",\"\",x)\n",
    "    x = re.sub(\"<.*?>\",\"\",x)\n",
    "    return x\n",
    "\n",
    "# db연결\n",
    "def dbconn():\n",
    "    conn = psycopg2.connect(host=\"ec2-23-21-207-93.compute-1.amazonaws.com\", \n",
    "                            dbname=\"d3oubpekvnbupv\", \n",
    "                            user=\"grxhirqndvyqvv\", \n",
    "                            password=\"6f1afaafe16d245c70666bdb8c831aa876e62b380a1544f5dc832c51f27cece6\", \n",
    "                            port=\"5432\")\n",
    "    return conn\n",
    "\n",
    "\n",
    "# db에 저장하기\n",
    "def dbinsert():\n",
    "    conn = dbconn()\n",
    "    cur = conn.cursor()\n",
    "    hosun = ['1호선','2호선','3호선','4호선','5호선','6호선','7호선','8호선','9호선']\n",
    "    \n",
    "    for keyword in hosun:\n",
    "        result_items = insertnews(keyword)\n",
    "        \n",
    "        for item in result_items:\n",
    "            # 날짜 형식 변환\n",
    "            pDate = datetime.datetime.strptime(item['pubDate'][5:-6], '%d %b %Y %H:%M:%S')\n",
    "            pDate = pDate.strftime('%Y-%m-%d %H:%M:%S')\n",
    "        \n",
    "            # 뉴스제목 디코딩\n",
    "            title = clean_html(item['title'])\n",
    "        \n",
    "            link = item['link']\n",
    "        \n",
    "            insertdata = (pDate, title, link)\n",
    "\n",
    "            # ON CONFLICT : 데이터가 중복되면 INSERT하지않음\n",
    "            cur.execute(\"INSERT into newsdata(newsdate, newsname, newslink) VALUES (%s, %s, %s) ON CONFLICT (newsname, newslink) DO NOTHING\", insertdata)\n",
    "\n",
    "            # db commit\n",
    "        conn.commit()   "
   ]
  },
  {
   "cell_type": "code",
   "execution_count": 33,
   "id": "bcf66147",
   "metadata": {},
   "outputs": [],
   "source": [
    "dbinsert()"
   ]
  }
 ],
 "metadata": {
  "kernelspec": {
   "display_name": "Python 3 (ipykernel)",
   "language": "python",
   "name": "python3"
  },
  "language_info": {
   "codemirror_mode": {
    "name": "ipython",
    "version": 3
   },
   "file_extension": ".py",
   "mimetype": "text/x-python",
   "name": "python",
   "nbconvert_exporter": "python",
   "pygments_lexer": "ipython3",
   "version": "3.10.7"
  }
 },
 "nbformat": 4,
 "nbformat_minor": 5
}
