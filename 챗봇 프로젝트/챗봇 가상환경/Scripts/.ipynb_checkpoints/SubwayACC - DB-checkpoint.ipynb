{
 "cells": [
  {
   "cell_type": "code",
   "execution_count": 15,
   "id": "55e1614d",
   "metadata": {},
   "outputs": [],
   "source": [
    "from selenium import webdriver\n",
    "from selenium.webdriver.common.keys import Keys\n",
    "from selenium.webdriver.common.by import By\n",
    "from datetime import date\n",
    "import requests\n",
    "import psycopg2\n",
    "import time\n"
   ]
  },
  {
   "cell_type": "code",
   "execution_count": 16,
   "id": "cde549ee",
   "metadata": {
    "scrolled": true
   },
   "outputs": [
    {
     "name": "stderr",
     "output_type": "stream",
     "text": [
      "C:\\Users\\h\\AppData\\Local\\Temp\\ipykernel_7848\\1521152426.py:3: DeprecationWarning: executable_path has been deprecated, please pass in a Service object\n",
      "  driver = webdriver.Chrome(url + 'chromedriver.exe')\n"
     ]
    }
   ],
   "source": [
    "# 셀리니움 크롤링\n",
    "url = 'C:/Users/h/Desktop/chatbot/'\n",
    "driver = webdriver.Chrome(url + 'chromedriver.exe')\n",
    "driver.get(\"https://safecity.seoul.go.kr/acdnt/sbwyIndex.do\")\n",
    "time.sleep(3)"
   ]
  },
  {
   "cell_type": "code",
   "execution_count": 59,
   "id": "22276590",
   "metadata": {
    "scrolled": true
   },
   "outputs": [
    {
     "name": "stdout",
     "output_type": "stream",
     "text": [
      "지하철사고\n",
      "2022-11-16 11:29\n",
      "4호선 총신대입구~동작역 간 차량고장은 조치 완료되었으나, 순연 운행중에 있습니다. 열차이용에 불편을 드려 대단히 죄송합니다. -서울교통공사 종합관제단\n",
      "<class 'str'>\n",
      "\n",
      "지하철사고\n",
      "2022-11-16 11:07\n",
      "4호선 총신대입구~동작역 상선 코레일 시운전열차 차량고장으로 4호선 상선 열차 지연 운행 중 입니다. 바쁘신 고객께서는 타교통을 이용하여주시기 바랍니다.\n",
      "<class 'str'>\n",
      "\n",
      "지하철사고\n",
      "2022-11-16 10:51\n",
      "4호선 총신대입구~동작역 간 상선 코레일 시운전 열차 고장으로 후속열차와 구원연결 예정입니다. 열차 이용에 불편을 드려 죄송합니다.-서울교통공사 종합관제단\n",
      "<class 'str'>\n",
      "\n",
      "지하철사고\n",
      "2022-11-16 08:51\n",
      "3호선 잠원역 상선 차량고장은 조치 완료되어 정상운행 중에 있습니다. 열차이용에 불편을 드려 대단히 죄송합니다. -서울교통공사 종합관제단\n",
      "<class 'str'>\n",
      "\n",
      "지하철사고\n",
      "2022-11-16 08:45\n",
      "3호선 잠원역 상선 차량고장으로 현재 조치 중에 있습니다. 바쁘신 고객께서는 타 교통 수단을 이용하시기 바랍니다. 열차이용에 불편을 드려 대단히 죄송합니다. -서울교통공사 종합관제단\n",
      "<class 'str'>\n",
      "\n"
     ]
    }
   ],
   "source": [
    "# 데이터 긁어오기\n",
    "parentElement = driver.find_elements(By.XPATH, '//*[@id=\"dv_as_timeline\"]/li')\n",
    "\n",
    "subli=[]\n",
    "\n",
    "# ul 태그 아래 있는 li 반복 뽑기\n",
    "for i in parentElement:\n",
    "    i.click()\n",
    "    time.sleep(0.05)\n",
    "    a = i.text\n",
    "    subli.append(a)\n",
    "    print(a)\n",
    "    print(type(a))\n",
    "    print()\n",
    "    \n",
    "    \n",
    "    i.click()\n",
    "\n",
    "    "
   ]
  },
  {
   "cell_type": "code",
   "execution_count": 22,
   "id": "0dacba92",
   "metadata": {},
   "outputs": [],
   "source": [
    "# create table\n",
    "def db_create():\n",
    "    cur.execute(\"CREATE TABLE IF NOT EXISTS subaccdata(acctime VARCHAR(30) NOT NULL, content VARCHAR(300) NOT NULL, primary key(acctime, content));\")\n",
    "    conn.commit()\n",
    "\n",
    "db_create()"
   ]
  },
  {
   "cell_type": "code",
   "execution_count": 18,
   "id": "6510d942",
   "metadata": {},
   "outputs": [],
   "source": [
    "# db연결\n",
    "conn = psycopg2.connect(host=\"ec2-23-21-207-93.compute-1.amazonaws.com\", \n",
    "                        dbname=\"d3oubpekvnbupv\", \n",
    "                        user=\"grxhirqndvyqvv\", \n",
    "                        password=\"6f1afaafe16d245c70666bdb8c831aa876e62b380a1544f5dc832c51f27cece6\", \n",
    "                        port=\"5432\")\n",
    "\n",
    "# 데이터 조작 객체 생성\n",
    "cur = conn.cursor()"
   ]
  },
  {
   "cell_type": "code",
   "execution_count": 12,
   "id": "12fff630",
   "metadata": {},
   "outputs": [],
   "source": [
    "# db insert\n",
    "for i in subli:\n",
    "    # slice하면 리스트로 반환되므로 tuple로 변환 필요 -> 한꺼번에 insert하기위해\n",
    "    subdb = tuple(i.split('\\n'))\n",
    "    cur.execute(\"INSERT into subdata(subacc, acctime, content) VALUES (%s, %s, %s)\", subdb)\n",
    "\n",
    "# db commit\n",
    "conn.commit()   "
   ]
  },
  {
   "cell_type": "code",
   "execution_count": 14,
   "id": "b5ab5c3c",
   "metadata": {
    "scrolled": true
   },
   "outputs": [
    {
     "data": {
      "text/plain": [
       "'지하철사고\\n2022-11-16 08:45\\n3호선 잠원역 상선 차량고장으로 현재 조치 중에 있습니다. 바쁘신 고객께서는 타 교통 수단을 이용하시기 바랍니다. 열차이용에 불편을 드려 대단히 죄송합니다. -서울교통공사 종합관제단\\n\\n지하철사고\\n2022-11-16 08:51\\n3호선 잠원역 상선 차량고장은 조치 완료되어 정상운행 중에 있습니다. 열차이용에 불편을 드려 대단히 죄송합니다. -서울교통공사 종합관제단\\n\\n'"
      ]
     },
     "execution_count": 14,
     "metadata": {},
     "output_type": "execute_result"
    }
   ],
   "source": [
    "# 오늘날짜의 지하철 이슈 찾아보기\n",
    "today = date.today().isoformat() + '%'\n",
    "\n",
    "# 조회해서 리스트(안에는 튜플)에 담기\n",
    "cur.execute(f\"SELECT * FROM subdata WHERE acctime LIKE '{today}' order by acctime ASC\")\n",
    "result_all = cur.fetchall()\n",
    "\n",
    "sbstr=\"\"\n",
    "for i in result_all:\n",
    "    for j in i:\n",
    "        sbstr = sbstr + j + \"\\n\"\n",
    "    sbstr = sbstr + \"\\n\"\n",
    "\n",
    "sbstr"
   ]
  },
  {
   "cell_type": "code",
   "execution_count": 21,
   "id": "84f7fdec",
   "metadata": {},
   "outputs": [],
   "source": [
    "conn.commit()"
   ]
  },
  {
   "cell_type": "code",
   "execution_count": null,
   "id": "29ac690a",
   "metadata": {},
   "outputs": [],
   "source": []
  },
  {
   "cell_type": "code",
   "execution_count": null,
   "id": "f2fa378f",
   "metadata": {},
   "outputs": [],
   "source": []
  },
  {
   "cell_type": "markdown",
   "id": "d165ea52",
   "metadata": {},
   "source": [
    "# 221116 변경사항\n",
    "서울 안전누리사이트에 오전 8시에 지하철 사고 데이터 2건 생성\n",
    "크롤링해서 db에 넣었는데 오전10시에 사고 데이터3건 추가 생성\n",
    "    지하철 사고 전체를 긁어오므로 데이터 총 5건을 넣어야 함!\n",
    "    근데 5건중 2건은 이미 넣은 데이터이므로 데이터 중복검사를 해야 함.\n",
    "    따라서 다음의 프로세스를 따를것\n",
    "- 1. 2개의 컬럼을 가지는 데이터베이스를 새로 만듬 - subaccdata (subacc은 항상 지하철사고가 들어옴)\n",
    "- 2. 새로 만들 데이터베이스 subaccdata의 컬럼 2개를 복합 키로 설정\n",
    "    - postgre에서 중복된 데이터를 사전에 예방하여 insert를 하려면 기본 키가 설정되어 있어야 함.\n",
    "- 3. 이전에 쌓아놧던 subdata 테이블의 데이터를 새로 만든 테이블로 옮김\n",
    "- 4. 변경된 테이블에 맞는 insert 코드 세팅\n",
    "- 5. 테이블이 변경되었으니 웹에서 동작하는 코드도 변경해줘야 함. (app.py)"
   ]
  },
  {
   "cell_type": "code",
   "execution_count": null,
   "id": "70ae792a",
   "metadata": {},
   "outputs": [],
   "source": [
    "#데이터베이스 새로 만들기 (복합 키 세팅)\n",
    "# create table\n",
    "def db_create():\n",
    "    cur.execute(\"CREATE TABLE IF NOT EXISTS subaccdata(acctime VARCHAR(30) NOT NULL, content VARCHAR(300) NOT NULL, primary key(acctime, content));\")\n",
    "    conn.commit()\n",
    "\n",
    "db_create()"
   ]
  },
  {
   "cell_type": "code",
   "execution_count": 23,
   "id": "0c321075",
   "metadata": {},
   "outputs": [],
   "source": [
    "# subdata테이블의 데이터 옮기기\n",
    "\n",
    "# db select 후 리스트(안에는 튜플)에 담기\n",
    "cur.execute(f\"SELECT * FROM subdata\")\n",
    "result_all = cur.fetchall()"
   ]
  },
  {
   "cell_type": "code",
   "execution_count": 24,
   "id": "450396d0",
   "metadata": {
    "scrolled": true
   },
   "outputs": [
    {
     "data": {
      "text/plain": [
       "[('지하철사고',\n",
       "  '2022-11-14 06:00',\n",
       "  '서울교통공사에서 알려드립니다. 금일 08시부터 4호선에서「전국장애인차별철폐연대」의 ‘장애인 권리예산 확보’를 위한 출근길 지하철 타기 선전전이 예정되어 있습니다. 이로 인해 4호선 해당구간 열차운행이 상당시간 지연될 수 있으니 이점 참고하여 열차를 이용해 주시기 바랍니다.'),\n",
       " ('지하철사고',\n",
       "  '2022-11-15 06:01',\n",
       "  '서울교통공사에서 알려드립니다. 금일 08시부터 4호선에서「전국장애인차별철폐연대」의 ‘장애인 권리예산 확보’를 위한 출근길 지하철 타기 선전전이 예정되어 있습니다. 이로 인해 4호선 해당구간 열차운행이 상당시간 지연될 수 있으니 이점 참고하여 열차를 이용해 주시기 바랍니다.'),\n",
       " ('지하철사고',\n",
       "  '2022-11-16 08:51',\n",
       "  '3호선 잠원역 상선 차량고장은 조치 완료되어 정상운행 중에 있습니다. 열차이용에 불편을 드려 대단히 죄송합니다. -서울교통공사 종합관제단'),\n",
       " ('지하철사고',\n",
       "  '2022-11-16 08:45',\n",
       "  '3호선 잠원역 상선 차량고장으로 현재 조치 중에 있습니다. 바쁘신 고객께서는 타 교통 수단을 이용하시기 바랍니다. 열차이용에 불편을 드려 대단히 죄송합니다. -서울교통공사 종합관제단')]"
      ]
     },
     "execution_count": 24,
     "metadata": {},
     "output_type": "execute_result"
    }
   ],
   "source": [
    "result_all"
   ]
  },
  {
   "cell_type": "code",
   "execution_count": 27,
   "id": "20db11d8",
   "metadata": {
    "scrolled": true
   },
   "outputs": [
    {
     "data": {
      "text/plain": [
       "tuple"
      ]
     },
     "execution_count": 27,
     "metadata": {},
     "output_type": "execute_result"
    }
   ],
   "source": [
    "type(result_all[0])"
   ]
  },
  {
   "cell_type": "code",
   "execution_count": 46,
   "id": "751528bd",
   "metadata": {},
   "outputs": [],
   "source": [
    "a = list(result_all[0])"
   ]
  },
  {
   "cell_type": "code",
   "execution_count": 47,
   "id": "833db5ae",
   "metadata": {
    "scrolled": true
   },
   "outputs": [
    {
     "data": {
      "text/plain": [
       "list"
      ]
     },
     "execution_count": 47,
     "metadata": {},
     "output_type": "execute_result"
    }
   ],
   "source": [
    "type(a)"
   ]
  },
  {
   "cell_type": "code",
   "execution_count": 48,
   "id": "115fcb3d",
   "metadata": {},
   "outputs": [
    {
     "data": {
      "text/plain": [
       "3"
      ]
     },
     "execution_count": 48,
     "metadata": {},
     "output_type": "execute_result"
    }
   ],
   "source": [
    "len(a)"
   ]
  },
  {
   "cell_type": "code",
   "execution_count": 49,
   "id": "b0a419be",
   "metadata": {},
   "outputs": [
    {
     "data": {
      "text/plain": [
       "'지하철사고'"
      ]
     },
     "execution_count": 49,
     "metadata": {},
     "output_type": "execute_result"
    }
   ],
   "source": [
    "a.pop(0)"
   ]
  },
  {
   "cell_type": "code",
   "execution_count": 50,
   "id": "1b9258d9",
   "metadata": {},
   "outputs": [
    {
     "data": {
      "text/plain": [
       "['2022-11-14 06:00',\n",
       " '서울교통공사에서 알려드립니다. 금일 08시부터 4호선에서「전국장애인차별철폐연대」의 ‘장애인 권리예산 확보’를 위한 출근길 지하철 타기 선전전이 예정되어 있습니다. 이로 인해 4호선 해당구간 열차운행이 상당시간 지연될 수 있으니 이점 참고하여 열차를 이용해 주시기 바랍니다.']"
      ]
     },
     "execution_count": 50,
     "metadata": {},
     "output_type": "execute_result"
    }
   ],
   "source": [
    "a"
   ]
  },
  {
   "cell_type": "code",
   "execution_count": 51,
   "id": "db74c6f5",
   "metadata": {},
   "outputs": [
    {
     "data": {
      "text/plain": [
       "2"
      ]
     },
     "execution_count": 51,
     "metadata": {},
     "output_type": "execute_result"
    }
   ],
   "source": [
    "len(a)"
   ]
  },
  {
   "cell_type": "code",
   "execution_count": 43,
   "id": "ecb15b69",
   "metadata": {},
   "outputs": [
    {
     "data": {
      "text/plain": [
       "('2022-11-14 06:00',\n",
       " '서울교통공사에서 알려드립니다. 금일 08시부터 4호선에서「전국장애인차별철폐연대」의 ‘장애인 권리예산 확보’를 위한 출근길 지하철 타기 선전전이 예정되어 있습니다. 이로 인해 4호선 해당구간 열차운행이 상당시간 지연될 수 있으니 이점 참고하여 열차를 이용해 주시기 바랍니다.')"
      ]
     },
     "execution_count": 43,
     "metadata": {},
     "output_type": "execute_result"
    }
   ],
   "source": [
    "b"
   ]
  },
  {
   "cell_type": "code",
   "execution_count": 44,
   "id": "44c7ba5e",
   "metadata": {},
   "outputs": [],
   "source": [
    "# 새로운 db에 넣어주기\n",
    "for i in result_all:\n",
    "    # result_all은 튜플로 이루어진 리스트 : tuple은 삭제가 불가능하므로 list로 변경\n",
    "    a = list(i)\n",
    "    \n",
    "    # 첫번째 값 제거 - 지하철사고\n",
    "    a.pop(0)\n",
    "    \n",
    "    # 다시 튜플로 바꾸기\n",
    "    b = tuple(a)\n",
    "    \n",
    "    # db에 넣어주기\n",
    "    cur.execute(\"INSERT into subaccdata(acctime, content) VALUES (%s, %s)\", b)\n",
    "    conn.commit()"
   ]
  },
  {
   "cell_type": "code",
   "execution_count": null,
   "id": "9cde8cef",
   "metadata": {},
   "outputs": [],
   "source": []
  },
  {
   "cell_type": "code",
   "execution_count": 70,
   "id": "668487ae",
   "metadata": {
    "scrolled": true
   },
   "outputs": [],
   "source": [
    "#new db insert\n",
    "for i in subli:\n",
    "    # slice 후 첫번째 요소 제거 tuple화\n",
    "    subdb = i.split('\\n')\n",
    "    subdb.pop(0)\n",
    "    # ON CONFLICT : 데이터가 중복되면 INSERT하지않음\n",
    "    cur.execute(\"INSERT into subaccdata(acctime, content) VALUES (%s, %s) ON CONFLICT (acctime, content) DO NOTHING\", subdb)\n",
    "\n",
    "# db commit\n",
    "conn.commit()   "
   ]
  },
  {
   "cell_type": "code",
   "execution_count": 61,
   "id": "97e23e05",
   "metadata": {
    "scrolled": true
   },
   "outputs": [
    {
     "data": {
      "text/plain": [
       "['지하철사고\\n2022-11-16 11:29\\n4호선 총신대입구~동작역 간 차량고장은 조치 완료되었으나, 순연 운행중에 있습니다. 열차이용에 불편을 드려 대단히 죄송합니다. -서울교통공사 종합관제단',\n",
       " '지하철사고\\n2022-11-16 11:07\\n4호선 총신대입구~동작역 상선 코레일 시운전열차 차량고장으로 4호선 상선 열차 지연 운행 중 입니다. 바쁘신 고객께서는 타교통을 이용하여주시기 바랍니다.',\n",
       " '지하철사고\\n2022-11-16 10:51\\n4호선 총신대입구~동작역 간 상선 코레일 시운전 열차 고장으로 후속열차와 구원연결 예정입니다. 열차 이용에 불편을 드려 죄송합니다.-서울교통공사 종합관제단',\n",
       " '지하철사고\\n2022-11-16 08:51\\n3호선 잠원역 상선 차량고장은 조치 완료되어 정상운행 중에 있습니다. 열차이용에 불편을 드려 대단히 죄송합니다. -서울교통공사 종합관제단',\n",
       " '지하철사고\\n2022-11-16 08:45\\n3호선 잠원역 상선 차량고장으로 현재 조치 중에 있습니다. 바쁘신 고객께서는 타 교통 수단을 이용하시기 바랍니다. 열차이용에 불편을 드려 대단히 죄송합니다. -서울교통공사 종합관제단']"
      ]
     },
     "execution_count": 61,
     "metadata": {},
     "output_type": "execute_result"
    }
   ],
   "source": [
    "subli"
   ]
  },
  {
   "cell_type": "code",
   "execution_count": 60,
   "id": "71b035b0",
   "metadata": {},
   "outputs": [
    {
     "data": {
      "text/plain": [
       "5"
      ]
     },
     "execution_count": 60,
     "metadata": {},
     "output_type": "execute_result"
    }
   ],
   "source": [
    "len(subli)"
   ]
  },
  {
   "cell_type": "code",
   "execution_count": 62,
   "id": "7bc25c2a",
   "metadata": {
    "scrolled": true
   },
   "outputs": [
    {
     "data": {
      "text/plain": [
       "'지하철사고\\n2022-11-16 11:29\\n4호선 총신대입구~동작역 간 차량고장은 조치 완료되었으나, 순연 운행중에 있습니다. 열차이용에 불편을 드려 대단히 죄송합니다. -서울교통공사 종합관제단'"
      ]
     },
     "execution_count": 62,
     "metadata": {},
     "output_type": "execute_result"
    }
   ],
   "source": [
    "subli[0]"
   ]
  },
  {
   "cell_type": "code",
   "execution_count": 65,
   "id": "2faf0fba",
   "metadata": {},
   "outputs": [],
   "source": [
    "a = subli[0].split('\\n')"
   ]
  },
  {
   "cell_type": "code",
   "execution_count": 66,
   "id": "35f2877a",
   "metadata": {},
   "outputs": [
    {
     "data": {
      "text/plain": [
       "list"
      ]
     },
     "execution_count": 66,
     "metadata": {},
     "output_type": "execute_result"
    }
   ],
   "source": [
    "type(a)"
   ]
  },
  {
   "cell_type": "code",
   "execution_count": 69,
   "id": "6e143abc",
   "metadata": {},
   "outputs": [],
   "source": [
    "conn.commit()"
   ]
  }
 ],
 "metadata": {
  "kernelspec": {
   "display_name": "Python 3 (ipykernel)",
   "language": "python",
   "name": "python3"
  },
  "language_info": {
   "codemirror_mode": {
    "name": "ipython",
    "version": 3
   },
   "file_extension": ".py",
   "mimetype": "text/x-python",
   "name": "python",
   "nbconvert_exporter": "python",
   "pygments_lexer": "ipython3",
   "version": "3.10.7"
  }
 },
 "nbformat": 4,
 "nbformat_minor": 5
}
