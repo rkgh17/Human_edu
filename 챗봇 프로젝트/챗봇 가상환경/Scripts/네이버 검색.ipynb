{
 "cells": [
  {
   "cell_type": "code",
   "execution_count": 1,
   "id": "ae738e55",
   "metadata": {},
   "outputs": [
    {
     "name": "stdout",
     "output_type": "stream",
     "text": [
      "4.6.0\n"
     ]
    }
   ],
   "source": [
    "import selenium\n",
    "print(selenium.__version__)"
   ]
  },
  {
   "cell_type": "code",
   "execution_count": 2,
   "id": "bf4c3e9a",
   "metadata": {},
   "outputs": [
    {
     "name": "stderr",
     "output_type": "stream",
     "text": [
      "C:\\Users\\h\\AppData\\Local\\Temp\\ipykernel_4296\\616448110.py:7: DeprecationWarning: executable_path has been deprecated, please pass in a Service object\n",
      "  driver = webdriver.Chrome(url + 'chromedriver.exe')\n"
     ]
    }
   ],
   "source": [
    "from selenium import webdriver\n",
    "from selenium.webdriver.common.keys import Keys\n",
    "from selenium.webdriver.common.by import By\n",
    "import time\n",
    "\n",
    "url = 'C:/Users/h/Desktop/chatbot/'\n",
    "driver = webdriver.Chrome(url + 'chromedriver.exe')"
   ]
  },
  {
   "cell_type": "code",
   "execution_count": 3,
   "id": "6170bd18",
   "metadata": {},
   "outputs": [],
   "source": [
    "driver.get(\"https://www.naver.com/\")\n",
    "time.sleep(2)"
   ]
  },
  {
   "cell_type": "code",
   "execution_count": 4,
   "id": "4e12e705",
   "metadata": {},
   "outputs": [],
   "source": [
    "# 검색어 입력\n",
    "craw_keyword = '지하철 시위'\n",
    "\n",
    "driver.find_element(By.ID,'query').click()\n",
    "\n",
    "element = driver.find_element(By.ID, 'query')\n",
    "\n",
    "element.send_keys(craw_keyword)\n",
    "\n",
    "# 검색 버튼\n",
    "driver.find_element(By.ID,'search_btn').click()"
   ]
  },
  {
   "cell_type": "code",
   "execution_count": 6,
   "id": "b2c6cd3b",
   "metadata": {},
   "outputs": [],
   "source": [
    "# 로고버튼 눌러서 홈으로 가기\n",
    "driver.find_element(By.CLASS_NAME, 'logo').click()"
   ]
  }
 ],
 "metadata": {
  "kernelspec": {
   "display_name": "Python 3 (ipykernel)",
   "language": "python",
   "name": "python3"
  },
  "language_info": {
   "codemirror_mode": {
    "name": "ipython",
    "version": 3
   },
   "file_extension": ".py",
   "mimetype": "text/x-python",
   "name": "python",
   "nbconvert_exporter": "python",
   "pygments_lexer": "ipython3",
   "version": "3.10.7"
  }
 },
 "nbformat": 4,
 "nbformat_minor": 5
}
