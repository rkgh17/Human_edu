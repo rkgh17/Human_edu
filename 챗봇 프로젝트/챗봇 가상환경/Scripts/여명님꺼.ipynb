{
 "cells": [
  {
   "cell_type": "code",
   "execution_count": null,
   "id": "6d8d1610",
   "metadata": {},
   "outputs": [],
   "source": [
    "##호선뉴스\n",
    "@app.route('/api/newslist', methods=['POST'])\n",
    "def newslist():\n",
    "    body = request.get_json()\n",
    "    print(body)\n",
    "    hosun = (body['action']['params'])['sys_news']\n",
    "\n",
    "    \n",
    "    conn = psycopg2.connect(host=\"ec2-18-207-37-30.compute-1.amazonaws.com\", \n",
    "                            dbname=\"da3iiu1dg1eubl\", \n",
    "                            user=\"arbmerojlhxbrf\", \n",
    "                            password=\"6944d2306202fed548eb3547ca2aaf2cfc420aa21880236efff1ba4f395f35f8\", \n",
    "                            port=\"5432\")\n",
    " \n",
    "    cur = conn.cursor()\n",
    "\n",
    "    newhosun = '%' + hosun + '%'\n",
    "    cur.execute(f\"SELECT title, link from news2 WHERE title LIKE '{newhosun}' order by id desc limit 3\")\n",
    "    # cur.execute(f\"SELECT (row_number() over()) AS rownum, writingtime, title FROM news5 WHERE title LIKE '{newhosun}' order by rownum desc limit 3\")\n",
    "    result_all = cur.fetchall()\n",
    "\n",
    "    newsstr=\"\"\n",
    "    for i in result_all:\n",
    "        for j in i:\n",
    "            newsstr = newsstr + j + \"\\n\"\n",
    "\n",
    "    responseBody = {\n",
    "        \"version\": \"2.0\",\n",
    "        \"template\": {\n",
    "            \"outputs\": [\n",
    "                {\n",
    "                    \"simpleText\": {\n",
    "                        \"text\": newsstr\n",
    "                    }\n",
    "                }\n",
    "            ]\n",
    "        }\n",
    "    }\n",
    "    return responseBody"
   ]
  },
  {
   "cell_type": "code",
   "execution_count": null,
   "id": "40b99ebf",
   "metadata": {},
   "outputs": [],
   "source": []
  }
 ],
 "metadata": {
  "kernelspec": {
   "display_name": "Python 3 (ipykernel)",
   "language": "python",
   "name": "python3"
  },
  "language_info": {
   "codemirror_mode": {
    "name": "ipython",
    "version": 3
   },
   "file_extension": ".py",
   "mimetype": "text/x-python",
   "name": "python",
   "nbconvert_exporter": "python",
   "pygments_lexer": "ipython3",
   "version": "3.10.7"
  }
 },
 "nbformat": 4,
 "nbformat_minor": 5
}
