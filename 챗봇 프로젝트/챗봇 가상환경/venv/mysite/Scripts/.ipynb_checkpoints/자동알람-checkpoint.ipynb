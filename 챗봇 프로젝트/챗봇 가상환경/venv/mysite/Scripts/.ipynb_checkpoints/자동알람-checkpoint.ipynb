{
 "cells": [
  {
   "cell_type": "code",
   "execution_count": 20,
   "id": "6ef83d55",
   "metadata": {},
   "outputs": [],
   "source": [
    "from selenium import webdriver\n",
    "from selenium.webdriver.common.keys import Keys\n",
    "from selenium.webdriver.common.by import By\n",
    "from datetime import date\n",
    "import json\n",
    "import requests\n",
    "import time\n",
    "import psycopg2"
   ]
  },
  {
   "cell_type": "code",
   "execution_count": null,
   "id": "68aa4cb1",
   "metadata": {},
   "outputs": [],
   "source": []
  },
  {
   "cell_type": "code",
   "execution_count": null,
   "id": "c01e25de",
   "metadata": {},
   "outputs": [],
   "source": []
  },
  {
   "cell_type": "code",
   "execution_count": null,
   "id": "df55ca3c",
   "metadata": {},
   "outputs": [],
   "source": []
  },
  {
   "cell_type": "code",
   "execution_count": 21,
   "id": "72c8d2f7",
   "metadata": {},
   "outputs": [],
   "source": [
    "# 오늘의 지하철 속보 검색\n",
    "# db연결\n",
    "conn = psycopg2.connect(host=\"ec2-23-21-207-93.compute-1.amazonaws.com\", \n",
    "                        dbname=\"d3oubpekvnbupv\", \n",
    "                        user=\"grxhirqndvyqvv\", \n",
    "                        password=\"6f1afaafe16d245c70666bdb8c831aa876e62b380a1544f5dc832c51f27cece6\", \n",
    "                        port=\"5432\")\n",
    "\n",
    "# 데이터 조작 객체 생성\n",
    "cur = conn.cursor()\n",
    "time.sleep(3)"
   ]
  },
  {
   "cell_type": "code",
   "execution_count": 22,
   "id": "1ecae1d2",
   "metadata": {},
   "outputs": [],
   "source": [
    "# 오늘날짜의 지하철 이슈 찾아보기\n",
    "today = date.today().isoformat() + '%'\n",
    "\n",
    "# 조회해서 리스트(안에는 튜플)에 담기\n",
    "cur.execute(f\"SELECT * FROM subaccdata WHERE acctime LIKE '{today}' order by acctime ASC\")\n",
    "result_all = cur.fetchall()\n",
    "\n",
    "sbstr=\"\"\n",
    "for i in result_all:\n",
    "    for j in i:\n",
    "        sbstr =  sbstr + j + \"\\n\"\n",
    "    sbstr = sbstr + \"\\n\"\n",
    "\n",
    "sbstr = sbstr[:-2]\n",
    "\n",
    "time.sleep(2)\n",
    "\n"
   ]
  },
  {
   "cell_type": "code",
   "execution_count": 23,
   "id": "e9b3f8ea",
   "metadata": {},
   "outputs": [
    {
     "data": {
      "text/plain": [
       "'2022-11-21 06:00\\n서울교통공사에서 알려드립니다. 금일 08시부터 4호선에서「전국장애인차별철폐연대」의 ‘장애인 권리예산 확보’를 위한 출근길 지하철 타기 선전전이 예정되어 있습니다. 이로 인해 4호선 해당구간 열차운행이 상당시간 지연될 수 있으니 이점 참고하여 열차를 이용해 주시기 바랍니다.\\n\\n2022-11-21 14:53\\n서울교통공사에서 알려드립니다. 현재 4호선에서「전국장애인차별철폐연대」의 열차운행 방해 불법시위가 진행되고 있습니다. 이로 인해 4호선 열차운행이 상당시간 지연될 수 있으니 이점 참고하여 열차를 이용해 주시기 바랍니다 서울교통공사는 열차운행이 신속히 정상화될 수 있도록 최선을 다하겠습니다.'"
      ]
     },
     "execution_count": 23,
     "metadata": {},
     "output_type": "execute_result"
    }
   ],
   "source": [
    "sbstr"
   ]
  },
  {
   "cell_type": "code",
   "execution_count": 3,
   "id": "107e5e23",
   "metadata": {},
   "outputs": [
    {
     "name": "stderr",
     "output_type": "stream",
     "text": [
      "C:\\Users\\h\\AppData\\Local\\Temp\\ipykernel_13236\\612963001.py:5: DeprecationWarning: executable_path has been deprecated, please pass in a Service object\n",
      "  driver = webdriver.Chrome(PATH + 'chromedriver.exe', options=options)\n"
     ]
    }
   ],
   "source": [
    "# 셀레니움 창오픈\n",
    "PATH = 'C:/Users/h/Desktop/chatbot/'\n",
    "options = webdriver.ChromeOptions()\n",
    "# options.add_argument(\"headless\")\n",
    "driver = webdriver.Chrome(PATH + 'chromedriver.exe', options=options)\n",
    "time.sleep(10)"
   ]
  },
  {
   "cell_type": "code",
   "execution_count": 11,
   "id": "4894a715",
   "metadata": {},
   "outputs": [
    {
     "name": "stderr",
     "output_type": "stream",
     "text": [
      "C:\\Users\\h\\AppData\\Local\\Temp\\ipykernel_15412\\1918150743.py:6: DeprecationWarning: executable_path has been deprecated, please pass in a Service object\n",
      "  driver = webdriver.Chrome(PATH + 'chromedriver.exe', options=options)\n"
     ]
    }
   ],
   "source": [
    "# 셀레니움 창오픈 없이 실행\n",
    "\n",
    "PATH = 'C:/Users/h/Desktop/chatbot/'\n",
    "options = webdriver.ChromeOptions()\n",
    "options.add_argument(\"headless\")\n",
    "driver = webdriver.Chrome(PATH + 'chromedriver.exe', options=options)\n"
   ]
  },
  {
   "cell_type": "code",
   "execution_count": 9,
   "id": "739c84c3",
   "metadata": {},
   "outputs": [
    {
     "name": "stdout",
     "output_type": "stream",
     "text": [
      "2.0934 sec\n"
     ]
    }
   ],
   "source": [
    "# 셀레니움 창 종료\n",
    "start = time.time()\n",
    "driver.quit()\n",
    "print(f\"{time.time()-start:.4f} sec\")"
   ]
  },
  {
   "cell_type": "code",
   "execution_count": 13,
   "id": "6646ae5a",
   "metadata": {},
   "outputs": [],
   "source": [
    "driver.get(\"https://safecity.seoul.go.kr/acdnt/sbwyIndex.do\")\n",
    "# time.sleep(5)\n",
    "\n",
    "# 데이터 긁어오기\n",
    "parentElement = driver.find_elements(By.XPATH, '//*[@id=\"dv_as_timeline\"]/li')\n",
    "\n",
    "subli=[]"
   ]
  },
  {
   "cell_type": "code",
   "execution_count": 14,
   "id": "82965476",
   "metadata": {},
   "outputs": [],
   "source": [
    "for i in parentElement:\n",
    "    i.click()\n",
    "    time.sleep(0.05)\n",
    "    a = i.text\n",
    "    subli.append(a)\n",
    "    i.click()"
   ]
  },
  {
   "cell_type": "code",
   "execution_count": 24,
   "id": "2969575b",
   "metadata": {
    "scrolled": true
   },
   "outputs": [
    {
     "data": {
      "text/plain": [
       "['지하철사고\\n2022-11-21 14:53\\n서울교통공사에서 알려드립니다. 현재 4호선에서「전국장애인차별철폐연대」의 열차운행 방해 불법시위가 진행되고 있습니다. 이로 인해 4호선 열차운행이 상당시간 지연될 수 있으니 이점 참고하여 열차를 이용해 주시기 바랍니다 서울교통공사는 열차운행이 신속히 정상화될 수 있도록 최선을 다하겠습니다.',\n",
       " '지하철사고\\n2022-11-21 06:00\\n서울교통공사에서 알려드립니다. 금일 08시부터 4호선에서「전국장애인차별철폐연대」의 ‘장애인 권리예산 확보’를 위한 출근길 지하철 타기 선전전이 예정되어 있습니다. 이로 인해 4호선 해당구간 열차운행이 상당시간 지연될 수 있으니 이점 참고하여 열차를 이용해 주시기 바랍니다.']"
      ]
     },
     "execution_count": 24,
     "metadata": {},
     "output_type": "execute_result"
    }
   ],
   "source": [
    "subli"
   ]
  },
  {
   "cell_type": "code",
   "execution_count": 25,
   "id": "c8595658",
   "metadata": {},
   "outputs": [],
   "source": [
    "substr=\"\""
   ]
  },
  {
   "cell_type": "code",
   "execution_count": 26,
   "id": "133eaf5a",
   "metadata": {},
   "outputs": [],
   "source": [
    "substr=\"\"\n",
    "for i in subli:\n",
    "    i = i[6:]\n",
    "    substr = substr + i + \"\\n\"\n",
    "substr = substr[:-2]"
   ]
  },
  {
   "cell_type": "code",
   "execution_count": 27,
   "id": "f95debde",
   "metadata": {
    "scrolled": true
   },
   "outputs": [
    {
     "data": {
      "text/plain": [
       "'2022-11-21 14:53\\n서울교통공사에서 알려드립니다. 현재 4호선에서「전국장애인차별철폐연대」의 열차운행 방해 불법시위가 진행되고 있습니다. 이로 인해 4호선 열차운행이 상당시간 지연될 수 있으니 이점 참고하여 열차를 이용해 주시기 바랍니다 서울교통공사는 열차운행이 신속히 정상화될 수 있도록 최선을 다하겠습니다.\\n2022-11-21 06:00\\n서울교통공사에서 알려드립니다. 금일 08시부터 4호선에서「전국장애인차별철폐연대」의 ‘장애인 권리예산 확보’를 위한 출근길 지하철 타기 선전전이 예정되어 있습니다. 이로 인해 4호선 해당구간 열차운행이 상당시간 지연될 수 있으니 이점 참고하여 열차를 이용해 주시기 바랍니다'"
      ]
     },
     "execution_count": 27,
     "metadata": {},
     "output_type": "execute_result"
    }
   ],
   "source": [
    "# 긁어온 데이터\n",
    "substr"
   ]
  },
  {
   "cell_type": "code",
   "execution_count": 28,
   "id": "ab58a2f6",
   "metadata": {},
   "outputs": [
    {
     "data": {
      "text/plain": [
       "'2022-11-21 06:00\\n서울교통공사에서 알려드립니다. 금일 08시부터 4호선에서「전국장애인차별철폐연대」의 ‘장애인 권리예산 확보’를 위한 출근길 지하철 타기 선전전이 예정되어 있습니다. 이로 인해 4호선 해당구간 열차운행이 상당시간 지연될 수 있으니 이점 참고하여 열차를 이용해 주시기 바랍니다.\\n\\n2022-11-21 14:53\\n서울교통공사에서 알려드립니다. 현재 4호선에서「전국장애인차별철폐연대」의 열차운행 방해 불법시위가 진행되고 있습니다. 이로 인해 4호선 열차운행이 상당시간 지연될 수 있으니 이점 참고하여 열차를 이용해 주시기 바랍니다 서울교통공사는 열차운행이 신속히 정상화될 수 있도록 최선을 다하겠습니다.'"
      ]
     },
     "execution_count": 28,
     "metadata": {},
     "output_type": "execute_result"
    }
   ],
   "source": [
    "# db에서 가져온 데이터\n",
    "sbstr"
   ]
  },
  {
   "cell_type": "code",
   "execution_count": 10,
   "id": "0ab60048",
   "metadata": {},
   "outputs": [
    {
     "ename": "NameError",
     "evalue": "name 'sbstr' is not defined",
     "output_type": "error",
     "traceback": [
      "\u001b[1;31m---------------------------------------------------------------------------\u001b[0m",
      "\u001b[1;31mNameError\u001b[0m                                 Traceback (most recent call last)",
      "Cell \u001b[1;32mIn [10], line 30\u001b[0m\n\u001b[0;32m     27\u001b[0m substr \u001b[38;5;241m=\u001b[39m substr[:\u001b[38;5;241m-\u001b[39m\u001b[38;5;241m2\u001b[39m]\n\u001b[0;32m     29\u001b[0m \u001b[38;5;66;03m# 뽑아온 데이터와 오늘의 데이터가 다르다면 db에 넣어준 후 카카오톡 알림실행\u001b[39;00m\n\u001b[1;32m---> 30\u001b[0m \u001b[38;5;28;01mif\u001b[39;00m substr \u001b[38;5;241m!=\u001b[39m \u001b[43msbstr\u001b[49m:\n\u001b[0;32m     31\u001b[0m     \u001b[38;5;66;03m#new db insert\u001b[39;00m\n\u001b[0;32m     32\u001b[0m     \u001b[38;5;28;01mfor\u001b[39;00m i \u001b[38;5;129;01min\u001b[39;00m subli:\n\u001b[0;32m     33\u001b[0m         \u001b[38;5;66;03m# slice 후 첫번째 요소 제거 tuple화\u001b[39;00m\n\u001b[0;32m     34\u001b[0m         subdb \u001b[38;5;241m=\u001b[39m i\u001b[38;5;241m.\u001b[39msplit(\u001b[38;5;124m'\u001b[39m\u001b[38;5;130;01m\\n\u001b[39;00m\u001b[38;5;124m'\u001b[39m)\n",
      "\u001b[1;31mNameError\u001b[0m: name 'sbstr' is not defined"
     ]
    }
   ],
   "source": [
    "# 지하철 속보 크롤링후 현제 데이터베이스 정보 sbstr과 다르면 insert 후 카카오톡 알림\n",
    "\n",
    "\n",
    "# 지하철 속보 뽑기\n",
    "driver.get(\"https://safecity.seoul.go.kr/acdnt/sbwyIndex.do\")\n",
    "time.sleep(5)\n",
    "\n",
    "# 데이터 긁어오기\n",
    "parentElement = driver.find_elements(By.XPATH, '//*[@id=\"dv_as_timeline\"]/li')\n",
    "\n",
    "subli=[]\n",
    "\n",
    "# ul 태그 아래 있는 li 반복 뽑기\n",
    "for i in parentElement:\n",
    "    i.click()\n",
    "    time.sleep(0.05)\n",
    "    a = i.text\n",
    "    subli.append(a)\n",
    "    i.click()\n",
    "    \n",
    "time.sleep(10)\n",
    "\n",
    "substr=\"\"\n",
    "for i in subli:\n",
    "    i = i[6:]\n",
    "    substr = substr + i + \"\\n\"\n",
    "substr = substr[:-2]\n",
    "\n",
    "# 뽑아온 데이터와 오늘의 데이터가 다르다면 db에 넣어준 후 카카오톡 알림실행\n",
    "if substr != sbstr:\n",
    "    #new db insert\n",
    "    for i in subli:\n",
    "        # slice 후 첫번째 요소 제거 tuple화\n",
    "        subdb = i.split('\\n')\n",
    "        subdb.pop(0)\n",
    "        # ON CONFLICT : 데이터가 중복되면 INSERT하지않음\n",
    "        cur.execute(\"INSERT into subaccdata(acctime, content) VALUES (%s, %s) ON CONFLICT (acctime, content) DO NOTHING\", subdb)\n",
    "\n",
    "    # db commit\n",
    "    conn.commit()   \n",
    "    \n",
    "    driver.get(\"https://kauth.kakao.com/oauth/authorize?client_id=f0b5de8b4882015099eaca013e4d373f&redirect_uri=https://example.com/oauth&response_type=code\")\n",
    "    \n",
    "    # 카카오 자동 로그인\n",
    "    myid = driver.find_elements(By.XPATH, '//*[@id=\"input-loginKey\"]')[0]\n",
    "    myid.send_keys('rkgh17@daum.net')\n",
    "    time.sleep(0.5)\n",
    "    mypd = driver.find_elements(By.XPATH, '//*[@id=\"input-password\"]')[0]\n",
    "    mypd.send_keys('passwordkk17@')\n",
    "    time.sleep(0.5)\n",
    "    driver.find_elements(By.XPATH, '//*[@id=\"mainContent\"]/div/div/form/div[4]/button[1]')[0].click()\n",
    "    # 여기서 2단계 인증인증이나 로봇이 아닙니다필요......\n",
    "    time.sleep(30)\n",
    "    \n",
    "    authorize_code = driver.current_url[31:]\n",
    "    \n",
    "    url = 'https://kauth.kakao.com/oauth/token'\n",
    "    rest_api_key = 'f0b5de8b4882015099eaca013e4d373f'\n",
    "    redirect_uri = 'https://example.com/oauth'\n",
    "    data = {\n",
    "        'grant_type':'authorization_code',\n",
    "        'client_id':rest_api_key,\n",
    "        'redirect_uri':redirect_uri,\n",
    "        'code': authorize_code,\n",
    "        }\n",
    "\n",
    "    response = requests.post(url, data=data)\n",
    "    tokens = response.json()\n",
    "\n",
    "\n",
    "    with open(\"kakao_code.json\",\"w\") as fp:\n",
    "        json.dump(tokens, fp)\n",
    "\n",
    "    with open(\"kakao_code.json\",\"r\") as fp:\n",
    "        ts = json.load(fp)\n",
    "    \n",
    "    # 메시지 보내기\n",
    "    url=\"https://kapi.kakao.com/v2/api/talk/memo/default/send\"\n",
    "\n",
    "    # kapi.kakao.com/v2/api/talk/memo/default/send \n",
    "\n",
    "    headers={\n",
    "        \"Authorization\" : \"Bearer \" + tokens[\"access_token\"]\n",
    "    }\n",
    "\n",
    "    data={\n",
    "        \"template_object\": json.dumps({\n",
    "            \"object_type\":\"text\",\n",
    "            \"text\": substr,\n",
    "            \"link\":{\n",
    "                \"web_url\":\"www.naver.com\"\n",
    "            }\n",
    "        })\n",
    "    }\n",
    "\n",
    "    response = requests.post(url, headers=headers, data=data)\n",
    "    response.status_code\n"
   ]
  },
  {
   "cell_type": "code",
   "execution_count": null,
   "id": "1d0c5651",
   "metadata": {},
   "outputs": [],
   "source": []
  },
  {
   "cell_type": "code",
   "execution_count": 15,
   "id": "89402d59",
   "metadata": {},
   "outputs": [
    {
     "name": "stdout",
     "output_type": "stream",
     "text": [
      "2.0946 sec\n"
     ]
    }
   ],
   "source": [
    "# 셀레니움 창 종료\n",
    "start = time.time()\n",
    "driver.quit()\n",
    "print(f\"{time.time()-start:.4f} sec\")"
   ]
  },
  {
   "cell_type": "code",
   "execution_count": null,
   "id": "4e71dd08",
   "metadata": {},
   "outputs": [],
   "source": []
  },
  {
   "cell_type": "code",
   "execution_count": null,
   "id": "03a4596b",
   "metadata": {},
   "outputs": [],
   "source": []
  },
  {
   "cell_type": "code",
   "execution_count": 79,
   "id": "ceee32b1",
   "metadata": {},
   "outputs": [
    {
     "name": "stderr",
     "output_type": "stream",
     "text": [
      "C:\\Users\\h\\AppData\\Local\\Temp\\ipykernel_10200\\1918150743.py:6: DeprecationWarning: executable_path has been deprecated, please pass in a Service object\n",
      "  driver = webdriver.Chrome(PATH + 'chromedriver.exe', options=options)\n"
     ]
    }
   ],
   "source": [
    "# 셀레니움 창오픈 없이 실행\n",
    "\n",
    "PATH = 'C:/Users/h/Desktop/chatbot/'\n",
    "options = webdriver.ChromeOptions()\n",
    "options.add_argument(\"headless\")\n",
    "driver = webdriver.Chrome(PATH + 'chromedriver.exe', options=options)\n"
   ]
  },
  {
   "cell_type": "code",
   "execution_count": 80,
   "id": "69ebc676",
   "metadata": {},
   "outputs": [],
   "source": [
    "driver.quit()"
   ]
  },
  {
   "cell_type": "code",
   "execution_count": 81,
   "id": "c8aa7232",
   "metadata": {},
   "outputs": [
    {
     "name": "stderr",
     "output_type": "stream",
     "text": [
      "C:\\Users\\h\\AppData\\Local\\Temp\\ipykernel_10200\\3167573034.py:1: DeprecationWarning: executable_path has been deprecated, please pass in a Service object\n",
      "  driver = webdriver.Chrome(PATH + 'chromedriver.exe')\n"
     ]
    }
   ],
   "source": [
    "driver = webdriver.Chrome(PATH + 'chromedriver.exe')"
   ]
  },
  {
   "cell_type": "code",
   "execution_count": null,
   "id": "1dbc4d53",
   "metadata": {},
   "outputs": [],
   "source": []
  },
  {
   "cell_type": "code",
   "execution_count": 16,
   "id": "83541412",
   "metadata": {},
   "outputs": [],
   "source": [
    "driver.get(\"https://kauth.kakao.com/oauth/authorize?client_id=f0b5de8b4882015099eaca013e4d373f&redirect_uri=https://example.com/oauth&response_type=code\")\n",
    "    \n",
    "def kakao():\n",
    "    # 카카오 자동 로그인\n",
    "    myid = driver.find_elements(By.XPATH, '//*[@id=\"input-loginKey\"]')[0]\n",
    "    myid.send_keys('rkgh17@daum.net')\n",
    "    time.sleep(0.5)\n",
    "    mypd = driver.find_elements(By.XPATH, '//*[@id=\"input-password\"]')[0]\n",
    "    mypd.send_keys('passwordkk17@')\n",
    "    time.sleep(0.5)\n",
    "    driver.find_elements(By.XPATH, '//*[@id=\"mainContent\"]/div/div/form/div[4]/button[1]')[0].click()\n",
    "    # 여기서 2단계 인증인증이나 로봇이 아닙니다필요......\n",
    "    time.sleep(30)\n",
    "    \n",
    "    authorize_code = driver.current_url[31:]\n",
    "    \n",
    "    url = 'https://kauth.kakao.com/oauth/token'\n",
    "    rest_api_key = 'f0b5de8b4882015099eaca013e4d373f'\n",
    "    redirect_uri = 'https://example.com/oauth'\n",
    "    data = {\n",
    "        'grant_type':'authorization_code',\n",
    "        'client_id':rest_api_key,\n",
    "        'redirect_uri':redirect_uri,\n",
    "        'code': authorize_code,\n",
    "        }\n",
    "\n",
    "    response = requests.post(url, data=data)\n",
    "    tokens = response.json()\n",
    "\n",
    "\n",
    "    with open(\"kakao_code.json\",\"w\") as fp:\n",
    "        json.dump(tokens, fp)\n",
    "\n",
    "    with open(\"kakao_code.json\",\"r\") as fp:\n",
    "        ts = json.load(fp)\n",
    "    \n",
    "    # 메시지 보내기\n",
    "    url=\"https://kapi.kakao.com/v2/api/talk/memo/default/send\"\n",
    "\n",
    "    # kapi.kakao.com/v2/api/talk/memo/default/send \n",
    "\n",
    "    headers={\n",
    "        \"Authorization\" : \"Bearer \" + tokens[\"access_token\"]\n",
    "    }\n",
    "\n",
    "    data={\n",
    "        \"template_object\": json.dumps({\n",
    "            \"object_type\":\"text\",\n",
    "            \"text\": substr,\n",
    "            \"link\":{\n",
    "                \"web_url\":\"www.naver.com\"\n",
    "            }\n",
    "        })\n",
    "    }\n",
    "\n",
    "    response = requests.post(url, headers=headers, data=data)\n",
    "    response.status_code"
   ]
  },
  {
   "cell_type": "code",
   "execution_count": null,
   "id": "ce92ecc3",
   "metadata": {},
   "outputs": [],
   "source": []
  },
  {
   "cell_type": "code",
   "execution_count": 17,
   "id": "fec6b4fe",
   "metadata": {},
   "outputs": [],
   "source": [
    "def kk():\n",
    "    authorize_code = driver.current_url[31:]\n",
    "    \n",
    "    url = 'https://kauth.kakao.com/oauth/token'\n",
    "    rest_api_key = 'f0b5de8b4882015099eaca013e4d373f'\n",
    "    redirect_uri = 'https://example.com/oauth'\n",
    "    data = {\n",
    "        'grant_type':'authorization_code',\n",
    "        'client_id':rest_api_key,\n",
    "        'redirect_uri':redirect_uri,\n",
    "        'code': authorize_code,\n",
    "        }\n",
    "\n",
    "    response = requests.post(url, data=data)\n",
    "    tokens = response.json()\n",
    "\n",
    "\n",
    "    with open(\"kakao_code.json\",\"w\") as fp:\n",
    "        json.dump(tokens, fp)\n",
    "\n",
    "    with open(\"kakao_code.json\",\"r\") as fp:\n",
    "        ts = json.load(fp)\n",
    "    \n",
    "    # 메시지 보내기\n",
    "    url=\"https://kapi.kakao.com/v2/api/talk/memo/default/send\"\n",
    "\n",
    "    # kapi.kakao.com/v2/api/talk/memo/default/send \n",
    "\n",
    "    headers={\n",
    "        \"Authorization\" : \"Bearer \" + tokens[\"access_token\"]\n",
    "    }\n",
    "\n",
    "    data={\n",
    "        \"template_object\": json.dumps({\n",
    "            \"object_type\":\"text\",\n",
    "            \"text\": subli[0],\n",
    "            \"link\":{\n",
    "                \"web_url\":\"www.naver.com\"\n",
    "            }\n",
    "        })\n",
    "    }\n",
    "\n",
    "    response = requests.post(url, headers=headers, data=data)\n",
    "    response.status_code"
   ]
  },
  {
   "cell_type": "code",
   "execution_count": 18,
   "id": "13b82223",
   "metadata": {},
   "outputs": [],
   "source": [
    "kk()"
   ]
  },
  {
   "cell_type": "code",
   "execution_count": 19,
   "id": "172bd1eb",
   "metadata": {},
   "outputs": [],
   "source": [
    "conn.commit()"
   ]
  }
 ],
 "metadata": {
  "kernelspec": {
   "display_name": "Python 3 (ipykernel)",
   "language": "python",
   "name": "python3"
  },
  "language_info": {
   "codemirror_mode": {
    "name": "ipython",
    "version": 3
   },
   "file_extension": ".py",
   "mimetype": "text/x-python",
   "name": "python",
   "nbconvert_exporter": "python",
   "pygments_lexer": "ipython3",
   "version": "3.10.7"
  }
 },
 "nbformat": 4,
 "nbformat_minor": 5
}
