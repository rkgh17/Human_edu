{
 "cells": [
  {
   "cell_type": "code",
   "execution_count": 1,
   "id": "af4120da",
   "metadata": {},
   "outputs": [],
   "source": [
    "from bs4 import BeautifulSoup\n",
    "import requests\n",
    "import pandas as pd"
   ]
  },
  {
   "cell_type": "code",
   "execution_count": 2,
   "id": "c66dcef7",
   "metadata": {
    "scrolled": true
   },
   "outputs": [],
   "source": [
    "import psycopg2"
   ]
  },
  {
   "cell_type": "code",
   "execution_count": 3,
   "id": "eb2281df",
   "metadata": {},
   "outputs": [
    {
     "name": "stderr",
     "output_type": "stream",
     "text": [
      "C:\\Users\\h\\AppData\\Local\\Temp\\ipykernel_6196\\616448110.py:7: DeprecationWarning: executable_path has been deprecated, please pass in a Service object\n",
      "  driver = webdriver.Chrome(url + 'chromedriver.exe')\n"
     ]
    }
   ],
   "source": [
    "from selenium import webdriver\n",
    "from selenium.webdriver.common.keys import Keys\n",
    "from selenium.webdriver.common.by import By\n",
    "import time\n",
    "\n",
    "url = 'C:/Users/h/Desktop/chatbot/'\n",
    "driver = webdriver.Chrome(url + 'chromedriver.exe')"
   ]
  },
  {
   "cell_type": "code",
   "execution_count": 4,
   "id": "cf907015",
   "metadata": {},
   "outputs": [],
   "source": [
    "# 창열기\n",
    "driver.get(\"https://safecity.seoul.go.kr/acdnt/sbwyIndex.do\")\n",
    "time.sleep(3)"
   ]
  },
  {
   "cell_type": "code",
   "execution_count": 19,
   "id": "35b77f38",
   "metadata": {},
   "outputs": [],
   "source": [
    "# driver.find_element(By.XPATH,'//*[@id=\"dv_as_timeline\"]/li[1]/h3/a/span[3]').click()\n",
    "\n",
    "# ch1_d = driver.find_element(By.CSS_SELECTOR,'#dv_as_timeline > li:nth-child(1) > h3 > a > span.day_txt')\n",
    "# cht1_d = ch1_d.text\n",
    "# print(cht1_d)\n",
    "\n",
    "# ch1 = driver.find_element(By.CSS_SELECTOR,'#dv_as_timeline > li:nth-child(1) > ul')\n",
    "# cht1 = ch1.text\n",
    "# print(cht1)"
   ]
  },
  {
   "cell_type": "code",
   "execution_count": 20,
   "id": "5abf5eac",
   "metadata": {
    "scrolled": true
   },
   "outputs": [
    {
     "name": "stdout",
     "output_type": "stream",
     "text": [
      "지하철사고\n",
      "2022-11-15 06:01\n",
      "서울교통공사에서 알려드립니다. 금일 08시부터 4호선에서「전국장애인차별철폐연대」의 ‘장애인 권리예산 확보’를 위한 출근길 지하철 타기 선전전이 예정되어 있습니다. 이로 인해 4호선 해당구간 열차운행이 상당시간 지연될 수 있으니 이점 참고하여 열차를 이용해 주시기 바랍니다.\n",
      "<class 'str'>\n",
      "\n"
     ]
    }
   ],
   "source": [
    "parentElement = driver.find_elements(By.XPATH, '//*[@id=\"dv_as_timeline\"]/li')\n",
    "\n",
    "# type(parentElement)\n",
    "# len(parentElement)\n",
    "\n",
    "subli=[]\n",
    "\n",
    "# ul 태그 아래 있는 li 반복 뽑기\n",
    "for i in parentElement:\n",
    "    i.click()\n",
    "    time.sleep(0.05)\n",
    "    a = i.text\n",
    "    subli.append(a)\n",
    "    print(a)\n",
    "    print(type(a))\n",
    "    print()\n",
    "    \n",
    "    \n",
    "    i.click()\n",
    "\n",
    "    "
   ]
  },
  {
   "cell_type": "code",
   "execution_count": 18,
   "id": "b58022a6",
   "metadata": {},
   "outputs": [
    {
     "data": {
      "text/plain": [
       "['지하철사고\\n2022-11-15 06:01\\n서울교통공사에서 알려드립니다. 금일 08시부터 4호선에서「전국장애인차별철폐연대」의 ‘장애인 권리예산 확보’를 위한 출근길 지하철 타기 선전전이 예정되어 있습니다. 이로 인해 4호선 해당구간 열차운행이 상당시간 지연될 수 있으니 이점 참고하여 열차를 이용해 주시기 바랍니다.']"
      ]
     },
     "execution_count": 18,
     "metadata": {},
     "output_type": "execute_result"
    }
   ],
   "source": [
    "subli"
   ]
  },
  {
   "cell_type": "code",
   "execution_count": 74,
   "id": "b80940a7",
   "metadata": {},
   "outputs": [
    {
     "data": {
      "text/plain": [
       "1"
      ]
     },
     "execution_count": 74,
     "metadata": {},
     "output_type": "execute_result"
    }
   ],
   "source": [
    "len(subli)"
   ]
  },
  {
   "cell_type": "code",
   "execution_count": null,
   "id": "83b82942",
   "metadata": {},
   "outputs": [],
   "source": []
  },
  {
   "cell_type": "code",
   "execution_count": null,
   "id": "98d5fd39",
   "metadata": {},
   "outputs": [],
   "source": []
  },
  {
   "cell_type": "code",
   "execution_count": 16,
   "id": "2d5bd4e5",
   "metadata": {},
   "outputs": [],
   "source": [
    "# db연결\n",
    "\n",
    "# postgre db 연결 - 개인설정 참고\n",
    "conn = psycopg2.connect(host=\"ec2-23-21-207-93.compute-1.amazonaws.com\", \n",
    "                        dbname=\"d3oubpekvnbupv\", \n",
    "                        user=\"grxhirqndvyqvv\", \n",
    "                        password=\"6f1afaafe16d245c70666bdb8c831aa876e62b380a1544f5dc832c51f27cece6\", \n",
    "                        port=\"5432\")\n",
    "\n",
    "# 데이터 조작 인스턴스 생성\n",
    "cur = conn.cursor()"
   ]
  },
  {
   "cell_type": "code",
   "execution_count": 20,
   "id": "34bcda58",
   "metadata": {},
   "outputs": [],
   "source": [
    "# db 테이블 만들기 함수\n",
    "def db_create():\n",
    "    # 테이블 생성(create)\n",
    "    cur.execute(\"CREATE TABLE IF NOT EXISTS subdata2(subacc VARCHAR(20) NOT NULL, acctime VARCHAR(30) NOT NULL, content VARCHAR(300) NOT NULL);\")\n",
    "    conn.commit()\n",
    "\n",
    "db_create()"
   ]
  },
  {
   "cell_type": "code",
   "execution_count": 7,
   "id": "ae050b32",
   "metadata": {},
   "outputs": [],
   "source": [
    "subdb1 = subli[0].split('\\n')"
   ]
  },
  {
   "cell_type": "code",
   "execution_count": 10,
   "id": "e3235bd2",
   "metadata": {},
   "outputs": [
    {
     "data": {
      "text/plain": [
       "['지하철사고',\n",
       " '2022-11-14 06:00',\n",
       " '서울교통공사에서 알려드립니다. 금일 08시부터 4호선에서「전국장애인차별철폐연대」의 ‘장애인 권리예산 확보’를 위한 출근길 지하철 타기 선전전이 예정되어 있습니다. 이로 인해 4호선 해당구간 열차운행이 상당시간 지연될 수 있으니 이점 참고하여 열차를 이용해 주시기 바랍니다.']"
      ]
     },
     "execution_count": 10,
     "metadata": {},
     "output_type": "execute_result"
    }
   ],
   "source": [
    "subdb1"
   ]
  },
  {
   "cell_type": "code",
   "execution_count": 9,
   "id": "0b7c052b",
   "metadata": {
    "scrolled": false
   },
   "outputs": [
    {
     "data": {
      "text/plain": [
       "list"
      ]
     },
     "execution_count": 9,
     "metadata": {},
     "output_type": "execute_result"
    }
   ],
   "source": [
    "type(subdb1)"
   ]
  },
  {
   "cell_type": "code",
   "execution_count": 75,
   "id": "100feb85",
   "metadata": {},
   "outputs": [
    {
     "data": {
      "text/plain": [
       "3"
      ]
     },
     "execution_count": 75,
     "metadata": {},
     "output_type": "execute_result"
    }
   ],
   "source": [
    "len(subdb1)"
   ]
  },
  {
   "cell_type": "code",
   "execution_count": null,
   "id": "c12f9a62",
   "metadata": {},
   "outputs": [],
   "source": []
  },
  {
   "cell_type": "code",
   "execution_count": 54,
   "id": "bd7fee18",
   "metadata": {},
   "outputs": [
    {
     "data": {
      "text/plain": [
       "['지하철사고\\n2022-11-14 06:00\\n서울교통공사에서 알려드립니다. 금일 08시부터 4호선에서「전국장애인차별철폐연대」의 ‘장애인 권리예산 확보’를 위한 출근길 지하철 타기 선전전이 예정되어 있습니다. 이로 인해 4호선 해당구간 열차운행이 상당시간 지연될 수 있으니 이점 참고하여 열차를 이용해 주시기 바랍니다.']"
      ]
     },
     "execution_count": 54,
     "metadata": {},
     "output_type": "execute_result"
    }
   ],
   "source": [
    "subli"
   ]
  },
  {
   "cell_type": "code",
   "execution_count": 55,
   "id": "07aa3a06",
   "metadata": {},
   "outputs": [
    {
     "data": {
      "text/plain": [
       "1"
      ]
     },
     "execution_count": 55,
     "metadata": {},
     "output_type": "execute_result"
    }
   ],
   "source": [
    "len(subli)"
   ]
  },
  {
   "cell_type": "code",
   "execution_count": 8,
   "id": "e46bcb4f",
   "metadata": {},
   "outputs": [],
   "source": [
    "# db insert\n",
    "# 문자열 나눠서 리스트에 담기\n",
    "for i in subli:\n",
    "    # 튜플로 변환 - 한꺼번에 저장하기 위하여\n",
    "    subdb = tuple(i.split('\\n'))\n",
    "    cur.execute(\"INSERT into subdata2(subacc, acctime, content) VALUES (%s, %s, %s)\", subdb)\n",
    "\n",
    "# db commit\n",
    "conn.commit()   \n"
   ]
  },
  {
   "cell_type": "code",
   "execution_count": null,
   "id": "e3e3cb17",
   "metadata": {},
   "outputs": [],
   "source": []
  },
  {
   "cell_type": "code",
   "execution_count": 19,
   "id": "96ebcebf",
   "metadata": {},
   "outputs": [],
   "source": [
    "# db insert\n",
    "# 문자열 나눠서 리스트에 담기\n",
    "for i in subli:\n",
    "    # 튜플로 변환 - 한꺼번에 저장하기 위하여\n",
    "    subdb = tuple(i.split('\\n'))\n",
    "    cur.execute(\"INSERT into subdata(subacc, acctime, content) VALUES (%s, %s, %s)\", subdb)\n",
    "\n",
    "# db commit\n",
    "conn.commit()   \n"
   ]
  },
  {
   "cell_type": "code",
   "execution_count": null,
   "id": "d0cc199b",
   "metadata": {},
   "outputs": [],
   "source": []
  },
  {
   "cell_type": "code",
   "execution_count": 21,
   "id": "d2ed932b",
   "metadata": {},
   "outputs": [
    {
     "data": {
      "text/plain": [
       "datetime.timezone(datetime.timedelta(seconds=32400))"
      ]
     },
     "execution_count": 21,
     "metadata": {},
     "output_type": "execute_result"
    }
   ],
   "source": [
    "from datetime import timedelta, timezone\n",
    "\n",
    "timezone(timedelta(hours=9))\n",
    "\n"
   ]
  },
  {
   "cell_type": "code",
   "execution_count": 27,
   "id": "19c0ef52",
   "metadata": {},
   "outputs": [
    {
     "data": {
      "text/plain": [
       "'2022-11-15'"
      ]
     },
     "execution_count": 27,
     "metadata": {},
     "output_type": "execute_result"
    }
   ],
   "source": [
    "from datetime import date\n",
    "\n",
    "date.today().isoformat()"
   ]
  },
  {
   "cell_type": "code",
   "execution_count": 28,
   "id": "7435813b",
   "metadata": {},
   "outputs": [
    {
     "data": {
      "text/plain": [
       "str"
      ]
     },
     "execution_count": 28,
     "metadata": {},
     "output_type": "execute_result"
    }
   ],
   "source": [
    "type(date.today().isoformat())"
   ]
  },
  {
   "cell_type": "code",
   "execution_count": 58,
   "id": "0537cea8",
   "metadata": {},
   "outputs": [],
   "source": [
    "# 오늘날짜의 지하철 이슈 찾아보기\n",
    "today = date.today().isoformat() + '%'\n",
    "\n",
    "# 조회해서 리스트(안에는 튜플)에 담기\n",
    "cur.execute(f\"SELECT * FROM subdata2 WHERE acctime LIKE '{today}' \")\n",
    "result_all = cur.fetchall()\n",
    "\n",
    "sbstr=\"\"\n",
    "for i in result_all:\n",
    "    for j in i:\n",
    "        sbstr = sbstr + j + \"\\n\""
   ]
  },
  {
   "cell_type": "code",
   "execution_count": 61,
   "id": "a8e6dcb3",
   "metadata": {
    "scrolled": true
   },
   "outputs": [
    {
     "data": {
      "text/plain": [
       "[('지하철사고',\n",
       "  '2022-11-15 06:01',\n",
       "  '서울교통공사에서 알려드립니다. 금일 08시부터 4호선에서「전국장애인차별철폐연대」의 ‘장애인 권리예산 확보’를 위한 출근길 지하철 타기 선전전이 예정되어 있습니다. 이로 인해 4호선 해당구간 열차운행이 상당시간 지연될 수 있으니 이점 참고하여 열차를 이용해 주시기 바랍니다.')]"
      ]
     },
     "execution_count": 61,
     "metadata": {},
     "output_type": "execute_result"
    }
   ],
   "source": [
    "result_all"
   ]
  },
  {
   "cell_type": "code",
   "execution_count": 65,
   "id": "5f3735db",
   "metadata": {},
   "outputs": [],
   "source": [
    "sbstr=\"\"\n",
    "for i in result_all:\n",
    "    for j in i:\n",
    "        sbstr = sbstr + j + \"\\n\""
   ]
  },
  {
   "cell_type": "code",
   "execution_count": 66,
   "id": "3687a0e2",
   "metadata": {},
   "outputs": [
    {
     "data": {
      "text/plain": [
       "'지하철사고\\n2022-11-15 06:01\\n서울교통공사에서 알려드립니다. 금일 08시부터 4호선에서「전국장애인차별철폐연대」의 ‘장애인 권리예산 확보’를 위한 출근길 지하철 타기 선전전이 예정되어 있습니다. 이로 인해 4호선 해당구간 열차운행이 상당시간 지연될 수 있으니 이점 참고하여 열차를 이용해 주시기 바랍니다.\\n'"
      ]
     },
     "execution_count": 66,
     "metadata": {},
     "output_type": "execute_result"
    }
   ],
   "source": [
    "sbstr"
   ]
  },
  {
   "cell_type": "code",
   "execution_count": 64,
   "id": "abe52971",
   "metadata": {},
   "outputs": [
    {
     "data": {
      "text/plain": [
       "str"
      ]
     },
     "execution_count": 64,
     "metadata": {},
     "output_type": "execute_result"
    }
   ],
   "source": [
    "type(result_all[0][0])"
   ]
  },
  {
   "cell_type": "code",
   "execution_count": null,
   "id": "b59776cd",
   "metadata": {},
   "outputs": [],
   "source": []
  },
  {
   "cell_type": "code",
   "execution_count": 47,
   "id": "51c5e4af",
   "metadata": {},
   "outputs": [],
   "source": [
    "cur.execute(\"SELECT * FROM subdata2\")\n",
    "result_all = cur.fetchall()"
   ]
  },
  {
   "cell_type": "code",
   "execution_count": 57,
   "id": "70609607",
   "metadata": {
    "scrolled": true
   },
   "outputs": [
    {
     "data": {
      "text/plain": [
       "[('지하철사고',\n",
       "  '2022-11-14 06:00',\n",
       "  '서울교통공사에서 알려드립니다. 금일 08시부터 4호선에서「전국장애인차별철폐연대」의 ‘장애인 권리예산 확보’를 위한 출근길 지하철 타기 선전전이 예정되어 있습니다. 이로 인해 4호선 해당구간 열차운행이 상당시간 지연될 수 있으니 이점 참고하여 열차를 이용해 주시기 바랍니다.'),\n",
       " ('지하철사고',\n",
       "  '2022-11-14 06:00',\n",
       "  '서울교통공사에서 알려드립니다. 금일 08시부터 4호선에서「전국장애인차별철폐연대」의 ‘장애인 권리예산 확보’를 위한 출근길 지하철 타기 선전전이 예정되어 있습니다. 이로 인해 4호선 해당구간 열차운행이 상당시간 지연될 수 있으니 이점 참고하여 열차를 이용해 주시기 바랍니다.'),\n",
       " ('지하철사고',\n",
       "  '2022-11-14 06:00',\n",
       "  '서울교통공사에서 알려드립니다. 금일 08시부터 4호선에서「전국장애인차별철폐연대」의 ‘장애인 권리예산 확보’를 위한 출근길 지하철 타기 선전전이 예정되어 있습니다. 이로 인해 4호선 해당구간 열차운행이 상당시간 지연될 수 있으니 이점 참고하여 열차를 이용해 주시기 바랍니다.'),\n",
       " ('지하철사고',\n",
       "  '2022-11-14 06:00',\n",
       "  '서울교통공사에서 알려드립니다. 금일 08시부터 4호선에서「전국장애인차별철폐연대」의 ‘장애인 권리예산 확보’를 위한 출근길 지하철 타기 선전전이 예정되어 있습니다. 이로 인해 4호선 해당구간 열차운행이 상당시간 지연될 수 있으니 이점 참고하여 열차를 이용해 주시기 바랍니다.'),\n",
       " ('지하철사고',\n",
       "  '2022-11-15 06:01',\n",
       "  '서울교통공사에서 알려드립니다. 금일 08시부터 4호선에서「전국장애인차별철폐연대」의 ‘장애인 권리예산 확보’를 위한 출근길 지하철 타기 선전전이 예정되어 있습니다. 이로 인해 4호선 해당구간 열차운행이 상당시간 지연될 수 있으니 이점 참고하여 열차를 이용해 주시기 바랍니다.')]"
      ]
     },
     "execution_count": 57,
     "metadata": {},
     "output_type": "execute_result"
    }
   ],
   "source": [
    "result_all"
   ]
  },
  {
   "cell_type": "code",
   "execution_count": 54,
   "id": "8d4d4d95",
   "metadata": {},
   "outputs": [],
   "source": [
    "conn.commit()"
   ]
  }
 ],
 "metadata": {
  "kernelspec": {
   "display_name": "Python 3 (ipykernel)",
   "language": "python",
   "name": "python3"
  },
  "language_info": {
   "codemirror_mode": {
    "name": "ipython",
    "version": 3
   },
   "file_extension": ".py",
   "mimetype": "text/x-python",
   "name": "python",
   "nbconvert_exporter": "python",
   "pygments_lexer": "ipython3",
   "version": "3.10.7"
  }
 },
 "nbformat": 4,
 "nbformat_minor": 5
}
