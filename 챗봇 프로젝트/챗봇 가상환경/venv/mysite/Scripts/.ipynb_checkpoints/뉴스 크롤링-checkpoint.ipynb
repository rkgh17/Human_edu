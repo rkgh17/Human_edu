{
 "cells": [
  {
   "cell_type": "code",
   "execution_count": 1,
   "id": "f9a28e0c",
   "metadata": {},
   "outputs": [],
   "source": [
    "from bs4 import BeautifulSoup\n",
    "import requests\n",
    "from datetime import datetime"
   ]
  },
  {
   "cell_type": "code",
   "execution_count": 2,
   "id": "510e94aa",
   "metadata": {},
   "outputs": [],
   "source": [
    "def naver_news(keyword):\n",
    "    header = {\n",
    "        'User-Agent': 'Mozilla/5.0 (Windows NT 10.0; Win64; x64) AppleWebKit/537.36 (KHTML, like Gecko) Chrome/101.0.4951.67 Safari/537.36'\n",
    "    }\n",
    "\n",
    "    url = f'https://search.naver.com/search.naver?where=news&sm=tab_jum&query={keyword}'\n",
    "\n",
    "    response = requests.get(url, headers=header)\n",
    "    soup = BeautifulSoup(response.text, 'html.parser')\n",
    "\n",
    "    news_lis = soup.select('#main_pack > section > div > div.group_news > ul > li')\n",
    "    print(len(news_lis))\n",
    "\n",
    "    newsday = datetime.today().strftime('%Y%m%d%H%M%S')\n",
    "#     filename = 'naver_news_' + newsday + '.txt'\n",
    "\n",
    "#     with open(filename, 'w') as f:\n",
    "#         f.write(f'\\n{\"=\"*50}\\n{datetime.today().strftime(\"[%Y년 %m월 %d일] <\" + keyword + \"> 관련도순 네이버 뉴스 검색\")}\\n{\"=\"*50}\\n')\n",
    "\n",
    "    for li in news_lis:\n",
    "        news_day = li.find('span', class_='info').text.strip()\n",
    "        title = li.find('a', class_='news_tit')['title']\n",
    "        a_href = li.find('a', class_='news_tit')['href']\n",
    "        print(news_day)\n",
    "        print(title)\n",
    "        print(a_href)\n",
    "\n",
    "#         with open(filename, 'a') as f:\n",
    "#             f.write(f'\\n[{news_day}]\\n{title}\\n{a_href}\\n')\n",
    "\n"
   ]
  },
  {
   "cell_type": "code",
   "execution_count": 3,
   "id": "2ec58ced",
   "metadata": {},
   "outputs": [
    {
     "name": "stdout",
     "output_type": "stream",
     "text": [
      "10\n",
      "4시간 전\n",
      "전장연, 지하철 4호선에서 시위…운행 지연 예상\n",
      "https://www.donga.com/news/article/all/20221114/116459319/2\n",
      "7시간 전\n",
      "전장연, 승하차 시위 유보· 선전전은 계속…수능맞아 16· 17일엔 선전도 중단\n",
      "https://www.news1.kr/articles/4863073\n",
      "3일 전\n",
      "전장연, 5일 연속 출근길 지하철 시위…4호선 운행 지연(종합)\n",
      "http://www.newsis.com/view/?id=NISX20221111_0002082199&cID=10201&pID=10200\n",
      "13시간 전\n",
      "\"울산 트램 3·4호선 구간에 도로 위 지하철 S-BRT 도입을\"\n",
      "https://www.iusm.co.kr/news/articleView.html?idxno=1002693\n",
      "14분 전\n",
      "전장연 \"국회서 장애인 예산 반영… 희망 품고 시위 유보\"\n",
      "https://www.newsclaim.co.kr/news/articleView.html?idxno=3012860\n",
      "1시간 전\n",
      "진접역 ‘투웨니퍼스트 르메트로’ 주거용 오피스텔 분양\n",
      "https://news.koreadaily.com/2022/11/13/economy/realestate/20221113171846274.html\n",
      "7일 전\n",
      "애도기간 끝났다..전장연, 4호선 5호선서 출근길 시위 다시 시작\n",
      "http://www.fnnews.com/news/202211070753051602\n",
      "4일 전\n",
      "전장연 '지하철 5호선ㆍ9호선 시위', 4호선ㆍ8호선은?\n",
      "http://www.ggilbo.com/news/articleView.html?idxno=944274\n",
      "5일 전\n",
      "장애인단체, 9일 4호선·5호선 지하철 시위 또...7시 30분부터\n",
      "https://www.gukjenews.com/news/articleView.html?idxno=2588387\n",
      "A10면 1단\n",
      "출근길 시위로 닷새에 한번꼴 열차 1시간 지연\n",
      "https://www.chosun.com/national/national_general/2022/11/12/2KYGCMSUSRBSZMRTNGM3W5L45M/?utm_source=naver&utm_medium=referral&utm_campaign=naver-news\n"
     ]
    }
   ],
   "source": [
    "naver_news('4호선')"
   ]
  }
 ],
 "metadata": {
  "kernelspec": {
   "display_name": "Python 3 (ipykernel)",
   "language": "python",
   "name": "python3"
  },
  "language_info": {
   "codemirror_mode": {
    "name": "ipython",
    "version": 3
   },
   "file_extension": ".py",
   "mimetype": "text/x-python",
   "name": "python",
   "nbconvert_exporter": "python",
   "pygments_lexer": "ipython3",
   "version": "3.10.7"
  }
 },
 "nbformat": 4,
 "nbformat_minor": 5
}
