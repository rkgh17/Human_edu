{
 "cells": [
  {
   "cell_type": "code",
   "execution_count": 29,
   "id": "59dedfb7",
   "metadata": {},
   "outputs": [
    {
     "data": {
      "text/plain": [
       "[{'address_name': '서울 중구 예장동 산 5-6',\n",
       "  'category_group_code': '',\n",
       "  'category_group_name': '',\n",
       "  'category_name': '여행 > 공원 > 도시근린공원',\n",
       "  'distance': '',\n",
       "  'id': '8246129',\n",
       "  'phone': '02-3783-5900',\n",
       "  'place_name': '남산공원',\n",
       "  'place_url': 'http://place.map.kakao.com/8246129',\n",
       "  'road_address_name': '서울 중구 남산공원길 125-54',\n",
       "  'x': '126.989316855952',\n",
       "  'y': '37.5524979951415'},\n",
       " {'address_name': '서울 용산구 용산동2가 산 1-3',\n",
       "  'category_group_code': '',\n",
       "  'category_group_name': '',\n",
       "  'category_name': '여행 > 관광,명소',\n",
       "  'distance': '',\n",
       "  'id': '1913983226',\n",
       "  'phone': '02-3455-9277',\n",
       "  'place_name': '남산서울타워',\n",
       "  'place_url': 'http://place.map.kakao.com/1913983226',\n",
       "  'road_address_name': '',\n",
       "  'x': '126.988217046052',\n",
       "  'y': '37.551279740966'},\n",
       " {'address_name': '서울 용산구 용산동2가 산 1-3',\n",
       "  'category_group_code': 'AT4',\n",
       "  'category_group_name': '관광명소',\n",
       "  'category_name': '여행 > 관광,명소 > 전망대',\n",
       "  'distance': '',\n",
       "  'id': '1629378951',\n",
       "  'phone': '02-3455-9277',\n",
       "  'place_name': '남산공원 N서울타워',\n",
       "  'place_url': 'http://place.map.kakao.com/1629378951',\n",
       "  'road_address_name': '서울 용산구 남산공원길 105',\n",
       "  'x': '126.988230622132',\n",
       "  'y': '37.5513049702718'},\n",
       " {'address_name': '서울 중구 회현동1가 산 1-19',\n",
       "  'category_group_code': '',\n",
       "  'category_group_name': '',\n",
       "  'category_name': '여행 > 관광,명소 > 케이블카',\n",
       "  'distance': '',\n",
       "  'id': '8233285',\n",
       "  'phone': '02-753-2403',\n",
       "  'place_name': '남산케이블카',\n",
       "  'place_url': 'http://place.map.kakao.com/8233285',\n",
       "  'road_address_name': '서울 중구 소파로 83',\n",
       "  'x': '126.98402646582926',\n",
       "  'y': '37.556601442823286'},\n",
       " {'address_name': '서울 중구 예장동 8-53',\n",
       "  'category_group_code': 'FD6',\n",
       "  'category_group_name': '음식점',\n",
       "  'category_name': '음식점 > 일식 > 돈까스,우동',\n",
       "  'distance': '',\n",
       "  'id': '12706932',\n",
       "  'phone': '02-755-3370',\n",
       "  'place_name': '원조남산왕돈까스',\n",
       "  'place_url': 'http://place.map.kakao.com/12706932',\n",
       "  'road_address_name': '서울 중구 소파로 107',\n",
       "  'x': '126.98610647948',\n",
       "  'y': '37.5573810686541'},\n",
       " {'address_name': '서울 용산구 후암동 30-84',\n",
       "  'category_group_code': '',\n",
       "  'category_group_name': '',\n",
       "  'category_name': '교육,학문 > 학습시설 > 도서관',\n",
       "  'distance': '',\n",
       "  'id': '17806970',\n",
       "  'phone': '02-754-7338',\n",
       "  'place_name': '서울특별시교육청 남산도서관',\n",
       "  'place_url': 'http://place.map.kakao.com/17806970',\n",
       "  'road_address_name': '서울 용산구 소월로 109',\n",
       "  'x': '126.981426607934',\n",
       "  'y': '37.5529511206446'},\n",
       " {'address_name': '서울 중구 예장동 산 5-6',\n",
       "  'category_group_code': 'PK6',\n",
       "  'category_group_name': '주차장',\n",
       "  'category_name': '교통,수송 > 교통시설 > 주차장',\n",
       "  'distance': '',\n",
       "  'id': '17562408',\n",
       "  'phone': '',\n",
       "  'place_name': '남산공원 주차장3',\n",
       "  'place_url': 'http://place.map.kakao.com/17562408',\n",
       "  'road_address_name': '',\n",
       "  'x': '126.99091499545715',\n",
       "  'y': '37.5508943520962'},\n",
       " {'address_name': '서울 중구 회현동1가 산 1-2',\n",
       "  'category_group_code': 'PK6',\n",
       "  'category_group_name': '주차장',\n",
       "  'category_name': '교통,수송 > 교통시설 > 주차장 > 공영주차장',\n",
       "  'distance': '',\n",
       "  'id': '684053055',\n",
       "  'phone': '',\n",
       "  'place_name': '남산케이블카 공영주차장',\n",
       "  'place_url': 'http://place.map.kakao.com/684053055',\n",
       "  'road_address_name': '',\n",
       "  'x': '126.983809308238',\n",
       "  'y': '37.5559608040164'},\n",
       " {'address_name': '서울 중구 회현동1가',\n",
       "  'category_group_code': 'AT4',\n",
       "  'category_group_name': '관광명소',\n",
       "  'category_name': '여행 > 관광,명소 > 도보여행 > 둘레길',\n",
       "  'distance': '',\n",
       "  'id': '21920612',\n",
       "  'phone': '',\n",
       "  'place_name': '남산둘레길',\n",
       "  'place_url': 'http://place.map.kakao.com/21920612',\n",
       "  'road_address_name': '',\n",
       "  'x': '126.982413256957',\n",
       "  'y': '37.5537585658907'},\n",
       " {'address_name': '서울 중구 남산동2가 49-24',\n",
       "  'category_group_code': 'AT4',\n",
       "  'category_group_name': '관광명소',\n",
       "  'category_name': '여행 > 관광,명소 > 테마거리 > 먹자골목',\n",
       "  'distance': '',\n",
       "  'id': '1384042237',\n",
       "  'phone': '',\n",
       "  'place_name': '남산돈가스거리',\n",
       "  'place_url': 'http://place.map.kakao.com/1384042237',\n",
       "  'road_address_name': '서울 중구 소파로 101',\n",
       "  'x': '126.985866623365',\n",
       "  'y': '37.5569701853838'},\n",
       " {'address_name': '서울 중구 예장동 8-1',\n",
       "  'category_group_code': '',\n",
       "  'category_group_name': '',\n",
       "  'category_name': '여행 > 관광,명소 > 문화유적',\n",
       "  'distance': '',\n",
       "  'id': '25025752',\n",
       "  'phone': '',\n",
       "  'place_name': '남산팔각정',\n",
       "  'place_url': 'http://place.map.kakao.com/25025752',\n",
       "  'road_address_name': '',\n",
       "  'x': '126.987655675051',\n",
       "  'y': '37.5516581028765'},\n",
       " {'address_name': '서울 중구 회현동1가 100-266',\n",
       "  'category_group_code': 'PK6',\n",
       "  'category_group_name': '주차장',\n",
       "  'category_name': '교통,수송 > 교통시설 > 주차장',\n",
       "  'distance': '',\n",
       "  'id': '12160351',\n",
       "  'phone': '02-755-2227',\n",
       "  'place_name': '남산공원 주차장',\n",
       "  'place_url': 'http://place.map.kakao.com/12160351',\n",
       "  'road_address_name': '',\n",
       "  'x': '126.981213554207',\n",
       "  'y': '37.5541259882327'},\n",
       " {'address_name': '서울 중구 남창동 203-15',\n",
       "  'category_group_code': 'FD6',\n",
       "  'category_group_name': '음식점',\n",
       "  'category_name': '음식점 > 일식 > 돈까스,우동',\n",
       "  'distance': '',\n",
       "  'id': '27244728',\n",
       "  'phone': '02-777-1976',\n",
       "  'place_name': '남산돈까스전문점',\n",
       "  'place_url': 'http://place.map.kakao.com/27244728',\n",
       "  'road_address_name': '서울 중구 소파로 23',\n",
       "  'x': '126.979651249572',\n",
       "  'y': '37.5561115282112'},\n",
       " {'address_name': '서울 중구 충무로3가 60-1',\n",
       "  'category_group_code': '',\n",
       "  'category_group_name': '',\n",
       "  'category_name': '부동산 > 빌딩',\n",
       "  'distance': '',\n",
       "  'id': '10217639',\n",
       "  'phone': '',\n",
       "  'place_name': '남산스퀘어빌딩',\n",
       "  'place_url': 'http://place.map.kakao.com/10217639',\n",
       "  'road_address_name': '서울 중구 퇴계로 173',\n",
       "  'x': '126.991035901636',\n",
       "  'y': '37.5618613029084'},\n",
       " {'address_name': '서울 중구 회현동2가 88',\n",
       "  'category_group_code': '',\n",
       "  'category_group_name': '',\n",
       "  'category_name': '부동산 > 빌딩',\n",
       "  'distance': '',\n",
       "  'id': '15094918',\n",
       "  'phone': '',\n",
       "  'place_name': '스테이트타워남산',\n",
       "  'place_url': 'http://place.map.kakao.com/15094918',\n",
       "  'road_address_name': '서울 중구 퇴계로 100',\n",
       "  'x': '126.982945950518',\n",
       "  'y': '37.5602205973777'}]"
      ]
     },
     "execution_count": 29,
     "metadata": {},
     "output_type": "execute_result"
    }
   ],
   "source": [
    "import requests\n",
    "\n",
    "searching = '남산'\n",
    "url = 'https://dapi.kakao.com/v2/local/search/keyword.json?query={}'.format(searching)\n",
    "headers = {\n",
    "    \"Authorization\": \"KakaoAK bbc0593ca1fbd88db71ccfdd5421ef1e\"\n",
    "}\n",
    "places = requests.get(url, headers = headers).json()['documents']\n",
    "places"
   ]
  },
  {
   "cell_type": "code",
   "execution_count": 30,
   "id": "d7bbb667",
   "metadata": {},
   "outputs": [
    {
     "data": {
      "text/plain": [
       "list"
      ]
     },
     "execution_count": 30,
     "metadata": {},
     "output_type": "execute_result"
    }
   ],
   "source": [
    "type(places)"
   ]
  },
  {
   "cell_type": "code",
   "execution_count": 31,
   "id": "119c2d24",
   "metadata": {
    "scrolled": true
   },
   "outputs": [
    {
     "data": {
      "text/plain": [
       "15"
      ]
     },
     "execution_count": 31,
     "metadata": {},
     "output_type": "execute_result"
    }
   ],
   "source": [
    "len(places)"
   ]
  },
  {
   "cell_type": "code",
   "execution_count": null,
   "id": "44a846cd",
   "metadata": {},
   "outputs": [],
   "source": []
  },
  {
   "cell_type": "code",
   "execution_count": 35,
   "id": "cae6f353",
   "metadata": {},
   "outputs": [],
   "source": [
    "goal = places[0].get('id')"
   ]
  },
  {
   "cell_type": "code",
   "execution_count": 36,
   "id": "6a4ccee7",
   "metadata": {
    "scrolled": true
   },
   "outputs": [
    {
     "data": {
      "text/plain": [
       "'8246129'"
      ]
     },
     "execution_count": 36,
     "metadata": {},
     "output_type": "execute_result"
    }
   ],
   "source": [
    "goal"
   ]
  },
  {
   "cell_type": "code",
   "execution_count": 37,
   "id": "77575ae5",
   "metadata": {},
   "outputs": [],
   "source": [
    "url = 'https://map.kakao.com/link/to/' + goal"
   ]
  },
  {
   "cell_type": "code",
   "execution_count": 38,
   "id": "457db3fe",
   "metadata": {
    "scrolled": true
   },
   "outputs": [
    {
     "data": {
      "text/plain": [
       "'https://map.kakao.com/link/to/8246129'"
      ]
     },
     "execution_count": 38,
     "metadata": {},
     "output_type": "execute_result"
    }
   ],
   "source": [
    "url"
   ]
  },
  {
   "cell_type": "code",
   "execution_count": null,
   "id": "8f89e516",
   "metadata": {},
   "outputs": [],
   "source": []
  },
  {
   "cell_type": "code",
   "execution_count": null,
   "id": "c6ce2417",
   "metadata": {},
   "outputs": [],
   "source": []
  },
  {
   "cell_type": "code",
   "execution_count": null,
   "id": "f06f3117",
   "metadata": {},
   "outputs": [],
   "source": []
  },
  {
   "cell_type": "code",
   "execution_count": 53,
   "id": "8204a7af",
   "metadata": {},
   "outputs": [],
   "source": [
    "import requests\n",
    "\n",
    "# 검색결과 15개중에 첫번째 id값 찾아서 url로 보내주기 함수\n",
    "def loc(searching):\n",
    "    url = 'https://dapi.kakao.com/v2/local/search/keyword.json?query={}'.format(searching)\n",
    "    headers = {\n",
    "        \"Authorization\": \"KakaoAK bbc0593ca1fbd88db71ccfdd5421ef1e\"\n",
    "    }\n",
    "    destination = 'https://map.kakao.com/link/to/' + (requests.get(url, headers = headers).json()['documents'])[0].get('id')\n",
    "    \n",
    "    return destination\n"
   ]
  },
  {
   "cell_type": "code",
   "execution_count": 52,
   "id": "0a927cc4",
   "metadata": {
    "scrolled": true
   },
   "outputs": [
    {
     "data": {
      "text/plain": [
       "'https://map.kakao.com/link/to/8001349'"
      ]
     },
     "execution_count": 52,
     "metadata": {},
     "output_type": "execute_result"
    }
   ],
   "source": [
    "loc('영등포역')"
   ]
  },
  {
   "cell_type": "code",
   "execution_count": null,
   "id": "5cae240b",
   "metadata": {},
   "outputs": [],
   "source": []
  },
  {
   "cell_type": "code",
   "execution_count": null,
   "id": "a316a6d3",
   "metadata": {},
   "outputs": [],
   "source": []
  },
  {
   "cell_type": "code",
   "execution_count": 54,
   "id": "32b87f77",
   "metadata": {},
   "outputs": [],
   "source": [
    "body = {'bot': {'id': '636dd2a523b1d500155477a3!', 'name': '지하철 이슈 알림'}, 'intent': {'id': '637337d31a94d93e86de8643', 'name': '카카오 경로찾기', 'extra': {'reason': {'code': 1, 'message': 'OK'}}}, 'action': {'id': '63733a38b10fe25f796e0ad9', 'name': '카카오 경로찾기', 'params': {'sys_location': '상일동'}, 'detailParams': {'sys_location': {'groupName': '', 'origin': '상일동', 'value': '상일동'}}, 'clientExtra': {}}, 'userRequest': {'block': {'id': '637337d31a94d93e86de8643', 'name': '카카오 경로찾기'}, 'user': {'id': '9ad3bcd6d82c46be5821c33734c9b512e661d4bd2dd2a6a3cb53ecaa92ec057f47', 'type': 'botUserKey', 'properties': {'botUserKey': '9ad3bcd6d82c46be5821c33734c9b512e661d4bd2dd2a6a3cb53ecaa92ec057f47', 'bot_user_key': '9ad3bcd6d82c46be5821c33734c9b512e661d4bd2dd2a6a3cb53ecaa92ec057f47'}}, 'utterance': '상일동\\n', 'params': {'surface': 'BuilderBotTest', 'ignoreMe': 'true'}, 'lang': 'kr', 'timezone': 'Asia/Seoul'}, 'contexts': []}"
   ]
  },
  {
   "cell_type": "code",
   "execution_count": 74,
   "id": "e00fe0eb",
   "metadata": {
    "scrolled": true
   },
   "outputs": [
    {
     "data": {
      "text/plain": [
       "{'bot': {'id': '636dd2a523b1d500155477a3!', 'name': '지하철 이슈 알림'},\n",
       " 'intent': {'id': '637337d31a94d93e86de8643',\n",
       "  'name': '카카오 경로찾기',\n",
       "  'extra': {'reason': {'code': 1, 'message': 'OK'}}},\n",
       " 'action': {'id': '63733a38b10fe25f796e0ad9',\n",
       "  'name': '카카오 경로찾기',\n",
       "  'params': {'sys_location': '상일동'},\n",
       "  'detailParams': {'sys_location': {'groupName': '',\n",
       "    'origin': '상일동',\n",
       "    'value': '상일동'}},\n",
       "  'clientExtra': {}},\n",
       " 'userRequest': {'block': {'id': '637337d31a94d93e86de8643',\n",
       "   'name': '카카오 경로찾기'},\n",
       "  'user': {'id': '9ad3bcd6d82c46be5821c33734c9b512e661d4bd2dd2a6a3cb53ecaa92ec057f47',\n",
       "   'type': 'botUserKey',\n",
       "   'properties': {'botUserKey': '9ad3bcd6d82c46be5821c33734c9b512e661d4bd2dd2a6a3cb53ecaa92ec057f47',\n",
       "    'bot_user_key': '9ad3bcd6d82c46be5821c33734c9b512e661d4bd2dd2a6a3cb53ecaa92ec057f47'}},\n",
       "  'utterance': '상일동\\n',\n",
       "  'params': {'surface': 'BuilderBotTest', 'ignoreMe': 'true'},\n",
       "  'lang': 'kr',\n",
       "  'timezone': 'Asia/Seoul'},\n",
       " 'contexts': []}"
      ]
     },
     "execution_count": 74,
     "metadata": {},
     "output_type": "execute_result"
    }
   ],
   "source": [
    "body"
   ]
  },
  {
   "cell_type": "code",
   "execution_count": 75,
   "id": "ce7d26ed",
   "metadata": {},
   "outputs": [
    {
     "data": {
      "text/plain": [
       "dict"
      ]
     },
     "execution_count": 75,
     "metadata": {},
     "output_type": "execute_result"
    }
   ],
   "source": [
    "type(body)"
   ]
  },
  {
   "cell_type": "code",
   "execution_count": 76,
   "id": "6daddc3c",
   "metadata": {},
   "outputs": [],
   "source": [
    "prams_df = body['action']['params']"
   ]
  },
  {
   "cell_type": "code",
   "execution_count": 77,
   "id": "2d5c427d",
   "metadata": {},
   "outputs": [
    {
     "data": {
      "text/plain": [
       "{'sys_location': '상일동'}"
      ]
     },
     "execution_count": 77,
     "metadata": {},
     "output_type": "execute_result"
    }
   ],
   "source": [
    "prams_df"
   ]
  },
  {
   "cell_type": "code",
   "execution_count": 78,
   "id": "85456ee0",
   "metadata": {},
   "outputs": [
    {
     "data": {
      "text/plain": [
       "dict"
      ]
     },
     "execution_count": 78,
     "metadata": {},
     "output_type": "execute_result"
    }
   ],
   "source": [
    "type(prams_df)"
   ]
  },
  {
   "cell_type": "code",
   "execution_count": 79,
   "id": "67332708",
   "metadata": {},
   "outputs": [],
   "source": [
    "prams_df = (body['action']['params'])['sys_location']"
   ]
  },
  {
   "cell_type": "code",
   "execution_count": 80,
   "id": "752b7181",
   "metadata": {},
   "outputs": [
    {
     "data": {
      "text/plain": [
       "'상일동'"
      ]
     },
     "execution_count": 80,
     "metadata": {},
     "output_type": "execute_result"
    }
   ],
   "source": [
    "prams_df"
   ]
  },
  {
   "cell_type": "code",
   "execution_count": 81,
   "id": "fdad926d",
   "metadata": {},
   "outputs": [
    {
     "data": {
      "text/plain": [
       "str"
      ]
     },
     "execution_count": 81,
     "metadata": {},
     "output_type": "execute_result"
    }
   ],
   "source": [
    "type(prams_df)"
   ]
  },
  {
   "cell_type": "code",
   "execution_count": null,
   "id": "717d2a4e",
   "metadata": {},
   "outputs": [],
   "source": []
  },
  {
   "cell_type": "code",
   "execution_count": null,
   "id": "801bb9ea",
   "metadata": {},
   "outputs": [],
   "source": []
  },
  {
   "cell_type": "code",
   "execution_count": null,
   "id": "714eee8a",
   "metadata": {},
   "outputs": [],
   "source": []
  },
  {
   "cell_type": "code",
   "execution_count": null,
   "id": "0ed8ad9d",
   "metadata": {},
   "outputs": [],
   "source": []
  },
  {
   "cell_type": "code",
   "execution_count": 67,
   "id": "a7a926e4",
   "metadata": {},
   "outputs": [],
   "source": [
    "import json\n",
    "\n",
    "json_string = '''{\n",
    "    \"id\": 1,\n",
    "    \"username\": \"Bret\",\n",
    "    \"email\": \"Sincere@april.biz\",\n",
    "    \"address\": {\n",
    "        \"street\": \"Kulas Light\",\n",
    "        \"suite\": \"Apt. 556\",\n",
    "        \"city\": \"Gwenborough\",\n",
    "        \"zipcode\": \"92998-3874\"\n",
    "    },\n",
    "    \"admin\": false,\n",
    "    \"hobbies\": null\n",
    "}'''\n",
    "\n",
    "json_object = json.loads(json_string)"
   ]
  },
  {
   "cell_type": "code",
   "execution_count": 71,
   "id": "282eb839",
   "metadata": {},
   "outputs": [
    {
     "data": {
      "text/plain": [
       "dict"
      ]
     },
     "execution_count": 71,
     "metadata": {},
     "output_type": "execute_result"
    }
   ],
   "source": [
    "type(json_object)"
   ]
  }
 ],
 "metadata": {
  "kernelspec": {
   "display_name": "Python 3 (ipykernel)",
   "language": "python",
   "name": "python3"
  },
  "language_info": {
   "codemirror_mode": {
    "name": "ipython",
    "version": 3
   },
   "file_extension": ".py",
   "mimetype": "text/x-python",
   "name": "python",
   "nbconvert_exporter": "python",
   "pygments_lexer": "ipython3",
   "version": "3.10.7"
  }
 },
 "nbformat": 4,
 "nbformat_minor": 5
}
