{
 "cells": [
  {
   "cell_type": "markdown",
   "id": "1a09d6bd",
   "metadata": {},
   "source": [
    "https://kauth.kakao.com/oauth/authorize?client_id=f0b5de8b4882015099eaca013e4d373f&redirect_uri=https://example.com/oauth&response_type=code&scope=talk_message,friends\n",
    "\n",
    "RNWBqR13iv9Y23Eqfn5aoADrXJwUFlVoFd9SbLrMrVUvs6zXIQY7jExnv16SfBtzQ8hxNwo9dNsAAAGEhAxaMw"
   ]
  },
  {
   "cell_type": "code",
   "execution_count": null,
   "id": "0cdbf744",
   "metadata": {},
   "outputs": [],
   "source": [
    "i-c1Fac_mDcJAgFlAR2RDAH5hQkxJupr8HrXjYoXqm1c8AobPPCVBYGYDMPVD4Uj2okcyQo9dZwAAAGEqFu9zQ"
   ]
  },
  {
   "cell_type": "code",
   "execution_count": 1,
   "id": "a65ae7ec",
   "metadata": {},
   "outputs": [
    {
     "name": "stdout",
     "output_type": "stream",
     "text": [
      "{'access_token': 'D_ze7P4Qr2qyTZZF7zk_CqyzK_kGIZrKNWgbfNVHCj1zmwAAAYSoXNRo', 'token_type': 'bearer', 'refresh_token': 'Zt5JUn6sNxifttxidFbM62OHhWZR5nEMLBmkB7DuCj1zmwAAAYSoXNRm', 'expires_in': 21599, 'scope': 'talk_message profile_nickname friends', 'refresh_token_expires_in': 5183999}\n"
     ]
    }
   ],
   "source": [
    "# 토큰정보 얻기\n",
    "import requests\n",
    "\n",
    "url = 'https://kauth.kakao.com/oauth/token'\n",
    "rest_api_key = 'f0b5de8b4882015099eaca013e4d373f'\n",
    "redirect_uri = 'https://example.com/oauth'\n",
    "authorize_code = 'i-c1Fac_mDcJAgFlAR2RDAH5hQkxJupr8HrXjYoXqm1c8AobPPCVBYGYDMPVD4Uj2okcyQo9dZwAAAGEqFu9zQ'\n",
    "\n",
    "data = {\n",
    "    'grant_type':'authorization_code',\n",
    "    'client_id':rest_api_key,\n",
    "    'redirect_uri':redirect_uri,\n",
    "    'code': authorize_code,\n",
    "    }\n",
    "\n",
    "response = requests.post(url, data=data)\n",
    "tokens = response.json()\n",
    "print(tokens)\n",
    "\n",
    "# json 저장\n",
    "import json\n",
    "\n",
    "#2.\n",
    "with open(\"kakao_code.json\",\"w\") as fp:\n",
    "    json.dump(tokens, fp)"
   ]
  },
  {
   "cell_type": "code",
   "execution_count": 2,
   "id": "fbb61d02",
   "metadata": {
    "scrolled": true
   },
   "outputs": [
    {
     "name": "stdout",
     "output_type": "stream",
     "text": [
      "{'access_token': 'D_ze7P4Qr2qyTZZF7zk_CqyzK_kGIZrKNWgbfNVHCj1zmwAAAYSoXNRo', 'token_type': 'bearer', 'refresh_token': 'Zt5JUn6sNxifttxidFbM62OHhWZR5nEMLBmkB7DuCj1zmwAAAYSoXNRm', 'expires_in': 21599, 'scope': 'talk_message profile_nickname friends', 'refresh_token_expires_in': 5183999}\n",
      "D_ze7P4Qr2qyTZZF7zk_CqyzK_kGIZrKNWgbfNVHCj1zmwAAAYSoXNRo\n"
     ]
    }
   ],
   "source": [
    "# 토큰정보 열기\n",
    "#2.\n",
    "with open(\"kakao_code.json\",\"r\") as fp:\n",
    "    ts = json.load(fp)\n",
    "print(ts)\n",
    "print(ts[\"access_token\"])"
   ]
  },
  {
   "cell_type": "code",
   "execution_count": 4,
   "id": "2e384c5e",
   "metadata": {},
   "outputs": [
    {
     "data": {
      "text/plain": [
       "{'access_token': 'D_ze7P4Qr2qyTZZF7zk_CqyzK_kGIZrKNWgbfNVHCj1zmwAAAYSoXNRo',\n",
       " 'token_type': 'bearer',\n",
       " 'refresh_token': 'Zt5JUn6sNxifttxidFbM62OHhWZR5nEMLBmkB7DuCj1zmwAAAYSoXNRm',\n",
       " 'expires_in': 21599,\n",
       " 'scope': 'talk_message profile_nickname friends',\n",
       " 'refresh_token_expires_in': 5183999}"
      ]
     },
     "execution_count": 4,
     "metadata": {},
     "output_type": "execute_result"
    }
   ],
   "source": [
    "ts"
   ]
  },
  {
   "cell_type": "code",
   "execution_count": 5,
   "id": "bcb36c84",
   "metadata": {},
   "outputs": [
    {
     "data": {
      "text/plain": [
       "'Zt5JUn6sNxifttxidFbM62OHhWZR5nEMLBmkB7DuCj1zmwAAAYSoXNRm'"
      ]
     },
     "execution_count": 5,
     "metadata": {},
     "output_type": "execute_result"
    }
   ],
   "source": [
    "ts['refresh_token']"
   ]
  },
  {
   "cell_type": "code",
   "execution_count": null,
   "id": "9967a4ec",
   "metadata": {},
   "outputs": [],
   "source": []
  },
  {
   "cell_type": "code",
   "execution_count": 6,
   "id": "15b64888",
   "metadata": {},
   "outputs": [],
   "source": [
    "# 토큰 재발급\n",
    "url = 'https://kauth.kakao.com/oauth/token'\n",
    "data = {\n",
    "    \"grant_type\" : \"refresh_token\",\n",
    "    \"client_id\": rest_api_key,\n",
    "    \"refresh_token\": ts['refresh_token']\n",
    "}\n",
    "response = requests.post(url,data=data)\n",
    "tokens = response.json()\n",
    "\n",
    "with open(\"kakao_code.json\",\"w\") as fp:\n",
    "    json.dump(tokens, fp)"
   ]
  },
  {
   "cell_type": "code",
   "execution_count": 7,
   "id": "da1932f5",
   "metadata": {},
   "outputs": [
    {
     "name": "stdout",
     "output_type": "stream",
     "text": [
      "{'access_token': '-YBhMLsjuALTQAmquzffNUKYCpgk4UHmCBVubMEfCisNIAAAAYSoZxar', 'token_type': 'bearer', 'expires_in': 21599}\n",
      "-YBhMLsjuALTQAmquzffNUKYCpgk4UHmCBVubMEfCisNIAAAAYSoZxar\n"
     ]
    }
   ],
   "source": [
    "with open(\"kakao_code.json\",\"r\") as fp:\n",
    "    ts = json.load(fp)\n",
    "print(ts)\n",
    "print(ts[\"access_token\"])"
   ]
  },
  {
   "cell_type": "code",
   "execution_count": 8,
   "id": "d1afe1db",
   "metadata": {},
   "outputs": [
    {
     "data": {
      "text/plain": [
       "{'access_token': '-YBhMLsjuALTQAmquzffNUKYCpgk4UHmCBVubMEfCisNIAAAAYSoZxar',\n",
       " 'token_type': 'bearer',\n",
       " 'expires_in': 21599}"
      ]
     },
     "execution_count": 8,
     "metadata": {},
     "output_type": "execute_result"
    }
   ],
   "source": [
    "ts"
   ]
  },
  {
   "cell_type": "code",
   "execution_count": 9,
   "id": "f0d49ea5",
   "metadata": {
    "scrolled": true
   },
   "outputs": [
    {
     "data": {
      "text/plain": [
       "200"
      ]
     },
     "execution_count": 9,
     "metadata": {},
     "output_type": "execute_result"
    }
   ],
   "source": [
    "url=\"https://kapi.kakao.com/v2/api/talk/memo/default/send\"\n",
    "\n",
    "\n",
    "headers={\n",
    "    \"Authorization\" : \"Bearer \" + tokens[\"access_token\"]\n",
    "}\n",
    "\n",
    "data={\n",
    "    \"template_object\": json.dumps({\n",
    "        \"object_type\":\"text\",\n",
    "        \"text\":\"리프레쉬 토큰\",\n",
    "        \"link\":{\n",
    "            \"web_url\":\"www.naver.com\"\n",
    "        }\n",
    "    })\n",
    "}\n",
    "\n",
    "response = requests.post(url, headers=headers, data=data)\n",
    "response.status_code"
   ]
  },
  {
   "cell_type": "code",
   "execution_count": 10,
   "id": "205b628a",
   "metadata": {},
   "outputs": [
    {
     "name": "stdout",
     "output_type": "stream",
     "text": [
      "{'access_token': '-YBhMLsjuALTQAmquzffNUKYCpgk4UHmCBVubMEfCisNIAAAAYSoZxar', 'token_type': 'bearer', 'expires_in': 21599}\n",
      "-YBhMLsjuALTQAmquzffNUKYCpgk4UHmCBVubMEfCisNIAAAAYSoZxar\n"
     ]
    }
   ],
   "source": [
    "with open(\"kakao_code.json\",\"r\") as fp:\n",
    "    ts = json.load(fp)\n",
    "print(ts)\n",
    "print(ts[\"access_token\"])"
   ]
  },
  {
   "cell_type": "code",
   "execution_count": null,
   "id": "432637eb",
   "metadata": {},
   "outputs": [],
   "source": []
  },
  {
   "cell_type": "code",
   "execution_count": null,
   "id": "d242f95f",
   "metadata": {},
   "outputs": [],
   "source": []
  },
  {
   "cell_type": "code",
   "execution_count": null,
   "id": "ab67f0ab",
   "metadata": {},
   "outputs": [],
   "source": []
  },
  {
   "cell_type": "code",
   "execution_count": null,
   "id": "6d05f16c",
   "metadata": {},
   "outputs": [],
   "source": []
  },
  {
   "cell_type": "code",
   "execution_count": null,
   "id": "a41c919d",
   "metadata": {},
   "outputs": [],
   "source": []
  },
  {
   "cell_type": "code",
   "execution_count": null,
   "id": "98611796",
   "metadata": {},
   "outputs": [],
   "source": []
  },
  {
   "cell_type": "code",
   "execution_count": null,
   "id": "9e89596c",
   "metadata": {},
   "outputs": [],
   "source": []
  },
  {
   "cell_type": "code",
   "execution_count": 37,
   "id": "94b98318",
   "metadata": {
    "scrolled": true
   },
   "outputs": [
    {
     "name": "stdout",
     "output_type": "stream",
     "text": [
      "{'access_token': 'sZ1Cnwnj0vOt7L_pOD9gGJKHWxi_K323KzbYIfTHCj10aAAAAYSENm1R', 'token_type': 'bearer', 'refresh_token': 'GtzTSpHP_OdU2CcfBESFhrTYoSjkwtDMVm-OqLhlCj10aAAAAYSENm1Q', 'expires_in': 21599, 'scope': 'talk_message friends', 'refresh_token_expires_in': 5183999}\n"
     ]
    }
   ],
   "source": [
    "import requests\n",
    "\n",
    "url = 'https://kauth.kakao.com/oauth/token'\n",
    "rest_api_key = 'f0b5de8b4882015099eaca013e4d373f'\n",
    "redirect_uri = 'https://example.com/oauth'\n",
    "authorize_code = 'wn1lRLTgPkm-xKFJTKc8KO8hM8BK9OusGK2zxmxFOG4eca3m1GdAciWjo_wRUAIbRwuc_go9cxcAAAGEhDNCAg'\n",
    "\n",
    "data = {\n",
    "    'grant_type':'authorization_code',\n",
    "    'client_id':rest_api_key,\n",
    "    'redirect_uri':redirect_uri,\n",
    "    'code': authorize_code,\n",
    "    }\n",
    "\n",
    "response = requests.post(url, data=data)\n",
    "tokens = response.json()\n",
    "print(tokens)\n",
    "\n",
    "# json 저장\n",
    "import json\n",
    "\n",
    "#2.\n",
    "with open(\"kakao_code.json\",\"w\") as fp:\n",
    "    json.dump(tokens, fp)"
   ]
  },
  {
   "cell_type": "code",
   "execution_count": 61,
   "id": "5ef5ecf7",
   "metadata": {},
   "outputs": [
    {
     "data": {
      "text/plain": [
       "'sZ1Cnwnj0vOt7L_pOD9gGJKHWxi_K323KzbYIfTHCj10aAAAAYSENm1R'"
      ]
     },
     "execution_count": 61,
     "metadata": {},
     "output_type": "execute_result"
    }
   ],
   "source": [
    "tokens['access_token']"
   ]
  },
  {
   "cell_type": "code",
   "execution_count": 62,
   "id": "e16c887c",
   "metadata": {},
   "outputs": [
    {
     "data": {
      "text/plain": [
       "{'access_token': 'sZ1Cnwnj0vOt7L_pOD9gGJKHWxi_K323KzbYIfTHCj10aAAAAYSENm1R',\n",
       " 'token_type': 'bearer',\n",
       " 'refresh_token': 'GtzTSpHP_OdU2CcfBESFhrTYoSjkwtDMVm-OqLhlCj10aAAAAYSENm1Q',\n",
       " 'expires_in': 21599,\n",
       " 'scope': 'talk_message friends',\n",
       " 'refresh_token_expires_in': 5183999}"
      ]
     },
     "execution_count": 62,
     "metadata": {},
     "output_type": "execute_result"
    }
   ],
   "source": [
    "tokens"
   ]
  },
  {
   "cell_type": "code",
   "execution_count": 71,
   "id": "94a2579b",
   "metadata": {
    "scrolled": false
   },
   "outputs": [
    {
     "name": "stdout",
     "output_type": "stream",
     "text": [
      "<class 'dict'>\n",
      "=============================================\n",
      "{'elements': [], 'total_count': 0, 'after_url': None, 'favorite_count': 0}\n",
      "=============================================\n",
      "[]\n",
      "<class 'list'>\n",
      "=============================================\n"
     ]
    }
   ],
   "source": [
    "import requests\n",
    "import json\n",
    "\n",
    "#2.\n",
    "with open(\"kakao_code.json\",\"r\") as fp:\n",
    "    tokens = json.load(fp)\n",
    "\n",
    "# print(tokens)\n",
    "# print(tokens[\"access_token\"])\n",
    "\n",
    "friend_url = \"https://kapi.kakao.com/v1/api/talk/friends\"\n",
    "\n",
    "# GET /v1/api/talk/friends HTTP/1.1\n",
    "# Host: kapi.kakao.com\n",
    "# Authorization: Bearer {ACCESS_TOKEN}\n",
    "\n",
    "head={\"Authorization\" : \"Bearer \" + tokens[\"access_token\"]}\n",
    "\n",
    "\n",
    "result = json.loads(requests.get(friend_url, headers=head).text)\n",
    "\n",
    "print(type(result))\n",
    "print(\"=============================================\")\n",
    "print(result)\n",
    "print(\"=============================================\")\n",
    "friends_list = result.get(\"elements\")\n",
    "print(friends_list)\n",
    "print(type(friends_list))\n",
    "print(\"=============================================\")\n",
    "# print(friends_list[0].get(\"uuid\"))\n",
    "# friend_id = friends_list[0].get(\"uuid\")\n",
    "# print(friend_id)"
   ]
  },
  {
   "cell_type": "code",
   "execution_count": null,
   "id": "fe8b3255",
   "metadata": {},
   "outputs": [],
   "source": []
  },
  {
   "cell_type": "code",
   "execution_count": 40,
   "id": "4b2ef899",
   "metadata": {},
   "outputs": [],
   "source": [
    "a = requests.get(friend_url, headers=headers).text"
   ]
  },
  {
   "cell_type": "code",
   "execution_count": 70,
   "id": "30e55ca2",
   "metadata": {},
   "outputs": [
    {
     "data": {
      "text/plain": [
       "<Response [200]>"
      ]
     },
     "execution_count": 70,
     "metadata": {},
     "output_type": "execute_result"
    }
   ],
   "source": [
    "requests.get(friend_url, headers=head)"
   ]
  },
  {
   "cell_type": "code",
   "execution_count": 24,
   "id": "def9050d",
   "metadata": {},
   "outputs": [
    {
     "data": {
      "text/plain": [
       "<Response [200]>"
      ]
     },
     "execution_count": 24,
     "metadata": {},
     "output_type": "execute_result"
    }
   ],
   "source": [
    "friend_url2 = \"https://kapi.kakao.com/v2/user/me\"\n",
    "headers={\"Authorization\" : \"Bearer \" + tokens[\"access_token\"]}\n",
    "requests.get(friend_url2, headers=headers)"
   ]
  },
  {
   "cell_type": "code",
   "execution_count": 25,
   "id": "08feb23d",
   "metadata": {},
   "outputs": [],
   "source": [
    "a = requests.get(friend_url, headers=headers).text"
   ]
  },
  {
   "cell_type": "code",
   "execution_count": 42,
   "id": "83718c2d",
   "metadata": {},
   "outputs": [
    {
     "data": {
      "text/plain": [
       "'{\"elements\":[],\"total_count\":0,\"after_url\":null,\"favorite_count\":0}'"
      ]
     },
     "execution_count": 42,
     "metadata": {},
     "output_type": "execute_result"
    }
   ],
   "source": [
    "a"
   ]
  },
  {
   "cell_type": "code",
   "execution_count": null,
   "id": "76d06318",
   "metadata": {},
   "outputs": [],
   "source": []
  }
 ],
 "metadata": {
  "kernelspec": {
   "display_name": "Python 3 (ipykernel)",
   "language": "python",
   "name": "python3"
  },
  "language_info": {
   "codemirror_mode": {
    "name": "ipython",
    "version": 3
   },
   "file_extension": ".py",
   "mimetype": "text/x-python",
   "name": "python",
   "nbconvert_exporter": "python",
   "pygments_lexer": "ipython3",
   "version": "3.10.7"
  }
 },
 "nbformat": 4,
 "nbformat_minor": 5
}
