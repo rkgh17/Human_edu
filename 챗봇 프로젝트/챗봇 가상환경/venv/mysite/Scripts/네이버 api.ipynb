{
 "cells": [
  {
   "cell_type": "code",
   "execution_count": 1,
   "id": "1314827b",
   "metadata": {
    "scrolled": true
   },
   "outputs": [
    {
     "name": "stdout",
     "output_type": "stream",
     "text": [
      "검색어를 입력하세요: 1호선\n",
      "[2022-11-14 12:14:49.677911]Url Request Success\n",
      "[2022-11-14 12:14:49.849765]Url Request Success\n",
      "[2022-11-14 12:14:50.044427]Url Request Success\n",
      "[2022-11-14 12:14:50.282011]Url Request Success\n",
      "[2022-11-14 12:14:50.489166]Url Request Success\n",
      "[2022-11-14 12:14:50.705495]Url Request Success\n",
      "[2022-11-14 12:14:50.945638]Url Request Success\n",
      "[2022-11-14 12:14:51.130536]Url Request Success\n",
      "[2022-11-14 12:14:51.375346]Url Request Success\n",
      "[2022-11-14 12:14:51.580577]Url Request Success\n",
      "[2022-11-14 12:14:51.804382]Url Request Success\n",
      "HTTP Error 400: Bad Request\n",
      "[2022-11-14 12:14:51.910369] Error for URL : https://openapi.naver.com/v1/search/news.json?query=1%ED%98%B8%EC%84%A0&start=1011&display=100\n",
      "전체 검색 : 312074 건\n",
      "가져온 데이터 : 1010 건\n",
      "1호선_naver_news.json SAVED\n"
     ]
    }
   ],
   "source": [
    "import os\n",
    "import sys\n",
    "import urllib.request\n",
    "import datetime\n",
    "import time\n",
    "import json\n",
    "\n",
    "client_id = 'CmmN2OJp47c60h9IWTRs'\n",
    "client_secret = 'mALduPDQEB'\n",
    "\n",
    "#[CODE 1]\n",
    "def getRequestUrl(url):\n",
    "    req = urllib.request.Request(url)\n",
    "    req.add_header(\"X-Naver-Client-Id\", client_id)\n",
    "    req.add_header(\"X-Naver-Client-Secret\", client_secret)\n",
    "    \n",
    "    try:\n",
    "        response = urllib.request.urlopen(req)\n",
    "        if response.getcode() == 200:\n",
    "            print(\"[%s]Url Request Success\" % datetime.datetime.now())\n",
    "            return response.read().decode('utf-8')\n",
    "    except Exception as e :\n",
    "        print(e)\n",
    "        print(\"[%s] Error for URL : %s\" % (datetime.datetime.now(), url))\n",
    "        return None\n",
    "\n",
    "#[CODE 2]\n",
    "def getNaverSearch(node, srcText, start, display):\n",
    "    base = \"https://openapi.naver.com/v1/search\"\n",
    "    node = \"/%s.json\" % node\n",
    "    parameters = \"?query=%s&start=%s&display=%s\" % (urllib.parse.quote(srcText), start, display)\n",
    "\n",
    "    url = base + node + parameters\n",
    "    responseDecode = getRequestUrl(url)     #[CODE 1]\n",
    "\n",
    "    if(responseDecode == None):\n",
    "        return None\n",
    "    else:\n",
    "        return json.loads(responseDecode)\n",
    "\n",
    "#[CODE 3]\n",
    "def getPostData(post, jsonResult, cnt):\n",
    "    title = post['title']\n",
    "    description = post['description']\n",
    "    org_link = post['originallink']\n",
    "    link = post['link']\n",
    "\n",
    "    pDate = datetime.datetime.strptime(post['pubDate'], '%a, %d %b %Y %H:%M:%S +0900')\n",
    "    pDate = pDate.strftime('%Y-%m-%d %H:%M:%S')\n",
    "\n",
    "    jsonResult.append({'cnt':cnt, 'title':title, 'description':description,\n",
    "                       'org_link':org_link, 'link':org_link, 'pDate':pDate})\n",
    "    return\n",
    "\n",
    "#[CODE 0]\n",
    "def main():\n",
    "    node = 'news'  #크롤링한 대상\n",
    "    srcText = \"지하철\"\n",
    "    cnt = 0\n",
    "    jsonResult = []\n",
    "    \n",
    "    jsonResponse = getNaverSearch(node, srcText, 1, 10)  #[CODE 2]\n",
    "    total = jsonResponse['total']\n",
    "    \n",
    "    while((jsonResponse != None) and (jsonResponse['display'] != 0)):\n",
    "        for post in jsonResponse['items']:\n",
    "            cnt+= 1\n",
    "            getPostData(post, jsonResult, cnt)   #[CODE 3]\n",
    "            \n",
    "        start = jsonResponse['start'] + jsonResponse['display']\n",
    "        jsonResponse = getNaverSearch(node, srcText, start, 100)   #[CODE 2]\n",
    "        \n",
    "    print('전체 검색 : %d 건' %total)\n",
    "        \n",
    "    with open('%s_naver_%s.json' % (srcText, node), 'w', encoding='utf8') as outfile:\n",
    "        jsonFile = json.dumps(jsonResult, indent=4, sort_keys = True, ensure_ascii = False)\n",
    "            \n",
    "        outfile.write(jsonFile)\n",
    "            \n",
    "    print(\"가져온 데이터 : %d 건\" %(cnt))\n",
    "    print('%s_naver_%s.json SAVED' % (srcText, node))\n",
    "\n",
    "if __name__ == '__main__':\n",
    "    main()      "
   ]
  },
  {
   "cell_type": "code",
   "execution_count": null,
   "id": "ba44ed67",
   "metadata": {},
   "outputs": [],
   "source": []
  },
  {
   "cell_type": "code",
   "execution_count": null,
   "id": "bfca4b5b",
   "metadata": {},
   "outputs": [],
   "source": []
  },
  {
   "cell_type": "code",
   "execution_count": 63,
   "id": "5805ac90",
   "metadata": {},
   "outputs": [],
   "source": [
    "import os\n",
    "import sys\n",
    "import requests\n",
    "import datetime\n",
    "import time"
   ]
  },
  {
   "cell_type": "code",
   "execution_count": 12,
   "id": "f7eb95f1",
   "metadata": {},
   "outputs": [],
   "source": [
    "# api 키값\n",
    "client_id = 'CmmN2OJp47c60h9IWTRs'\n",
    "client_secret = 'mALduPDQEB'"
   ]
  },
  {
   "cell_type": "code",
   "execution_count": 52,
   "id": "4084190b",
   "metadata": {},
   "outputs": [
    {
     "name": "stdout",
     "output_type": "stream",
     "text": [
      "<Response [200]>\n"
     ]
    }
   ],
   "source": [
    "search_word = '지하철 사고'\n",
    "encode_type = 'json'\n",
    "max_display = 30\n",
    "sort = 'date'\n",
    "start = 1\n",
    "\n",
    "url = f\"https://openapi.naver.com/v1/search/news.{encode_type}?query={search_word}&display={str(int(max_display))}&start={str(int(start))}&sort={sort}\"\n",
    "\n",
    "#헤더에 아이디와 키 정보 넣기\n",
    "headers = {'X-Naver-Client-Id' : client_id,\n",
    "           'X-Naver-Client-Secret':client_secret\n",
    "           }\n",
    "\n",
    "#HTTP요청 보내기\n",
    "r = requests.get(url, headers=headers)\n",
    "#요청 결과 보기 200 이면 정상적으로 요청 완료\n",
    "print(r)"
   ]
  },
  {
   "cell_type": "code",
   "execution_count": 53,
   "id": "ab0de78e",
   "metadata": {},
   "outputs": [],
   "source": [
    "result = r.json()"
   ]
  },
  {
   "cell_type": "code",
   "execution_count": 54,
   "id": "416e72c2",
   "metadata": {
    "scrolled": true
   },
   "outputs": [
    {
     "data": {
      "text/plain": [
       "{'lastBuildDate': 'Fri, 18 Nov 2022 17:18:16 +0900',\n",
       " 'total': 169378,\n",
       " 'start': 1,\n",
       " 'display': 30,\n",
       " 'items': [{'title': '“인파 밀집 대비 2층 버스 도입&quot;...국가안전시스템 뿌리부터 바꾼다',\n",
       "   'originallink': 'https://www.joongang.co.kr/article/25118757',\n",
       "   'link': 'https://n.news.naver.com/mnews/article/025/0003239556?sid=102',\n",
       "   'description': '행사장이나 <b>지하철</b>·버스 등 교통수단에 인파가 몰릴 경우 <b>사고</b> 방지 대책을 논의했다. 이 자리에서 국토교통부는 2층 전기버스 도입을 추진하기로 했다. 출·퇴근 시간대 수도권 광역버스 혼잡도를 완화하기 위해서다.... ',\n",
       "   'pubDate': 'Fri, 18 Nov 2022 16:52:00 +0900'},\n",
       "  {'title': '[노컷한컷]수능 치러지는 동안…참사 후폭풍에 코인시장은 위기',\n",
       "   'originallink': 'https://www.nocutnews.co.kr/news/5851673',\n",
       "   'link': 'https://n.news.naver.com/mnews/article/079/0003708698?sid=102',\n",
       "   'description': '춘천=박종민 기자 \\u200bCBS 뉴스부활 35주년 기념 디지털 사진전 14일 오전 서울 <b>지하철</b> 경복궁역... 이태원 <b>사고</b> 특별수사본부(특수본)에 피의자 신분으로 조사받기 위해 출석하고 있다. 박 구청장은 핼러윈 기간 안전<b>사고</b>... ',\n",
       "   'pubDate': 'Fri, 18 Nov 2022 16:50:00 +0900'},\n",
       "  {'title': '[병원계 소식] 11월 18일',\n",
       "   'originallink': 'http://www.doctorstimes.com/news/articleView.html?idxno=220847',\n",
       "   'link': 'http://www.doctorstimes.com/news/articleView.html?idxno=220847',\n",
       "   'description': '이에 앞선 14일에는 송도소방서 주관으로 <b>지하철</b> 역사에서 화재가 발생해 다수사상자가 발생한 상황에 대응하는 훈련에 참가했다. 8일에는 국립중앙의료원 등 의료기관과 공동으로 체육관 폭발<b>사고</b>에 대비한 모의... ',\n",
       "   'pubDate': 'Fri, 18 Nov 2022 16:44:00 +0900'},\n",
       "  {'title': '&quot;실제 상황처럼&quot;…긴박감 속 <b>지하철</b> 화재<b>사고</b> 대피훈련',\n",
       "   'originallink': 'http://www.newsis.com/view/?id=NISX20221118_0002092008&cID=10809&pID=10800',\n",
       "   'link': 'https://n.news.naver.com/mnews/article/003/0011545200?sid=102',\n",
       "   'description': '연기에 질식하는 승객들이 속출하는 사이 <b>사고</b> 8분 만에 도시철도공사 초기대응팀이 도착, 승강장 방화문을... <b>지하철</b> 승강장은 다수 시민들이 이용하는 일상적인 공간인 탓에 화재 상황과 같은 재난에 취약한 실정이다.... ',\n",
       "   'pubDate': 'Fri, 18 Nov 2022 16:28:00 +0900'},\n",
       "  {'title': '어제는 퇴근길, 오늘은 출근길…신림선 또 운행중단(종합2보)',\n",
       "   'originallink': 'https://www.yna.co.kr/view/AKR20221118027052004?input=1195m',\n",
       "   'link': 'https://n.news.naver.com/mnews/article/001/0013586026?sid=102',\n",
       "   'description': '서울시는 전날 <b>사고</b> 12분 만에 문자메시지로 운행 중단을 알리는 등 복구작업이 끝날 때까지 모두 네 차례에... <b>지하철</b> 9호선(샛강역)·1호선(대방역)·7호선(보라매역)·2호선(신림역)으로 환승할 수 있다. 신림선은 개통 한... ',\n",
       "   'pubDate': 'Fri, 18 Nov 2022 16:22:00 +0900'},\n",
       "  {'title': '“안전 우선! 줄을 서시오” 참사 후 달라진 대한민국',\n",
       "   'originallink': 'http://www.kukinews.com/newsView/kuk202211180108',\n",
       "   'link': 'http://www.kukinews.com/newsView/kuk202211180108',\n",
       "   'description': '출퇴근길 광역버스의 입석승차가 금지되고, 붐비는 <b>지하철</b> 역사에는 출퇴근 시간대에 안전인력이 추가... 안전<b>사고</b> 예방을 위해 일시 휴점에 들어간 것이다. 2022 지스타가 열린 벡스코 전시관에 입장하기 위한... ',\n",
       "   'pubDate': 'Fri, 18 Nov 2022 15:52:00 +0900'},\n",
       "  {'title': '경기도 입석버스 금지…최소 연말까진 불편 겪을 듯',\n",
       "   'originallink': 'https://www.hankyung.com/life/article/202211189093i',\n",
       "   'link': 'https://n.news.naver.com/mnews/article/015/0004776611?sid=102',\n",
       "   'description': '다만 입석 중단 사실이 이번주 초부터 알려지면서 시민들이 이날 자가용과 <b>지하철</b> 등 대체 수단을 이용했고... 그러다 이후 입석 승객이 탄 버스의 <b>사고</b>가 발생하고, 요금 논란 등이 제기돼자 버스회사들이 속속 입석... ',\n",
       "   'pubDate': 'Fri, 18 Nov 2022 15:26:00 +0900'},\n",
       "  {'title': '30일 총파업 앞둔 서울교통공사 노조 &quot;감원 철회해야&quot;',\n",
       "   'originallink': 'http://www.newsis.com/view/?id=NISX20221118_0002091917&cID=10201&pID=10200',\n",
       "   'link': 'https://n.news.naver.com/mnews/article/003/0011544967?sid=102',\n",
       "   'description': '서울교통공사 노조는 이날 국회 정문 앞에서 기자회견을 열고 &quot;신당역 <b>사고</b> 이후 노동자뿐 아니라 시민들의 생명도 위험해질 수 있는 안전 사각지대인 <b>지하철</b>에 안전인력을 늘려야 한다&quot;며 &quot;그럼에도 서울시는... ',\n",
       "   'pubDate': 'Fri, 18 Nov 2022 15:16:00 +0900'},\n",
       "  {'title': '경기도 광역버스 입석금지 첫날…승객들 “취지 좋지만 증차를”',\n",
       "   'originallink': 'https://www.khan.co.kr/economy/economy-general/article/202211181501001',\n",
       "   'link': 'https://n.news.naver.com/mnews/article/032/0003187183?sid=102',\n",
       "   'description': '몰려서 <b>지하철 사고</b> 날까 겁이 난다” 등의 게시글들이 올라왔다. 시민들은 입석 금지 시행 전 보완책 부족을 지적했다. 정책의 실효성에 의문을 품는 이들도 있었다. 이날부터 입석을 중단하는 경기지역 광역버스는... ',\n",
       "   'pubDate': 'Fri, 18 Nov 2022 15:02:00 +0900'},\n",
       "  {'title': '심폐소생술을 배웠습니다',\n",
       "   'originallink': 'https://www.korea.kr/news/reporterView.do?newsId=148908379&call_from=naver_news',\n",
       "   'link': 'https://www.korea.kr/news/reporterView.do?newsId=148908379&call_from=naver_news',\n",
       "   'description': '국내에서도 <b>지하철</b>역과 같은 다중이용시설에 가면 행인들의 눈에 띄는 곳에 빨간색의 자동심장충격기가 비치되어 있다. 이태원 <b>사고</b> 이후 심폐소생술 교육에 관심을 갖고 문의하는 분들이 많아졌다.... ',\n",
       "   'pubDate': 'Fri, 18 Nov 2022 14:51:00 +0900'},\n",
       "  {'title': '가천대 길병원 재난의료지원팀 재난현장 구급대응 훈련 실시',\n",
       "   'originallink': 'https://www.viva100.com/main/view.php?key=20221118010005585',\n",
       "   'link': 'https://www.viva100.com/main/view.php?key=20221118010005585',\n",
       "   'description': '이에 앞선 이달 14일에는 송도소방서 주관으로 <b>지하철</b> 역사에서 화재가 발생해 다수사상자가 발생한 상황에 대응하는 훈련에 참가했다. 8일에는 국립중앙의료원 등 의료기관과 공동으로 체육관 폭발<b>사고</b>에 대비한 모의... ',\n",
       "   'pubDate': 'Fri, 18 Nov 2022 14:14:00 +0900'},\n",
       "  {'title': '&apos;이태원 영상 350개&apos; 분석한 WP가 주목한 시간과 장소 [이태원 압사 참사]',\n",
       "   'originallink': 'http://www.ohmynews.com/NWS_Web/View/at_pg.aspx?CNTN_CD=A0002881613&CMPT_CD=P0010&utm_source=naver&utm_medium=newsearch&utm_campaign=naver_news',\n",
       "   'link': 'https://n.news.naver.com/mnews/article/047/0002373283?sid=102',\n",
       "   'description': '압사 <b>사고</b>의 사상자를 넘어섰다&quot;라고 전했다. &quot;이태원 지역 상인들, 참사 며칠 전부터 <b>지하철</b> 우회 요청&quot; ▲ \\xa016일 오전 서울 용산구 이태원 참사 현장에서 국화꽃을 든 시민들이 희생자들을 추모하며 기도하고 있다.... ',\n",
       "   'pubDate': 'Fri, 18 Nov 2022 14:11:00 +0900'},\n",
       "  {'title': '서울교통공사노조, 인력감축 중단 촉구... 30일 총파업 경고',\n",
       "   'originallink': 'https://idsn.co.kr/news/view/1065588590023198',\n",
       "   'link': 'https://idsn.co.kr/news/view/1065588590023198',\n",
       "   'description': '노조는 “신당역 <b>사고</b> 이후 노동자뿐 아니라 시민들의 생명도 위험해질 수 있는 <b>지하철</b>에 안전인력을 늘려야 한다”며 “그러나 오세훈 서울시장은 한쪽으로는 안전 인력의 임시변통 투입을 지시하고 한쪽에선 대규모... ',\n",
       "   'pubDate': 'Fri, 18 Nov 2022 13:54:00 +0900'},\n",
       "  {'title': '가천대 길병원 재난의료지원팀, 재난현장 구급대응 훈련 실시',\n",
       "   'originallink': 'http://www.shinailbo.co.kr/news/articleView.html?idxno=1625127',\n",
       "   'link': 'http://www.shinailbo.co.kr/news/articleView.html?idxno=1625127',\n",
       "   'description': '이에 앞선 14일에는 송도소방서 주관으로 <b>지하철</b> 역사에서 화재가 발생해 다수사상자가 발생한 상황에 대응하는 훈련에 참가했다. 8일에는 국립중앙의료원 등 의료기관과 공동으로 체육관 폭발<b>사고</b>에 대비한 모의 대응... ',\n",
       "   'pubDate': 'Fri, 18 Nov 2022 13:42:00 +0900'},\n",
       "  {'title': '‘남은 좌석’ 전광판 보며 발동동… “퇴근이 더 걱정”',\n",
       "   'originallink': 'http://www.munhwa.com/news/view.html?no=2022111801071227042001',\n",
       "   'link': 'https://n.news.naver.com/mnews/article/021/0002542138?sid=102',\n",
       "   'description': '■ 경기광역버스 입석 금지 첫날 평소보다 30분 일찍 줄 이어져 70명 태우는 2층 버스도 ‘휙’ “<b>사고</b>후... 정류장으로 <b>지하철</b> 같은 대체 대중교통 수단이 없어 아침이면 늘 승객들이 몰린다. 이날은 경기 광역버스 입석... ',\n",
       "   'pubDate': 'Fri, 18 Nov 2022 13:13:00 +0900'},\n",
       "  {'title': '연말연시 혼잡지역에 안전요원',\n",
       "   'originallink': 'http://www.naeil.com/news_view/?id_art=442271',\n",
       "   'link': 'http://www.naeil.com/news_view/?id_art=442271',\n",
       "   'description': '서울고속버스터미널과 <b>지하철</b> 2호선·신분당선 강남역 주변에서 안전요원이 구역별로 순찰을 하게 된다. 서초구는 주최를 특정할 수 없는 행사나 군중밀집 행사 도중 발생할 수 있는 안전<b>사고</b>에 대비해 대응 지침을... ',\n",
       "   'pubDate': 'Fri, 18 Nov 2022 12:36:00 +0900'},\n",
       "  {'title': '뒤숭숭한 서울시 … 10여곳 압수수색',\n",
       "   'originallink': 'http://www.naeil.com/news_view/?id_art=442270',\n",
       "   'link': 'http://www.naeil.com/news_view/?id_art=442270',\n",
       "   'description': '걸 <b>사고</b> 이후에 알게 됐다고 밝혔다. 통상적인 축제 관련 교통대책 협조 내용으로 알려졌지만 압수수색 결과... 서울교통공사가 담당하는 <b>지하철</b> 무정차 관련 내용도 모두 들여다본 것으로 알려졌다. 관련 규정과 내용... ',\n",
       "   'pubDate': 'Fri, 18 Nov 2022 12:36:00 +0900'},\n",
       "  {'title': '가천대 길병원 재난의료지원팀, 재난현장 구급대응 모의 훈련 활발',\n",
       "   'originallink': 'http://sports.chosun.com/news/ntype.htm?id=202211190100139960018755&servicedate=20221118',\n",
       "   'link': 'https://n.news.naver.com/mnews/article/076/0003940721?sid=102',\n",
       "   'description': '이에 앞선 14일에는 송도소방서 주관으로 <b>지하철</b> 역사에서 화재가 발생해 다수사상자가 발생한 상황에 대응하는 훈련에 참가했다. 8일에는 국립중앙의료원 등 의료기관과 공동으로 체육관 폭발<b>사고</b>에 대비한 모의 대응... ',\n",
       "   'pubDate': 'Fri, 18 Nov 2022 12:25:00 +0900'},\n",
       "  {'title': '장성규 아들, 초3인데 혼자서 백화점 쇼핑..남는 돈으로 친구 선물까지(장성규...',\n",
       "   'originallink': 'http://biz.heraldcorp.com/view.php?ud=202211181207579969927_1',\n",
       "   'link': 'https://n.news.naver.com/mnews/article/112/0003599918?sid=106',\n",
       "   'description': '<b>지하철</b>역에 도착한 이들은 1회용 교통권을 <b>사고</b>, <b>지하철</b>에 탑승했다. 나란히 앉아서 이동하고 있는 이들. 하준 군은 태연하게 장난감을 만지며 놀고 있었다. 하지만 하준 군의 친구는 계속 주위를 둘러보는 등 긴장한... ',\n",
       "   'pubDate': 'Fri, 18 Nov 2022 12:14:00 +0900'},\n",
       "  {'title': '성북구, 다중 밀집지역 안전점검... &quot;수능 후 안전<b>사고</b> 대비 만전&quot;',\n",
       "   'originallink': 'http://www.womennews.co.kr/news/articleView.html?idxno=229888',\n",
       "   'link': 'https://n.news.naver.com/mnews/article/310/0000101705?sid=103',\n",
       "   'description': '11/17~11/20 민관 합동 안전점검 실시 대학가, <b>지하철</b>역 인근 인파 몰릴 위험 높은 구역 집중 점검 서울 성북구... 또한 집중 점검하여 일시적으로 인파가 몰릴 수 있는 곳에서 안전<b>사고</b> 예방에 만전을 기할 것&quot;이라고 밝혔다.',\n",
       "   'pubDate': 'Fri, 18 Nov 2022 11:43:00 +0900'},\n",
       "  {'title': '신림선 12시간 만에 또 운행중단…퇴근길 이어 출근길 &apos;혼란&apos;',\n",
       "   'originallink': 'http://www.seouleconews.com/news/articleView.html?idxno=69308',\n",
       "   'link': 'http://www.seouleconews.com/news/articleView.html?idxno=69308',\n",
       "   'description': '<b>지하철</b> 9호선(샛강역)·1호선(대방역)·7호선(보라매역)·2호선(신림역)으로 환승할 수 있다. 서울시는 전날에는 <b>사고</b> 12분 만에 문자메시지로 운행 중단을 알리는 등 복구작업이 끝날 때까지 모두 네 차례에 걸쳐... ',\n",
       "   'pubDate': 'Fri, 18 Nov 2022 11:26:00 +0900'},\n",
       "  {'title': '서울교통공사노조 파업 D-12… &quot;인력감축 지침 철회하라&quot;',\n",
       "   'originallink': 'https://www.newsclaim.co.kr/news/articleView.html?idxno=3013043',\n",
       "   'link': 'https://www.newsclaim.co.kr/news/articleView.html?idxno=3013043',\n",
       "   'description': '안전한 세상, 안전한 <b>지하철</b>을 양보할 수도, 포기할 수도 없다는 마음으로 이 자리에 섰다&quot;며 &quot;신당역 <b>사고</b> 이후 노동자뿐 아니라 시민들의 생명도 위험해질 수 있는 <b>지하철</b>에 안전인력을 늘려야 하는데, 서울시는 인원... ',\n",
       "   'pubDate': 'Fri, 18 Nov 2022 11:18:00 +0900'},\n",
       "  {'title': '밖으로 열린 예술의 생태통로, 경기도미술관',\n",
       "   'originallink': 'https://bravo.etoday.co.kr/view/atc_view.php?varAtcId=14138',\n",
       "   'link': 'https://bravo.etoday.co.kr/view/atc_view.php?varAtcId=14138',\n",
       "   'description': '당시 정치권에선 세월호 <b>사고</b> 원인 규명 문제 등을 놓고 두꺼비씨름을 하고 있었다. 사립미술관도 아닌... 퇴근길 <b>지하철</b>이 유일한 작업실이었으며, <b>지하철</b>에서의 짧은 이동시간 중에 그림을 한 점씩 그렸다. 그렇게 해서... ',\n",
       "   'pubDate': 'Fri, 18 Nov 2022 11:14:00 +0900'},\n",
       "  {'title': '&quot;재벌들 이익 쫓는 정부와 서울시에 분노&quot;[영상]',\n",
       "   'originallink': 'https://www.newsclaim.co.kr/news/articleView.html?idxno=3013042',\n",
       "   'link': 'https://www.newsclaim.co.kr/news/articleView.html?idxno=3013042',\n",
       "   'description': '최형숙 공동대표는 &quot;신당역 스토킹 살인사건을 비롯 수많은 사건 <b>사고</b>가 일어나고 있는 서울 <b>지하철</b>에 인력감축은 절대 안 된다. 서울교통공사노조 무기한 총파업을 지지한다&quot;고 말했다.',\n",
       "   'pubDate': 'Fri, 18 Nov 2022 11:00:00 +0900'},\n",
       "  {'title': '서울 신림선, 오늘 출근길도 고장…&quot;큰 <b>사고</b> 날까 불안&quot;',\n",
       "   'originallink': 'http://news.tvchosun.com/site/data/html_dir/2022/11/18/2022111890069.html',\n",
       "   'link': 'https://n.news.naver.com/mnews/article/448/0000383251?sid=102',\n",
       "   'description': '서울 영등포구에 사는 성지윤(20)씨는 &quot;<b>지하철</b> 배차 간격이 길어서 시간에 맞춰 나오는데, 이렇게 고장이 나면 발이 묶여서 학교를 갈 수가 없다&quot;면서 &quot;혹시나 이런 고장이 큰 <b>사고</b>로 이어지지 않을까 걱정도 된다&quot;고... ',\n",
       "   'pubDate': 'Fri, 18 Nov 2022 10:56:00 +0900'},\n",
       "  {'title': '[2023 수능] 서울시·자치구 &apos;일탈 예방&apos; 점검 나선다',\n",
       "   'originallink': 'http://www.newspim.com/news/view/20221118000402',\n",
       "   'link': 'http://www.newspim.com/news/view/20221118000402',\n",
       "   'description': '또 이용객이 많은 <b>지하철</b>역 출입구나 도보 폭이 좁은 경사로와 같이 <b>사고</b>위험이 있는 구역을 집중적으로 순찰한다. 앞으로 구는 강남역 등 밀집지역 6개 지역에 대해 주최·주관이 없는 행사나 인파 밀집으로 인한... ',\n",
       "   'pubDate': 'Fri, 18 Nov 2022 10:48:00 +0900'},\n",
       "  {'title': '우려했던 &apos;출근대란&apos; 없었다…경기도 광역버스 입석 금지 첫날',\n",
       "   'originallink': 'https://www.nocutnews.co.kr/news/5851380',\n",
       "   'link': 'https://n.news.naver.com/mnews/article/079/0003708508?sid=102',\n",
       "   'description': '갔거나 <b>지하철</b> 등 다른 교통수단을 이용하는 것 같다&quot;고 했다. 이날부터 입석을 중단하는 경기지역... 각종 비리와 부당대우, 사건<b>사고</b>와 미담 등 모든 얘깃거리를 알려주세요.이메일 : 카카오톡 : @노컷뉴스사이트... ',\n",
       "   'pubDate': 'Fri, 18 Nov 2022 10:35:00 +0900'},\n",
       "  {'title': '서울교통공사노조 “인력감축 중단하라”…오는 30일 총파업 예고',\n",
       "   'originallink': 'https://news.kbs.co.kr/news/view.do?ncd=5604681&amp;ref=A',\n",
       "   'link': 'https://n.news.naver.com/mnews/article/056/0011376981?sid=102',\n",
       "   'description': '노조는 “시민들의 안전을 지킬 수 있는 것은 상시적 안전인력”이라면서 “신당역 <b>사고</b> 이후 노동자뿐 아니라 시민들의 생명도 위험해질 수 있는 안전의 사각지대인 <b>지하철</b>에 ‘안전인력’을 늘려야 하지만, 서울시는... ',\n",
       "   'pubDate': 'Fri, 18 Nov 2022 10:35:00 +0900'},\n",
       "  {'title': '경기 광역버스 입석 금지 첫날, &apos;만석&apos; 안내판에 직장인 분통',\n",
       "   'originallink': 'http://www.fnnews.com/news/202211181003520896',\n",
       "   'link': 'https://n.news.naver.com/mnews/article/014/0004930170?sid=102',\n",
       "   'description': '이는 10.29 참사 이후 안전의식이 높아짐에 따라 <b>사고</b>를 예방하자는 차원 시행된 것으로, 도내 경기고속... 포기하고 <b>지하철</b> 등으로 이동하기 위해 서둘러 택시를 잡은 모습도 보였다. 한편, 경기도는 광역버스 입석 승차... ',\n",
       "   'pubDate': 'Fri, 18 Nov 2022 10:25:00 +0900'},\n",
       "  {'title': '[MZ핫이슈] &quot;거의 &apos;출근길 전쟁&apos; 선포한 격&quot;…경기 광역버스 입석 중단에 직장...',\n",
       "   'originallink': 'http://www.newsian.co.kr/news/articleView.html?idxno=57755',\n",
       "   'link': 'http://www.newsian.co.kr/news/articleView.html?idxno=57755',\n",
       "   'description': '이태원 <b>사고</b>를 계기로 시민 안전에 대한 우려가 높아진 데 따른 결정이다. 그러나 뚜렷한 대안책은 없어... 이에 버스 대신 <b>지하철</b>을 이용하는 직장인들이 늘어나면서\\xa0시민 안전에 대한 문제는 여전할\\xa0것이라는 목소리도... ',\n",
       "   'pubDate': 'Fri, 18 Nov 2022 10:16:00 +0900'}]}"
      ]
     },
     "execution_count": 54,
     "metadata": {},
     "output_type": "execute_result"
    }
   ],
   "source": [
    "result"
   ]
  },
  {
   "cell_type": "code",
   "execution_count": 55,
   "id": "3bfe9296",
   "metadata": {},
   "outputs": [],
   "source": [
    "result_items=result['items']"
   ]
  },
  {
   "cell_type": "code",
   "execution_count": 56,
   "id": "0b9c8256",
   "metadata": {
    "scrolled": false
   },
   "outputs": [
    {
     "data": {
      "text/plain": [
       "[{'title': '“인파 밀집 대비 2층 버스 도입&quot;...국가안전시스템 뿌리부터 바꾼다',\n",
       "  'originallink': 'https://www.joongang.co.kr/article/25118757',\n",
       "  'link': 'https://n.news.naver.com/mnews/article/025/0003239556?sid=102',\n",
       "  'description': '행사장이나 <b>지하철</b>·버스 등 교통수단에 인파가 몰릴 경우 <b>사고</b> 방지 대책을 논의했다. 이 자리에서 국토교통부는 2층 전기버스 도입을 추진하기로 했다. 출·퇴근 시간대 수도권 광역버스 혼잡도를 완화하기 위해서다.... ',\n",
       "  'pubDate': 'Fri, 18 Nov 2022 16:52:00 +0900'},\n",
       " {'title': '[노컷한컷]수능 치러지는 동안…참사 후폭풍에 코인시장은 위기',\n",
       "  'originallink': 'https://www.nocutnews.co.kr/news/5851673',\n",
       "  'link': 'https://n.news.naver.com/mnews/article/079/0003708698?sid=102',\n",
       "  'description': '춘천=박종민 기자 \\u200bCBS 뉴스부활 35주년 기념 디지털 사진전 14일 오전 서울 <b>지하철</b> 경복궁역... 이태원 <b>사고</b> 특별수사본부(특수본)에 피의자 신분으로 조사받기 위해 출석하고 있다. 박 구청장은 핼러윈 기간 안전<b>사고</b>... ',\n",
       "  'pubDate': 'Fri, 18 Nov 2022 16:50:00 +0900'},\n",
       " {'title': '[병원계 소식] 11월 18일',\n",
       "  'originallink': 'http://www.doctorstimes.com/news/articleView.html?idxno=220847',\n",
       "  'link': 'http://www.doctorstimes.com/news/articleView.html?idxno=220847',\n",
       "  'description': '이에 앞선 14일에는 송도소방서 주관으로 <b>지하철</b> 역사에서 화재가 발생해 다수사상자가 발생한 상황에 대응하는 훈련에 참가했다. 8일에는 국립중앙의료원 등 의료기관과 공동으로 체육관 폭발<b>사고</b>에 대비한 모의... ',\n",
       "  'pubDate': 'Fri, 18 Nov 2022 16:44:00 +0900'},\n",
       " {'title': '&quot;실제 상황처럼&quot;…긴박감 속 <b>지하철</b> 화재<b>사고</b> 대피훈련',\n",
       "  'originallink': 'http://www.newsis.com/view/?id=NISX20221118_0002092008&cID=10809&pID=10800',\n",
       "  'link': 'https://n.news.naver.com/mnews/article/003/0011545200?sid=102',\n",
       "  'description': '연기에 질식하는 승객들이 속출하는 사이 <b>사고</b> 8분 만에 도시철도공사 초기대응팀이 도착, 승강장 방화문을... <b>지하철</b> 승강장은 다수 시민들이 이용하는 일상적인 공간인 탓에 화재 상황과 같은 재난에 취약한 실정이다.... ',\n",
       "  'pubDate': 'Fri, 18 Nov 2022 16:28:00 +0900'},\n",
       " {'title': '어제는 퇴근길, 오늘은 출근길…신림선 또 운행중단(종합2보)',\n",
       "  'originallink': 'https://www.yna.co.kr/view/AKR20221118027052004?input=1195m',\n",
       "  'link': 'https://n.news.naver.com/mnews/article/001/0013586026?sid=102',\n",
       "  'description': '서울시는 전날 <b>사고</b> 12분 만에 문자메시지로 운행 중단을 알리는 등 복구작업이 끝날 때까지 모두 네 차례에... <b>지하철</b> 9호선(샛강역)·1호선(대방역)·7호선(보라매역)·2호선(신림역)으로 환승할 수 있다. 신림선은 개통 한... ',\n",
       "  'pubDate': 'Fri, 18 Nov 2022 16:22:00 +0900'},\n",
       " {'title': '“안전 우선! 줄을 서시오” 참사 후 달라진 대한민국',\n",
       "  'originallink': 'http://www.kukinews.com/newsView/kuk202211180108',\n",
       "  'link': 'http://www.kukinews.com/newsView/kuk202211180108',\n",
       "  'description': '출퇴근길 광역버스의 입석승차가 금지되고, 붐비는 <b>지하철</b> 역사에는 출퇴근 시간대에 안전인력이 추가... 안전<b>사고</b> 예방을 위해 일시 휴점에 들어간 것이다. 2022 지스타가 열린 벡스코 전시관에 입장하기 위한... ',\n",
       "  'pubDate': 'Fri, 18 Nov 2022 15:52:00 +0900'},\n",
       " {'title': '경기도 입석버스 금지…최소 연말까진 불편 겪을 듯',\n",
       "  'originallink': 'https://www.hankyung.com/life/article/202211189093i',\n",
       "  'link': 'https://n.news.naver.com/mnews/article/015/0004776611?sid=102',\n",
       "  'description': '다만 입석 중단 사실이 이번주 초부터 알려지면서 시민들이 이날 자가용과 <b>지하철</b> 등 대체 수단을 이용했고... 그러다 이후 입석 승객이 탄 버스의 <b>사고</b>가 발생하고, 요금 논란 등이 제기돼자 버스회사들이 속속 입석... ',\n",
       "  'pubDate': 'Fri, 18 Nov 2022 15:26:00 +0900'},\n",
       " {'title': '30일 총파업 앞둔 서울교통공사 노조 &quot;감원 철회해야&quot;',\n",
       "  'originallink': 'http://www.newsis.com/view/?id=NISX20221118_0002091917&cID=10201&pID=10200',\n",
       "  'link': 'https://n.news.naver.com/mnews/article/003/0011544967?sid=102',\n",
       "  'description': '서울교통공사 노조는 이날 국회 정문 앞에서 기자회견을 열고 &quot;신당역 <b>사고</b> 이후 노동자뿐 아니라 시민들의 생명도 위험해질 수 있는 안전 사각지대인 <b>지하철</b>에 안전인력을 늘려야 한다&quot;며 &quot;그럼에도 서울시는... ',\n",
       "  'pubDate': 'Fri, 18 Nov 2022 15:16:00 +0900'},\n",
       " {'title': '경기도 광역버스 입석금지 첫날…승객들 “취지 좋지만 증차를”',\n",
       "  'originallink': 'https://www.khan.co.kr/economy/economy-general/article/202211181501001',\n",
       "  'link': 'https://n.news.naver.com/mnews/article/032/0003187183?sid=102',\n",
       "  'description': '몰려서 <b>지하철 사고</b> 날까 겁이 난다” 등의 게시글들이 올라왔다. 시민들은 입석 금지 시행 전 보완책 부족을 지적했다. 정책의 실효성에 의문을 품는 이들도 있었다. 이날부터 입석을 중단하는 경기지역 광역버스는... ',\n",
       "  'pubDate': 'Fri, 18 Nov 2022 15:02:00 +0900'},\n",
       " {'title': '심폐소생술을 배웠습니다',\n",
       "  'originallink': 'https://www.korea.kr/news/reporterView.do?newsId=148908379&call_from=naver_news',\n",
       "  'link': 'https://www.korea.kr/news/reporterView.do?newsId=148908379&call_from=naver_news',\n",
       "  'description': '국내에서도 <b>지하철</b>역과 같은 다중이용시설에 가면 행인들의 눈에 띄는 곳에 빨간색의 자동심장충격기가 비치되어 있다. 이태원 <b>사고</b> 이후 심폐소생술 교육에 관심을 갖고 문의하는 분들이 많아졌다.... ',\n",
       "  'pubDate': 'Fri, 18 Nov 2022 14:51:00 +0900'},\n",
       " {'title': '가천대 길병원 재난의료지원팀 재난현장 구급대응 훈련 실시',\n",
       "  'originallink': 'https://www.viva100.com/main/view.php?key=20221118010005585',\n",
       "  'link': 'https://www.viva100.com/main/view.php?key=20221118010005585',\n",
       "  'description': '이에 앞선 이달 14일에는 송도소방서 주관으로 <b>지하철</b> 역사에서 화재가 발생해 다수사상자가 발생한 상황에 대응하는 훈련에 참가했다. 8일에는 국립중앙의료원 등 의료기관과 공동으로 체육관 폭발<b>사고</b>에 대비한 모의... ',\n",
       "  'pubDate': 'Fri, 18 Nov 2022 14:14:00 +0900'},\n",
       " {'title': '&apos;이태원 영상 350개&apos; 분석한 WP가 주목한 시간과 장소 [이태원 압사 참사]',\n",
       "  'originallink': 'http://www.ohmynews.com/NWS_Web/View/at_pg.aspx?CNTN_CD=A0002881613&CMPT_CD=P0010&utm_source=naver&utm_medium=newsearch&utm_campaign=naver_news',\n",
       "  'link': 'https://n.news.naver.com/mnews/article/047/0002373283?sid=102',\n",
       "  'description': '압사 <b>사고</b>의 사상자를 넘어섰다&quot;라고 전했다. &quot;이태원 지역 상인들, 참사 며칠 전부터 <b>지하철</b> 우회 요청&quot; ▲ \\xa016일 오전 서울 용산구 이태원 참사 현장에서 국화꽃을 든 시민들이 희생자들을 추모하며 기도하고 있다.... ',\n",
       "  'pubDate': 'Fri, 18 Nov 2022 14:11:00 +0900'},\n",
       " {'title': '서울교통공사노조, 인력감축 중단 촉구... 30일 총파업 경고',\n",
       "  'originallink': 'https://idsn.co.kr/news/view/1065588590023198',\n",
       "  'link': 'https://idsn.co.kr/news/view/1065588590023198',\n",
       "  'description': '노조는 “신당역 <b>사고</b> 이후 노동자뿐 아니라 시민들의 생명도 위험해질 수 있는 <b>지하철</b>에 안전인력을 늘려야 한다”며 “그러나 오세훈 서울시장은 한쪽으로는 안전 인력의 임시변통 투입을 지시하고 한쪽에선 대규모... ',\n",
       "  'pubDate': 'Fri, 18 Nov 2022 13:54:00 +0900'},\n",
       " {'title': '가천대 길병원 재난의료지원팀, 재난현장 구급대응 훈련 실시',\n",
       "  'originallink': 'http://www.shinailbo.co.kr/news/articleView.html?idxno=1625127',\n",
       "  'link': 'http://www.shinailbo.co.kr/news/articleView.html?idxno=1625127',\n",
       "  'description': '이에 앞선 14일에는 송도소방서 주관으로 <b>지하철</b> 역사에서 화재가 발생해 다수사상자가 발생한 상황에 대응하는 훈련에 참가했다. 8일에는 국립중앙의료원 등 의료기관과 공동으로 체육관 폭발<b>사고</b>에 대비한 모의 대응... ',\n",
       "  'pubDate': 'Fri, 18 Nov 2022 13:42:00 +0900'},\n",
       " {'title': '‘남은 좌석’ 전광판 보며 발동동… “퇴근이 더 걱정”',\n",
       "  'originallink': 'http://www.munhwa.com/news/view.html?no=2022111801071227042001',\n",
       "  'link': 'https://n.news.naver.com/mnews/article/021/0002542138?sid=102',\n",
       "  'description': '■ 경기광역버스 입석 금지 첫날 평소보다 30분 일찍 줄 이어져 70명 태우는 2층 버스도 ‘휙’ “<b>사고</b>후... 정류장으로 <b>지하철</b> 같은 대체 대중교통 수단이 없어 아침이면 늘 승객들이 몰린다. 이날은 경기 광역버스 입석... ',\n",
       "  'pubDate': 'Fri, 18 Nov 2022 13:13:00 +0900'},\n",
       " {'title': '연말연시 혼잡지역에 안전요원',\n",
       "  'originallink': 'http://www.naeil.com/news_view/?id_art=442271',\n",
       "  'link': 'http://www.naeil.com/news_view/?id_art=442271',\n",
       "  'description': '서울고속버스터미널과 <b>지하철</b> 2호선·신분당선 강남역 주변에서 안전요원이 구역별로 순찰을 하게 된다. 서초구는 주최를 특정할 수 없는 행사나 군중밀집 행사 도중 발생할 수 있는 안전<b>사고</b>에 대비해 대응 지침을... ',\n",
       "  'pubDate': 'Fri, 18 Nov 2022 12:36:00 +0900'},\n",
       " {'title': '뒤숭숭한 서울시 … 10여곳 압수수색',\n",
       "  'originallink': 'http://www.naeil.com/news_view/?id_art=442270',\n",
       "  'link': 'http://www.naeil.com/news_view/?id_art=442270',\n",
       "  'description': '걸 <b>사고</b> 이후에 알게 됐다고 밝혔다. 통상적인 축제 관련 교통대책 협조 내용으로 알려졌지만 압수수색 결과... 서울교통공사가 담당하는 <b>지하철</b> 무정차 관련 내용도 모두 들여다본 것으로 알려졌다. 관련 규정과 내용... ',\n",
       "  'pubDate': 'Fri, 18 Nov 2022 12:36:00 +0900'},\n",
       " {'title': '가천대 길병원 재난의료지원팀, 재난현장 구급대응 모의 훈련 활발',\n",
       "  'originallink': 'http://sports.chosun.com/news/ntype.htm?id=202211190100139960018755&servicedate=20221118',\n",
       "  'link': 'https://n.news.naver.com/mnews/article/076/0003940721?sid=102',\n",
       "  'description': '이에 앞선 14일에는 송도소방서 주관으로 <b>지하철</b> 역사에서 화재가 발생해 다수사상자가 발생한 상황에 대응하는 훈련에 참가했다. 8일에는 국립중앙의료원 등 의료기관과 공동으로 체육관 폭발<b>사고</b>에 대비한 모의 대응... ',\n",
       "  'pubDate': 'Fri, 18 Nov 2022 12:25:00 +0900'},\n",
       " {'title': '장성규 아들, 초3인데 혼자서 백화점 쇼핑..남는 돈으로 친구 선물까지(장성규...',\n",
       "  'originallink': 'http://biz.heraldcorp.com/view.php?ud=202211181207579969927_1',\n",
       "  'link': 'https://n.news.naver.com/mnews/article/112/0003599918?sid=106',\n",
       "  'description': '<b>지하철</b>역에 도착한 이들은 1회용 교통권을 <b>사고</b>, <b>지하철</b>에 탑승했다. 나란히 앉아서 이동하고 있는 이들. 하준 군은 태연하게 장난감을 만지며 놀고 있었다. 하지만 하준 군의 친구는 계속 주위를 둘러보는 등 긴장한... ',\n",
       "  'pubDate': 'Fri, 18 Nov 2022 12:14:00 +0900'},\n",
       " {'title': '성북구, 다중 밀집지역 안전점검... &quot;수능 후 안전<b>사고</b> 대비 만전&quot;',\n",
       "  'originallink': 'http://www.womennews.co.kr/news/articleView.html?idxno=229888',\n",
       "  'link': 'https://n.news.naver.com/mnews/article/310/0000101705?sid=103',\n",
       "  'description': '11/17~11/20 민관 합동 안전점검 실시 대학가, <b>지하철</b>역 인근 인파 몰릴 위험 높은 구역 집중 점검 서울 성북구... 또한 집중 점검하여 일시적으로 인파가 몰릴 수 있는 곳에서 안전<b>사고</b> 예방에 만전을 기할 것&quot;이라고 밝혔다.',\n",
       "  'pubDate': 'Fri, 18 Nov 2022 11:43:00 +0900'},\n",
       " {'title': '신림선 12시간 만에 또 운행중단…퇴근길 이어 출근길 &apos;혼란&apos;',\n",
       "  'originallink': 'http://www.seouleconews.com/news/articleView.html?idxno=69308',\n",
       "  'link': 'http://www.seouleconews.com/news/articleView.html?idxno=69308',\n",
       "  'description': '<b>지하철</b> 9호선(샛강역)·1호선(대방역)·7호선(보라매역)·2호선(신림역)으로 환승할 수 있다. 서울시는 전날에는 <b>사고</b> 12분 만에 문자메시지로 운행 중단을 알리는 등 복구작업이 끝날 때까지 모두 네 차례에 걸쳐... ',\n",
       "  'pubDate': 'Fri, 18 Nov 2022 11:26:00 +0900'},\n",
       " {'title': '서울교통공사노조 파업 D-12… &quot;인력감축 지침 철회하라&quot;',\n",
       "  'originallink': 'https://www.newsclaim.co.kr/news/articleView.html?idxno=3013043',\n",
       "  'link': 'https://www.newsclaim.co.kr/news/articleView.html?idxno=3013043',\n",
       "  'description': '안전한 세상, 안전한 <b>지하철</b>을 양보할 수도, 포기할 수도 없다는 마음으로 이 자리에 섰다&quot;며 &quot;신당역 <b>사고</b> 이후 노동자뿐 아니라 시민들의 생명도 위험해질 수 있는 <b>지하철</b>에 안전인력을 늘려야 하는데, 서울시는 인원... ',\n",
       "  'pubDate': 'Fri, 18 Nov 2022 11:18:00 +0900'},\n",
       " {'title': '밖으로 열린 예술의 생태통로, 경기도미술관',\n",
       "  'originallink': 'https://bravo.etoday.co.kr/view/atc_view.php?varAtcId=14138',\n",
       "  'link': 'https://bravo.etoday.co.kr/view/atc_view.php?varAtcId=14138',\n",
       "  'description': '당시 정치권에선 세월호 <b>사고</b> 원인 규명 문제 등을 놓고 두꺼비씨름을 하고 있었다. 사립미술관도 아닌... 퇴근길 <b>지하철</b>이 유일한 작업실이었으며, <b>지하철</b>에서의 짧은 이동시간 중에 그림을 한 점씩 그렸다. 그렇게 해서... ',\n",
       "  'pubDate': 'Fri, 18 Nov 2022 11:14:00 +0900'},\n",
       " {'title': '&quot;재벌들 이익 쫓는 정부와 서울시에 분노&quot;[영상]',\n",
       "  'originallink': 'https://www.newsclaim.co.kr/news/articleView.html?idxno=3013042',\n",
       "  'link': 'https://www.newsclaim.co.kr/news/articleView.html?idxno=3013042',\n",
       "  'description': '최형숙 공동대표는 &quot;신당역 스토킹 살인사건을 비롯 수많은 사건 <b>사고</b>가 일어나고 있는 서울 <b>지하철</b>에 인력감축은 절대 안 된다. 서울교통공사노조 무기한 총파업을 지지한다&quot;고 말했다.',\n",
       "  'pubDate': 'Fri, 18 Nov 2022 11:00:00 +0900'},\n",
       " {'title': '서울 신림선, 오늘 출근길도 고장…&quot;큰 <b>사고</b> 날까 불안&quot;',\n",
       "  'originallink': 'http://news.tvchosun.com/site/data/html_dir/2022/11/18/2022111890069.html',\n",
       "  'link': 'https://n.news.naver.com/mnews/article/448/0000383251?sid=102',\n",
       "  'description': '서울 영등포구에 사는 성지윤(20)씨는 &quot;<b>지하철</b> 배차 간격이 길어서 시간에 맞춰 나오는데, 이렇게 고장이 나면 발이 묶여서 학교를 갈 수가 없다&quot;면서 &quot;혹시나 이런 고장이 큰 <b>사고</b>로 이어지지 않을까 걱정도 된다&quot;고... ',\n",
       "  'pubDate': 'Fri, 18 Nov 2022 10:56:00 +0900'},\n",
       " {'title': '[2023 수능] 서울시·자치구 &apos;일탈 예방&apos; 점검 나선다',\n",
       "  'originallink': 'http://www.newspim.com/news/view/20221118000402',\n",
       "  'link': 'http://www.newspim.com/news/view/20221118000402',\n",
       "  'description': '또 이용객이 많은 <b>지하철</b>역 출입구나 도보 폭이 좁은 경사로와 같이 <b>사고</b>위험이 있는 구역을 집중적으로 순찰한다. 앞으로 구는 강남역 등 밀집지역 6개 지역에 대해 주최·주관이 없는 행사나 인파 밀집으로 인한... ',\n",
       "  'pubDate': 'Fri, 18 Nov 2022 10:48:00 +0900'},\n",
       " {'title': '우려했던 &apos;출근대란&apos; 없었다…경기도 광역버스 입석 금지 첫날',\n",
       "  'originallink': 'https://www.nocutnews.co.kr/news/5851380',\n",
       "  'link': 'https://n.news.naver.com/mnews/article/079/0003708508?sid=102',\n",
       "  'description': '갔거나 <b>지하철</b> 등 다른 교통수단을 이용하는 것 같다&quot;고 했다. 이날부터 입석을 중단하는 경기지역... 각종 비리와 부당대우, 사건<b>사고</b>와 미담 등 모든 얘깃거리를 알려주세요.이메일 : 카카오톡 : @노컷뉴스사이트... ',\n",
       "  'pubDate': 'Fri, 18 Nov 2022 10:35:00 +0900'},\n",
       " {'title': '서울교통공사노조 “인력감축 중단하라”…오는 30일 총파업 예고',\n",
       "  'originallink': 'https://news.kbs.co.kr/news/view.do?ncd=5604681&amp;ref=A',\n",
       "  'link': 'https://n.news.naver.com/mnews/article/056/0011376981?sid=102',\n",
       "  'description': '노조는 “시민들의 안전을 지킬 수 있는 것은 상시적 안전인력”이라면서 “신당역 <b>사고</b> 이후 노동자뿐 아니라 시민들의 생명도 위험해질 수 있는 안전의 사각지대인 <b>지하철</b>에 ‘안전인력’을 늘려야 하지만, 서울시는... ',\n",
       "  'pubDate': 'Fri, 18 Nov 2022 10:35:00 +0900'},\n",
       " {'title': '경기 광역버스 입석 금지 첫날, &apos;만석&apos; 안내판에 직장인 분통',\n",
       "  'originallink': 'http://www.fnnews.com/news/202211181003520896',\n",
       "  'link': 'https://n.news.naver.com/mnews/article/014/0004930170?sid=102',\n",
       "  'description': '이는 10.29 참사 이후 안전의식이 높아짐에 따라 <b>사고</b>를 예방하자는 차원 시행된 것으로, 도내 경기고속... 포기하고 <b>지하철</b> 등으로 이동하기 위해 서둘러 택시를 잡은 모습도 보였다. 한편, 경기도는 광역버스 입석 승차... ',\n",
       "  'pubDate': 'Fri, 18 Nov 2022 10:25:00 +0900'},\n",
       " {'title': '[MZ핫이슈] &quot;거의 &apos;출근길 전쟁&apos; 선포한 격&quot;…경기 광역버스 입석 중단에 직장...',\n",
       "  'originallink': 'http://www.newsian.co.kr/news/articleView.html?idxno=57755',\n",
       "  'link': 'http://www.newsian.co.kr/news/articleView.html?idxno=57755',\n",
       "  'description': '이태원 <b>사고</b>를 계기로 시민 안전에 대한 우려가 높아진 데 따른 결정이다. 그러나 뚜렷한 대안책은 없어... 이에 버스 대신 <b>지하철</b>을 이용하는 직장인들이 늘어나면서\\xa0시민 안전에 대한 문제는 여전할\\xa0것이라는 목소리도... ',\n",
       "  'pubDate': 'Fri, 18 Nov 2022 10:16:00 +0900'}]"
      ]
     },
     "execution_count": 56,
     "metadata": {},
     "output_type": "execute_result"
    }
   ],
   "source": [
    "result_items"
   ]
  },
  {
   "cell_type": "code",
   "execution_count": null,
   "id": "9bc91637",
   "metadata": {},
   "outputs": [],
   "source": []
  },
  {
   "cell_type": "code",
   "execution_count": 40,
   "id": "41a994d0",
   "metadata": {
    "scrolled": true
   },
   "outputs": [
    {
     "data": {
      "text/plain": [
       "list"
      ]
     },
     "execution_count": 40,
     "metadata": {},
     "output_type": "execute_result"
    }
   ],
   "source": [
    "type(result_items)"
   ]
  },
  {
   "cell_type": "code",
   "execution_count": 44,
   "id": "ee5728b1",
   "metadata": {},
   "outputs": [
    {
     "data": {
      "text/plain": [
       "30"
      ]
     },
     "execution_count": 44,
     "metadata": {},
     "output_type": "execute_result"
    }
   ],
   "source": [
    "len(result_items)"
   ]
  },
  {
   "cell_type": "code",
   "execution_count": 41,
   "id": "5d2954a5",
   "metadata": {
    "scrolled": true
   },
   "outputs": [
    {
     "data": {
      "text/plain": [
       "{'title': '“인파 밀집 대비 2층 버스 도입&quot;...국가안전시스템 뿌리부터 바꾼다',\n",
       " 'originallink': 'https://www.joongang.co.kr/article/25118757',\n",
       " 'link': 'https://n.news.naver.com/mnews/article/025/0003239556?sid=102',\n",
       " 'description': '행사장이나 <b>지하철</b>·버스 등 교통수단에 인파가 몰릴 경우 <b>사고</b> 방지 대책을 논의했다. 이 자리에서 국토교통부는 2층 전기버스 도입을 추진하기로 했다. 출·퇴근 시간대 수도권 광역버스 혼잡도를 완화하기 위해서다.... ',\n",
       " 'pubDate': 'Fri, 18 Nov 2022 16:52:00 +0900'}"
      ]
     },
     "execution_count": 41,
     "metadata": {},
     "output_type": "execute_result"
    }
   ],
   "source": [
    "result_items[0]"
   ]
  },
  {
   "cell_type": "code",
   "execution_count": 57,
   "id": "0f720a10",
   "metadata": {
    "scrolled": true
   },
   "outputs": [
    {
     "data": {
      "text/plain": [
       "dict"
      ]
     },
     "execution_count": 57,
     "metadata": {},
     "output_type": "execute_result"
    }
   ],
   "source": [
    "type(result_items[0])"
   ]
  },
  {
   "cell_type": "code",
   "execution_count": 67,
   "id": "0f4cd10a",
   "metadata": {},
   "outputs": [
    {
     "data": {
      "text/plain": [
       "'Fri, 18 Nov 2022 16:52:00 +0900'"
      ]
     },
     "execution_count": 67,
     "metadata": {},
     "output_type": "execute_result"
    }
   ],
   "source": [
    "result_items[0]['pubDate']"
   ]
  },
  {
   "cell_type": "code",
   "execution_count": 65,
   "id": "5b6e2dcd",
   "metadata": {},
   "outputs": [],
   "source": [
    "pDate = result_items[0]['pubDate']\n",
    "pDate = datetime.datetime.strptime(pDate, '%a, %d %b %Y %H:%M:%S +0900')\n",
    "pDate = pDate.strftime('%Y-%m-%d %H:%M:%S')"
   ]
  },
  {
   "cell_type": "code",
   "execution_count": 66,
   "id": "2c369057",
   "metadata": {},
   "outputs": [
    {
     "data": {
      "text/plain": [
       "'2022-11-18 16:52:00'"
      ]
     },
     "execution_count": 66,
     "metadata": {},
     "output_type": "execute_result"
    }
   ],
   "source": [
    "pDate"
   ]
  },
  {
   "cell_type": "code",
   "execution_count": 60,
   "id": "3ac75a47",
   "metadata": {},
   "outputs": [
    {
     "data": {
      "text/plain": [
       "'18 Nov 2022 16:52:00'"
      ]
     },
     "execution_count": 60,
     "metadata": {},
     "output_type": "execute_result"
    }
   ],
   "source": [
    "result_items[0]['pubDate'][5:-6]"
   ]
  },
  {
   "cell_type": "code",
   "execution_count": 72,
   "id": "4eb631fd",
   "metadata": {},
   "outputs": [],
   "source": [
    "# pDate = result_items[0]['pubDate'][5:-6]\n",
    "pDate = datetime.datetime.strptime(result_items[0]['pubDate'][5:-6], '%d %b %Y %H:%M:%S')\n",
    "pDate = pDate.strftime('%Y-%m-%d %H:%M:%S')"
   ]
  },
  {
   "cell_type": "code",
   "execution_count": 70,
   "id": "b8e402c5",
   "metadata": {},
   "outputs": [],
   "source": []
  },
  {
   "cell_type": "code",
   "execution_count": 73,
   "id": "e3979381",
   "metadata": {},
   "outputs": [
    {
     "data": {
      "text/plain": [
       "'2022-11-18 16:52:00'"
      ]
     },
     "execution_count": 73,
     "metadata": {},
     "output_type": "execute_result"
    }
   ],
   "source": [
    "pDate"
   ]
  },
  {
   "cell_type": "code",
   "execution_count": 61,
   "id": "abab8c07",
   "metadata": {},
   "outputs": [
    {
     "data": {
      "text/plain": [
       "'“인파 밀집 대비 2층 버스 도입&quot;...국가안전시스템 뿌리부터 바꾼다'"
      ]
     },
     "execution_count": 61,
     "metadata": {},
     "output_type": "execute_result"
    }
   ],
   "source": [
    "result_items[0]['title']"
   ]
  },
  {
   "cell_type": "code",
   "execution_count": 62,
   "id": "3c9da14d",
   "metadata": {},
   "outputs": [
    {
     "data": {
      "text/plain": [
       "'https://n.news.naver.com/mnews/article/025/0003239556?sid=102'"
      ]
     },
     "execution_count": 62,
     "metadata": {},
     "output_type": "execute_result"
    }
   ],
   "source": [
    "result_items[0]['link']"
   ]
  },
  {
   "cell_type": "code",
   "execution_count": null,
   "id": "161e53bf",
   "metadata": {},
   "outputs": [],
   "source": []
  },
  {
   "cell_type": "code",
   "execution_count": null,
   "id": "7b35ad12",
   "metadata": {},
   "outputs": [],
   "source": []
  },
  {
   "cell_type": "code",
   "execution_count": null,
   "id": "5913aef7",
   "metadata": {},
   "outputs": [],
   "source": []
  },
  {
   "cell_type": "code",
   "execution_count": 77,
   "id": "80e1bdd9",
   "metadata": {},
   "outputs": [],
   "source": [
    "def clean_html(x):\n",
    "  x = re.sub(\"\\&\\w*\\;\",\"\",x)\n",
    "  x = re.sub(\"<.*?>\",\"\",x)\n",
    "  return x\n",
    "\n",
    "news = \"\"\n",
    "for i in result_items:\n",
    "    pDate = datetime.datetime.strptime(i['pubDate'][5:-6], '%d %b %Y %H:%M:%S')\n",
    "    pDate = pDate.strftime('%Y-%m-%d %H:%M:%S')\n",
    "    title = i['title']\n",
    "    link = i['link']\n",
    "    news = news + pDate + '\\n' + title + '\\n' + link + '\\n\\n'"
   ]
  },
  {
   "cell_type": "code",
   "execution_count": 78,
   "id": "2de632e5",
   "metadata": {},
   "outputs": [
    {
     "name": "stdout",
     "output_type": "stream",
     "text": [
      "2022-11-18 16:52:00\n",
      "“인파 밀집 대비 2층 버스 도입&quot;...국가안전시스템 뿌리부터 바꾼다\n",
      "https://n.news.naver.com/mnews/article/025/0003239556?sid=102\n",
      "\n",
      "2022-11-18 16:50:00\n",
      "[노컷한컷]수능 치러지는 동안…참사 후폭풍에 코인시장은 위기\n",
      "https://n.news.naver.com/mnews/article/079/0003708698?sid=102\n",
      "\n",
      "2022-11-18 16:44:00\n",
      "[병원계 소식] 11월 18일\n",
      "http://www.doctorstimes.com/news/articleView.html?idxno=220847\n",
      "\n",
      "2022-11-18 16:28:00\n",
      "&quot;실제 상황처럼&quot;…긴박감 속 <b>지하철</b> 화재<b>사고</b> 대피훈련\n",
      "https://n.news.naver.com/mnews/article/003/0011545200?sid=102\n",
      "\n",
      "2022-11-18 16:22:00\n",
      "어제는 퇴근길, 오늘은 출근길…신림선 또 운행중단(종합2보)\n",
      "https://n.news.naver.com/mnews/article/001/0013586026?sid=102\n",
      "\n",
      "2022-11-18 15:52:00\n",
      "“안전 우선! 줄을 서시오” 참사 후 달라진 대한민국\n",
      "http://www.kukinews.com/newsView/kuk202211180108\n",
      "\n",
      "2022-11-18 15:26:00\n",
      "경기도 입석버스 금지…최소 연말까진 불편 겪을 듯\n",
      "https://n.news.naver.com/mnews/article/015/0004776611?sid=102\n",
      "\n",
      "2022-11-18 15:16:00\n",
      "30일 총파업 앞둔 서울교통공사 노조 &quot;감원 철회해야&quot;\n",
      "https://n.news.naver.com/mnews/article/003/0011544967?sid=102\n",
      "\n",
      "2022-11-18 15:02:00\n",
      "경기도 광역버스 입석금지 첫날…승객들 “취지 좋지만 증차를”\n",
      "https://n.news.naver.com/mnews/article/032/0003187183?sid=102\n",
      "\n",
      "2022-11-18 14:51:00\n",
      "심폐소생술을 배웠습니다\n",
      "https://www.korea.kr/news/reporterView.do?newsId=148908379&call_from=naver_news\n",
      "\n",
      "2022-11-18 14:14:00\n",
      "가천대 길병원 재난의료지원팀 재난현장 구급대응 훈련 실시\n",
      "https://www.viva100.com/main/view.php?key=20221118010005585\n",
      "\n",
      "2022-11-18 14:11:00\n",
      "&apos;이태원 영상 350개&apos; 분석한 WP가 주목한 시간과 장소 [이태원 압사 참사]\n",
      "https://n.news.naver.com/mnews/article/047/0002373283?sid=102\n",
      "\n",
      "2022-11-18 13:54:00\n",
      "서울교통공사노조, 인력감축 중단 촉구... 30일 총파업 경고\n",
      "https://idsn.co.kr/news/view/1065588590023198\n",
      "\n",
      "2022-11-18 13:42:00\n",
      "가천대 길병원 재난의료지원팀, 재난현장 구급대응 훈련 실시\n",
      "http://www.shinailbo.co.kr/news/articleView.html?idxno=1625127\n",
      "\n",
      "2022-11-18 13:13:00\n",
      "‘남은 좌석’ 전광판 보며 발동동… “퇴근이 더 걱정”\n",
      "https://n.news.naver.com/mnews/article/021/0002542138?sid=102\n",
      "\n",
      "2022-11-18 12:36:00\n",
      "연말연시 혼잡지역에 안전요원\n",
      "http://www.naeil.com/news_view/?id_art=442271\n",
      "\n",
      "2022-11-18 12:36:00\n",
      "뒤숭숭한 서울시 … 10여곳 압수수색\n",
      "http://www.naeil.com/news_view/?id_art=442270\n",
      "\n",
      "2022-11-18 12:25:00\n",
      "가천대 길병원 재난의료지원팀, 재난현장 구급대응 모의 훈련 활발\n",
      "https://n.news.naver.com/mnews/article/076/0003940721?sid=102\n",
      "\n",
      "2022-11-18 12:14:00\n",
      "장성규 아들, 초3인데 혼자서 백화점 쇼핑..남는 돈으로 친구 선물까지(장성규...\n",
      "https://n.news.naver.com/mnews/article/112/0003599918?sid=106\n",
      "\n",
      "2022-11-18 11:43:00\n",
      "성북구, 다중 밀집지역 안전점검... &quot;수능 후 안전<b>사고</b> 대비 만전&quot;\n",
      "https://n.news.naver.com/mnews/article/310/0000101705?sid=103\n",
      "\n",
      "2022-11-18 11:26:00\n",
      "신림선 12시간 만에 또 운행중단…퇴근길 이어 출근길 &apos;혼란&apos;\n",
      "http://www.seouleconews.com/news/articleView.html?idxno=69308\n",
      "\n",
      "2022-11-18 11:18:00\n",
      "서울교통공사노조 파업 D-12… &quot;인력감축 지침 철회하라&quot;\n",
      "https://www.newsclaim.co.kr/news/articleView.html?idxno=3013043\n",
      "\n",
      "2022-11-18 11:14:00\n",
      "밖으로 열린 예술의 생태통로, 경기도미술관\n",
      "https://bravo.etoday.co.kr/view/atc_view.php?varAtcId=14138\n",
      "\n",
      "2022-11-18 11:00:00\n",
      "&quot;재벌들 이익 쫓는 정부와 서울시에 분노&quot;[영상]\n",
      "https://www.newsclaim.co.kr/news/articleView.html?idxno=3013042\n",
      "\n",
      "2022-11-18 10:56:00\n",
      "서울 신림선, 오늘 출근길도 고장…&quot;큰 <b>사고</b> 날까 불안&quot;\n",
      "https://n.news.naver.com/mnews/article/448/0000383251?sid=102\n",
      "\n",
      "2022-11-18 10:48:00\n",
      "[2023 수능] 서울시·자치구 &apos;일탈 예방&apos; 점검 나선다\n",
      "http://www.newspim.com/news/view/20221118000402\n",
      "\n",
      "2022-11-18 10:35:00\n",
      "우려했던 &apos;출근대란&apos; 없었다…경기도 광역버스 입석 금지 첫날\n",
      "https://n.news.naver.com/mnews/article/079/0003708508?sid=102\n",
      "\n",
      "2022-11-18 10:35:00\n",
      "서울교통공사노조 “인력감축 중단하라”…오는 30일 총파업 예고\n",
      "https://n.news.naver.com/mnews/article/056/0011376981?sid=102\n",
      "\n",
      "2022-11-18 10:25:00\n",
      "경기 광역버스 입석 금지 첫날, &apos;만석&apos; 안내판에 직장인 분통\n",
      "https://n.news.naver.com/mnews/article/014/0004930170?sid=102\n",
      "\n",
      "2022-11-18 10:16:00\n",
      "[MZ핫이슈] &quot;거의 &apos;출근길 전쟁&apos; 선포한 격&quot;…경기 광역버스 입석 중단에 직장...\n",
      "http://www.newsian.co.kr/news/articleView.html?idxno=57755\n",
      "\n",
      "\n"
     ]
    }
   ],
   "source": [
    "print(news)"
   ]
  }
 ],
 "metadata": {
  "kernelspec": {
   "display_name": "Python 3 (ipykernel)",
   "language": "python",
   "name": "python3"
  },
  "language_info": {
   "codemirror_mode": {
    "name": "ipython",
    "version": 3
   },
   "file_extension": ".py",
   "mimetype": "text/x-python",
   "name": "python",
   "nbconvert_exporter": "python",
   "pygments_lexer": "ipython3",
   "version": "3.10.7"
  }
 },
 "nbformat": 4,
 "nbformat_minor": 5
}
