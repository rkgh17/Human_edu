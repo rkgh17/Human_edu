{
 "cells": [
  {
   "cell_type": "code",
   "execution_count": 1,
   "id": "78eb5333",
   "metadata": {},
   "outputs": [],
   "source": [
    "from selenium import webdriver\n",
    "from selenium.webdriver.common.keys import Keys\n",
    "from selenium.webdriver.common.by import By\n",
    "from datetime import date\n",
    "import requests\n",
    "import psycopg2\n",
    "import time"
   ]
  },
  {
   "cell_type": "code",
   "execution_count": 3,
   "id": "8e48a72d",
   "metadata": {
    "scrolled": true
   },
   "outputs": [
    {
     "name": "stderr",
     "output_type": "stream",
     "text": [
      "C:\\Users\\h\\AppData\\Local\\Temp\\ipykernel_11040\\1521152426.py:3: DeprecationWarning: executable_path has been deprecated, please pass in a Service object\n",
      "  driver = webdriver.Chrome(url + 'chromedriver.exe')\n"
     ]
    }
   ],
   "source": [
    "# 셀리니움 크롤링\n",
    "url = 'C:/Users/h/Desktop/chatbot/'\n",
    "driver = webdriver.Chrome(url + 'chromedriver.exe')\n",
    "driver.get(\"https://safecity.seoul.go.kr/acdnt/sbwyIndex.do\")\n",
    "time.sleep(3)"
   ]
  },
  {
   "cell_type": "code",
   "execution_count": 2,
   "id": "0d30f495",
   "metadata": {},
   "outputs": [
    {
     "name": "stderr",
     "output_type": "stream",
     "text": [
      "C:\\Users\\h\\AppData\\Local\\Temp\\ipykernel_27392\\1918150743.py:6: DeprecationWarning: executable_path has been deprecated, please pass in a Service object\n",
      "  driver = webdriver.Chrome(PATH + 'chromedriver.exe', options=options)\n"
     ]
    }
   ],
   "source": [
    "# 셀레니움 창오픈 없이 실행\n",
    "\n",
    "PATH = 'C:/Users/h/Desktop/chatbot/'\n",
    "options = webdriver.ChromeOptions()\n",
    "options.add_argument(\"headless\")\n",
    "driver = webdriver.Chrome(PATH + 'chromedriver.exe', options=options)\n"
   ]
  },
  {
   "cell_type": "code",
   "execution_count": 3,
   "id": "92e555df",
   "metadata": {},
   "outputs": [],
   "source": [
    "driver.get(\"https://safecity.seoul.go.kr/acdnt/sbwyIndex.do\")"
   ]
  },
  {
   "cell_type": "code",
   "execution_count": 4,
   "id": "f300c4a1",
   "metadata": {},
   "outputs": [
    {
     "name": "stdout",
     "output_type": "stream",
     "text": [
      "지하철사고\n",
      "2022-11-24 06:00\n",
      "서울교통공사에서 알려드립니다. 금일 08시부터 4호선에서「전국장애인차별철폐연대」의 ‘장애인 권리예산 확보’를 위한 출근길 지하철 타기 선전전이 예정되어 있습니다. 이로 인해 4호선 해당구간 열차운행이 상당시간 지연될 수 있으니 이점 참고하여 열차를 이용해 주시기 바랍니다.\n",
      "<class 'str'>\n",
      "\n"
     ]
    }
   ],
   "source": [
    "# 데이터 긁어오기\n",
    "parentElement = driver.find_elements(By.XPATH, '//*[@id=\"dv_as_timeline\"]/li')\n",
    "\n",
    "subli=[]\n",
    "\n",
    "# ul 태그 아래 있는 li 반복 뽑기\n",
    "for i in parentElement:\n",
    "    i.click()\n",
    "    time.sleep(0.05)\n",
    "    a = i.text\n",
    "    subli.append(a)\n",
    "    print(a)\n",
    "    print(type(a))\n",
    "    print()\n",
    "    \n",
    "    \n",
    "    i.click()\n",
    "\n",
    "    "
   ]
  },
  {
   "cell_type": "code",
   "execution_count": null,
   "id": "f812232b",
   "metadata": {},
   "outputs": [],
   "source": [
    "#데이터베이스 새로 만들기 (복합 키 세팅)\n",
    "# create table\n",
    "def db_create():\n",
    "    cur.execute(\"CREATE TABLE IF NOT EXISTS subaccdata(acctime VARCHAR(30) NOT NULL, content VARCHAR(300) NOT NULL, primary key(acctime, content));\")\n",
    "    conn.commit()\n",
    "\n",
    "db_create()"
   ]
  },
  {
   "cell_type": "code",
   "execution_count": 6,
   "id": "497dbe74",
   "metadata": {},
   "outputs": [],
   "source": [
    "# db연결\n",
    "conn = psycopg2.connect(host=\"ec2-23-21-207-93.compute-1.amazonaws.com\", \n",
    "                        dbname=\"d3oubpekvnbupv\", \n",
    "                        user=\"grxhirqndvyqvv\", \n",
    "                        password=\"6f1afaafe16d245c70666bdb8c831aa876e62b380a1544f5dc832c51f27cece6\", \n",
    "                        port=\"5432\")\n",
    "\n",
    "# 데이터 조작 객체 생성\n",
    "cur = conn.cursor()"
   ]
  },
  {
   "cell_type": "code",
   "execution_count": 7,
   "id": "37ab2577",
   "metadata": {},
   "outputs": [],
   "source": [
    "#new db insert\n",
    "for i in subli:\n",
    "    # slice 후 첫번째 요소 제거 tuple화\n",
    "    subdb = i.split('\\n')\n",
    "    subdb.pop(0)\n",
    "    # ON CONFLICT : 데이터가 중복되면 INSERT하지않음\n",
    "    cur.execute(\"INSERT into subaccdata(acctime, content) VALUES (%s, %s) ON CONFLICT (acctime, content) DO NOTHING\", subdb)\n",
    "\n",
    "# db commit\n",
    "conn.commit()   "
   ]
  },
  {
   "cell_type": "code",
   "execution_count": 8,
   "id": "85e5b81a",
   "metadata": {},
   "outputs": [
    {
     "name": "stdout",
     "output_type": "stream",
     "text": [
      "2022-11-24 06:00\n",
      "서울교통공사에서 알려드립니다. 금일 08시부터 4호선에서「전국장애인차별철폐연대」의 ‘장애인 권리예산 확보’를 위한 출근길 지하철 타기 선전전이 예정되어 있습니다. 이로 인해 4호선 해당구간 열차운행이 상당시간 지연될 수 있으니 이점 참고하여 열차를 이용해 주시기 바랍니다.\n"
     ]
    }
   ],
   "source": [
    "# 오늘날짜의 지하철 이슈 찾아보기\n",
    "today = date.today().isoformat() + '%'\n",
    "\n",
    "# 조회해서 리스트(안에는 튜플)에 담기\n",
    "cur.execute(f\"SELECT * FROM subaccdata WHERE acctime LIKE '{today}' order by acctime ASC\")\n",
    "result_all = cur.fetchall()\n",
    "\n",
    "sbstr=\"\"\n",
    "for i in result_all:\n",
    "    for j in i:\n",
    "        sbstr = sbstr + j + \"\\n\"\n",
    "    sbstr = sbstr + \"\\n\"\n",
    "\n",
    "print(sbstr[:-2])"
   ]
  }
 ],
 "metadata": {
  "kernelspec": {
   "display_name": "Python 3 (ipykernel)",
   "language": "python",
   "name": "python3"
  },
  "language_info": {
   "codemirror_mode": {
    "name": "ipython",
    "version": 3
   },
   "file_extension": ".py",
   "mimetype": "text/x-python",
   "name": "python",
   "nbconvert_exporter": "python",
   "pygments_lexer": "ipython3",
   "version": "3.10.7"
  }
 },
 "nbformat": 4,
 "nbformat_minor": 5
}
